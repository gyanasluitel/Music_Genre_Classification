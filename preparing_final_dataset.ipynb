{
  "nbformat": 4,
  "nbformat_minor": 0,
  "metadata": {
    "colab": {
      "name": "preparing final dataset.ipynb",
      "provenance": [],
      "collapsed_sections": [],
      "authorship_tag": "ABX9TyNvzluNbwWqyL8EPY2HzDje",
      "include_colab_link": true
    },
    "kernelspec": {
      "name": "python3",
      "display_name": "Python 3"
    },
    "language_info": {
      "name": "python"
    }
  },
  "cells": [
    {
      "cell_type": "markdown",
      "metadata": {
        "id": "view-in-github",
        "colab_type": "text"
      },
      "source": [
        "<a href=\"https://colab.research.google.com/github/gyanasluitel/Music_Genre_Classification/blob/main/preparing_final_dataset.ipynb\" target=\"_parent\"><img src=\"https://colab.research.google.com/assets/colab-badge.svg\" alt=\"Open In Colab\"/></a>"
      ]
    },
    {
      "cell_type": "code",
      "metadata": {
        "id": "vn-dNPuIh7tq"
      },
      "source": [
        "import os\n",
        "import pandas as pd\n",
        "import numpy as np"
      ],
      "execution_count": 1,
      "outputs": []
    },
    {
      "cell_type": "code",
      "metadata": {
        "id": "ABAJGVJ4iruv"
      },
      "source": [
        "import librosa"
      ],
      "execution_count": 2,
      "outputs": []
    },
    {
      "cell_type": "code",
      "metadata": {
        "id": "PXKXU9ATistT"
      },
      "source": [
        "import math"
      ],
      "execution_count": 3,
      "outputs": []
    },
    {
      "cell_type": "code",
      "metadata": {
        "id": "mjIGDudeiuEZ"
      },
      "source": [
        "! mkdir ~/.kaggle\n",
        "! cp kaggle.json ~/.kaggle/\n",
        "! chmod 600 ~/.kaggle/kaggle.json"
      ],
      "execution_count": 4,
      "outputs": []
    },
    {
      "cell_type": "code",
      "metadata": {
        "colab": {
          "base_uri": "https://localhost:8080/"
        },
        "id": "P4IoNgU2ix1k",
        "outputId": "23ce0e07-2c9d-487e-c3ca-aa540910e969"
      },
      "source": [
        "!kaggle datasets download -d andradaolteanu/gtzan-dataset-music-genre-classification"
      ],
      "execution_count": 5,
      "outputs": [
        {
          "output_type": "stream",
          "text": [
            "Downloading gtzan-dataset-music-genre-classification.zip to /content\n",
            " 99% 1.20G/1.21G [00:11<00:00, 94.0MB/s]\n",
            "100% 1.21G/1.21G [00:11<00:00, 116MB/s] \n"
          ],
          "name": "stdout"
        }
      ]
    },
    {
      "cell_type": "code",
      "metadata": {
        "id": "KlNLuFoFjWYF"
      },
      "source": [
        "!unzip gtzan-dataset-music-genre-classification.zip"
      ],
      "execution_count": null,
      "outputs": []
    },
    {
      "cell_type": "code",
      "metadata": {
        "colab": {
          "base_uri": "https://localhost:8080/"
        },
        "id": "5ce5p6ygjt3u",
        "outputId": "949b992a-7c3f-45a7-cdd5-eb4a61eba55a"
      },
      "source": [
        "from google.colab import drive\n",
        "drive.mount('/content/drive')"
      ],
      "execution_count": 8,
      "outputs": [
        {
          "output_type": "stream",
          "text": [
            "Mounted at /content/drive\n"
          ],
          "name": "stdout"
        }
      ]
    },
    {
      "cell_type": "code",
      "metadata": {
        "colab": {
          "base_uri": "https://localhost:8080/",
          "height": 36
        },
        "id": "bAoPNYy-kLIt",
        "outputId": "99ca9082-0a48-4082-c045-a2f6ec0d9c0c"
      },
      "source": [
        "path = os.getcwd()\n",
        "DATASET_PATH = os.path.join(path, 'Data/genres_original')\n",
        "DATASET_PATH"
      ],
      "execution_count": 9,
      "outputs": [
        {
          "output_type": "execute_result",
          "data": {
            "application/vnd.google.colaboratory.intrinsic+json": {
              "type": "string"
            },
            "text/plain": [
              "'/content/Data/genres_original'"
            ]
          },
          "metadata": {
            "tags": []
          },
          "execution_count": 9
        }
      ]
    },
    {
      "cell_type": "code",
      "metadata": {
        "colab": {
          "base_uri": "https://localhost:8080/",
          "height": 36
        },
        "id": "y0IBE1MNmigL",
        "outputId": "6ba0bd10-4d17-4591-b575-55dfb5db5bbf"
      },
      "source": [
        "#path to sub_data\n",
        "SUB_DATASET_PATH = os.path.join(os.getcwd(),'drive/MyDrive/Sub_Data/genres_original')\n",
        "SUB_DATASET_PATH"
      ],
      "execution_count": 10,
      "outputs": [
        {
          "output_type": "execute_result",
          "data": {
            "application/vnd.google.colaboratory.intrinsic+json": {
              "type": "string"
            },
            "text/plain": [
              "'/content/drive/MyDrive/Sub_Data/genres_original'"
            ]
          },
          "metadata": {
            "tags": []
          },
          "execution_count": 10
        }
      ]
    },
    {
      "cell_type": "code",
      "metadata": {
        "id": "KnujnDOvkZW9"
      },
      "source": [
        "def generating_headers(n_mfcc):\n",
        "  headers = []\n",
        "  for i in range(1,n_mfcc+1):\n",
        "    headers.append(f'mfcc_{i}')\n",
        "  return headers"
      ],
      "execution_count": 11,
      "outputs": []
    },
    {
      "cell_type": "code",
      "metadata": {
        "id": "WvqWhVaL1UAG"
      },
      "source": [
        "def prepare_dataset(datapath, n_mfcc=13, n_fft=248, hop_length=512, num_segments=5):\n",
        "    \"\"\"\n",
        "    Extracts mffcs feature from music dataset and saves them into a dataframe\n",
        "    along with the genre associated with each audio file.\n",
        "    \"\"\"\n",
        "    #Defining constants\n",
        "    SAMPLE_RATE = 22050                                 #no of data samples taken per second\n",
        "    TRACK_DURATION = 30                                 #duration of the track\n",
        "    SAMPLES_PER_TRACK = SAMPLE_RATE * TRACK_DURATION    #total samples per track\n",
        "\n",
        "    final_df = pd.DataFrame() # contains all the data samples\n",
        "    num_samples_per_segment = int(SAMPLES_PER_TRACK / num_segments)\n",
        "    expected_num_mfcc_vectors_per_segment = math.ceil(num_samples_per_segment/hop_length)\n",
        "    \n",
        "    for dirpath, dirnames, filenames in os.walk(DATASET_PATH):\n",
        "        #only process if the path is not the current working directory\n",
        "        if dirpath is not DATASET_PATH:\n",
        "            dirpath_components = dirpath.split('/')\n",
        "            semantic_label = dirpath_components[-1]\n",
        "            print(f'\\nProcessing: {semantic_label}')\n",
        "\n",
        "            single_file_df = pd.DataFrame()\n",
        "            #processing each file within a specific genre\n",
        "            for file in filenames:\n",
        "                file_path = os.path.join(dirpath, file)\n",
        "                label = file_path.split('/')[-2]\n",
        "\n",
        "                try:\n",
        "                    #load the audio file\n",
        "                    signal, sr = librosa.load(file_path, sr = SAMPLE_RATE)\n",
        "\n",
        "                    #process all segments extracting mfcc and storing data\n",
        "                    for segment in range(num_segments):\n",
        "                        #setting the start and finish index of a sample for each segment\n",
        "                        start_sample = num_samples_per_segment * segment\n",
        "                        finish_sample = start_sample + num_samples_per_segment\n",
        "\n",
        "                        #extracting mfcc features for a single segment\n",
        "                        mfcc = librosa.feature.mfcc(signal[start_sample:finish_sample],\n",
        "                                                   sr = sr,\n",
        "                                                   n_mfcc = n_mfcc,\n",
        "                                                   n_fft = n_fft,\n",
        "                                                   hop_length = hop_length)\n",
        "                        mfcc = mfcc.T\n",
        "\n",
        "                        #store mfcc feature for a single segment only if the number of vectors\n",
        "                        #for each segment contains expected number of vectors\n",
        "                        if len(mfcc) == expected_num_mfcc_vectors_per_segment:\n",
        "                            segment_df = pd.DataFrame(data = mfcc,\n",
        "                                                     columns= generating_headers(n_mfcc),\n",
        "                                                     index = range(len(mfcc)))\n",
        "                            segment_df['Labels'] = [label] * mfcc.shape[0]\n",
        "                            #nparray.append(mfcc)\n",
        "                            #concatenating segment dataframe into a single file df\n",
        "                            single_file_df = pd.concat([single_file_df, segment_df],\n",
        "                                                      axis=0,\n",
        "                                                      sort=False,\n",
        "                                                      ignore_index = True)                        \n",
        "                except Exception as e:\n",
        "                    print(f\"Error Message: {e}\")\n",
        "            final_df = pd.concat([final_df, single_file_df],\n",
        "                         axis=0,\n",
        "                         sort = False,\n",
        "                         ignore_index = True)\n",
        "        print('Done with preparing dataset')\n",
        "    return final_df\n"
      ],
      "execution_count": 12,
      "outputs": []
    },
    {
      "cell_type": "code",
      "metadata": {
        "colab": {
          "base_uri": "https://localhost:8080/"
        },
        "id": "AmwvrgxL3y9z",
        "outputId": "bc2675bf-9476-41cb-bc31-a95edac8e59b"
      },
      "source": [
        "df = prepare_dataset(datapath=DATASET_PATH, num_segments=10)"
      ],
      "execution_count": 13,
      "outputs": [
        {
          "output_type": "stream",
          "text": [
            "Done with preparing dataset\n",
            "\n",
            "Processing: reggae\n"
          ],
          "name": "stdout"
        },
        {
          "output_type": "stream",
          "text": [
            "/usr/local/lib/python3.7/dist-packages/librosa/filters.py:239: UserWarning: Empty filters detected in mel frequency basis. Some channels will produce empty responses. Try increasing your sampling rate (and fmax) or reducing n_mels.\n",
            "  \"Empty filters detected in mel frequency basis. \"\n"
          ],
          "name": "stderr"
        },
        {
          "output_type": "stream",
          "text": [
            "Done with preparing dataset\n",
            "\n",
            "Processing: jazz\n"
          ],
          "name": "stdout"
        },
        {
          "output_type": "stream",
          "text": [
            "/usr/local/lib/python3.7/dist-packages/librosa/core/audio.py:165: UserWarning: PySoundFile failed. Trying audioread instead.\n",
            "  warnings.warn(\"PySoundFile failed. Trying audioread instead.\")\n"
          ],
          "name": "stderr"
        },
        {
          "output_type": "stream",
          "text": [
            "Error Message: \n"
          ],
          "name": "stdout"
        },
        {
          "output_type": "stream",
          "text": [
            "/usr/local/lib/python3.7/dist-packages/librosa/filters.py:239: UserWarning: Empty filters detected in mel frequency basis. Some channels will produce empty responses. Try increasing your sampling rate (and fmax) or reducing n_mels.\n",
            "  \"Empty filters detected in mel frequency basis. \"\n"
          ],
          "name": "stderr"
        },
        {
          "output_type": "stream",
          "text": [
            "Done with preparing dataset\n",
            "\n",
            "Processing: disco\n",
            "Done with preparing dataset\n",
            "\n",
            "Processing: hiphop\n",
            "Done with preparing dataset\n",
            "\n",
            "Processing: classical\n",
            "Done with preparing dataset\n",
            "\n",
            "Processing: metal\n",
            "Done with preparing dataset\n",
            "\n",
            "Processing: pop\n",
            "Done with preparing dataset\n",
            "\n",
            "Processing: country\n",
            "Done with preparing dataset\n",
            "\n",
            "Processing: rock\n",
            "Done with preparing dataset\n",
            "\n",
            "Processing: blues\n",
            "Done with preparing dataset\n"
          ],
          "name": "stdout"
        }
      ]
    },
    {
      "cell_type": "code",
      "metadata": {
        "colab": {
          "base_uri": "https://localhost:8080/",
          "height": 444
        },
        "id": "SMg3wM4V4Qk3",
        "outputId": "dc1f5291-90ba-4f57-9e9d-38e4a5909e5a"
      },
      "source": [
        "df"
      ],
      "execution_count": 14,
      "outputs": [
        {
          "output_type": "execute_result",
          "data": {
            "text/html": [
              "<div>\n",
              "<style scoped>\n",
              "    .dataframe tbody tr th:only-of-type {\n",
              "        vertical-align: middle;\n",
              "    }\n",
              "\n",
              "    .dataframe tbody tr th {\n",
              "        vertical-align: top;\n",
              "    }\n",
              "\n",
              "    .dataframe thead th {\n",
              "        text-align: right;\n",
              "    }\n",
              "</style>\n",
              "<table border=\"1\" class=\"dataframe\">\n",
              "  <thead>\n",
              "    <tr style=\"text-align: right;\">\n",
              "      <th></th>\n",
              "      <th>mfcc_1</th>\n",
              "      <th>mfcc_2</th>\n",
              "      <th>mfcc_3</th>\n",
              "      <th>mfcc_4</th>\n",
              "      <th>mfcc_5</th>\n",
              "      <th>mfcc_6</th>\n",
              "      <th>mfcc_7</th>\n",
              "      <th>mfcc_8</th>\n",
              "      <th>mfcc_9</th>\n",
              "      <th>mfcc_10</th>\n",
              "      <th>mfcc_11</th>\n",
              "      <th>mfcc_12</th>\n",
              "      <th>mfcc_13</th>\n",
              "      <th>Labels</th>\n",
              "    </tr>\n",
              "  </thead>\n",
              "  <tbody>\n",
              "    <tr>\n",
              "      <th>0</th>\n",
              "      <td>-536.042786</td>\n",
              "      <td>32.067459</td>\n",
              "      <td>-49.450306</td>\n",
              "      <td>25.776079</td>\n",
              "      <td>-11.531991</td>\n",
              "      <td>-18.413410</td>\n",
              "      <td>-8.967739</td>\n",
              "      <td>-4.582458</td>\n",
              "      <td>-0.501133</td>\n",
              "      <td>6.618028</td>\n",
              "      <td>12.905916</td>\n",
              "      <td>6.469436</td>\n",
              "      <td>12.735432</td>\n",
              "      <td>reggae</td>\n",
              "    </tr>\n",
              "    <tr>\n",
              "      <th>1</th>\n",
              "      <td>-392.235077</td>\n",
              "      <td>28.644016</td>\n",
              "      <td>-73.791199</td>\n",
              "      <td>50.155655</td>\n",
              "      <td>1.933116</td>\n",
              "      <td>-14.058987</td>\n",
              "      <td>1.360568</td>\n",
              "      <td>-14.130725</td>\n",
              "      <td>-4.516984</td>\n",
              "      <td>-18.869156</td>\n",
              "      <td>12.337111</td>\n",
              "      <td>0.084416</td>\n",
              "      <td>-19.625988</td>\n",
              "      <td>reggae</td>\n",
              "    </tr>\n",
              "    <tr>\n",
              "      <th>2</th>\n",
              "      <td>-451.695129</td>\n",
              "      <td>17.615837</td>\n",
              "      <td>-53.177261</td>\n",
              "      <td>43.919796</td>\n",
              "      <td>28.546822</td>\n",
              "      <td>-8.240944</td>\n",
              "      <td>3.578257</td>\n",
              "      <td>-8.234414</td>\n",
              "      <td>-9.060442</td>\n",
              "      <td>-26.781670</td>\n",
              "      <td>-4.912760</td>\n",
              "      <td>1.545562</td>\n",
              "      <td>-2.422036</td>\n",
              "      <td>reggae</td>\n",
              "    </tr>\n",
              "    <tr>\n",
              "      <th>3</th>\n",
              "      <td>-477.528839</td>\n",
              "      <td>33.314350</td>\n",
              "      <td>-58.991947</td>\n",
              "      <td>36.357792</td>\n",
              "      <td>26.536734</td>\n",
              "      <td>-0.675872</td>\n",
              "      <td>1.368691</td>\n",
              "      <td>-16.134178</td>\n",
              "      <td>-0.317810</td>\n",
              "      <td>-8.654249</td>\n",
              "      <td>-9.246617</td>\n",
              "      <td>-24.636469</td>\n",
              "      <td>-10.302074</td>\n",
              "      <td>reggae</td>\n",
              "    </tr>\n",
              "    <tr>\n",
              "      <th>4</th>\n",
              "      <td>-504.078796</td>\n",
              "      <td>35.871197</td>\n",
              "      <td>-48.558861</td>\n",
              "      <td>50.370205</td>\n",
              "      <td>2.761873</td>\n",
              "      <td>-12.647474</td>\n",
              "      <td>7.050649</td>\n",
              "      <td>-2.322120</td>\n",
              "      <td>-6.039096</td>\n",
              "      <td>-31.120485</td>\n",
              "      <td>-4.710315</td>\n",
              "      <td>-3.640983</td>\n",
              "      <td>-0.203701</td>\n",
              "      <td>reggae</td>\n",
              "    </tr>\n",
              "    <tr>\n",
              "      <th>...</th>\n",
              "      <td>...</td>\n",
              "      <td>...</td>\n",
              "      <td>...</td>\n",
              "      <td>...</td>\n",
              "      <td>...</td>\n",
              "      <td>...</td>\n",
              "      <td>...</td>\n",
              "      <td>...</td>\n",
              "      <td>...</td>\n",
              "      <td>...</td>\n",
              "      <td>...</td>\n",
              "      <td>...</td>\n",
              "      <td>...</td>\n",
              "      <td>...</td>\n",
              "    </tr>\n",
              "    <tr>\n",
              "      <th>1298175</th>\n",
              "      <td>-455.102631</td>\n",
              "      <td>24.158625</td>\n",
              "      <td>-63.375328</td>\n",
              "      <td>65.074524</td>\n",
              "      <td>3.704499</td>\n",
              "      <td>40.963463</td>\n",
              "      <td>-21.325134</td>\n",
              "      <td>10.105320</td>\n",
              "      <td>-16.304668</td>\n",
              "      <td>-9.928100</td>\n",
              "      <td>-23.563305</td>\n",
              "      <td>4.619114</td>\n",
              "      <td>15.669947</td>\n",
              "      <td>blues</td>\n",
              "    </tr>\n",
              "    <tr>\n",
              "      <th>1298176</th>\n",
              "      <td>-447.722656</td>\n",
              "      <td>2.117634</td>\n",
              "      <td>-44.335674</td>\n",
              "      <td>58.148350</td>\n",
              "      <td>12.036886</td>\n",
              "      <td>21.317839</td>\n",
              "      <td>-22.656757</td>\n",
              "      <td>19.766155</td>\n",
              "      <td>-27.212273</td>\n",
              "      <td>-20.932671</td>\n",
              "      <td>-30.610203</td>\n",
              "      <td>16.540192</td>\n",
              "      <td>9.672492</td>\n",
              "      <td>blues</td>\n",
              "    </tr>\n",
              "    <tr>\n",
              "      <th>1298177</th>\n",
              "      <td>-449.050079</td>\n",
              "      <td>10.812412</td>\n",
              "      <td>-50.106941</td>\n",
              "      <td>54.213680</td>\n",
              "      <td>1.793259</td>\n",
              "      <td>21.684978</td>\n",
              "      <td>-25.272818</td>\n",
              "      <td>8.188376</td>\n",
              "      <td>-16.318310</td>\n",
              "      <td>9.493264</td>\n",
              "      <td>-36.492809</td>\n",
              "      <td>12.093601</td>\n",
              "      <td>3.433430</td>\n",
              "      <td>blues</td>\n",
              "    </tr>\n",
              "    <tr>\n",
              "      <th>1298178</th>\n",
              "      <td>-437.535187</td>\n",
              "      <td>12.875460</td>\n",
              "      <td>-50.128567</td>\n",
              "      <td>54.451469</td>\n",
              "      <td>7.296531</td>\n",
              "      <td>35.563461</td>\n",
              "      <td>-19.915752</td>\n",
              "      <td>4.126825</td>\n",
              "      <td>-17.346703</td>\n",
              "      <td>5.894392</td>\n",
              "      <td>-34.753819</td>\n",
              "      <td>12.200981</td>\n",
              "      <td>-2.462997</td>\n",
              "      <td>blues</td>\n",
              "    </tr>\n",
              "    <tr>\n",
              "      <th>1298179</th>\n",
              "      <td>-447.140839</td>\n",
              "      <td>16.377399</td>\n",
              "      <td>-48.402046</td>\n",
              "      <td>55.142967</td>\n",
              "      <td>-2.129559</td>\n",
              "      <td>32.123970</td>\n",
              "      <td>-22.165173</td>\n",
              "      <td>11.436558</td>\n",
              "      <td>-23.840561</td>\n",
              "      <td>-4.055938</td>\n",
              "      <td>-29.433973</td>\n",
              "      <td>18.781826</td>\n",
              "      <td>1.168216</td>\n",
              "      <td>blues</td>\n",
              "    </tr>\n",
              "  </tbody>\n",
              "</table>\n",
              "<p>1298180 rows × 14 columns</p>\n",
              "</div>"
            ],
            "text/plain": [
              "             mfcc_1     mfcc_2     mfcc_3  ...    mfcc_12    mfcc_13  Labels\n",
              "0       -536.042786  32.067459 -49.450306  ...   6.469436  12.735432  reggae\n",
              "1       -392.235077  28.644016 -73.791199  ...   0.084416 -19.625988  reggae\n",
              "2       -451.695129  17.615837 -53.177261  ...   1.545562  -2.422036  reggae\n",
              "3       -477.528839  33.314350 -58.991947  ... -24.636469 -10.302074  reggae\n",
              "4       -504.078796  35.871197 -48.558861  ...  -3.640983  -0.203701  reggae\n",
              "...             ...        ...        ...  ...        ...        ...     ...\n",
              "1298175 -455.102631  24.158625 -63.375328  ...   4.619114  15.669947   blues\n",
              "1298176 -447.722656   2.117634 -44.335674  ...  16.540192   9.672492   blues\n",
              "1298177 -449.050079  10.812412 -50.106941  ...  12.093601   3.433430   blues\n",
              "1298178 -437.535187  12.875460 -50.128567  ...  12.200981  -2.462997   blues\n",
              "1298179 -447.140839  16.377399 -48.402046  ...  18.781826   1.168216   blues\n",
              "\n",
              "[1298180 rows x 14 columns]"
            ]
          },
          "metadata": {
            "tags": []
          },
          "execution_count": 14
        }
      ]
    },
    {
      "cell_type": "code",
      "metadata": {
        "colab": {
          "base_uri": "https://localhost:8080/"
        },
        "id": "Q04Jlwvb48U6",
        "outputId": "4591b249-2949-477b-e44d-ef3d6c0b1c33"
      },
      "source": [
        "df['Labels'].unique()"
      ],
      "execution_count": 15,
      "outputs": [
        {
          "output_type": "execute_result",
          "data": {
            "text/plain": [
              "array(['reggae', 'jazz', 'disco', 'hiphop', 'classical', 'metal', 'pop',\n",
              "       'country', 'rock', 'blues'], dtype=object)"
            ]
          },
          "metadata": {
            "tags": []
          },
          "execution_count": 15
        }
      ]
    },
    {
      "cell_type": "code",
      "metadata": {
        "id": "0j8jMhL__jOy",
        "colab": {
          "base_uri": "https://localhost:8080/"
        },
        "outputId": "11d576eb-432b-44dd-9ee0-0a2edff34262"
      },
      "source": [
        "len(df['Labels'].unique())"
      ],
      "execution_count": 16,
      "outputs": [
        {
          "output_type": "execute_result",
          "data": {
            "text/plain": [
              "10"
            ]
          },
          "metadata": {
            "tags": []
          },
          "execution_count": 16
        }
      ]
    },
    {
      "cell_type": "markdown",
      "metadata": {
        "id": "NlxyCh1bP0VC"
      },
      "source": [
        "# Saving Dataframe in a pickle file"
      ]
    },
    {
      "cell_type": "code",
      "metadata": {
        "id": "r_vwZutFQSrG"
      },
      "source": [
        "import pickle"
      ],
      "execution_count": 17,
      "outputs": []
    },
    {
      "cell_type": "code",
      "metadata": {
        "id": "MFNVogF8Sidm"
      },
      "source": [
        "import os"
      ],
      "execution_count": 19,
      "outputs": []
    },
    {
      "cell_type": "code",
      "metadata": {
        "colab": {
          "base_uri": "https://localhost:8080/",
          "height": 36
        },
        "id": "EfJjKOeTSkWU",
        "outputId": "63229aa3-2b2c-4c62-c7c6-2699003c1ba5"
      },
      "source": [
        "os.getcwd()"
      ],
      "execution_count": 20,
      "outputs": [
        {
          "output_type": "execute_result",
          "data": {
            "application/vnd.google.colaboratory.intrinsic+json": {
              "type": "string"
            },
            "text/plain": [
              "'/content'"
            ]
          },
          "metadata": {
            "tags": []
          },
          "execution_count": 20
        }
      ]
    },
    {
      "cell_type": "code",
      "metadata": {
        "colab": {
          "base_uri": "https://localhost:8080/"
        },
        "id": "XSvbazpnSnjx",
        "outputId": "96ced017-9656-44b7-a1ea-cfd1d8f4f491"
      },
      "source": [
        "os.listdir(os.getcwd())"
      ],
      "execution_count": 21,
      "outputs": [
        {
          "output_type": "execute_result",
          "data": {
            "text/plain": [
              "['.config',\n",
              " 'kaggle.json',\n",
              " 'Data',\n",
              " 'gtzan-dataset-music-genre-classification.zip',\n",
              " 'drive',\n",
              " 'sample_data']"
            ]
          },
          "metadata": {
            "tags": []
          },
          "execution_count": 21
        }
      ]
    },
    {
      "cell_type": "code",
      "metadata": {
        "id": "w-nLFVNWSupb"
      },
      "source": [
        "df.to_pickle('data.pickle')"
      ],
      "execution_count": 22,
      "outputs": []
    },
    {
      "cell_type": "code",
      "metadata": {
        "id": "j1jThN10ffA_",
        "colab": {
          "base_uri": "https://localhost:8080/",
          "height": 36
        },
        "outputId": "ca907dbc-3ba2-41d0-cd88-1d110cd57d93"
      },
      "source": [
        "DATASET_PATH"
      ],
      "execution_count": 23,
      "outputs": [
        {
          "output_type": "execute_result",
          "data": {
            "application/vnd.google.colaboratory.intrinsic+json": {
              "type": "string"
            },
            "text/plain": [
              "'/content/Data/genres_original'"
            ]
          },
          "metadata": {
            "tags": []
          },
          "execution_count": 23
        }
      ]
    },
    {
      "cell_type": "code",
      "metadata": {
        "id": "yj3K5zsQfiW8"
      },
      "source": [
        ""
      ],
      "execution_count": null,
      "outputs": []
    }
  ]
}