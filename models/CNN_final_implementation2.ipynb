{
  "nbformat": 4,
  "nbformat_minor": 0,
  "metadata": {
    "colab": {
      "name": "CNN_final_implementation2.ipynb",
      "provenance": [],
      "collapsed_sections": []
    },
    "kernelspec": {
      "name": "python3",
      "display_name": "Python 3"
    },
    "language_info": {
      "name": "python"
    }
  },
  "cells": [
    {
      "cell_type": "code",
      "metadata": {
        "id": "Wlk0NraorcxO"
      },
      "source": [
        "import pandas as pd\n",
        "import numpy as np\n",
        "import os\n",
        "from sklearn.model_selection import train_test_split"
      ],
      "execution_count": 1,
      "outputs": []
    },
    {
      "cell_type": "code",
      "metadata": {
        "id": "e03VN3-iQTQg"
      },
      "source": [
        "import math"
      ],
      "execution_count": 53,
      "outputs": []
    },
    {
      "cell_type": "code",
      "metadata": {
        "id": "NS5SNikxQYZE"
      },
      "source": [
        "import librosa"
      ],
      "execution_count": 58,
      "outputs": []
    },
    {
      "cell_type": "code",
      "metadata": {
        "colab": {
          "base_uri": "https://localhost:8080/"
        },
        "id": "BelCQA1or0ZN",
        "outputId": "4a8120fa-0a94-4c95-edfa-e178ae85780a"
      },
      "source": [
        "from google.colab import drive\n",
        "drive.mount('/content/drive')"
      ],
      "execution_count": 2,
      "outputs": [
        {
          "output_type": "stream",
          "text": [
            "Mounted at /content/drive\n"
          ],
          "name": "stdout"
        }
      ]
    },
    {
      "cell_type": "code",
      "metadata": {
        "id": "B9z-5K7Rr6vh"
      },
      "source": [
        "import pickle"
      ],
      "execution_count": 6,
      "outputs": []
    },
    {
      "cell_type": "code",
      "metadata": {
        "id": "R6d3rEIeGDjY"
      },
      "source": [
        "import keras"
      ],
      "execution_count": 7,
      "outputs": []
    },
    {
      "cell_type": "code",
      "metadata": {
        "id": "-YZPWhxP5Jwp"
      },
      "source": [
        "from keras import layers, Sequential\n",
        "from sklearn.preprocessing import LabelEncoder, StandardScaler"
      ],
      "execution_count": 8,
      "outputs": []
    },
    {
      "cell_type": "code",
      "metadata": {
        "id": "sGSaZniDKrVy"
      },
      "source": [
        "import matplotlib.pyplot as plt\n",
        "%matplotlib inline"
      ],
      "execution_count": 30,
      "outputs": []
    },
    {
      "cell_type": "code",
      "metadata": {
        "id": "2_wuKpeFsB4f"
      },
      "source": [
        "df_path= os.getcwd()+'/drive/MyDrive/Sub_Data/data.pickle'"
      ],
      "execution_count": 9,
      "outputs": []
    },
    {
      "cell_type": "code",
      "metadata": {
        "colab": {
          "base_uri": "https://localhost:8080/",
          "height": 444
        },
        "id": "RTyWizDSsDyX",
        "outputId": "1f8df5b8-d010-439d-d1e7-a689b0098fea"
      },
      "source": [
        "df = pd.read_pickle(df_path)\n",
        "df"
      ],
      "execution_count": 10,
      "outputs": [
        {
          "output_type": "execute_result",
          "data": {
            "text/html": [
              "<div>\n",
              "<style scoped>\n",
              "    .dataframe tbody tr th:only-of-type {\n",
              "        vertical-align: middle;\n",
              "    }\n",
              "\n",
              "    .dataframe tbody tr th {\n",
              "        vertical-align: top;\n",
              "    }\n",
              "\n",
              "    .dataframe thead th {\n",
              "        text-align: right;\n",
              "    }\n",
              "</style>\n",
              "<table border=\"1\" class=\"dataframe\">\n",
              "  <thead>\n",
              "    <tr style=\"text-align: right;\">\n",
              "      <th></th>\n",
              "      <th>mfcc_1</th>\n",
              "      <th>mfcc_2</th>\n",
              "      <th>mfcc_3</th>\n",
              "      <th>mfcc_4</th>\n",
              "      <th>mfcc_5</th>\n",
              "      <th>mfcc_6</th>\n",
              "      <th>mfcc_7</th>\n",
              "      <th>mfcc_8</th>\n",
              "      <th>mfcc_9</th>\n",
              "      <th>mfcc_10</th>\n",
              "      <th>mfcc_11</th>\n",
              "      <th>mfcc_12</th>\n",
              "      <th>mfcc_13</th>\n",
              "      <th>Labels</th>\n",
              "    </tr>\n",
              "  </thead>\n",
              "  <tbody>\n",
              "    <tr>\n",
              "      <th>0</th>\n",
              "      <td>-536.042786</td>\n",
              "      <td>32.067459</td>\n",
              "      <td>-49.450306</td>\n",
              "      <td>25.776079</td>\n",
              "      <td>-11.531991</td>\n",
              "      <td>-18.413410</td>\n",
              "      <td>-8.967739</td>\n",
              "      <td>-4.582458</td>\n",
              "      <td>-0.501133</td>\n",
              "      <td>6.618028</td>\n",
              "      <td>12.905916</td>\n",
              "      <td>6.469436</td>\n",
              "      <td>12.735432</td>\n",
              "      <td>reggae</td>\n",
              "    </tr>\n",
              "    <tr>\n",
              "      <th>1</th>\n",
              "      <td>-392.235077</td>\n",
              "      <td>28.644016</td>\n",
              "      <td>-73.791199</td>\n",
              "      <td>50.155655</td>\n",
              "      <td>1.933116</td>\n",
              "      <td>-14.058987</td>\n",
              "      <td>1.360568</td>\n",
              "      <td>-14.130725</td>\n",
              "      <td>-4.516984</td>\n",
              "      <td>-18.869156</td>\n",
              "      <td>12.337111</td>\n",
              "      <td>0.084416</td>\n",
              "      <td>-19.625988</td>\n",
              "      <td>reggae</td>\n",
              "    </tr>\n",
              "    <tr>\n",
              "      <th>2</th>\n",
              "      <td>-451.695129</td>\n",
              "      <td>17.615837</td>\n",
              "      <td>-53.177261</td>\n",
              "      <td>43.919796</td>\n",
              "      <td>28.546822</td>\n",
              "      <td>-8.240944</td>\n",
              "      <td>3.578257</td>\n",
              "      <td>-8.234414</td>\n",
              "      <td>-9.060442</td>\n",
              "      <td>-26.781670</td>\n",
              "      <td>-4.912760</td>\n",
              "      <td>1.545562</td>\n",
              "      <td>-2.422036</td>\n",
              "      <td>reggae</td>\n",
              "    </tr>\n",
              "    <tr>\n",
              "      <th>3</th>\n",
              "      <td>-477.528839</td>\n",
              "      <td>33.314350</td>\n",
              "      <td>-58.991947</td>\n",
              "      <td>36.357792</td>\n",
              "      <td>26.536734</td>\n",
              "      <td>-0.675872</td>\n",
              "      <td>1.368691</td>\n",
              "      <td>-16.134178</td>\n",
              "      <td>-0.317810</td>\n",
              "      <td>-8.654249</td>\n",
              "      <td>-9.246617</td>\n",
              "      <td>-24.636469</td>\n",
              "      <td>-10.302074</td>\n",
              "      <td>reggae</td>\n",
              "    </tr>\n",
              "    <tr>\n",
              "      <th>4</th>\n",
              "      <td>-504.078796</td>\n",
              "      <td>35.871197</td>\n",
              "      <td>-48.558861</td>\n",
              "      <td>50.370205</td>\n",
              "      <td>2.761873</td>\n",
              "      <td>-12.647474</td>\n",
              "      <td>7.050649</td>\n",
              "      <td>-2.322120</td>\n",
              "      <td>-6.039096</td>\n",
              "      <td>-31.120485</td>\n",
              "      <td>-4.710315</td>\n",
              "      <td>-3.640983</td>\n",
              "      <td>-0.203701</td>\n",
              "      <td>reggae</td>\n",
              "    </tr>\n",
              "    <tr>\n",
              "      <th>...</th>\n",
              "      <td>...</td>\n",
              "      <td>...</td>\n",
              "      <td>...</td>\n",
              "      <td>...</td>\n",
              "      <td>...</td>\n",
              "      <td>...</td>\n",
              "      <td>...</td>\n",
              "      <td>...</td>\n",
              "      <td>...</td>\n",
              "      <td>...</td>\n",
              "      <td>...</td>\n",
              "      <td>...</td>\n",
              "      <td>...</td>\n",
              "      <td>...</td>\n",
              "    </tr>\n",
              "    <tr>\n",
              "      <th>1298175</th>\n",
              "      <td>-455.102631</td>\n",
              "      <td>24.158625</td>\n",
              "      <td>-63.375328</td>\n",
              "      <td>65.074524</td>\n",
              "      <td>3.704499</td>\n",
              "      <td>40.963463</td>\n",
              "      <td>-21.325134</td>\n",
              "      <td>10.105320</td>\n",
              "      <td>-16.304668</td>\n",
              "      <td>-9.928100</td>\n",
              "      <td>-23.563305</td>\n",
              "      <td>4.619114</td>\n",
              "      <td>15.669947</td>\n",
              "      <td>blues</td>\n",
              "    </tr>\n",
              "    <tr>\n",
              "      <th>1298176</th>\n",
              "      <td>-447.722656</td>\n",
              "      <td>2.117634</td>\n",
              "      <td>-44.335674</td>\n",
              "      <td>58.148350</td>\n",
              "      <td>12.036886</td>\n",
              "      <td>21.317839</td>\n",
              "      <td>-22.656757</td>\n",
              "      <td>19.766155</td>\n",
              "      <td>-27.212273</td>\n",
              "      <td>-20.932671</td>\n",
              "      <td>-30.610203</td>\n",
              "      <td>16.540192</td>\n",
              "      <td>9.672492</td>\n",
              "      <td>blues</td>\n",
              "    </tr>\n",
              "    <tr>\n",
              "      <th>1298177</th>\n",
              "      <td>-449.050079</td>\n",
              "      <td>10.812412</td>\n",
              "      <td>-50.106941</td>\n",
              "      <td>54.213680</td>\n",
              "      <td>1.793259</td>\n",
              "      <td>21.684978</td>\n",
              "      <td>-25.272818</td>\n",
              "      <td>8.188376</td>\n",
              "      <td>-16.318310</td>\n",
              "      <td>9.493264</td>\n",
              "      <td>-36.492809</td>\n",
              "      <td>12.093601</td>\n",
              "      <td>3.433430</td>\n",
              "      <td>blues</td>\n",
              "    </tr>\n",
              "    <tr>\n",
              "      <th>1298178</th>\n",
              "      <td>-437.535187</td>\n",
              "      <td>12.875460</td>\n",
              "      <td>-50.128567</td>\n",
              "      <td>54.451469</td>\n",
              "      <td>7.296531</td>\n",
              "      <td>35.563461</td>\n",
              "      <td>-19.915752</td>\n",
              "      <td>4.126825</td>\n",
              "      <td>-17.346703</td>\n",
              "      <td>5.894392</td>\n",
              "      <td>-34.753819</td>\n",
              "      <td>12.200981</td>\n",
              "      <td>-2.462997</td>\n",
              "      <td>blues</td>\n",
              "    </tr>\n",
              "    <tr>\n",
              "      <th>1298179</th>\n",
              "      <td>-447.140839</td>\n",
              "      <td>16.377399</td>\n",
              "      <td>-48.402046</td>\n",
              "      <td>55.142967</td>\n",
              "      <td>-2.129559</td>\n",
              "      <td>32.123970</td>\n",
              "      <td>-22.165173</td>\n",
              "      <td>11.436558</td>\n",
              "      <td>-23.840561</td>\n",
              "      <td>-4.055938</td>\n",
              "      <td>-29.433973</td>\n",
              "      <td>18.781826</td>\n",
              "      <td>1.168216</td>\n",
              "      <td>blues</td>\n",
              "    </tr>\n",
              "  </tbody>\n",
              "</table>\n",
              "<p>1298180 rows × 14 columns</p>\n",
              "</div>"
            ],
            "text/plain": [
              "             mfcc_1     mfcc_2     mfcc_3  ...    mfcc_12    mfcc_13  Labels\n",
              "0       -536.042786  32.067459 -49.450306  ...   6.469436  12.735432  reggae\n",
              "1       -392.235077  28.644016 -73.791199  ...   0.084416 -19.625988  reggae\n",
              "2       -451.695129  17.615837 -53.177261  ...   1.545562  -2.422036  reggae\n",
              "3       -477.528839  33.314350 -58.991947  ... -24.636469 -10.302074  reggae\n",
              "4       -504.078796  35.871197 -48.558861  ...  -3.640983  -0.203701  reggae\n",
              "...             ...        ...        ...  ...        ...        ...     ...\n",
              "1298175 -455.102631  24.158625 -63.375328  ...   4.619114  15.669947   blues\n",
              "1298176 -447.722656   2.117634 -44.335674  ...  16.540192   9.672492   blues\n",
              "1298177 -449.050079  10.812412 -50.106941  ...  12.093601   3.433430   blues\n",
              "1298178 -437.535187  12.875460 -50.128567  ...  12.200981  -2.462997   blues\n",
              "1298179 -447.140839  16.377399 -48.402046  ...  18.781826   1.168216   blues\n",
              "\n",
              "[1298180 rows x 14 columns]"
            ]
          },
          "metadata": {
            "tags": []
          },
          "execution_count": 10
        }
      ]
    },
    {
      "cell_type": "code",
      "metadata": {
        "id": "E0IRM96psFt9"
      },
      "source": [
        "def process_df(df):\n",
        "    '''\n",
        "    Input: dataframe object\n",
        "    Output: returns a 3d nparray\n",
        "    '''\n",
        "    inputs = df.iloc[0*130:0+1*130,:-1] #getting the first 130 rows\n",
        "    inputs = np.expand_dims(inputs,0)   #expanding the shape of the array by inserting a new axis at the first position\n",
        "    targets= [df.iloc[0*130,-1]]\n",
        "    for i in range(1, int(df.shape[0]/130)): #repeating the above process for the entirety of the remaining dataset\n",
        "        dummy_x = df.iloc[i*130:(i+1)*130, :-1].values\n",
        "        dummy_x = np.expand_dims(dummy_x,0)\n",
        "        dummy_y = df.iloc[i*130,-1]\n",
        "        inputs = np.concatenate((inputs, dummy_x), axis=0)\n",
        "        targets.append(dummy_y)\n",
        "    return inputs, targets"
      ],
      "execution_count": 12,
      "outputs": []
    },
    {
      "cell_type": "code",
      "metadata": {
        "id": "FvR66PQN5vGN"
      },
      "source": [
        "def split_data(df, test_size, validation_size):\n",
        "    '''\n",
        "    Input: A dataframe\n",
        "    Ouput: return the train, test and validation set \n",
        "    '''\n",
        "    # inputs, targets = process_df(df)\n",
        "    # encoder = LabelEncoder()\n",
        "    # targets = encoder.fit_transform(targets) #encoded the categorical values in our target class \n",
        "\n",
        "    #Splitting data into train and test sets\n",
        "    inputs_train, inputs_test, targets_train, targets_test = train_test_split(inputs, targets, test_size = test_size)\n",
        "\n",
        "    #Splitting train data into train and validation sets\n",
        "    inputs_train, inputs_validation, targets_train, targets_validation = train_test_split(inputs_train, targets_train, test_size = validation_size)\n",
        "\n",
        "    #adding an axis to input sets\n",
        "    inputs_train = np.expand_dims(inputs_train,-1)\n",
        "    inputs_validation = np.expand_dims(inputs_validation,-1)\n",
        "    inputs_test = np.expand_dims(inputs_test,-1)\n",
        "\n",
        "    return inputs_train, inputs_validation, inputs_test, targets_train, targets_validation, targets_test\n"
      ],
      "execution_count": 13,
      "outputs": []
    },
    {
      "cell_type": "code",
      "metadata": {
        "id": "heEP0yxe_a-c"
      },
      "source": [
        "def build_model(input_shape):\n",
        "    '''Generates CNN model'''\n",
        "\n",
        "    #build network topology\n",
        "    model = keras.Sequential()\n",
        "\n",
        "    #1st convolutional layer\n",
        "    model.add(keras.layers.Conv2D(32,(3,3), activation = 'relu', input_shape = input_shape))\n",
        "    model.add(keras.layers.MaxPooling2D((3,3), strides = (2,2), padding='same'))\n",
        "    model.add(keras.layers.BatchNormalization())\n",
        "\n",
        "    #2st convolutional layer\n",
        "    model.add(keras.layers.Conv2D(32,(3,3), activation = 'relu'))\n",
        "    model.add(keras.layers.MaxPooling2D((3,3), strides = (2,2), padding='same'))\n",
        "    model.add(keras.layers.BatchNormalization())\n",
        "\n",
        "    #3rd convolutional layer\n",
        "    model.add(keras.layers.Conv2D(32,(2,2), activation ='relu'))\n",
        "    model.add(keras.layers.MaxPooling2D((2,2), strides = (2,2), padding='same'))\n",
        "    model.add(keras.layers.BatchNormalization())\n",
        "\n",
        "    #flatten output and feed it into dense layer\n",
        "    model.add(keras.layers.Flatten())\n",
        "    model.add(keras.layers.Dense(64, activation='relu'))\n",
        "    model.add(keras.layers.Dropout(0.3))\n",
        "\n",
        "    #output layer\n",
        "    model.add(keras.layers.Dense(10, activation='softmax'))\n",
        "\n",
        "    return model"
      ],
      "execution_count": 14,
      "outputs": []
    },
    {
      "cell_type": "code",
      "metadata": {
        "colab": {
          "base_uri": "https://localhost:8080/"
        },
        "id": "hohyKIzoB5HV",
        "outputId": "d426afe5-82b4-42c1-a825-0b3e0e52f52c"
      },
      "source": [
        "if __name__ == '__main__':\n",
        "    inputs, targets = process_df(df)\n",
        "    encoder = LabelEncoder()\n",
        "    targets = encoder.fit_transform(targets) #encoded the categorical values in our target class \n",
        "\n",
        "    #get train, validation, test splits\n",
        "    X_train, X_validation, X_test, y_train, y_validation, y_test = split_data(df, 0.25,0.2)\n",
        "    print(f'Shape of X_train: {X_train.shape}')\n",
        "    print(f'Shape of X_train: {X_validation.shape}')\n",
        "    print(f'Shape of X_train: {X_test.shape}')\n",
        "\n",
        "    #create network \n",
        "    input_shape = (X_train.shape[1], X_train.shape[2],1)\n",
        "    model = build_model(input_shape)\n",
        "\n",
        "    #compile model\n",
        "    optimiser = keras.optimizers.Adam(learning_rate = 0.0001)\n",
        "    model.compile(optimizer = optimiser, \n",
        "                  loss='sparse_categorical_crossentropy',\n",
        "                  metrics = ['accuracy'])\n",
        "    model.summary()\n",
        "\n",
        "    #train modle\n",
        "    history = model.fit(X_train, y_train, validation_data=(X_validation,y_validation), batch_size=32,  epochs = 50)"
      ],
      "execution_count": 15,
      "outputs": [
        {
          "output_type": "stream",
          "text": [
            "Shape of X_train: (5991, 130, 13, 1)\n",
            "Shape of X_train: (1498, 130, 13, 1)\n",
            "Shape of X_train: (2497, 130, 13, 1)\n",
            "Model: \"sequential\"\n",
            "_________________________________________________________________\n",
            "Layer (type)                 Output Shape              Param #   \n",
            "=================================================================\n",
            "conv2d (Conv2D)              (None, 128, 11, 32)       320       \n",
            "_________________________________________________________________\n",
            "max_pooling2d (MaxPooling2D) (None, 64, 6, 32)         0         \n",
            "_________________________________________________________________\n",
            "batch_normalization (BatchNo (None, 64, 6, 32)         128       \n",
            "_________________________________________________________________\n",
            "conv2d_1 (Conv2D)            (None, 62, 4, 32)         9248      \n",
            "_________________________________________________________________\n",
            "max_pooling2d_1 (MaxPooling2 (None, 31, 2, 32)         0         \n",
            "_________________________________________________________________\n",
            "batch_normalization_1 (Batch (None, 31, 2, 32)         128       \n",
            "_________________________________________________________________\n",
            "conv2d_2 (Conv2D)            (None, 30, 1, 32)         4128      \n",
            "_________________________________________________________________\n",
            "max_pooling2d_2 (MaxPooling2 (None, 15, 1, 32)         0         \n",
            "_________________________________________________________________\n",
            "batch_normalization_2 (Batch (None, 15, 1, 32)         128       \n",
            "_________________________________________________________________\n",
            "flatten (Flatten)            (None, 480)               0         \n",
            "_________________________________________________________________\n",
            "dense (Dense)                (None, 64)                30784     \n",
            "_________________________________________________________________\n",
            "dropout (Dropout)            (None, 64)                0         \n",
            "_________________________________________________________________\n",
            "dense_1 (Dense)              (None, 10)                650       \n",
            "=================================================================\n",
            "Total params: 45,514\n",
            "Trainable params: 45,322\n",
            "Non-trainable params: 192\n",
            "_________________________________________________________________\n",
            "Epoch 1/50\n",
            "188/188 [==============================] - 32s 71ms/step - loss: 2.7891 - accuracy: 0.1645 - val_loss: 1.9280 - val_accuracy: 0.3371\n",
            "Epoch 2/50\n",
            "188/188 [==============================] - 12s 66ms/step - loss: 2.0387 - accuracy: 0.3274 - val_loss: 1.6754 - val_accuracy: 0.4119\n",
            "Epoch 3/50\n",
            "188/188 [==============================] - 12s 66ms/step - loss: 1.7375 - accuracy: 0.3834 - val_loss: 1.5307 - val_accuracy: 0.4553\n",
            "Epoch 4/50\n",
            "188/188 [==============================] - 12s 66ms/step - loss: 1.5717 - accuracy: 0.4567 - val_loss: 1.4432 - val_accuracy: 0.4866\n",
            "Epoch 5/50\n",
            "188/188 [==============================] - 12s 66ms/step - loss: 1.4967 - accuracy: 0.4820 - val_loss: 1.3788 - val_accuracy: 0.5113\n",
            "Epoch 6/50\n",
            "188/188 [==============================] - 13s 67ms/step - loss: 1.4276 - accuracy: 0.5043 - val_loss: 1.3281 - val_accuracy: 0.5360\n",
            "Epoch 7/50\n",
            "188/188 [==============================] - 13s 67ms/step - loss: 1.3603 - accuracy: 0.5265 - val_loss: 1.3010 - val_accuracy: 0.5354\n",
            "Epoch 8/50\n",
            "188/188 [==============================] - 12s 66ms/step - loss: 1.2877 - accuracy: 0.5514 - val_loss: 1.2434 - val_accuracy: 0.5708\n",
            "Epoch 9/50\n",
            "188/188 [==============================] - 12s 66ms/step - loss: 1.2289 - accuracy: 0.5710 - val_loss: 1.2220 - val_accuracy: 0.5708\n",
            "Epoch 10/50\n",
            "188/188 [==============================] - 12s 66ms/step - loss: 1.1774 - accuracy: 0.5888 - val_loss: 1.1819 - val_accuracy: 0.5854\n",
            "Epoch 11/50\n",
            "188/188 [==============================] - 12s 66ms/step - loss: 1.1553 - accuracy: 0.5857 - val_loss: 1.1688 - val_accuracy: 0.5881\n",
            "Epoch 12/50\n",
            "188/188 [==============================] - 13s 67ms/step - loss: 1.1285 - accuracy: 0.6000 - val_loss: 1.1395 - val_accuracy: 0.5981\n",
            "Epoch 13/50\n",
            "188/188 [==============================] - 12s 66ms/step - loss: 1.1033 - accuracy: 0.6082 - val_loss: 1.1229 - val_accuracy: 0.5981\n",
            "Epoch 14/50\n",
            "188/188 [==============================] - 12s 65ms/step - loss: 1.0615 - accuracy: 0.6289 - val_loss: 1.1111 - val_accuracy: 0.6128\n",
            "Epoch 15/50\n",
            "188/188 [==============================] - 12s 65ms/step - loss: 1.0089 - accuracy: 0.6387 - val_loss: 1.0778 - val_accuracy: 0.6175\n",
            "Epoch 16/50\n",
            "188/188 [==============================] - 12s 65ms/step - loss: 0.9964 - accuracy: 0.6495 - val_loss: 1.0656 - val_accuracy: 0.6242\n",
            "Epoch 17/50\n",
            "188/188 [==============================] - 12s 65ms/step - loss: 0.9679 - accuracy: 0.6501 - val_loss: 1.0480 - val_accuracy: 0.6315\n",
            "Epoch 18/50\n",
            "188/188 [==============================] - 12s 65ms/step - loss: 0.9206 - accuracy: 0.6725 - val_loss: 1.0244 - val_accuracy: 0.6348\n",
            "Epoch 19/50\n",
            "188/188 [==============================] - 12s 66ms/step - loss: 0.9320 - accuracy: 0.6668 - val_loss: 1.0264 - val_accuracy: 0.6335\n",
            "Epoch 20/50\n",
            "188/188 [==============================] - 12s 65ms/step - loss: 0.9129 - accuracy: 0.6740 - val_loss: 1.0073 - val_accuracy: 0.6442\n",
            "Epoch 21/50\n",
            "188/188 [==============================] - 12s 66ms/step - loss: 0.8826 - accuracy: 0.6824 - val_loss: 0.9918 - val_accuracy: 0.6529\n",
            "Epoch 22/50\n",
            "188/188 [==============================] - 12s 65ms/step - loss: 0.8467 - accuracy: 0.7131 - val_loss: 0.9845 - val_accuracy: 0.6495\n",
            "Epoch 23/50\n",
            "188/188 [==============================] - 12s 66ms/step - loss: 0.8434 - accuracy: 0.7056 - val_loss: 0.9776 - val_accuracy: 0.6629\n",
            "Epoch 24/50\n",
            "188/188 [==============================] - 12s 66ms/step - loss: 0.8047 - accuracy: 0.7163 - val_loss: 0.9723 - val_accuracy: 0.6542\n",
            "Epoch 25/50\n",
            "188/188 [==============================] - 12s 66ms/step - loss: 0.8213 - accuracy: 0.7052 - val_loss: 0.9630 - val_accuracy: 0.6676\n",
            "Epoch 26/50\n",
            "188/188 [==============================] - 12s 66ms/step - loss: 0.7672 - accuracy: 0.7302 - val_loss: 0.9593 - val_accuracy: 0.6622\n",
            "Epoch 27/50\n",
            "188/188 [==============================] - 12s 66ms/step - loss: 0.7891 - accuracy: 0.7309 - val_loss: 0.9646 - val_accuracy: 0.6676\n",
            "Epoch 28/50\n",
            "188/188 [==============================] - 12s 66ms/step - loss: 0.7249 - accuracy: 0.7516 - val_loss: 0.9594 - val_accuracy: 0.6636\n",
            "Epoch 29/50\n",
            "188/188 [==============================] - 13s 67ms/step - loss: 0.7002 - accuracy: 0.7594 - val_loss: 0.9544 - val_accuracy: 0.6642\n",
            "Epoch 30/50\n",
            "188/188 [==============================] - 14s 75ms/step - loss: 0.7100 - accuracy: 0.7512 - val_loss: 0.9543 - val_accuracy: 0.6656\n",
            "Epoch 31/50\n",
            "188/188 [==============================] - 13s 67ms/step - loss: 0.7156 - accuracy: 0.7512 - val_loss: 0.9633 - val_accuracy: 0.6615\n",
            "Epoch 32/50\n",
            "188/188 [==============================] - 12s 66ms/step - loss: 0.6926 - accuracy: 0.7609 - val_loss: 0.9425 - val_accuracy: 0.6702\n",
            "Epoch 33/50\n",
            "188/188 [==============================] - 12s 66ms/step - loss: 0.6649 - accuracy: 0.7663 - val_loss: 0.9407 - val_accuracy: 0.6676\n",
            "Epoch 34/50\n",
            "188/188 [==============================] - 13s 67ms/step - loss: 0.6563 - accuracy: 0.7730 - val_loss: 0.9321 - val_accuracy: 0.6789\n",
            "Epoch 35/50\n",
            "188/188 [==============================] - 12s 66ms/step - loss: 0.6469 - accuracy: 0.7757 - val_loss: 0.9337 - val_accuracy: 0.6762\n",
            "Epoch 36/50\n",
            "188/188 [==============================] - 12s 66ms/step - loss: 0.6492 - accuracy: 0.7688 - val_loss: 0.9357 - val_accuracy: 0.6776\n",
            "Epoch 37/50\n",
            "188/188 [==============================] - 13s 67ms/step - loss: 0.6302 - accuracy: 0.7842 - val_loss: 0.9455 - val_accuracy: 0.6789\n",
            "Epoch 38/50\n",
            "188/188 [==============================] - 12s 66ms/step - loss: 0.6136 - accuracy: 0.7837 - val_loss: 0.9418 - val_accuracy: 0.6709\n",
            "Epoch 39/50\n",
            "188/188 [==============================] - 12s 66ms/step - loss: 0.5816 - accuracy: 0.8028 - val_loss: 0.9435 - val_accuracy: 0.6809\n",
            "Epoch 40/50\n",
            "188/188 [==============================] - 12s 66ms/step - loss: 0.5691 - accuracy: 0.8062 - val_loss: 0.9210 - val_accuracy: 0.6829\n",
            "Epoch 41/50\n",
            "188/188 [==============================] - 12s 66ms/step - loss: 0.5582 - accuracy: 0.8111 - val_loss: 0.9964 - val_accuracy: 0.6649\n",
            "Epoch 42/50\n",
            "188/188 [==============================] - 12s 66ms/step - loss: 0.5720 - accuracy: 0.8043 - val_loss: 0.9235 - val_accuracy: 0.6836\n",
            "Epoch 43/50\n",
            "188/188 [==============================] - 12s 66ms/step - loss: 0.5475 - accuracy: 0.8162 - val_loss: 0.9333 - val_accuracy: 0.6789\n",
            "Epoch 44/50\n",
            "188/188 [==============================] - 12s 66ms/step - loss: 0.5588 - accuracy: 0.8035 - val_loss: 0.9625 - val_accuracy: 0.6716\n",
            "Epoch 45/50\n",
            "188/188 [==============================] - 12s 66ms/step - loss: 0.5153 - accuracy: 0.8116 - val_loss: 0.9292 - val_accuracy: 0.6702\n",
            "Epoch 46/50\n",
            "188/188 [==============================] - 12s 66ms/step - loss: 0.5166 - accuracy: 0.8207 - val_loss: 0.9396 - val_accuracy: 0.6742\n",
            "Epoch 47/50\n",
            "188/188 [==============================] - 12s 66ms/step - loss: 0.5038 - accuracy: 0.8302 - val_loss: 0.9319 - val_accuracy: 0.6816\n",
            "Epoch 48/50\n",
            "188/188 [==============================] - 12s 66ms/step - loss: 0.4788 - accuracy: 0.8407 - val_loss: 0.9430 - val_accuracy: 0.6909\n",
            "Epoch 49/50\n",
            "188/188 [==============================] - 12s 66ms/step - loss: 0.4777 - accuracy: 0.8351 - val_loss: 0.9416 - val_accuracy: 0.6762\n",
            "Epoch 50/50\n",
            "188/188 [==============================] - 12s 66ms/step - loss: 0.4936 - accuracy: 0.8328 - val_loss: 0.9363 - val_accuracy: 0.6842\n"
          ],
          "name": "stdout"
        }
      ]
    },
    {
      "cell_type": "code",
      "metadata": {
        "id": "zRlMYrjHKiTW"
      },
      "source": [
        "def plot_history(history):\n",
        "    \"\"\"Plots accuracy/loss for training/validation set as a function of the epochs\n",
        "        :param history: Training history of model\n",
        "        :return:\n",
        "    \"\"\"\n",
        "\n",
        "    fig, axs = plt.subplots(2, figsize=(10,10))\n",
        "        \n",
        "\n",
        "    # create accuracy sublpot\n",
        "    axs[0].plot(history.history[\"accuracy\"], label=\"train accuracy\")\n",
        "    axs[0].plot(history.history[\"val_accuracy\"], label=\"test accuracy\")\n",
        "    axs[0].set_yticks([0.1,0.2,0.3,0.4,0.5,0.6,0.7,0.8,0.9,1.0])\n",
        "    axs[0].set_ylabel(\"Accuracy\")\n",
        "    axs[0].legend(bbox_to_anchor=(1.05, 1), loc='upper left',prop={'size': 20})\n",
        "    axs[0].set_title(\"Accuracy eval\")\n",
        "\n",
        "    # create error sublpot\n",
        "    axs[1].plot(history.history[\"loss\"], label=\"train error\")\n",
        "    axs[1].plot(history.history[\"val_loss\"], label=\"test error\")\n",
        "    axs[1].set_ylabel(\"Error\")\n",
        "    axs[1].set_xlabel(\"Epoch\")\n",
        "    axs[1].legend(bbox_to_anchor=(1.05, 1), loc='upper left', prop={'size': 20})\n",
        "    axs[1].set_title(\"Error eval\")\n",
        "    fig.tight_layout(pad=3.0)\n",
        "    plt.savefig('cnn_train_test_accuracy.png')\n",
        "    plt.show()\n",
        "\n"
      ],
      "execution_count": 32,
      "outputs": []
    },
    {
      "cell_type": "code",
      "metadata": {
        "colab": {
          "base_uri": "https://localhost:8080/",
          "height": 671
        },
        "id": "lzVLiGyIKjB1",
        "outputId": "150c1e77-1a0b-44e2-e9fe-7a763a28e281"
      },
      "source": [
        "plot_history(history)"
      ],
      "execution_count": 33,
      "outputs": [
        {
          "output_type": "display_data",
          "data": {
            "image/png": "[encoded data removed]",
            "text/plain": [
              "<Figure size 720x720 with 2 Axes>"
            ]
          },
          "metadata": {
            "tags": [],
            "needs_background": "light"
          }
        }
      ]
    },
    {
      "cell_type": "markdown",
      "metadata": {
        "id": "GjqHQimdFh_m"
      },
      "source": [
        "#Saving CNN Model"
      ]
    },
    {
      "cell_type": "code",
      "metadata": {
        "id": "w_2Qh8IFD6__"
      },
      "source": [
        "import pickle \n",
        "import os"
      ],
      "execution_count": 23,
      "outputs": []
    },
    {
      "cell_type": "code",
      "metadata": {
        "id": "mA3aVYsyD9mk"
      },
      "source": [
        "model_path = os.path.join(os.getcwd(), 'drive/Sub_Data')"
      ],
      "execution_count": 24,
      "outputs": []
    },
    {
      "cell_type": "code",
      "metadata": {
        "colab": {
          "base_uri": "https://localhost:8080/",
          "height": 36
        },
        "id": "IuCpBULcEChh",
        "outputId": "c0057be0-008b-496b-9d62-a7f551d1be4a"
      },
      "source": [
        "model_path"
      ],
      "execution_count": 25,
      "outputs": [
        {
          "output_type": "execute_result",
          "data": {
            "application/vnd.google.colaboratory.intrinsic+json": {
              "type": "string"
            },
            "text/plain": [
              "'/content/drive/Sub_Data'"
            ]
          },
          "metadata": {
            "tags": []
          },
          "execution_count": 25
        }
      ]
    },
    {
      "cell_type": "code",
      "metadata": {
        "id": "DU7yJTC0EDMN"
      },
      "source": [
        "model.save('cnn_model_mfcc13.h5')"
      ],
      "execution_count": 26,
      "outputs": []
    },
    {
      "cell_type": "markdown",
      "metadata": {
        "id": "cx6ZCDOEFNM7"
      },
      "source": [
        "#Making Predictions"
      ]
    },
    {
      "cell_type": "code",
      "metadata": {
        "id": "Nw7gPdeSFPyx"
      },
      "source": [
        "inputs, targets = process_df(df)\n",
        "encoder = LabelEncoder()\n",
        "targets = encoder.fit_transform(targets) #encoded the categorical values in our target class \n"
      ],
      "execution_count": 23,
      "outputs": []
    },
    {
      "cell_type": "code",
      "metadata": {
        "id": "EwTENHt_EHHg"
      },
      "source": [
        "def make_prediction(model, X, y):\n",
        "    #adding a dimension to input data since model.predict() expects a 4d array as input\n",
        "    X_to_predict= np.expand_dims(X,0)\n",
        "    # inputs, targets = process_df(df)\n",
        "    # encoder = LabelEncoder()\n",
        "    # targets = encoder.fit_transform(targets)\n",
        "\n",
        "    #perfrom predicition\n",
        "    prediction = model.predict(X_to_predict)\n",
        "    predicted_index = np.argmax(prediction, axis=1)\n",
        "    predicted_output = encoder.inverse_transform([predicted_index])[0]\n",
        "    print(f'Original Label: {encoder.inverse_transform([y_to_predict])[0]} \\n Predicted Output: {predicted_output}')\n",
        "    #get index with ma "
      ],
      "execution_count": 16,
      "outputs": []
    },
    {
      "cell_type": "code",
      "metadata": {
        "colab": {
          "base_uri": "https://localhost:8080/"
        },
        "id": "vDUKqoJLEd63",
        "outputId": "c882121f-0628-4f5b-b07f-3d0ab8a5d933"
      },
      "source": [
        "#Making prediction - picking a sample to predict from the test set\n",
        "X_to_predict = X_test[100]\n",
        "y_to_predict = y_test[100]\n",
        "\n",
        "make_prediction(model, X_to_predict, y_to_predict)"
      ],
      "execution_count": 17,
      "outputs": [
        {
          "output_type": "stream",
          "text": [
            "Original Label: blues \n",
            " Predicted Output: blues\n"
          ],
          "name": "stdout"
        },
        {
          "output_type": "stream",
          "text": [
            "/usr/local/lib/python3.7/dist-packages/sklearn/preprocessing/_label.py:289: DataConversionWarning: A column-vector y was passed when a 1d array was expected. Please change the shape of y to (n_samples, ), for example using ravel().\n",
            "  y = column_or_1d(y, warn=True)\n"
          ],
          "name": "stderr"
        }
      ]
    },
    {
      "cell_type": "code",
      "metadata": {
        "colab": {
          "base_uri": "https://localhost:8080/"
        },
        "id": "2AYxuOUqEeq6",
        "outputId": "bc409b25-4793-41f9-b50d-cd7497ea9448"
      },
      "source": [
        "#Making prediction - picking a sample to predict from the test set\n",
        "X_to_predict = X_test[600]\n",
        "y_to_predict = y_test[600]\n",
        "\n",
        "make_prediction(model, X_to_predict, y_to_predict)"
      ],
      "execution_count": 18,
      "outputs": [
        {
          "output_type": "stream",
          "text": [
            "Original Label: blues \n",
            " Predicted Output: blues\n"
          ],
          "name": "stdout"
        },
        {
          "output_type": "stream",
          "text": [
            "/usr/local/lib/python3.7/dist-packages/sklearn/preprocessing/_label.py:289: DataConversionWarning: A column-vector y was passed when a 1d array was expected. Please change the shape of y to (n_samples, ), for example using ravel().\n",
            "  y = column_or_1d(y, warn=True)\n"
          ],
          "name": "stderr"
        }
      ]
    },
    {
      "cell_type": "code",
      "metadata": {
        "colab": {
          "base_uri": "https://localhost:8080/"
        },
        "id": "bBKeRuvJEf3Z",
        "outputId": "2ffc8d50-acc3-41fe-b682-18f125f47dd8"
      },
      "source": [
        "#Making prediction - picking a sample to predict from the test set\n",
        "X_to_predict = X_test[-1]\n",
        "y_to_predict = y_test[-1]\n",
        "\n",
        "make_prediction(model, X_to_predict, y_to_predict)"
      ],
      "execution_count": 19,
      "outputs": [
        {
          "output_type": "stream",
          "text": [
            "Original Label: classical \n",
            " Predicted Output: classical\n"
          ],
          "name": "stdout"
        },
        {
          "output_type": "stream",
          "text": [
            "/usr/local/lib/python3.7/dist-packages/sklearn/preprocessing/_label.py:289: DataConversionWarning: A column-vector y was passed when a 1d array was expected. Please change the shape of y to (n_samples, ), for example using ravel().\n",
            "  y = column_or_1d(y, warn=True)\n"
          ],
          "name": "stderr"
        }
      ]
    },
    {
      "cell_type": "code",
      "metadata": {
        "colab": {
          "base_uri": "https://localhost:8080/"
        },
        "id": "CX3LVibpEh1c",
        "outputId": "900bcf3d-2edc-4dbf-8e7b-608ec48c6ab4"
      },
      "source": [
        "#Making prediction - picking a sample to predict from the test set\n",
        "X_to_predict = X_test[232]\n",
        "y_to_predict = y_test[232]\n",
        "\n",
        "make_prediction(model, X_to_predict, y_to_predict)"
      ],
      "execution_count": 20,
      "outputs": [
        {
          "output_type": "stream",
          "text": [
            "Original Label: blues \n",
            " Predicted Output: blues\n"
          ],
          "name": "stdout"
        },
        {
          "output_type": "stream",
          "text": [
            "/usr/local/lib/python3.7/dist-packages/sklearn/preprocessing/_label.py:289: DataConversionWarning: A column-vector y was passed when a 1d array was expected. Please change the shape of y to (n_samples, ), for example using ravel().\n",
            "  y = column_or_1d(y, warn=True)\n"
          ],
          "name": "stderr"
        }
      ]
    },
    {
      "cell_type": "code",
      "metadata": {
        "colab": {
          "base_uri": "https://localhost:8080/"
        },
        "id": "TsgUdLMNEjPa",
        "outputId": "dfbe9a9b-f29f-49c8-b304-6404987f541f"
      },
      "source": [
        "#Making prediction - picking a sample to predict from the test set\n",
        "X_to_predict = X_test[1948]\n",
        "y_to_predict = y_test[1948]\n",
        "\n",
        "make_prediction(model, X_to_predict, y_to_predict)"
      ],
      "execution_count": 21,
      "outputs": [
        {
          "output_type": "stream",
          "text": [
            "Original Label: jazz \n",
            " Predicted Output: jazz\n"
          ],
          "name": "stdout"
        },
        {
          "output_type": "stream",
          "text": [
            "/usr/local/lib/python3.7/dist-packages/sklearn/preprocessing/_label.py:289: DataConversionWarning: A column-vector y was passed when a 1d array was expected. Please change the shape of y to (n_samples, ), for example using ravel().\n",
            "  y = column_or_1d(y, warn=True)\n"
          ],
          "name": "stderr"
        }
      ]
    },
    {
      "cell_type": "code",
      "metadata": {
        "colab": {
          "base_uri": "https://localhost:8080/"
        },
        "id": "NqI2AZG0EkiM",
        "outputId": "ba07baa4-8887-4ce0-d2d5-eec3424dbc86"
      },
      "source": [
        "#Evalution model on test set\n",
        "test_loss, test_acc = model.evaluate(X_test, y_test, verbose = 2)\n",
        "print(f'Test Accuracy: {test_acc}')"
      ],
      "execution_count": 22,
      "outputs": [
        {
          "output_type": "stream",
          "text": [
            "79/79 - 1s - loss: 0.9216 - accuracy: 0.6868\n",
            "Test Accuracy: 0.6868242025375366\n"
          ],
          "name": "stdout"
        }
      ]
    },
    {
      "cell_type": "markdown",
      "metadata": {
        "id": "QAjkKM7_L3nz"
      },
      "source": [
        "#Prediction on a new song"
      ]
    },
    {
      "cell_type": "code",
      "metadata": {
        "id": "79mBzqiaTprE"
      },
      "source": [
        "def generating_headers(n_mfcc=13):\n",
        "  headers = []\n",
        "  for i in range(1,n_mfcc+1):\n",
        "    headers.append(f'mfcc_{i}')\n",
        "  return headers"
      ],
      "execution_count": 127,
      "outputs": []
    },
    {
      "cell_type": "code",
      "metadata": {
        "colab": {
          "base_uri": "https://localhost:8080/"
        },
        "id": "kRBS696cd7an",
        "outputId": "8f232aaa-9f0a-4dc9-cc04-6fd9e60e7f6d"
      },
      "source": [
        "np.random.randint(1,11)"
      ],
      "execution_count": 143,
      "outputs": [
        {
          "output_type": "execute_result",
          "data": {
            "text/plain": [
              "8"
            ]
          },
          "metadata": {
            "tags": []
          },
          "execution_count": 143
        }
      ]
    },
    {
      "cell_type": "code",
      "metadata": {
        "id": "AUvech3zL6IH"
      },
      "source": [
        "def process_input(audio_file, track_duration):\n",
        "    n_mfcc=13\n",
        "    n_fft=248\n",
        "    num_segments = 10\n",
        "    hop_length = 512\n",
        "    \n",
        "    SAMPLE_RATE = 22050\n",
        "    TRACK_DURATION = track_duration # measured in seconds\n",
        "    SAMPLES_PER_TRACK = SAMPLE_RATE * TRACK_DURATION\n",
        "    \n",
        "\n",
        "    num_samples_per_segment = int(SAMPLES_PER_TRACK / num_segments)\n",
        "    expected_num_mfcc_vectors_per_segment = math.ceil(num_samples_per_segment / hop_length)\n",
        "\n",
        "    signal, sample_rate = librosa.load(audio_file, sr=SAMPLE_RATE)\n",
        "\n",
        "    # for segment in range(num_segments):\n",
        "        # calculate start and finish sample for current segment\n",
        "    segment = np.random.randint(low=0,high=11)\n",
        "    # segment = 5\n",
        "    start_sample = num_samples_per_segment * segment\n",
        "    finish_sample = start_sample + num_samples_per_segment\n",
        "\n",
        "    # extract mfcc\n",
        "    mfcc = librosa.feature.mfcc(signal[start_sample:finish_sample], sample_rate, n_mfcc=n_mfcc, n_fft=n_fft, hop_length=hop_length)\n",
        "    mfcc = mfcc.T\n",
        "    return mfcc"
      ],
      "execution_count": 163,
      "outputs": []
    },
    {
      "cell_type": "code",
      "metadata": {
        "id": "n0EFQc1bOwcE"
      },
      "source": [
        "song_path = os.getcwd() + '/drive/MyDrive/Sub_Data/bensound-thejazzpiano.mp3'"
      ],
      "execution_count": 146,
      "outputs": []
    },
    {
      "cell_type": "code",
      "metadata": {
        "colab": {
          "base_uri": "https://localhost:8080/",
          "height": 36
        },
        "id": "f40_09iKQMe9",
        "outputId": "4ecaac8d-50a7-4294-fe98-bd1c7f81b00f"
      },
      "source": [
        "song_path"
      ],
      "execution_count": 147,
      "outputs": [
        {
          "output_type": "execute_result",
          "data": {
            "application/vnd.google.colaboratory.intrinsic+json": {
              "type": "string"
            },
            "text/plain": [
              "'/content/drive/MyDrive/Sub_Data/bensound-thejazzpiano.mp3'"
            ]
          },
          "metadata": {
            "tags": []
          },
          "execution_count": 147
        }
      ]
    },
    {
      "cell_type": "code",
      "metadata": {
        "colab": {
          "base_uri": "https://localhost:8080/"
        },
        "id": "-YUzUKVnPEG9",
        "outputId": "383356bc-a395-4f0f-86de-0d85b9e028b8"
      },
      "source": [
        "new_input = process_input(song_path, 30)"
      ],
      "execution_count": 149,
      "outputs": [
        {
          "output_type": "stream",
          "text": [
            "/usr/local/lib/python3.7/dist-packages/librosa/core/audio.py:165: UserWarning: PySoundFile failed. Trying audioread instead.\n",
            "  warnings.warn(\"PySoundFile failed. Trying audioread instead.\")\n",
            "/usr/local/lib/python3.7/dist-packages/librosa/filters.py:239: UserWarning: Empty filters detected in mel frequency basis. Some channels will produce empty responses. Try increasing your sampling rate (and fmax) or reducing n_mels.\n",
            "  \"Empty filters detected in mel frequency basis. \"\n"
          ],
          "name": "stderr"
        }
      ]
    },
    {
      "cell_type": "code",
      "metadata": {
        "colab": {
          "base_uri": "https://localhost:8080/"
        },
        "id": "sVGzpGQMP5sR",
        "outputId": "89b3ba0b-4985-4f3c-abd1-3b9566e7f969"
      },
      "source": [
        "new_input.shape"
      ],
      "execution_count": 150,
      "outputs": [
        {
          "output_type": "execute_result",
          "data": {
            "text/plain": [
              "(130, 13)"
            ]
          },
          "metadata": {
            "tags": []
          },
          "execution_count": 150
        }
      ]
    },
    {
      "cell_type": "code",
      "metadata": {
        "colab": {
          "base_uri": "https://localhost:8080/"
        },
        "id": "wRstaB8meZrF",
        "outputId": "e45b87fd-96bf-4d67-b8ff-a791522d7dbf"
      },
      "source": [
        "type(new_input)"
      ],
      "execution_count": 151,
      "outputs": [
        {
          "output_type": "execute_result",
          "data": {
            "text/plain": [
              "numpy.ndarray"
            ]
          },
          "metadata": {
            "tags": []
          },
          "execution_count": 151
        }
      ]
    },
    {
      "cell_type": "code",
      "metadata": {
        "colab": {
          "base_uri": "https://localhost:8080/"
        },
        "id": "lVfHs1Ixeb0Y",
        "outputId": "b2c8f12d-13a1-4188-8fad-9eb887a5e50d"
      },
      "source": [
        "X_to_predict = new_input[np.newaxis, ..., np.newaxis]\n",
        "X_to_predict.shape"
      ],
      "execution_count": 153,
      "outputs": [
        {
          "output_type": "execute_result",
          "data": {
            "text/plain": [
              "(1, 130, 13, 1)"
            ]
          },
          "metadata": {
            "tags": []
          },
          "execution_count": 153
        }
      ]
    },
    {
      "cell_type": "code",
      "metadata": {
        "colab": {
          "base_uri": "https://localhost:8080/"
        },
        "id": "fwbC42F5elQM",
        "outputId": "2b7dae2a-a3d5-4c93-fd31-f3617903864a"
      },
      "source": [
        "prediction = model.predict(X_to_predict)\n",
        "\n",
        "# get index with max value\n",
        "predicted_index = np.argmax(prediction, axis=1)\n",
        "\n",
        "print(predicted_index)\n",
        "print(\"Predicted Genre:\", encoder.inverse_transform(predicted_index))"
      ],
      "execution_count": 157,
      "outputs": [
        {
          "output_type": "stream",
          "text": [
            "[5]\n",
            "Predicted Genre: ['jazz']\n"
          ],
          "name": "stdout"
        }
      ]
    },
    {
      "cell_type": "code",
      "metadata": {
        "id": "2yC9xC8KfhUI"
      },
      "source": [
        "song_path2 = os.getcwd() + '/drive/MyDrive/Sub_Data/nirvana_teen_spirits.mp3'"
      ],
      "execution_count": 158,
      "outputs": []
    },
    {
      "cell_type": "code",
      "metadata": {
        "colab": {
          "base_uri": "https://localhost:8080/"
        },
        "id": "SJZULyryg8cS",
        "outputId": "174b165a-06e8-4ae7-a9e1-15e126343482"
      },
      "source": [
        "new_input2 = process_input(song_path, 30)\n",
        "X_to_predict2 = new_input2[np.newaxis, ..., np.newaxis]\n",
        "X_to_predict2.shape\n",
        "\n",
        "prediction2 = model.predict(X_to_predict2)\n",
        "\n",
        "# get index with max value\n",
        "predicted_index2 = np.argmax(prediction2, axis=1)\n",
        "\n",
        "print(predicted_index2)\n",
        "print(\"Predicted Genre:\", encoder.inverse_transform(predicted_index2))"
      ],
      "execution_count": 159,
      "outputs": [
        {
          "output_type": "stream",
          "text": [
            "/usr/local/lib/python3.7/dist-packages/librosa/core/audio.py:165: UserWarning: PySoundFile failed. Trying audioread instead.\n",
            "  warnings.warn(\"PySoundFile failed. Trying audioread instead.\")\n"
          ],
          "name": "stderr"
        },
        {
          "output_type": "stream",
          "text": [
            "[7]\n",
            "Predicted Genre: ['pop']\n"
          ],
          "name": "stdout"
        },
        {
          "output_type": "stream",
          "text": [
            "/usr/local/lib/python3.7/dist-packages/librosa/filters.py:239: UserWarning: Empty filters detected in mel frequency basis. Some channels will produce empty responses. Try increasing your sampling rate (and fmax) or reducing n_mels.\n",
            "  \"Empty filters detected in mel frequency basis. \"\n"
          ],
          "name": "stderr"
        }
      ]
    },
    {
      "cell_type": "code",
      "metadata": {
        "colab": {
          "base_uri": "https://localhost:8080/"
        },
        "id": "vr_x9o0IhaX3",
        "outputId": "95b1752e-cc0f-4c5c-ad5e-e353a6d79b9b"
      },
      "source": [
        "song_path2 = os.getcwd() + '/drive/MyDrive/Sub_Data/love story.mp3'\n",
        "new_input2 = process_input(song_path, 30)\n",
        "X_to_predict2 = new_input2[np.newaxis, ..., np.newaxis]\n",
        "X_to_predict2.shape\n",
        "\n",
        "prediction2 = model.predict(X_to_predict2)\n",
        "\n",
        "# get index with max value\n",
        "predicted_index2 = np.argmax(prediction2, axis=1)\n",
        "\n",
        "print(predicted_index2)\n",
        "print(\"Predicted Genre:\", encoder.inverse_transform(predicted_index2))"
      ],
      "execution_count": 162,
      "outputs": [
        {
          "output_type": "stream",
          "text": [
            "/usr/local/lib/python3.7/dist-packages/librosa/core/audio.py:165: UserWarning: PySoundFile failed. Trying audioread instead.\n",
            "  warnings.warn(\"PySoundFile failed. Trying audioread instead.\")\n"
          ],
          "name": "stderr"
        },
        {
          "output_type": "stream",
          "text": [
            "[0]\n",
            "Predicted Genre: ['blues']\n"
          ],
          "name": "stdout"
        },
        {
          "output_type": "stream",
          "text": [
            "/usr/local/lib/python3.7/dist-packages/librosa/filters.py:239: UserWarning: Empty filters detected in mel frequency basis. Some channels will produce empty responses. Try increasing your sampling rate (and fmax) or reducing n_mels.\n",
            "  \"Empty filters detected in mel frequency basis. \"\n"
          ],
          "name": "stderr"
        }
      ]
    },
    {
      "cell_type": "code",
      "metadata": {
        "colab": {
          "base_uri": "https://localhost:8080/"
        },
        "id": "naHgMQP6iDvO",
        "outputId": "43fc1994-de12-4373-9c59-498010eeff83"
      },
      "source": [
        "song_path2 = os.getcwd() + '/drive/MyDrive/Sub_Data/coldplay_vivalavida.mp3'\n",
        "new_input2 = process_input(song_path, 30)\n",
        "X_to_predict2 = new_input2[np.newaxis, ..., np.newaxis]\n",
        "X_to_predict2.shape\n",
        "\n",
        "prediction2 = model.predict(X_to_predict2)\n",
        "\n",
        "# get index with max value\n",
        "predicted_index2 = np.argmax(prediction2, axis=1)\n",
        "\n",
        "print(predicted_index2)\n",
        "print(\"Predicted Genre:\", encoder.inverse_transform(predicted_index2))"
      ],
      "execution_count": 164,
      "outputs": [
        {
          "output_type": "stream",
          "text": [
            "/usr/local/lib/python3.7/dist-packages/librosa/core/audio.py:165: UserWarning: PySoundFile failed. Trying audioread instead.\n",
            "  warnings.warn(\"PySoundFile failed. Trying audioread instead.\")\n"
          ],
          "name": "stderr"
        },
        {
          "output_type": "stream",
          "text": [
            "[5]\n",
            "Predicted Genre: ['jazz']\n"
          ],
          "name": "stdout"
        },
        {
          "output_type": "stream",
          "text": [
            "/usr/local/lib/python3.7/dist-packages/librosa/filters.py:239: UserWarning: Empty filters detected in mel frequency basis. Some channels will produce empty responses. Try increasing your sampling rate (and fmax) or reducing n_mels.\n",
            "  \"Empty filters detected in mel frequency basis. \"\n"
          ],
          "name": "stderr"
        }
      ]
    },
    {
      "cell_type": "code",
      "metadata": {
        "colab": {
          "base_uri": "https://localhost:8080/"
        },
        "id": "LsjvE4lijkXZ",
        "outputId": "66ff5c0e-a1cf-4d45-d572-a0c7e220a792"
      },
      "source": [
        "song_path2 = os.getcwd() + '/drive/MyDrive/Sub_Data/creative_minds_pop.mp3'\n",
        "new_input2 = process_input(song_path, 30)\n",
        "X_to_predict2 = new_input2[np.newaxis, ..., np.newaxis]\n",
        "X_to_predict2.shape\n",
        "\n",
        "prediction2 = model.predict(X_to_predict2)\n",
        "\n",
        "# get index with max value\n",
        "predicted_index2 = np.argmax(prediction2, axis=1)\n",
        "\n",
        "print(predicted_index2)\n",
        "print(\"Predicted Genre:\", encoder.inverse_transform(predicted_index2))"
      ],
      "execution_count": 165,
      "outputs": [
        {
          "output_type": "stream",
          "text": [
            "/usr/local/lib/python3.7/dist-packages/librosa/core/audio.py:165: UserWarning: PySoundFile failed. Trying audioread instead.\n",
            "  warnings.warn(\"PySoundFile failed. Trying audioread instead.\")\n"
          ],
          "name": "stderr"
        },
        {
          "output_type": "stream",
          "text": [
            "[4]\n",
            "Predicted Genre: ['hiphop']\n"
          ],
          "name": "stdout"
        },
        {
          "output_type": "stream",
          "text": [
            "/usr/local/lib/python3.7/dist-packages/librosa/filters.py:239: UserWarning: Empty filters detected in mel frequency basis. Some channels will produce empty responses. Try increasing your sampling rate (and fmax) or reducing n_mels.\n",
            "  \"Empty filters detected in mel frequency basis. \"\n"
          ],
          "name": "stderr"
        }
      ]
    },
    {
      "cell_type": "code",
      "metadata": {
        "colab": {
          "base_uri": "https://localhost:8080/"
        },
        "id": "jve2s50yj-Mz",
        "outputId": "078d6a41-e5d8-4960-d9fd-bcf3026d9632"
      },
      "source": [
        "song_path2 = os.getcwd() + '/drive/MyDrive/Sub_Data/hey_pop.mp3'\n",
        "new_input2 = process_input(song_path, 30)\n",
        "X_to_predict2 = new_input2[np.newaxis, ..., np.newaxis]\n",
        "X_to_predict2.shape\n",
        "\n",
        "prediction2 = model.predict(X_to_predict2)\n",
        "\n",
        "# get index with max value\n",
        "predicted_index2 = np.argmax(prediction2, axis=1)\n",
        "\n",
        "print(predicted_index2)\n",
        "print(\"Predicted Genre:\", encoder.inverse_transform(predicted_index2))"
      ],
      "execution_count": 166,
      "outputs": [
        {
          "output_type": "stream",
          "text": [
            "/usr/local/lib/python3.7/dist-packages/librosa/core/audio.py:165: UserWarning: PySoundFile failed. Trying audioread instead.\n",
            "  warnings.warn(\"PySoundFile failed. Trying audioread instead.\")\n"
          ],
          "name": "stderr"
        },
        {
          "output_type": "stream",
          "text": [
            "[8]\n",
            "Predicted Genre: ['reggae']\n"
          ],
          "name": "stdout"
        },
        {
          "output_type": "stream",
          "text": [
            "/usr/local/lib/python3.7/dist-packages/librosa/filters.py:239: UserWarning: Empty filters detected in mel frequency basis. Some channels will produce empty responses. Try increasing your sampling rate (and fmax) or reducing n_mels.\n",
            "  \"Empty filters detected in mel frequency basis. \"\n"
          ],
          "name": "stderr"
        }
      ]
    },
    {
      "cell_type": "code",
      "metadata": {
        "colab": {
          "base_uri": "https://localhost:8080/"
        },
        "id": "o1M_PI2UkOyU",
        "outputId": "584ad689-11ed-49f4-8763-2498a8ab2320"
      },
      "source": [
        "song_path2 = os.getcwd() + '/drive/MyDrive/Sub_Data/happyrock.mp3'\n",
        "new_input2 = process_input(song_path, 30)\n",
        "X_to_predict2 = new_input2[np.newaxis, ..., np.newaxis]\n",
        "X_to_predict2.shape\n",
        "\n",
        "prediction2 = model.predict(X_to_predict2)\n",
        "\n",
        "# get index with max value\n",
        "predicted_index2 = np.argmax(prediction2, axis=1)\n",
        "\n",
        "print(predicted_index2)\n",
        "print(\"Predicted Genre:\", encoder.inverse_transform(predicted_index2))"
      ],
      "execution_count": 168,
      "outputs": [
        {
          "output_type": "stream",
          "text": [
            "/usr/local/lib/python3.7/dist-packages/librosa/core/audio.py:165: UserWarning: PySoundFile failed. Trying audioread instead.\n",
            "  warnings.warn(\"PySoundFile failed. Trying audioread instead.\")\n"
          ],
          "name": "stderr"
        },
        {
          "output_type": "stream",
          "text": [
            "[8]\n",
            "Predicted Genre: ['reggae']\n"
          ],
          "name": "stdout"
        },
        {
          "output_type": "stream",
          "text": [
            "/usr/local/lib/python3.7/dist-packages/librosa/filters.py:239: UserWarning: Empty filters detected in mel frequency basis. Some channels will produce empty responses. Try increasing your sampling rate (and fmax) or reducing n_mels.\n",
            "  \"Empty filters detected in mel frequency basis. \"\n"
          ],
          "name": "stderr"
        }
      ]
    },
    {
      "cell_type": "code",
      "metadata": {
        "id": "DjNDmd2Okn4G"
      },
      "source": [
        ""
      ],
      "execution_count": null,
      "outputs": []
    }
  ]
}