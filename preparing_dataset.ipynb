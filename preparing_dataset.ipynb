{
  "nbformat": 4,
  "nbformat_minor": 0,
  "metadata": {
    "colab": {
      "name": "preparing_dataset.ipynb",
      "provenance": [],
      "authorship_tag": "ABX9TyPPNXc+3wY8bNzRwR/Za9n/",
      "include_colab_link": true
    },
    "kernelspec": {
      "name": "python3",
      "display_name": "Python 3"
    },
    "language_info": {
      "name": "python"
    }
  },
  "cells": [
    {
      "cell_type": "markdown",
      "metadata": {
        "id": "view-in-github",
        "colab_type": "text"
      },
      "source": [
        "<a href=\"https://colab.research.google.com/github/gyanasluitel/Music_Genre_Classification/blob/main/preparing_dataset.ipynb\" target=\"_parent\"><img src=\"https://colab.research.google.com/assets/colab-badge.svg\" alt=\"Open In Colab\"/></a>"
      ]
    },
    {
      "cell_type": "code",
      "metadata": {
        "id": "W2TFxmlW-4u9"
      },
      "source": [
        "import os\n",
        "import pandas as pd\n",
        "import numpy as npm"
      ],
      "execution_count": 41,
      "outputs": []
    },
    {
      "cell_type": "code",
      "metadata": {
        "id": "bIqeOFE2-_Kv"
      },
      "source": [
        "import librosa"
      ],
      "execution_count": null,
      "outputs": []
    },
    {
      "cell_type": "code",
      "metadata": {
        "id": "Y2Z2J215_B40"
      },
      "source": [
        "import math\n",
        "import glob"
      ],
      "execution_count": null,
      "outputs": []
    },
    {
      "cell_type": "code",
      "metadata": {
        "id": "qiUtWj3sDhPq"
      },
      "source": [
        "!pip install -q kaggle"
      ],
      "execution_count": null,
      "outputs": []
    },
    {
      "cell_type": "code",
      "metadata": {
        "id": "bazkt7CuDx3z"
      },
      "source": [
        "#Upload kaggle.json file before running this cell\n",
        "! mkdir ~/.kaggle\n",
        "! cp kaggle.json ~/.kaggle/\n",
        "! chmod 600 ~/.kaggle/kaggle.json"
      ],
      "execution_count": null,
      "outputs": []
    },
    {
      "cell_type": "code",
      "metadata": {
        "colab": {
          "base_uri": "https://localhost:8080/"
        },
        "id": "-4YXgORWEBYK",
        "outputId": "30a1fd4e-4a2f-499b-a2ea-3058fc77ea5b"
      },
      "source": [
        "!kaggle datasets download -d andradaolteanu/gtzan-dataset-music-genre-classification"
      ],
      "execution_count": null,
      "outputs": [
        {
          "output_type": "stream",
          "text": [
            "Downloading gtzan-dataset-music-genre-classification.zip to /content\n",
            " 99% 1.21G/1.21G [00:21<00:00, 63.1MB/s]\n",
            "100% 1.21G/1.21G [00:21<00:00, 61.3MB/s]\n"
          ],
          "name": "stdout"
        }
      ]
    },
    {
      "cell_type": "code",
      "metadata": {
        "id": "DMjMP6nBEaF9"
      },
      "source": [
        "!unzip gtzan-dataset-music-genre-classification.zip"
      ],
      "execution_count": null,
      "outputs": []
    },
    {
      "cell_type": "code",
      "metadata": {
        "colab": {
          "base_uri": "https://localhost:8080/"
        },
        "id": "FQVgWgqx_EWu",
        "outputId": "2e8a88dc-884b-4026-b153-019d5eea9632"
      },
      "source": [
        "from google.colab import drive\n",
        "drive.mount('/content/drive')\n"
      ],
      "execution_count": null,
      "outputs": [
        {
          "output_type": "stream",
          "text": [
            "Mounted at /content/drive\n"
          ],
          "name": "stdout"
        }
      ]
    },
    {
      "cell_type": "code",
      "metadata": {
        "colab": {
          "base_uri": "https://localhost:8080/",
          "height": 35
        },
        "id": "8CqHUcm0_HRI",
        "outputId": "94054010-8306-4184-f06a-24e26c651f7e"
      },
      "source": [
        "path = '/content/drive/My Drive/Sub_Data'\n",
        "path"
      ],
      "execution_count": null,
      "outputs": [
        {
          "output_type": "execute_result",
          "data": {
            "application/vnd.google.colaboratory.intrinsic+json": {
              "type": "string"
            },
            "text/plain": [
              "'/content/drive/My Drive/Sub_Data'"
            ]
          },
          "metadata": {
            "tags": []
          },
          "execution_count": 5
        }
      ]
    },
    {
      "cell_type": "code",
      "metadata": {
        "colab": {
          "base_uri": "https://localhost:8080/"
        },
        "id": "PgVVn-OV_Puz",
        "outputId": "20fb1376-47ef-456d-e86e-1db00c5f8f8e"
      },
      "source": [
        "os.listdir(path)"
      ],
      "execution_count": null,
      "outputs": [
        {
          "output_type": "execute_result",
          "data": {
            "text/plain": [
              "['images_original', 'genres_original']"
            ]
          },
          "metadata": {
            "tags": []
          },
          "execution_count": 6
        }
      ]
    },
    {
      "cell_type": "code",
      "metadata": {
        "colab": {
          "base_uri": "https://localhost:8080/",
          "height": 35
        },
        "id": "EAuKOniS_Ree",
        "outputId": "f209895e-3419-4cfa-de9c-6d95c6502a2d"
      },
      "source": [
        "path = os.getcwd()\n",
        "DATASET_PATH = os.path.join(path, 'Data/genres_original')\n",
        "DATASET_PATH"
      ],
      "execution_count": null,
      "outputs": [
        {
          "output_type": "execute_result",
          "data": {
            "application/vnd.google.colaboratory.intrinsic+json": {
              "type": "string"
            },
            "text/plain": [
              "'/content/Data/genres_original'"
            ]
          },
          "metadata": {
            "tags": []
          },
          "execution_count": 33
        }
      ]
    },
    {
      "cell_type": "code",
      "metadata": {
        "id": "Xe9VnK_D_S2H"
      },
      "source": [
        "def prepare_dataset(datapath,n_mfcc=13, n_fft=248,hop_length=512, num_segments=5):\n",
        "    \"\"\"\n",
        "    extracting mfcc features from audio \n",
        "    \"\"\"\n",
        "    SAMPLE_RATE = 22050\n",
        "    DURATION = 30\n",
        "    SAMPLES_PER_TRACK = SAMPLE_RATE * DURATION\n",
        "\n",
        "    #preparing header for dataframe columns\n",
        "    header = ''\n",
        "    for i in range(1, 14):\n",
        "        header += f' mfcc{i}'\n",
        "    header = header.split()\n",
        "    header\n",
        "    \n",
        "    final_dataframe = pd.DataFrame()\n",
        "    num_samples_per_segment =int(SAMPLES_PER_TRACK  / num_segments)\n",
        "    expected_num_mfcc_vectors_per_segment = math.ceil(num_samples_per_segment / hop_length)\n",
        "    \n",
        "    for dirpath, dirnames, filenames in os.walk(DATASET_PATH):\n",
        "          dirnames.sort()\n",
        "          if dirpath is not DATASET_PATH:\n",
        "            dirpath_components = dirpath.split('/')\n",
        "            semantic_label = dirpath_components[-1]\n",
        "            # print(f\"Dirpath Components: {dirpath_components}\")\n",
        "            # print(f'Semantic Label: {semantic_label}')\n",
        "            print(f\"\\nProcessing: {semantic_label}\")\n",
        "\n",
        "            single_file_dataframe = pd.DataFrame()\n",
        "            #processing files of a specific genre\n",
        "            for file in filenames:\n",
        "                  file_path = os.path.join(dirpath,file)\n",
        "                  # print(f\"File Path: {file_path}\")\n",
        "                  label = file_path.split('/')[-2]\n",
        "                  # print(f\"Label: {label}\")\n",
        "\n",
        "                  try:\n",
        "                    signal, sr = librosa.load(file_path, sr = SAMPLE_RATE)\n",
        "\n",
        "                  #process segments extracting mfcc and storing data\n",
        "                    for s in range(num_segments):\n",
        "                      start_sample = num_samples_per_segment * s\n",
        "                      finish_sample = start_sample + num_samples_per_segment\n",
        "\n",
        "                      mfcc = librosa.feature.mfcc(signal[start_sample:finish_sample],\n",
        "                                                  sr = sr,\n",
        "                                                  n_mfcc = n_mfcc,\n",
        "                                                  n_fft = n_fft,\n",
        "                                                  hop_length = hop_length)\n",
        "                      mfcc = mfcc.T\n",
        "\n",
        "                      #store mfcc for segment if it has the expected length\n",
        "                      if len(mfcc) == expected_num_mfcc_vectors_per_segment:\n",
        "                          segment_dataframe = pd.DataFrame(data = mfcc,\n",
        "                                      columns =header, \n",
        "                                      index = range(len(mfcc)))\n",
        "                          segment_dataframe['Labels'] = [label] * mfcc.shape[0]\n",
        "                          \n",
        "                          #concatenating dataframe of segement into the single file dataframe\n",
        "                          single_file_dataframe = pd.concat([single_file_dataframe, segment_dataframe],\n",
        "                                                      axis=0,\n",
        "                                                      sort=False,\n",
        "                                                      ignore_index = True)\n",
        "                  except Exception as e:\n",
        "                    print(f\"Error Message: {e}\")\n",
        "                  # break\n",
        "            final_dataframe  = pd.concat([final_dataframe, single_file_dataframe],\n",
        "                              axis=0,\n",
        "                              sort=False,\n",
        "                              ignore_index = True)  \n",
        "    return final_dataframe\n",
        "\n",
        "\n"
      ],
      "execution_count": 57,
      "outputs": []
    },
    {
      "cell_type": "code",
      "metadata": {
        "colab": {
          "base_uri": "https://localhost:8080/"
        },
        "id": "h_8UPbQ8_XaB",
        "outputId": "e112dc1a-efe2-4d3e-de2d-6a7a555c008e"
      },
      "source": [
        "df = prepare_dataset(DATASET_PATH)"
      ],
      "execution_count": 58,
      "outputs": [
        {
          "output_type": "stream",
          "text": [
            "\n",
            "Processing: blues\n"
          ],
          "name": "stdout"
        },
        {
          "output_type": "stream",
          "text": [
            "/usr/local/lib/python3.7/dist-packages/librosa/filters.py:239: UserWarning: Empty filters detected in mel frequency basis. Some channels will produce empty responses. Try increasing your sampling rate (and fmax) or reducing n_mels.\n",
            "  \"Empty filters detected in mel frequency basis. \"\n"
          ],
          "name": "stderr"
        },
        {
          "output_type": "stream",
          "text": [
            "\n",
            "Processing: classical\n",
            "\n",
            "Processing: country\n",
            "\n",
            "Processing: disco\n",
            "\n",
            "Processing: hiphop\n",
            "\n",
            "Processing: jazz\n"
          ],
          "name": "stdout"
        },
        {
          "output_type": "stream",
          "text": [
            "/usr/local/lib/python3.7/dist-packages/librosa/core/audio.py:162: UserWarning: PySoundFile failed. Trying audioread instead.\n",
            "  warnings.warn(\"PySoundFile failed. Trying audioread instead.\")\n"
          ],
          "name": "stderr"
        },
        {
          "output_type": "stream",
          "text": [
            "Error Message: \n"
          ],
          "name": "stdout"
        },
        {
          "output_type": "stream",
          "text": [
            "/usr/local/lib/python3.7/dist-packages/librosa/filters.py:239: UserWarning: Empty filters detected in mel frequency basis. Some channels will produce empty responses. Try increasing your sampling rate (and fmax) or reducing n_mels.\n",
            "  \"Empty filters detected in mel frequency basis. \"\n"
          ],
          "name": "stderr"
        },
        {
          "output_type": "stream",
          "text": [
            "\n",
            "Processing: metal\n",
            "\n",
            "Processing: pop\n",
            "\n",
            "Processing: reggae\n",
            "\n",
            "Processing: rock\n"
          ],
          "name": "stdout"
        }
      ]
    },
    {
      "cell_type": "code",
      "metadata": {
        "colab": {
          "base_uri": "https://localhost:8080/"
        },
        "id": "dfIDuDva_b4V",
        "outputId": "d7f85fbc-367a-440a-b6e2-506eed6fe284"
      },
      "source": [
        "df['Labels'].unique()"
      ],
      "execution_count": 59,
      "outputs": [
        {
          "output_type": "execute_result",
          "data": {
            "text/plain": [
              "array(['blues', 'classical', 'country', 'disco', 'hiphop', 'jazz',\n",
              "       'metal', 'pop', 'reggae', 'rock'], dtype=object)"
            ]
          },
          "metadata": {
            "tags": []
          },
          "execution_count": 59
        }
      ]
    },
    {
      "cell_type": "code",
      "metadata": {
        "colab": {
          "base_uri": "https://localhost:8080/",
          "height": 212
        },
        "id": "wUykFvcy_ouZ",
        "outputId": "6947634f-7acd-4aac-fc2f-d9e047d89ac5"
      },
      "source": [
        "print(f\"Df shape: {df.shape}\")\n",
        "df.head()\n",
        "# df"
      ],
      "execution_count": 60,
      "outputs": [
        {
          "output_type": "stream",
          "text": [
            "Df shape: (1293187, 14)\n"
          ],
          "name": "stdout"
        },
        {
          "output_type": "execute_result",
          "data": {
            "text/html": [
              "<div>\n",
              "<style scoped>\n",
              "    .dataframe tbody tr th:only-of-type {\n",
              "        vertical-align: middle;\n",
              "    }\n",
              "\n",
              "    .dataframe tbody tr th {\n",
              "        vertical-align: top;\n",
              "    }\n",
              "\n",
              "    .dataframe thead th {\n",
              "        text-align: right;\n",
              "    }\n",
              "</style>\n",
              "<table border=\"1\" class=\"dataframe\">\n",
              "  <thead>\n",
              "    <tr style=\"text-align: right;\">\n",
              "      <th></th>\n",
              "      <th>mfcc1</th>\n",
              "      <th>mfcc2</th>\n",
              "      <th>mfcc3</th>\n",
              "      <th>mfcc4</th>\n",
              "      <th>mfcc5</th>\n",
              "      <th>mfcc6</th>\n",
              "      <th>mfcc7</th>\n",
              "      <th>mfcc8</th>\n",
              "      <th>mfcc9</th>\n",
              "      <th>mfcc10</th>\n",
              "      <th>mfcc11</th>\n",
              "      <th>mfcc12</th>\n",
              "      <th>mfcc13</th>\n",
              "      <th>Labels</th>\n",
              "    </tr>\n",
              "  </thead>\n",
              "  <tbody>\n",
              "    <tr>\n",
              "      <th>0</th>\n",
              "      <td>-433.884308</td>\n",
              "      <td>15.913300</td>\n",
              "      <td>-25.085659</td>\n",
              "      <td>20.029894</td>\n",
              "      <td>34.291142</td>\n",
              "      <td>-12.760870</td>\n",
              "      <td>-19.364769</td>\n",
              "      <td>-24.480751</td>\n",
              "      <td>-4.493195</td>\n",
              "      <td>-4.777666</td>\n",
              "      <td>-10.788865</td>\n",
              "      <td>-3.239865</td>\n",
              "      <td>-11.257139</td>\n",
              "      <td>blues</td>\n",
              "    </tr>\n",
              "    <tr>\n",
              "      <th>1</th>\n",
              "      <td>-547.664917</td>\n",
              "      <td>94.959518</td>\n",
              "      <td>-70.481400</td>\n",
              "      <td>14.092028</td>\n",
              "      <td>35.109077</td>\n",
              "      <td>11.970919</td>\n",
              "      <td>-12.464500</td>\n",
              "      <td>0.716512</td>\n",
              "      <td>-34.472649</td>\n",
              "      <td>-3.625931</td>\n",
              "      <td>15.496975</td>\n",
              "      <td>-17.343588</td>\n",
              "      <td>-15.245530</td>\n",
              "      <td>blues</td>\n",
              "    </tr>\n",
              "    <tr>\n",
              "      <th>2</th>\n",
              "      <td>-548.248291</td>\n",
              "      <td>87.378922</td>\n",
              "      <td>-38.207825</td>\n",
              "      <td>13.292370</td>\n",
              "      <td>24.732548</td>\n",
              "      <td>23.172117</td>\n",
              "      <td>-6.250585</td>\n",
              "      <td>-4.227919</td>\n",
              "      <td>-48.555984</td>\n",
              "      <td>9.987759</td>\n",
              "      <td>6.117764</td>\n",
              "      <td>-18.813776</td>\n",
              "      <td>-29.227020</td>\n",
              "      <td>blues</td>\n",
              "    </tr>\n",
              "    <tr>\n",
              "      <th>3</th>\n",
              "      <td>-535.345093</td>\n",
              "      <td>97.110458</td>\n",
              "      <td>-65.098969</td>\n",
              "      <td>1.792318</td>\n",
              "      <td>31.079037</td>\n",
              "      <td>23.876558</td>\n",
              "      <td>-12.207192</td>\n",
              "      <td>-17.244558</td>\n",
              "      <td>-41.387501</td>\n",
              "      <td>19.903538</td>\n",
              "      <td>16.261974</td>\n",
              "      <td>-24.469753</td>\n",
              "      <td>-25.385651</td>\n",
              "      <td>blues</td>\n",
              "    </tr>\n",
              "    <tr>\n",
              "      <th>4</th>\n",
              "      <td>-506.649414</td>\n",
              "      <td>81.980164</td>\n",
              "      <td>-98.566498</td>\n",
              "      <td>-2.019200</td>\n",
              "      <td>49.388485</td>\n",
              "      <td>18.573458</td>\n",
              "      <td>-37.221394</td>\n",
              "      <td>-5.270992</td>\n",
              "      <td>-27.270142</td>\n",
              "      <td>21.190189</td>\n",
              "      <td>15.351100</td>\n",
              "      <td>-10.902548</td>\n",
              "      <td>-24.929514</td>\n",
              "      <td>blues</td>\n",
              "    </tr>\n",
              "  </tbody>\n",
              "</table>\n",
              "</div>"
            ],
            "text/plain": [
              "        mfcc1      mfcc2      mfcc3  ...     mfcc12     mfcc13  Labels\n",
              "0 -433.884308  15.913300 -25.085659  ...  -3.239865 -11.257139   blues\n",
              "1 -547.664917  94.959518 -70.481400  ... -17.343588 -15.245530   blues\n",
              "2 -548.248291  87.378922 -38.207825  ... -18.813776 -29.227020   blues\n",
              "3 -535.345093  97.110458 -65.098969  ... -24.469753 -25.385651   blues\n",
              "4 -506.649414  81.980164 -98.566498  ... -10.902548 -24.929514   blues\n",
              "\n",
              "[5 rows x 14 columns]"
            ]
          },
          "metadata": {
            "tags": []
          },
          "execution_count": 60
        }
      ]
    },
    {
      "cell_type": "code",
      "metadata": {
        "id": "FaC485OTBFko"
      },
      "source": [
        ""
      ],
      "execution_count": null,
      "outputs": []
    }
  ]
}