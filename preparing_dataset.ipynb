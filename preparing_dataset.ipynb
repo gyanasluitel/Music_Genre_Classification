{
  "nbformat": 4,
  "nbformat_minor": 0,
  "metadata": {
    "colab": {
      "name": "preparing_dataset.ipynb",
      "provenance": [],
      "authorship_tag": "ABX9TyNyLMw6RXAjThH0q0bSuDXH",
      "include_colab_link": true
    },
    "kernelspec": {
      "name": "python3",
      "display_name": "Python 3"
    },
    "language_info": {
      "name": "python"
    }
  },
  "cells": [
    {
      "cell_type": "markdown",
      "metadata": {
        "id": "view-in-github",
        "colab_type": "text"
      },
      "source": [
        "<a href=\"https://colab.research.google.com/github/gyanasluitel/Music_Genre_Classification/blob/main/preparing_dataset.ipynb\" target=\"_parent\"><img src=\"https://colab.research.google.com/assets/colab-badge.svg\" alt=\"Open In Colab\"/></a>"
      ]
    },
    {
      "cell_type": "code",
      "metadata": {
        "id": "W2TFxmlW-4u9"
      },
      "source": [
        "import os\n",
        "import pandas as pd\n",
        "import numpy as npm"
      ],
      "execution_count": 1,
      "outputs": []
    },
    {
      "cell_type": "code",
      "metadata": {
        "id": "bIqeOFE2-_Kv"
      },
      "source": [
        "import librosa"
      ],
      "execution_count": 2,
      "outputs": []
    },
    {
      "cell_type": "code",
      "metadata": {
        "id": "Y2Z2J215_B40"
      },
      "source": [
        "import math\n",
        "import glob"
      ],
      "execution_count": 3,
      "outputs": []
    },
    {
      "cell_type": "code",
      "metadata": {
        "colab": {
          "base_uri": "https://localhost:8080/"
        },
        "id": "FQVgWgqx_EWu",
        "outputId": "2e8a88dc-884b-4026-b153-019d5eea9632"
      },
      "source": [
        "from google.colab import drive\n",
        "drive.mount('/content/drive')\n"
      ],
      "execution_count": 4,
      "outputs": [
        {
          "output_type": "stream",
          "text": [
            "Mounted at /content/drive\n"
          ],
          "name": "stdout"
        }
      ]
    },
    {
      "cell_type": "code",
      "metadata": {
        "colab": {
          "base_uri": "https://localhost:8080/",
          "height": 35
        },
        "id": "8CqHUcm0_HRI",
        "outputId": "94054010-8306-4184-f06a-24e26c651f7e"
      },
      "source": [
        "path = '/content/drive/My Drive/Sub_Data'\n",
        "path"
      ],
      "execution_count": 5,
      "outputs": [
        {
          "output_type": "execute_result",
          "data": {
            "application/vnd.google.colaboratory.intrinsic+json": {
              "type": "string"
            },
            "text/plain": [
              "'/content/drive/My Drive/Sub_Data'"
            ]
          },
          "metadata": {
            "tags": []
          },
          "execution_count": 5
        }
      ]
    },
    {
      "cell_type": "code",
      "metadata": {
        "colab": {
          "base_uri": "https://localhost:8080/"
        },
        "id": "PgVVn-OV_Puz",
        "outputId": "20fb1376-47ef-456d-e86e-1db00c5f8f8e"
      },
      "source": [
        "os.listdir(path)"
      ],
      "execution_count": 6,
      "outputs": [
        {
          "output_type": "execute_result",
          "data": {
            "text/plain": [
              "['images_original', 'genres_original']"
            ]
          },
          "metadata": {
            "tags": []
          },
          "execution_count": 6
        }
      ]
    },
    {
      "cell_type": "code",
      "metadata": {
        "colab": {
          "base_uri": "https://localhost:8080/",
          "height": 35
        },
        "id": "EAuKOniS_Ree",
        "outputId": "33749f20-b3bd-4ec7-9937-af7e0262fa5a"
      },
      "source": [
        "DATASET_PATH = os.path.join(path, 'genres_original')\n",
        "DATASET_PATH"
      ],
      "execution_count": 7,
      "outputs": [
        {
          "output_type": "execute_result",
          "data": {
            "application/vnd.google.colaboratory.intrinsic+json": {
              "type": "string"
            },
            "text/plain": [
              "'/content/drive/My Drive/Sub_Data/genres_original'"
            ]
          },
          "metadata": {
            "tags": []
          },
          "execution_count": 7
        }
      ]
    },
    {
      "cell_type": "code",
      "metadata": {
        "id": "Xe9VnK_D_S2H"
      },
      "source": [
        "def prepare_dataset(datapath,n_mfcc=13, n_fft=248,hop_length=512, num_segments=5):\n",
        "    \"\"\"\n",
        "    extracting mfcc features from audio \n",
        "    \"\"\"\n",
        "    SAMPLE_RATE = 22050\n",
        "    DURATION = 30\n",
        "    SAMPLES_PER_TRACK = SAMPLE_RATE * DURATION\n",
        "\n",
        "    #preparing header for dataframe columns\n",
        "    header = ''\n",
        "    for i in range(1, 14):\n",
        "        header += f' mfcc{i}'\n",
        "    header = header.split()\n",
        "    header\n",
        "    \n",
        "    final_dataframe = pd.DataFrame()\n",
        "    num_samples_per_segment =int(SAMPLES_PER_TRACK  / num_segments)\n",
        "    expected_num_mfcc_vectors_per_segment = math.ceil(num_samples_per_segment / hop_length)\n",
        "    \n",
        "    for dirpath, dirnames, filenames in os.walk(DATASET_PATH):\n",
        "          if dirpath is not DATASET_PATH:\n",
        "            dirpath_components = dirpath.split('/')\n",
        "            semantic_label = dirpath_components[-1]\n",
        "            # print(f\"Dirpath Components: {dirpath_components}\")\n",
        "            # print(f'Semantic Label: {semantic_label}')\n",
        "            print(f\"\\nProcessing: {semantic_label}\")\n",
        "\n",
        "            single_file_dataframe = pd.DataFrame()\n",
        "            #processing files of a specific genre\n",
        "            for file in filenames:\n",
        "                  file_path = os.path.join(dirpath,file)\n",
        "                  # print(f\"File Path: {file_path}\")\n",
        "                  label = file_path.split('/')[-2]\n",
        "                  # print(f\"Label: {label}\")\n",
        "\n",
        "\n",
        "                  signal, sr = librosa.load(file_path, sr = SAMPLE_RATE)\n",
        "                  #process segments extracting mfcc and storing data\n",
        "                  for s in range(num_segments):\n",
        "                    start_sample = num_samples_per_segment * s\n",
        "                    finish_sample = start_sample + num_samples_per_segment\n",
        "\n",
        "                    mfcc = librosa.feature.mfcc(signal[start_sample:finish_sample],\n",
        "                                                sr = sr,\n",
        "                                                n_mfcc = n_mfcc,\n",
        "                                                n_fft = n_fft,\n",
        "                                                hop_length = hop_length)\n",
        "                    mfcc = mfcc.T\n",
        "\n",
        "                    #store mfcc for segment if it has the expected length\n",
        "                    if len(mfcc) == expected_num_mfcc_vectors_per_segment:\n",
        "                        segment_dataframe = pd.DataFrame(data = mfcc,\n",
        "                                    columns =header, \n",
        "                                    index = range(len(mfcc)))\n",
        "                        segment_dataframe['Labels'] = [label] * mfcc.shape[0]\n",
        "                        \n",
        "                        #concatenating dataframe of segement into the single file dataframe\n",
        "                        single_file_dataframe = pd.concat([single_file_dataframe, segment_dataframe],\n",
        "                                                    axis=0,\n",
        "                                                    sort=False,\n",
        "                                                    ignore_index = True)\n",
        "\n",
        "            final_dataframe  = pd.concat([final_dataframe, single_file_dataframe],\n",
        "                              axis=0,\n",
        "                              sort=False,\n",
        "                              ignore_index = True)  \n",
        "    return final_dataframe\n",
        "\n",
        "\n"
      ],
      "execution_count": 23,
      "outputs": []
    },
    {
      "cell_type": "code",
      "metadata": {
        "colab": {
          "base_uri": "https://localhost:8080/"
        },
        "id": "h_8UPbQ8_XaB",
        "outputId": "b46bee15-48ed-4ee5-8d9b-eb2831e9db9a"
      },
      "source": [
        "df = prepare_dataset(DATASET_PATH)"
      ],
      "execution_count": 24,
      "outputs": [
        {
          "output_type": "stream",
          "text": [
            "\n",
            "Processing: metal\n",
            "\n",
            "Processing: rock\n",
            "\n",
            "Processing: hiphop\n"
          ],
          "name": "stdout"
        },
        {
          "output_type": "stream",
          "text": [
            "/usr/local/lib/python3.7/dist-packages/librosa/filters.py:239: UserWarning: Empty filters detected in mel frequency basis. Some channels will produce empty responses. Try increasing your sampling rate (and fmax) or reducing n_mels.\n",
            "  \"Empty filters detected in mel frequency basis. \"\n"
          ],
          "name": "stderr"
        },
        {
          "output_type": "stream",
          "text": [
            "\n",
            "Processing: pop\n",
            "\n",
            "Processing: jazz\n",
            "\n",
            "Processing: blues\n",
            "\n",
            "Processing: disco\n",
            "\n",
            "Processing: reggae\n",
            "\n",
            "Processing: classical\n",
            "\n",
            "Processing: country\n"
          ],
          "name": "stdout"
        }
      ]
    },
    {
      "cell_type": "code",
      "metadata": {
        "colab": {
          "base_uri": "https://localhost:8080/"
        },
        "id": "dfIDuDva_b4V",
        "outputId": "fae0829e-24e2-4ead-f354-8349c3ad75ee"
      },
      "source": [
        "df['Labels'].unique()"
      ],
      "execution_count": 25,
      "outputs": [
        {
          "output_type": "execute_result",
          "data": {
            "text/plain": [
              "array(['metal', 'rock', 'hiphop', 'pop', 'jazz', 'blues', 'disco',\n",
              "       'reggae', 'classical', 'country'], dtype=object)"
            ]
          },
          "metadata": {
            "tags": []
          },
          "execution_count": 25
        }
      ]
    },
    {
      "cell_type": "code",
      "metadata": {
        "colab": {
          "base_uri": "https://localhost:8080/",
          "height": 402
        },
        "id": "wUykFvcy_ouZ",
        "outputId": "066088f1-0923-43fb-abfa-09aac951ffa7"
      },
      "source": [
        "df"
      ],
      "execution_count": 26,
      "outputs": [
        {
          "output_type": "execute_result",
          "data": {
            "text/html": [
              "<div>\n",
              "<style scoped>\n",
              "    .dataframe tbody tr th:only-of-type {\n",
              "        vertical-align: middle;\n",
              "    }\n",
              "\n",
              "    .dataframe tbody tr th {\n",
              "        vertical-align: top;\n",
              "    }\n",
              "\n",
              "    .dataframe thead th {\n",
              "        text-align: right;\n",
              "    }\n",
              "</style>\n",
              "<table border=\"1\" class=\"dataframe\">\n",
              "  <thead>\n",
              "    <tr style=\"text-align: right;\">\n",
              "      <th></th>\n",
              "      <th>mfcc1</th>\n",
              "      <th>mfcc2</th>\n",
              "      <th>mfcc3</th>\n",
              "      <th>mfcc4</th>\n",
              "      <th>mfcc5</th>\n",
              "      <th>mfcc6</th>\n",
              "      <th>mfcc7</th>\n",
              "      <th>mfcc8</th>\n",
              "      <th>mfcc9</th>\n",
              "      <th>mfcc10</th>\n",
              "      <th>mfcc11</th>\n",
              "      <th>mfcc12</th>\n",
              "      <th>mfcc13</th>\n",
              "      <th>Labels</th>\n",
              "    </tr>\n",
              "  </thead>\n",
              "  <tbody>\n",
              "    <tr>\n",
              "      <th>0</th>\n",
              "      <td>-364.062531</td>\n",
              "      <td>-90.791420</td>\n",
              "      <td>-35.297005</td>\n",
              "      <td>48.698944</td>\n",
              "      <td>3.605005</td>\n",
              "      <td>-15.810954</td>\n",
              "      <td>3.845045</td>\n",
              "      <td>17.147272</td>\n",
              "      <td>8.175171</td>\n",
              "      <td>-14.733370</td>\n",
              "      <td>-7.346831</td>\n",
              "      <td>-1.280292</td>\n",
              "      <td>-4.485435</td>\n",
              "      <td>metal</td>\n",
              "    </tr>\n",
              "    <tr>\n",
              "      <th>1</th>\n",
              "      <td>-357.282715</td>\n",
              "      <td>-70.076050</td>\n",
              "      <td>-48.885040</td>\n",
              "      <td>32.132942</td>\n",
              "      <td>8.981075</td>\n",
              "      <td>-9.389668</td>\n",
              "      <td>-6.507328</td>\n",
              "      <td>-5.161431</td>\n",
              "      <td>-1.187411</td>\n",
              "      <td>0.277049</td>\n",
              "      <td>-5.940810</td>\n",
              "      <td>-11.849247</td>\n",
              "      <td>-10.966181</td>\n",
              "      <td>metal</td>\n",
              "    </tr>\n",
              "    <tr>\n",
              "      <th>2</th>\n",
              "      <td>-362.335938</td>\n",
              "      <td>-67.595856</td>\n",
              "      <td>-52.160065</td>\n",
              "      <td>55.153919</td>\n",
              "      <td>24.046984</td>\n",
              "      <td>-4.233691</td>\n",
              "      <td>-22.290623</td>\n",
              "      <td>1.690348</td>\n",
              "      <td>2.187696</td>\n",
              "      <td>5.058212</td>\n",
              "      <td>-14.868209</td>\n",
              "      <td>-19.218102</td>\n",
              "      <td>-12.790705</td>\n",
              "      <td>metal</td>\n",
              "    </tr>\n",
              "    <tr>\n",
              "      <th>3</th>\n",
              "      <td>-355.013306</td>\n",
              "      <td>-78.741760</td>\n",
              "      <td>-35.749840</td>\n",
              "      <td>59.118912</td>\n",
              "      <td>31.603359</td>\n",
              "      <td>-17.079290</td>\n",
              "      <td>-12.175348</td>\n",
              "      <td>-7.910367</td>\n",
              "      <td>-11.798893</td>\n",
              "      <td>-1.861861</td>\n",
              "      <td>-13.079284</td>\n",
              "      <td>-8.189814</td>\n",
              "      <td>-4.452888</td>\n",
              "      <td>metal</td>\n",
              "    </tr>\n",
              "    <tr>\n",
              "      <th>4</th>\n",
              "      <td>-345.670349</td>\n",
              "      <td>-66.501671</td>\n",
              "      <td>-46.605743</td>\n",
              "      <td>55.364136</td>\n",
              "      <td>26.576965</td>\n",
              "      <td>-18.905203</td>\n",
              "      <td>-15.367243</td>\n",
              "      <td>-12.026799</td>\n",
              "      <td>-10.002959</td>\n",
              "      <td>-10.082777</td>\n",
              "      <td>2.154212</td>\n",
              "      <td>-8.541779</td>\n",
              "      <td>-8.565044</td>\n",
              "      <td>metal</td>\n",
              "    </tr>\n",
              "    <tr>\n",
              "      <th>...</th>\n",
              "      <td>...</td>\n",
              "      <td>...</td>\n",
              "      <td>...</td>\n",
              "      <td>...</td>\n",
              "      <td>...</td>\n",
              "      <td>...</td>\n",
              "      <td>...</td>\n",
              "      <td>...</td>\n",
              "      <td>...</td>\n",
              "      <td>...</td>\n",
              "      <td>...</td>\n",
              "      <td>...</td>\n",
              "      <td>...</td>\n",
              "      <td>...</td>\n",
              "    </tr>\n",
              "    <tr>\n",
              "      <th>25895</th>\n",
              "      <td>-345.958771</td>\n",
              "      <td>-14.447283</td>\n",
              "      <td>-63.779541</td>\n",
              "      <td>55.966660</td>\n",
              "      <td>24.309952</td>\n",
              "      <td>16.151093</td>\n",
              "      <td>-18.468191</td>\n",
              "      <td>-19.775593</td>\n",
              "      <td>4.252324</td>\n",
              "      <td>7.497634</td>\n",
              "      <td>-9.175560</td>\n",
              "      <td>-14.709491</td>\n",
              "      <td>-2.870118</td>\n",
              "      <td>country</td>\n",
              "    </tr>\n",
              "    <tr>\n",
              "      <th>25896</th>\n",
              "      <td>-346.409424</td>\n",
              "      <td>0.373980</td>\n",
              "      <td>-62.504108</td>\n",
              "      <td>43.894501</td>\n",
              "      <td>16.758186</td>\n",
              "      <td>5.984900</td>\n",
              "      <td>-19.925812</td>\n",
              "      <td>-11.598152</td>\n",
              "      <td>15.054453</td>\n",
              "      <td>19.983093</td>\n",
              "      <td>-15.730133</td>\n",
              "      <td>-17.684364</td>\n",
              "      <td>-2.907649</td>\n",
              "      <td>country</td>\n",
              "    </tr>\n",
              "    <tr>\n",
              "      <th>25897</th>\n",
              "      <td>-321.539917</td>\n",
              "      <td>-11.080021</td>\n",
              "      <td>-51.809074</td>\n",
              "      <td>18.817968</td>\n",
              "      <td>29.352173</td>\n",
              "      <td>1.226519</td>\n",
              "      <td>-10.619257</td>\n",
              "      <td>-7.000164</td>\n",
              "      <td>-2.940631</td>\n",
              "      <td>15.152529</td>\n",
              "      <td>-11.508370</td>\n",
              "      <td>-15.230257</td>\n",
              "      <td>-9.451839</td>\n",
              "      <td>country</td>\n",
              "    </tr>\n",
              "    <tr>\n",
              "      <th>25898</th>\n",
              "      <td>-313.833099</td>\n",
              "      <td>-44.783813</td>\n",
              "      <td>-40.581181</td>\n",
              "      <td>37.503029</td>\n",
              "      <td>25.615997</td>\n",
              "      <td>-4.249417</td>\n",
              "      <td>-10.102406</td>\n",
              "      <td>-12.080114</td>\n",
              "      <td>-3.075260</td>\n",
              "      <td>16.356224</td>\n",
              "      <td>-11.625240</td>\n",
              "      <td>-7.636725</td>\n",
              "      <td>4.098425</td>\n",
              "      <td>country</td>\n",
              "    </tr>\n",
              "    <tr>\n",
              "      <th>25899</th>\n",
              "      <td>-324.189880</td>\n",
              "      <td>-49.471779</td>\n",
              "      <td>-46.097343</td>\n",
              "      <td>39.876297</td>\n",
              "      <td>31.966900</td>\n",
              "      <td>-8.201414</td>\n",
              "      <td>-3.545423</td>\n",
              "      <td>3.952742</td>\n",
              "      <td>-4.195105</td>\n",
              "      <td>13.924820</td>\n",
              "      <td>-7.511232</td>\n",
              "      <td>2.920742</td>\n",
              "      <td>-11.683849</td>\n",
              "      <td>country</td>\n",
              "    </tr>\n",
              "  </tbody>\n",
              "</table>\n",
              "<p>25900 rows × 14 columns</p>\n",
              "</div>"
            ],
            "text/plain": [
              "            mfcc1      mfcc2      mfcc3  ...     mfcc12     mfcc13   Labels\n",
              "0     -364.062531 -90.791420 -35.297005  ...  -1.280292  -4.485435    metal\n",
              "1     -357.282715 -70.076050 -48.885040  ... -11.849247 -10.966181    metal\n",
              "2     -362.335938 -67.595856 -52.160065  ... -19.218102 -12.790705    metal\n",
              "3     -355.013306 -78.741760 -35.749840  ...  -8.189814  -4.452888    metal\n",
              "4     -345.670349 -66.501671 -46.605743  ...  -8.541779  -8.565044    metal\n",
              "...           ...        ...        ...  ...        ...        ...      ...\n",
              "25895 -345.958771 -14.447283 -63.779541  ... -14.709491  -2.870118  country\n",
              "25896 -346.409424   0.373980 -62.504108  ... -17.684364  -2.907649  country\n",
              "25897 -321.539917 -11.080021 -51.809074  ... -15.230257  -9.451839  country\n",
              "25898 -313.833099 -44.783813 -40.581181  ...  -7.636725   4.098425  country\n",
              "25899 -324.189880 -49.471779 -46.097343  ...   2.920742 -11.683849  country\n",
              "\n",
              "[25900 rows x 14 columns]"
            ]
          },
          "metadata": {
            "tags": []
          },
          "execution_count": 26
        }
      ]
    },
    {
      "cell_type": "code",
      "metadata": {
        "id": "FaC485OTBFko"
      },
      "source": [
        ""
      ],
      "execution_count": null,
      "outputs": []
    }
  ]
}