{
  "nbformat": 4,
  "nbformat_minor": 0,
  "metadata": {
    "colab": {
      "name": "CNN_final_implementation.ipynb",
      "provenance": [],
      "collapsed_sections": [],
      "include_colab_link": true
    },
    "kernelspec": {
      "name": "python3",
      "display_name": "Python 3"
    },
    "language_info": {
      "name": "python"
    }
  },
  "cells": [
    {
      "cell_type": "markdown",
      "metadata": {
        "id": "view-in-github",
        "colab_type": "text"
      },
      "source": [
        "<a href=\"https://colab.research.google.com/github/gyanasluitel/Music_Genre_Classification/blob/main/notebooks/CNN_final_implementation.ipynb\" target=\"_parent\"><img src=\"https://colab.research.google.com/assets/colab-badge.svg\" alt=\"Open In Colab\"/></a>"
      ]
    },
    {
      "cell_type": "code",
      "metadata": {
        "id": "Wlk0NraorcxO"
      },
      "source": [
        "import pandas as pd\n",
        "import numpy as np\n",
        "import os\n",
        "from sklearn.model_selection import train_test_split"
      ],
      "execution_count": 1,
      "outputs": []
    },
    {
      "cell_type": "code",
      "metadata": {
        "id": "-VY1b89VJfah"
      },
      "source": [
        "from sklearn.metrics import classification_report, confusion_matrix"
      ],
      "execution_count": 27,
      "outputs": []
    },
    {
      "cell_type": "code",
      "metadata": {
        "id": "e03VN3-iQTQg"
      },
      "source": [
        "import math"
      ],
      "execution_count": 3,
      "outputs": []
    },
    {
      "cell_type": "code",
      "metadata": {
        "id": "NS5SNikxQYZE"
      },
      "source": [
        "import librosa"
      ],
      "execution_count": 4,
      "outputs": []
    },
    {
      "cell_type": "code",
      "metadata": {
        "colab": {
          "base_uri": "https://localhost:8080/"
        },
        "id": "BelCQA1or0ZN",
        "outputId": "a54bad9e-ea04-4f42-fd39-076bc5d3bd53"
      },
      "source": [
        "from google.colab import drive\n",
        "drive.mount('/content/drive')"
      ],
      "execution_count": 5,
      "outputs": [
        {
          "output_type": "stream",
          "text": [
            "Mounted at /content/drive\n"
          ],
          "name": "stdout"
        }
      ]
    },
    {
      "cell_type": "code",
      "metadata": {
        "id": "B9z-5K7Rr6vh"
      },
      "source": [
        "import pickle"
      ],
      "execution_count": 6,
      "outputs": []
    },
    {
      "cell_type": "code",
      "metadata": {
        "id": "R6d3rEIeGDjY"
      },
      "source": [
        "import keras"
      ],
      "execution_count": 7,
      "outputs": []
    },
    {
      "cell_type": "code",
      "metadata": {
        "id": "-YZPWhxP5Jwp"
      },
      "source": [
        "from keras import layers, Sequential\n",
        "from sklearn.preprocessing import LabelEncoder, StandardScaler"
      ],
      "execution_count": 8,
      "outputs": []
    },
    {
      "cell_type": "code",
      "metadata": {
        "id": "sGSaZniDKrVy"
      },
      "source": [
        "import matplotlib.pyplot as plt\n",
        "%matplotlib inline"
      ],
      "execution_count": 9,
      "outputs": []
    },
    {
      "cell_type": "code",
      "metadata": {
        "id": "2_wuKpeFsB4f"
      },
      "source": [
        "df_path= os.getcwd()+'/drive/MyDrive/Sub_Data/data.pickle'"
      ],
      "execution_count": 10,
      "outputs": []
    },
    {
      "cell_type": "code",
      "metadata": {
        "colab": {
          "base_uri": "https://localhost:8080/",
          "height": 444
        },
        "id": "RTyWizDSsDyX",
        "outputId": "f8e9bb7a-3faf-4c6a-a19a-ae8d9fa2c908"
      },
      "source": [
        "df = pd.read_pickle(df_path)\n",
        "df"
      ],
      "execution_count": 11,
      "outputs": [
        {
          "output_type": "execute_result",
          "data": {
            "text/html": [
              "<div>\n",
              "<style scoped>\n",
              "    .dataframe tbody tr th:only-of-type {\n",
              "        vertical-align: middle;\n",
              "    }\n",
              "\n",
              "    .dataframe tbody tr th {\n",
              "        vertical-align: top;\n",
              "    }\n",
              "\n",
              "    .dataframe thead th {\n",
              "        text-align: right;\n",
              "    }\n",
              "</style>\n",
              "<table border=\"1\" class=\"dataframe\">\n",
              "  <thead>\n",
              "    <tr style=\"text-align: right;\">\n",
              "      <th></th>\n",
              "      <th>mfcc_1</th>\n",
              "      <th>mfcc_2</th>\n",
              "      <th>mfcc_3</th>\n",
              "      <th>mfcc_4</th>\n",
              "      <th>mfcc_5</th>\n",
              "      <th>mfcc_6</th>\n",
              "      <th>mfcc_7</th>\n",
              "      <th>mfcc_8</th>\n",
              "      <th>mfcc_9</th>\n",
              "      <th>mfcc_10</th>\n",
              "      <th>mfcc_11</th>\n",
              "      <th>mfcc_12</th>\n",
              "      <th>mfcc_13</th>\n",
              "      <th>Labels</th>\n",
              "    </tr>\n",
              "  </thead>\n",
              "  <tbody>\n",
              "    <tr>\n",
              "      <th>0</th>\n",
              "      <td>-536.042786</td>\n",
              "      <td>32.067459</td>\n",
              "      <td>-49.450306</td>\n",
              "      <td>25.776079</td>\n",
              "      <td>-11.531991</td>\n",
              "      <td>-18.413410</td>\n",
              "      <td>-8.967739</td>\n",
              "      <td>-4.582458</td>\n",
              "      <td>-0.501133</td>\n",
              "      <td>6.618028</td>\n",
              "      <td>12.905916</td>\n",
              "      <td>6.469436</td>\n",
              "      <td>12.735432</td>\n",
              "      <td>reggae</td>\n",
              "    </tr>\n",
              "    <tr>\n",
              "      <th>1</th>\n",
              "      <td>-392.235077</td>\n",
              "      <td>28.644016</td>\n",
              "      <td>-73.791199</td>\n",
              "      <td>50.155655</td>\n",
              "      <td>1.933116</td>\n",
              "      <td>-14.058987</td>\n",
              "      <td>1.360568</td>\n",
              "      <td>-14.130725</td>\n",
              "      <td>-4.516984</td>\n",
              "      <td>-18.869156</td>\n",
              "      <td>12.337111</td>\n",
              "      <td>0.084416</td>\n",
              "      <td>-19.625988</td>\n",
              "      <td>reggae</td>\n",
              "    </tr>\n",
              "    <tr>\n",
              "      <th>2</th>\n",
              "      <td>-451.695129</td>\n",
              "      <td>17.615837</td>\n",
              "      <td>-53.177261</td>\n",
              "      <td>43.919796</td>\n",
              "      <td>28.546822</td>\n",
              "      <td>-8.240944</td>\n",
              "      <td>3.578257</td>\n",
              "      <td>-8.234414</td>\n",
              "      <td>-9.060442</td>\n",
              "      <td>-26.781670</td>\n",
              "      <td>-4.912760</td>\n",
              "      <td>1.545562</td>\n",
              "      <td>-2.422036</td>\n",
              "      <td>reggae</td>\n",
              "    </tr>\n",
              "    <tr>\n",
              "      <th>3</th>\n",
              "      <td>-477.528839</td>\n",
              "      <td>33.314350</td>\n",
              "      <td>-58.991947</td>\n",
              "      <td>36.357792</td>\n",
              "      <td>26.536734</td>\n",
              "      <td>-0.675872</td>\n",
              "      <td>1.368691</td>\n",
              "      <td>-16.134178</td>\n",
              "      <td>-0.317810</td>\n",
              "      <td>-8.654249</td>\n",
              "      <td>-9.246617</td>\n",
              "      <td>-24.636469</td>\n",
              "      <td>-10.302074</td>\n",
              "      <td>reggae</td>\n",
              "    </tr>\n",
              "    <tr>\n",
              "      <th>4</th>\n",
              "      <td>-504.078796</td>\n",
              "      <td>35.871197</td>\n",
              "      <td>-48.558861</td>\n",
              "      <td>50.370205</td>\n",
              "      <td>2.761873</td>\n",
              "      <td>-12.647474</td>\n",
              "      <td>7.050649</td>\n",
              "      <td>-2.322120</td>\n",
              "      <td>-6.039096</td>\n",
              "      <td>-31.120485</td>\n",
              "      <td>-4.710315</td>\n",
              "      <td>-3.640983</td>\n",
              "      <td>-0.203701</td>\n",
              "      <td>reggae</td>\n",
              "    </tr>\n",
              "    <tr>\n",
              "      <th>...</th>\n",
              "      <td>...</td>\n",
              "      <td>...</td>\n",
              "      <td>...</td>\n",
              "      <td>...</td>\n",
              "      <td>...</td>\n",
              "      <td>...</td>\n",
              "      <td>...</td>\n",
              "      <td>...</td>\n",
              "      <td>...</td>\n",
              "      <td>...</td>\n",
              "      <td>...</td>\n",
              "      <td>...</td>\n",
              "      <td>...</td>\n",
              "      <td>...</td>\n",
              "    </tr>\n",
              "    <tr>\n",
              "      <th>1298175</th>\n",
              "      <td>-455.102631</td>\n",
              "      <td>24.158625</td>\n",
              "      <td>-63.375328</td>\n",
              "      <td>65.074524</td>\n",
              "      <td>3.704499</td>\n",
              "      <td>40.963463</td>\n",
              "      <td>-21.325134</td>\n",
              "      <td>10.105320</td>\n",
              "      <td>-16.304668</td>\n",
              "      <td>-9.928100</td>\n",
              "      <td>-23.563305</td>\n",
              "      <td>4.619114</td>\n",
              "      <td>15.669947</td>\n",
              "      <td>blues</td>\n",
              "    </tr>\n",
              "    <tr>\n",
              "      <th>1298176</th>\n",
              "      <td>-447.722656</td>\n",
              "      <td>2.117634</td>\n",
              "      <td>-44.335674</td>\n",
              "      <td>58.148350</td>\n",
              "      <td>12.036886</td>\n",
              "      <td>21.317839</td>\n",
              "      <td>-22.656757</td>\n",
              "      <td>19.766155</td>\n",
              "      <td>-27.212273</td>\n",
              "      <td>-20.932671</td>\n",
              "      <td>-30.610203</td>\n",
              "      <td>16.540192</td>\n",
              "      <td>9.672492</td>\n",
              "      <td>blues</td>\n",
              "    </tr>\n",
              "    <tr>\n",
              "      <th>1298177</th>\n",
              "      <td>-449.050079</td>\n",
              "      <td>10.812412</td>\n",
              "      <td>-50.106941</td>\n",
              "      <td>54.213680</td>\n",
              "      <td>1.793259</td>\n",
              "      <td>21.684978</td>\n",
              "      <td>-25.272818</td>\n",
              "      <td>8.188376</td>\n",
              "      <td>-16.318310</td>\n",
              "      <td>9.493264</td>\n",
              "      <td>-36.492809</td>\n",
              "      <td>12.093601</td>\n",
              "      <td>3.433430</td>\n",
              "      <td>blues</td>\n",
              "    </tr>\n",
              "    <tr>\n",
              "      <th>1298178</th>\n",
              "      <td>-437.535187</td>\n",
              "      <td>12.875460</td>\n",
              "      <td>-50.128567</td>\n",
              "      <td>54.451469</td>\n",
              "      <td>7.296531</td>\n",
              "      <td>35.563461</td>\n",
              "      <td>-19.915752</td>\n",
              "      <td>4.126825</td>\n",
              "      <td>-17.346703</td>\n",
              "      <td>5.894392</td>\n",
              "      <td>-34.753819</td>\n",
              "      <td>12.200981</td>\n",
              "      <td>-2.462997</td>\n",
              "      <td>blues</td>\n",
              "    </tr>\n",
              "    <tr>\n",
              "      <th>1298179</th>\n",
              "      <td>-447.140839</td>\n",
              "      <td>16.377399</td>\n",
              "      <td>-48.402046</td>\n",
              "      <td>55.142967</td>\n",
              "      <td>-2.129559</td>\n",
              "      <td>32.123970</td>\n",
              "      <td>-22.165173</td>\n",
              "      <td>11.436558</td>\n",
              "      <td>-23.840561</td>\n",
              "      <td>-4.055938</td>\n",
              "      <td>-29.433973</td>\n",
              "      <td>18.781826</td>\n",
              "      <td>1.168216</td>\n",
              "      <td>blues</td>\n",
              "    </tr>\n",
              "  </tbody>\n",
              "</table>\n",
              "<p>1298180 rows × 14 columns</p>\n",
              "</div>"
            ],
            "text/plain": [
              "             mfcc_1     mfcc_2     mfcc_3  ...    mfcc_12    mfcc_13  Labels\n",
              "0       -536.042786  32.067459 -49.450306  ...   6.469436  12.735432  reggae\n",
              "1       -392.235077  28.644016 -73.791199  ...   0.084416 -19.625988  reggae\n",
              "2       -451.695129  17.615837 -53.177261  ...   1.545562  -2.422036  reggae\n",
              "3       -477.528839  33.314350 -58.991947  ... -24.636469 -10.302074  reggae\n",
              "4       -504.078796  35.871197 -48.558861  ...  -3.640983  -0.203701  reggae\n",
              "...             ...        ...        ...  ...        ...        ...     ...\n",
              "1298175 -455.102631  24.158625 -63.375328  ...   4.619114  15.669947   blues\n",
              "1298176 -447.722656   2.117634 -44.335674  ...  16.540192   9.672492   blues\n",
              "1298177 -449.050079  10.812412 -50.106941  ...  12.093601   3.433430   blues\n",
              "1298178 -437.535187  12.875460 -50.128567  ...  12.200981  -2.462997   blues\n",
              "1298179 -447.140839  16.377399 -48.402046  ...  18.781826   1.168216   blues\n",
              "\n",
              "[1298180 rows x 14 columns]"
            ]
          },
          "metadata": {
            "tags": []
          },
          "execution_count": 11
        }
      ]
    },
    {
      "cell_type": "code",
      "metadata": {
        "id": "E0IRM96psFt9"
      },
      "source": [
        "def process_df(df):\n",
        "    '''\n",
        "    Input: dataframe object\n",
        "    Output: returns a 3d nparray\n",
        "    '''\n",
        "    inputs = df.iloc[0*130:0+1*130,:-1] #getting the first 130 rows\n",
        "    inputs = np.expand_dims(inputs,0)   #expanding the shape of the array by inserting a new axis at the first position\n",
        "    targets= [df.iloc[0*130,-1]]\n",
        "    for i in range(1, int(df.shape[0]/130)): #repeating the above process for the entirety of the remaining dataset\n",
        "        dummy_x = df.iloc[i*130:(i+1)*130, :-1].values\n",
        "        dummy_x = np.expand_dims(dummy_x,0)\n",
        "        dummy_y = df.iloc[i*130,-1]\n",
        "        inputs = np.concatenate((inputs, dummy_x), axis=0)\n",
        "        targets.append(dummy_y)\n",
        "    return inputs, targets"
      ],
      "execution_count": 12,
      "outputs": []
    },
    {
      "cell_type": "code",
      "metadata": {
        "id": "FvR66PQN5vGN"
      },
      "source": [
        "def split_data(df, test_size, validation_size):\n",
        "    '''\n",
        "    Input: A dataframe\n",
        "    Ouput: return the train, test and validation set \n",
        "    '''\n",
        "    # inputs, targets = process_df(df)\n",
        "    # encoder = LabelEncoder()\n",
        "    # targets = encoder.fit_transform(targets) #encoded the categorical values in our target class \n",
        "\n",
        "    #Splitting data into train and test sets\n",
        "    inputs_train, inputs_test, targets_train, targets_test = train_test_split(inputs, targets, test_size = test_size)\n",
        "\n",
        "    #Splitting train data into train and validation sets\n",
        "    inputs_train, inputs_validation, targets_train, targets_validation = train_test_split(inputs_train, targets_train, test_size = validation_size)\n",
        "\n",
        "    #adding an axis to input sets\n",
        "    inputs_train = np.expand_dims(inputs_train,-1)\n",
        "    inputs_validation = np.expand_dims(inputs_validation,-1)\n",
        "    inputs_test = np.expand_dims(inputs_test,-1)\n",
        "\n",
        "    return inputs_train, inputs_validation, inputs_test, targets_train, targets_validation, targets_test\n"
      ],
      "execution_count": 13,
      "outputs": []
    },
    {
      "cell_type": "code",
      "metadata": {
        "id": "heEP0yxe_a-c"
      },
      "source": [
        "def build_model(input_shape):\n",
        "    '''Generates CNN model'''\n",
        "\n",
        "    #build network topology\n",
        "    model = keras.Sequential()\n",
        "\n",
        "    #1st convolutional layer\n",
        "    model.add(keras.layers.Conv2D(32,(3,3), activation = 'relu', input_shape = input_shape))\n",
        "    model.add(keras.layers.MaxPooling2D((3,3), strides = (2,2), padding='same'))\n",
        "    model.add(keras.layers.BatchNormalization())\n",
        "\n",
        "    #2st convolutional layer\n",
        "    model.add(keras.layers.Conv2D(32,(3,3), activation = 'relu'))\n",
        "    model.add(keras.layers.MaxPooling2D((3,3), strides = (2,2), padding='same'))\n",
        "    model.add(keras.layers.BatchNormalization())\n",
        "\n",
        "    #3rd convolutional layer\n",
        "    model.add(keras.layers.Conv2D(32,(2,2), activation ='relu'))\n",
        "    model.add(keras.layers.MaxPooling2D((2,2), strides = (2,2), padding='same'))\n",
        "    model.add(keras.layers.BatchNormalization())\n",
        "\n",
        "    #flatten output and feed it into dense layer\n",
        "    model.add(keras.layers.Flatten())\n",
        "    model.add(keras.layers.Dense(64, activation='relu'))\n",
        "    model.add(keras.layers.Dropout(0.3))\n",
        "\n",
        "    #output layer\n",
        "    model.add(keras.layers.Dense(10, activation='softmax'))\n",
        "\n",
        "    return model"
      ],
      "execution_count": 14,
      "outputs": []
    },
    {
      "cell_type": "code",
      "metadata": {
        "colab": {
          "base_uri": "https://localhost:8080/"
        },
        "id": "hohyKIzoB5HV",
        "outputId": "a9ed1f34-ce8d-4f2d-fd87-e4d5730a2dfc"
      },
      "source": [
        "if __name__ == '__main__':\n",
        "    inputs, targets = process_df(df)\n",
        "    encoder = LabelEncoder()\n",
        "    targets = encoder.fit_transform(targets) #encoded the categorical values in our target class \n",
        "\n",
        "    #get train, validation, test splits\n",
        "    X_train, X_validation, X_test, y_train, y_validation, y_test = split_data(df, 0.25,0.2)\n",
        "    print(f'Shape of X_train: {X_train.shape}')\n",
        "    print(f'Shape of X_train: {X_validation.shape}')\n",
        "    print(f'Shape of X_train: {X_test.shape}')\n",
        "\n",
        "    #create network \n",
        "    input_shape = (X_train.shape[1], X_train.shape[2],1)\n",
        "    model = build_model(input_shape)\n",
        "\n",
        "    #compile model\n",
        "    optimiser = keras.optimizers.Adam(learning_rate = 0.0001)\n",
        "    model.compile(optimizer = optimiser, \n",
        "                  loss='sparse_categorical_crossentropy',\n",
        "                  metrics = ['accuracy'])\n",
        "    model.summary()\n",
        "\n",
        "    #train modle\n",
        "    history = model.fit(X_train, y_train, validation_data=(X_validation,y_validation), batch_size=32,  epochs = 50)"
      ],
      "execution_count": 15,
      "outputs": [
        {
          "output_type": "stream",
          "text": [
            "Shape of X_train: (5991, 130, 13, 1)\n",
            "Shape of X_train: (1498, 130, 13, 1)\n",
            "Shape of X_train: (2497, 130, 13, 1)\n",
            "Model: \"sequential\"\n",
            "_________________________________________________________________\n",
            "Layer (type)                 Output Shape              Param #   \n",
            "=================================================================\n",
            "conv2d (Conv2D)              (None, 128, 11, 32)       320       \n",
            "_________________________________________________________________\n",
            "max_pooling2d (MaxPooling2D) (None, 64, 6, 32)         0         \n",
            "_________________________________________________________________\n",
            "batch_normalization (BatchNo (None, 64, 6, 32)         128       \n",
            "_________________________________________________________________\n",
            "conv2d_1 (Conv2D)            (None, 62, 4, 32)         9248      \n",
            "_________________________________________________________________\n",
            "max_pooling2d_1 (MaxPooling2 (None, 31, 2, 32)         0         \n",
            "_________________________________________________________________\n",
            "batch_normalization_1 (Batch (None, 31, 2, 32)         128       \n",
            "_________________________________________________________________\n",
            "conv2d_2 (Conv2D)            (None, 30, 1, 32)         4128      \n",
            "_________________________________________________________________\n",
            "max_pooling2d_2 (MaxPooling2 (None, 15, 1, 32)         0         \n",
            "_________________________________________________________________\n",
            "batch_normalization_2 (Batch (None, 15, 1, 32)         128       \n",
            "_________________________________________________________________\n",
            "flatten (Flatten)            (None, 480)               0         \n",
            "_________________________________________________________________\n",
            "dense (Dense)                (None, 64)                30784     \n",
            "_________________________________________________________________\n",
            "dropout (Dropout)            (None, 64)                0         \n",
            "_________________________________________________________________\n",
            "dense_1 (Dense)              (None, 10)                650       \n",
            "=================================================================\n",
            "Total params: 45,514\n",
            "Trainable params: 45,322\n",
            "Non-trainable params: 192\n",
            "_________________________________________________________________\n",
            "Epoch 1/50\n",
            "188/188 [==============================] - 32s 71ms/step - loss: 2.7071 - accuracy: 0.1573 - val_loss: 1.9215 - val_accuracy: 0.3391\n",
            "Epoch 2/50\n",
            "188/188 [==============================] - 13s 67ms/step - loss: 1.9839 - accuracy: 0.3276 - val_loss: 1.6533 - val_accuracy: 0.4179\n",
            "Epoch 3/50\n",
            "188/188 [==============================] - 13s 67ms/step - loss: 1.7415 - accuracy: 0.4039 - val_loss: 1.5181 - val_accuracy: 0.4773\n",
            "Epoch 4/50\n",
            "188/188 [==============================] - 13s 67ms/step - loss: 1.5914 - accuracy: 0.4450 - val_loss: 1.4394 - val_accuracy: 0.4887\n",
            "Epoch 5/50\n",
            "188/188 [==============================] - 13s 68ms/step - loss: 1.4608 - accuracy: 0.4956 - val_loss: 1.3607 - val_accuracy: 0.5187\n",
            "Epoch 6/50\n",
            "188/188 [==============================] - 13s 68ms/step - loss: 1.3843 - accuracy: 0.5116 - val_loss: 1.3095 - val_accuracy: 0.5381\n",
            "Epoch 7/50\n",
            "188/188 [==============================] - 12s 66ms/step - loss: 1.2990 - accuracy: 0.5435 - val_loss: 1.2626 - val_accuracy: 0.5554\n",
            "Epoch 8/50\n",
            "188/188 [==============================] - 12s 66ms/step - loss: 1.2604 - accuracy: 0.5514 - val_loss: 1.2171 - val_accuracy: 0.5688\n",
            "Epoch 9/50\n",
            "188/188 [==============================] - 12s 66ms/step - loss: 1.2095 - accuracy: 0.5853 - val_loss: 1.2058 - val_accuracy: 0.5754\n",
            "Epoch 10/50\n",
            "188/188 [==============================] - 12s 66ms/step - loss: 1.1888 - accuracy: 0.5804 - val_loss: 1.1769 - val_accuracy: 0.5888\n",
            "Epoch 11/50\n",
            "188/188 [==============================] - 12s 65ms/step - loss: 1.1461 - accuracy: 0.5952 - val_loss: 1.1604 - val_accuracy: 0.5915\n",
            "Epoch 12/50\n",
            "188/188 [==============================] - 12s 64ms/step - loss: 1.1312 - accuracy: 0.5979 - val_loss: 1.1459 - val_accuracy: 0.5961\n",
            "Epoch 13/50\n",
            "188/188 [==============================] - 12s 65ms/step - loss: 1.0800 - accuracy: 0.6161 - val_loss: 1.1168 - val_accuracy: 0.6041\n",
            "Epoch 14/50\n",
            "188/188 [==============================] - 13s 67ms/step - loss: 1.0667 - accuracy: 0.6174 - val_loss: 1.1101 - val_accuracy: 0.6142\n",
            "Epoch 15/50\n",
            "188/188 [==============================] - 13s 68ms/step - loss: 1.0129 - accuracy: 0.6329 - val_loss: 1.0907 - val_accuracy: 0.6121\n",
            "Epoch 16/50\n",
            "188/188 [==============================] - 13s 67ms/step - loss: 0.9925 - accuracy: 0.6522 - val_loss: 1.0633 - val_accuracy: 0.6295\n",
            "Epoch 17/50\n",
            "188/188 [==============================] - 12s 66ms/step - loss: 0.9738 - accuracy: 0.6527 - val_loss: 1.0525 - val_accuracy: 0.6275\n",
            "Epoch 18/50\n",
            "188/188 [==============================] - 13s 67ms/step - loss: 0.9349 - accuracy: 0.6738 - val_loss: 1.0634 - val_accuracy: 0.6295\n",
            "Epoch 19/50\n",
            "188/188 [==============================] - 13s 67ms/step - loss: 0.9141 - accuracy: 0.6786 - val_loss: 1.0225 - val_accuracy: 0.6362\n",
            "Epoch 20/50\n",
            "188/188 [==============================] - 13s 68ms/step - loss: 0.9111 - accuracy: 0.6718 - val_loss: 1.0302 - val_accuracy: 0.6355\n",
            "Epoch 21/50\n",
            "188/188 [==============================] - 13s 70ms/step - loss: 0.9211 - accuracy: 0.6732 - val_loss: 1.0175 - val_accuracy: 0.6382\n",
            "Epoch 22/50\n",
            "188/188 [==============================] - 13s 70ms/step - loss: 0.8461 - accuracy: 0.7102 - val_loss: 1.0008 - val_accuracy: 0.6515\n",
            "Epoch 23/50\n",
            "188/188 [==============================] - 13s 69ms/step - loss: 0.8413 - accuracy: 0.7108 - val_loss: 0.9915 - val_accuracy: 0.6689\n",
            "Epoch 24/50\n",
            "188/188 [==============================] - 13s 69ms/step - loss: 0.8400 - accuracy: 0.7070 - val_loss: 0.9994 - val_accuracy: 0.6489\n",
            "Epoch 25/50\n",
            "188/188 [==============================] - 13s 70ms/step - loss: 0.8023 - accuracy: 0.7178 - val_loss: 0.9919 - val_accuracy: 0.6522\n",
            "Epoch 26/50\n",
            "188/188 [==============================] - 13s 69ms/step - loss: 0.7911 - accuracy: 0.7180 - val_loss: 0.9755 - val_accuracy: 0.6629\n",
            "Epoch 27/50\n",
            "188/188 [==============================] - 13s 70ms/step - loss: 0.7543 - accuracy: 0.7413 - val_loss: 1.0273 - val_accuracy: 0.6495\n",
            "Epoch 28/50\n",
            "188/188 [==============================] - 13s 69ms/step - loss: 0.7602 - accuracy: 0.7410 - val_loss: 0.9689 - val_accuracy: 0.6589\n",
            "Epoch 29/50\n",
            "188/188 [==============================] - 13s 68ms/step - loss: 0.7501 - accuracy: 0.7336 - val_loss: 0.9668 - val_accuracy: 0.6549\n",
            "Epoch 30/50\n",
            "188/188 [==============================] - 13s 68ms/step - loss: 0.7011 - accuracy: 0.7574 - val_loss: 0.9784 - val_accuracy: 0.6669\n",
            "Epoch 31/50\n",
            "188/188 [==============================] - 13s 68ms/step - loss: 0.6989 - accuracy: 0.7547 - val_loss: 0.9544 - val_accuracy: 0.6696\n",
            "Epoch 32/50\n",
            "188/188 [==============================] - 13s 67ms/step - loss: 0.6932 - accuracy: 0.7603 - val_loss: 0.9710 - val_accuracy: 0.6669\n",
            "Epoch 33/50\n",
            "188/188 [==============================] - 12s 66ms/step - loss: 0.6699 - accuracy: 0.7664 - val_loss: 0.9563 - val_accuracy: 0.6649\n",
            "Epoch 34/50\n",
            "188/188 [==============================] - 12s 65ms/step - loss: 0.6669 - accuracy: 0.7666 - val_loss: 0.9912 - val_accuracy: 0.6555\n",
            "Epoch 35/50\n",
            "188/188 [==============================] - 12s 65ms/step - loss: 0.6352 - accuracy: 0.7785 - val_loss: 0.9453 - val_accuracy: 0.6722\n",
            "Epoch 36/50\n",
            "188/188 [==============================] - 12s 65ms/step - loss: 0.6563 - accuracy: 0.7655 - val_loss: 0.9497 - val_accuracy: 0.6722\n",
            "Epoch 37/50\n",
            "188/188 [==============================] - 12s 66ms/step - loss: 0.6519 - accuracy: 0.7735 - val_loss: 0.9392 - val_accuracy: 0.6709\n",
            "Epoch 38/50\n",
            "188/188 [==============================] - 12s 66ms/step - loss: 0.6229 - accuracy: 0.7813 - val_loss: 0.9686 - val_accuracy: 0.6622\n",
            "Epoch 39/50\n",
            "188/188 [==============================] - 13s 67ms/step - loss: 0.6049 - accuracy: 0.7829 - val_loss: 0.9441 - val_accuracy: 0.6762\n",
            "Epoch 40/50\n",
            "188/188 [==============================] - 13s 67ms/step - loss: 0.5774 - accuracy: 0.7970 - val_loss: 0.9686 - val_accuracy: 0.6702\n",
            "Epoch 41/50\n",
            "188/188 [==============================] - 13s 67ms/step - loss: 0.5955 - accuracy: 0.7898 - val_loss: 0.9552 - val_accuracy: 0.6642\n",
            "Epoch 42/50\n",
            "188/188 [==============================] - 12s 66ms/step - loss: 0.5750 - accuracy: 0.8047 - val_loss: 0.9954 - val_accuracy: 0.6575\n",
            "Epoch 43/50\n",
            "188/188 [==============================] - 13s 67ms/step - loss: 0.5652 - accuracy: 0.8092 - val_loss: 0.9430 - val_accuracy: 0.6809\n",
            "Epoch 44/50\n",
            "188/188 [==============================] - 13s 67ms/step - loss: 0.5358 - accuracy: 0.8147 - val_loss: 0.9392 - val_accuracy: 0.6849\n",
            "Epoch 45/50\n",
            "188/188 [==============================] - 12s 66ms/step - loss: 0.5465 - accuracy: 0.8106 - val_loss: 0.9312 - val_accuracy: 0.6789\n",
            "Epoch 46/50\n",
            "188/188 [==============================] - 13s 67ms/step - loss: 0.5439 - accuracy: 0.8148 - val_loss: 0.9708 - val_accuracy: 0.6722\n",
            "Epoch 47/50\n",
            "188/188 [==============================] - 12s 66ms/step - loss: 0.5275 - accuracy: 0.8216 - val_loss: 0.9345 - val_accuracy: 0.6809\n",
            "Epoch 48/50\n",
            "188/188 [==============================] - 12s 66ms/step - loss: 0.5179 - accuracy: 0.8223 - val_loss: 0.9422 - val_accuracy: 0.6789\n",
            "Epoch 49/50\n",
            "188/188 [==============================] - 12s 66ms/step - loss: 0.5164 - accuracy: 0.8219 - val_loss: 0.9543 - val_accuracy: 0.6702\n",
            "Epoch 50/50\n",
            "188/188 [==============================] - 12s 66ms/step - loss: 0.5022 - accuracy: 0.8215 - val_loss: 0.9698 - val_accuracy: 0.6669\n"
          ],
          "name": "stdout"
        }
      ]
    },
    {
      "cell_type": "code",
      "metadata": {
        "id": "zRlMYrjHKiTW"
      },
      "source": [
        "def plot_history(history):\n",
        "    \"\"\"Plots accuracy/loss for training/validation set as a function of the epochs\n",
        "        :param history: Training history of model\n",
        "        :return:\n",
        "    \"\"\"\n",
        "\n",
        "    fig, axs = plt.subplots(2, figsize=(10,10))\n",
        "        \n",
        "\n",
        "    # create accuracy sublpot\n",
        "    axs[0].plot(history.history[\"accuracy\"], label=\"train accuracy\",color='b')\n",
        "    axs[0].plot(history.history[\"val_accuracy\"], label=\"validation accuracy\",color='r')\n",
        "    axs[0].set_yticks([0.1,0.2,0.3,0.4,0.5,0.6,0.7,0.8,0.9,1.0])\n",
        "    axs[0].set_ylabel(\"Accuracy\")\n",
        "    axs[0].legend(bbox_to_anchor=(1.05, 1), loc='upper left',prop={'size': 20})\n",
        "    axs[0].set_title(\"Accuracy eval\")\n",
        "\n",
        "    # create error sublpot\n",
        "    axs[1].plot(history.history[\"loss\"], label=\"train error\",color='b')\n",
        "    axs[1].plot(history.history[\"val_loss\"], label=\"validation error\",color='r')\n",
        "    axs[1].set_ylabel(\"Error\")\n",
        "    axs[1].set_xlabel(\"Epoch\")\n",
        "    axs[1].legend(bbox_to_anchor=(1.05, 1), loc='upper left', prop={'size': 20})\n",
        "    axs[1].set_title(\"Error eval\")\n",
        "    fig.tight_layout(pad=3.0)\n",
        "    plt.savefig('CNN_train_validation_accuracy.png')\n",
        "    plt.show()\n",
        "    \n",
        "\n"
      ],
      "execution_count": 87,
      "outputs": []
    },
    {
      "cell_type": "code",
      "metadata": {
        "colab": {
          "base_uri": "https://localhost:8080/",
          "height": 691
        },
        "id": "lzVLiGyIKjB1",
        "outputId": "a18ace49-3b93-4a39-99ca-b1f2aee2049c"
      },
      "source": [
        "plot_history(history)"
      ],
      "execution_count": 88,
      "outputs": [
        {
          "output_type": "display_data",
          "data": {
            "image/png": "[encoded data removed]",
            "text/plain": [
              "<Figure size 720x720 with 2 Axes>"
            ]
          },
          "metadata": {
            "tags": [],
            "needs_background": "light"
          }
        }
      ]
    },
    {
      "cell_type": "markdown",
      "metadata": {
        "id": "O8dMYiBkyZjB"
      },
      "source": [
        "# Evaluating Model"
      ]
    },
    {
      "cell_type": "code",
      "metadata": {
        "colab": {
          "base_uri": "https://localhost:8080/"
        },
        "id": "hML7BhfEu_It",
        "outputId": "e42b34ea-be7c-4c96-d280-6660979489d2"
      },
      "source": [
        "#Evalution model on test set\n",
        "test_loss, test_acc = model.evaluate(X_test, y_test, verbose = 2)\n",
        "print(f'Test Accuracy: {test_acc}')"
      ],
      "execution_count": 64,
      "outputs": [
        {
          "output_type": "stream",
          "text": [
            "79/79 - 1s - loss: 0.8863 - accuracy: 0.6984\n",
            "Test Accuracy: 0.6984381079673767\n"
          ],
          "name": "stdout"
        }
      ]
    },
    {
      "cell_type": "code",
      "metadata": {
        "colab": {
          "base_uri": "https://localhost:8080/"
        },
        "id": "W6wjPevqu_g9",
        "outputId": "dc8d092d-794b-440c-a847-fb8dc6a3c64b"
      },
      "source": [
        "genres = encoder.inverse_transform(np.unique(targets))\n",
        "genres"
      ],
      "execution_count": 65,
      "outputs": [
        {
          "output_type": "execute_result",
          "data": {
            "text/plain": [
              "array(['blues', 'classical', 'country', 'disco', 'hiphop', 'jazz',\n",
              "       'metal', 'pop', 'reggae', 'rock'], dtype='<U9')"
            ]
          },
          "metadata": {
            "tags": []
          },
          "execution_count": 65
        }
      ]
    },
    {
      "cell_type": "code",
      "metadata": {
        "colab": {
          "base_uri": "https://localhost:8080/"
        },
        "id": "U7lboBeiu_qG",
        "outputId": "fbd8f26e-973a-41ae-df4e-bff12e190581"
      },
      "source": [
        "#Classification Report\n",
        "predictions = model.predict(X_test)\n",
        "predicted_indexes= np.argmax(predictions, axis=1)\n",
        "print(classification_report(y_test, predicted_indexes,target_names = genres))"
      ],
      "execution_count": 66,
      "outputs": [
        {
          "output_type": "stream",
          "text": [
            "              precision    recall  f1-score   support\n",
            "\n",
            "       blues       0.79      0.66      0.72       255\n",
            "   classical       0.92      0.90      0.91       272\n",
            "     country       0.53      0.71      0.61       237\n",
            "       disco       0.59      0.54      0.56       249\n",
            "      hiphop       0.71      0.59      0.65       242\n",
            "        jazz       0.82      0.82      0.82       251\n",
            "       metal       0.78      0.87      0.83       239\n",
            "         pop       0.77      0.78      0.77       258\n",
            "      reggae       0.61      0.63      0.62       244\n",
            "        rock       0.48      0.47      0.48       250\n",
            "\n",
            "    accuracy                           0.70      2497\n",
            "   macro avg       0.70      0.70      0.70      2497\n",
            "weighted avg       0.70      0.70      0.70      2497\n",
            "\n"
          ],
          "name": "stdout"
        }
      ]
    },
    {
      "cell_type": "code",
      "metadata": {
        "colab": {
          "base_uri": "https://localhost:8080/"
        },
        "id": "PbR5tCC6u_v_",
        "outputId": "d41e1104-2e2d-4470-aa5c-680a582290dd"
      },
      "source": [
        "cf = confusion_matrix(y_test, predicted_indexes)\n",
        "cf"
      ],
      "execution_count": 67,
      "outputs": [
        {
          "output_type": "execute_result",
          "data": {
            "text/plain": [
              "array([[168,   0,  24,   3,   5,   7,  20,   0,   5,  23],\n",
              "       [  1, 244,   8,   0,   0,  12,   0,   0,   1,   6],\n",
              "       [ 12,   1, 169,   9,   0,  12,   0,   4,   5,  25],\n",
              "       [  2,   3,  15, 134,  13,   1,   8,  24,  24,  25],\n",
              "       [  4,   0,   6,  26, 143,   0,  14,  11,  30,   8],\n",
              "       [  5,  11,  18,   1,   0, 206,   0,   0,   4,   6],\n",
              "       [  2,   0,   4,   3,   4,   2, 209,   0,   1,  14],\n",
              "       [  0,   1,  21,  13,   6,   1,   0, 200,  11,   5],\n",
              "       [  6,   1,  11,  14,  27,   2,   2,  14, 154,  13],\n",
              "       [ 12,   3,  43,  26,   3,   8,  14,   7,  17, 117]])"
            ]
          },
          "metadata": {
            "tags": []
          },
          "execution_count": 67
        }
      ]
    },
    {
      "cell_type": "code",
      "metadata": {
        "colab": {
          "base_uri": "https://localhost:8080/"
        },
        "id": "JQimjMc3vQXl",
        "outputId": "7100f316-06fa-4ca7-be2e-09b4ff34124c"
      },
      "source": [
        "cf.astype(np.float).sum(axis=1)"
      ],
      "execution_count": 68,
      "outputs": [
        {
          "output_type": "execute_result",
          "data": {
            "text/plain": [
              "array([255., 272., 237., 249., 242., 251., 239., 258., 244., 250.])"
            ]
          },
          "metadata": {
            "tags": []
          },
          "execution_count": 68
        }
      ]
    },
    {
      "cell_type": "code",
      "metadata": {
        "colab": {
          "base_uri": "https://localhost:8080/"
        },
        "id": "bYGwxdXZu_13",
        "outputId": "1cf13dad-1a10-4d0d-ae0d-38d148843dc9"
      },
      "source": [
        "n_cf_matrix = cf / cf.astype(np.float).sum(axis=1)\n",
        "print(np.round(n_cf_matrix, 3))"
      ],
      "execution_count": 69,
      "outputs": [
        {
          "output_type": "stream",
          "text": [
            "[[0.659 0.    0.101 0.012 0.021 0.028 0.084 0.    0.02  0.092]\n",
            " [0.004 0.897 0.034 0.    0.    0.048 0.    0.    0.004 0.024]\n",
            " [0.047 0.004 0.713 0.036 0.    0.048 0.    0.016 0.02  0.1  ]\n",
            " [0.008 0.011 0.063 0.538 0.054 0.004 0.033 0.093 0.098 0.1  ]\n",
            " [0.016 0.    0.025 0.104 0.591 0.    0.059 0.043 0.123 0.032]\n",
            " [0.02  0.04  0.076 0.004 0.    0.821 0.    0.    0.016 0.024]\n",
            " [0.008 0.    0.017 0.012 0.017 0.008 0.874 0.    0.004 0.056]\n",
            " [0.    0.004 0.089 0.052 0.025 0.004 0.    0.775 0.045 0.02 ]\n",
            " [0.024 0.004 0.046 0.056 0.112 0.008 0.008 0.054 0.631 0.052]\n",
            " [0.047 0.011 0.181 0.104 0.012 0.032 0.059 0.027 0.07  0.468]]\n"
          ],
          "name": "stdout"
        }
      ]
    },
    {
      "cell_type": "code",
      "metadata": {
        "colab": {
          "base_uri": "https://localhost:8080/",
          "height": 460
        },
        "id": "ckxbFJ64vUnZ",
        "outputId": "fe54855d-5d7c-4ac4-d938-70c487b960d5"
      },
      "source": [
        "import seaborn as sns\n",
        "plt.figure(figsize=(10,7))\n",
        "sns.heatmap(np.round(n_cf_matrix, 3), \n",
        "            annot=True,\n",
        "            cmap='Blues',\n",
        "            xticklabels = genres,\n",
        "            yticklabels = genres)\n",
        "plt.title('Confusion Matrix for CNN model',pad=20, fontdict={\n",
        "    'fontsize':15\n",
        "})\n",
        "plt.savefig('Confusion_Matrix_for_CNN')"
      ],
      "execution_count": 71,
      "outputs": [
        {
          "output_type": "display_data",
          "data": {
            "image/png": "[encoded data removed]",
            "text/plain": [
              "<Figure size 720x504 with 2 Axes>"
            ]
          },
          "metadata": {
            "tags": [],
            "needs_background": "light"
          }
        }
      ]
    },
    {
      "cell_type": "markdown",
      "metadata": {
        "id": "GjqHQimdFh_m"
      },
      "source": [
        "#Saving CNN Model"
      ]
    },
    {
      "cell_type": "code",
      "metadata": {
        "id": "w_2Qh8IFD6__"
      },
      "source": [
        "import pickle \n",
        "import os"
      ],
      "execution_count": 89,
      "outputs": []
    },
    {
      "cell_type": "code",
      "metadata": {
        "id": "mA3aVYsyD9mk"
      },
      "source": [
        "model_path = os.path.join(os.getcwd(), 'drive/Sub_Data')\n",
        "cnn_model = keras.models.load_model(model_path) "
      ],
      "execution_count": 92,
      "outputs": []
    },
    {
      "cell_type": "code",
      "metadata": {
        "id": "DU7yJTC0EDMN"
      },
      "source": [
        "model.save('CNN_model_mfcc13.h5')"
      ],
      "execution_count": 91,
      "outputs": []
    },
    {
      "cell_type": "markdown",
      "metadata": {
        "id": "cx6ZCDOEFNM7"
      },
      "source": [
        "#Making Predictions"
      ]
    },
    {
      "cell_type": "code",
      "metadata": {
        "id": "Nw7gPdeSFPyx"
      },
      "source": [
        "# inputs, targets = process_df(df)\n",
        "# encoder = LabelEncoder()\n",
        "# targets = encoder.fit_transform(targets) #encoded the categorical values in our target class \n"
      ],
      "execution_count": 18,
      "outputs": []
    },
    {
      "cell_type": "code",
      "metadata": {
        "id": "EwTENHt_EHHg"
      },
      "source": [
        "def make_prediction(model, X, y):\n",
        "    #adding a dimension to input data since model.predict() expects a 4d array as input\n",
        "    X_to_predict= np.expand_dims(X,0)\n",
        "    # inputs, targets = process_df(df)\n",
        "    # encoder = LabelEncoder()\n",
        "    # targets = encoder.fit_transform(targets)\n",
        "\n",
        "    #perfrom predicition\n",
        "    prediction = model.predict(X_to_predict)\n",
        "    predicted_index = np.argmax(prediction, axis=1)\n",
        "    predicted_output = encoder.inverse_transform([predicted_index])[0]\n",
        "    print(f'Original Label: {encoder.inverse_transform([y_to_predict])[0]} \\n Predicted Output: {predicted_output}')\n",
        "    return predicted_output\n",
        "    #get index with ma "
      ],
      "execution_count": 20,
      "outputs": []
    },
    {
      "cell_type": "code",
      "metadata": {
        "colab": {
          "base_uri": "https://localhost:8080/"
        },
        "id": "vDUKqoJLEd63",
        "outputId": "fcb24118-31f3-4191-b472-5eb75dea39bd"
      },
      "source": [
        "#Making prediction - picking a sample to predict from the test set\n",
        "X_to_predict = X_test[100]\n",
        "y_to_predict = y_test[100]\n",
        "\n",
        "predicted_output = make_prediction(model, X_to_predict, y_to_predict)"
      ],
      "execution_count": 93,
      "outputs": [
        {
          "output_type": "stream",
          "text": [
            "Original Label: classical \n",
            " Predicted Output: classical\n"
          ],
          "name": "stdout"
        },
        {
          "output_type": "stream",
          "text": [
            "/usr/local/lib/python3.7/dist-packages/sklearn/preprocessing/_label.py:289: DataConversionWarning: A column-vector y was passed when a 1d array was expected. Please change the shape of y to (n_samples, ), for example using ravel().\n",
            "  y = column_or_1d(y, warn=True)\n"
          ],
          "name": "stderr"
        }
      ]
    },
    {
      "cell_type": "code",
      "metadata": {
        "colab": {
          "base_uri": "https://localhost:8080/",
          "height": 128
        },
        "id": "2AYxuOUqEeq6",
        "outputId": "aa8a0f1b-0304-461d-9cb8-382c2b3cb48a"
      },
      "source": [
        "#Making prediction - picking a sample to predict from the test set\n",
        "X_to_predict = X_test[600]\n",
        "y_to_predict = y_test[600]\n",
        "\n",
        "make_prediction(model, X_to_predict, y_to_predict)"
      ],
      "execution_count": 94,
      "outputs": [
        {
          "output_type": "stream",
          "text": [
            "Original Label: pop \n",
            " Predicted Output: pop\n"
          ],
          "name": "stdout"
        },
        {
          "output_type": "stream",
          "text": [
            "/usr/local/lib/python3.7/dist-packages/sklearn/preprocessing/_label.py:289: DataConversionWarning: A column-vector y was passed when a 1d array was expected. Please change the shape of y to (n_samples, ), for example using ravel().\n",
            "  y = column_or_1d(y, warn=True)\n"
          ],
          "name": "stderr"
        },
        {
          "output_type": "execute_result",
          "data": {
            "application/vnd.google.colaboratory.intrinsic+json": {
              "type": "string"
            },
            "text/plain": [
              "'pop'"
            ]
          },
          "metadata": {
            "tags": []
          },
          "execution_count": 94
        }
      ]
    },
    {
      "cell_type": "code",
      "metadata": {
        "colab": {
          "base_uri": "https://localhost:8080/",
          "height": 128
        },
        "id": "bBKeRuvJEf3Z",
        "outputId": "63fac55c-92e0-44a7-9210-6f9c0a4a8381"
      },
      "source": [
        "#Making prediction - picking a sample to predict from the test set\n",
        "X_to_predict = X_test[-1]\n",
        "y_to_predict = y_test[-1]\n",
        "\n",
        "make_prediction(model, X_to_predict, y_to_predict)"
      ],
      "execution_count": 95,
      "outputs": [
        {
          "output_type": "stream",
          "text": [
            "Original Label: rock \n",
            " Predicted Output: rock\n"
          ],
          "name": "stdout"
        },
        {
          "output_type": "stream",
          "text": [
            "/usr/local/lib/python3.7/dist-packages/sklearn/preprocessing/_label.py:289: DataConversionWarning: A column-vector y was passed when a 1d array was expected. Please change the shape of y to (n_samples, ), for example using ravel().\n",
            "  y = column_or_1d(y, warn=True)\n"
          ],
          "name": "stderr"
        },
        {
          "output_type": "execute_result",
          "data": {
            "application/vnd.google.colaboratory.intrinsic+json": {
              "type": "string"
            },
            "text/plain": [
              "'rock'"
            ]
          },
          "metadata": {
            "tags": []
          },
          "execution_count": 95
        }
      ]
    },
    {
      "cell_type": "code",
      "metadata": {
        "colab": {
          "base_uri": "https://localhost:8080/",
          "height": 128
        },
        "id": "CX3LVibpEh1c",
        "outputId": "81e8508b-c431-44b2-b314-90e6e9e1b580"
      },
      "source": [
        "#Making prediction - picking a sample to predict from the test set\n",
        "X_to_predict = X_test[232]\n",
        "y_to_predict = y_test[232]\n",
        "\n",
        "make_prediction(model, X_to_predict, y_to_predict)"
      ],
      "execution_count": 96,
      "outputs": [
        {
          "output_type": "stream",
          "text": [
            "Original Label: pop \n",
            " Predicted Output: classical\n"
          ],
          "name": "stdout"
        },
        {
          "output_type": "stream",
          "text": [
            "/usr/local/lib/python3.7/dist-packages/sklearn/preprocessing/_label.py:289: DataConversionWarning: A column-vector y was passed when a 1d array was expected. Please change the shape of y to (n_samples, ), for example using ravel().\n",
            "  y = column_or_1d(y, warn=True)\n"
          ],
          "name": "stderr"
        },
        {
          "output_type": "execute_result",
          "data": {
            "application/vnd.google.colaboratory.intrinsic+json": {
              "type": "string"
            },
            "text/plain": [
              "'classical'"
            ]
          },
          "metadata": {
            "tags": []
          },
          "execution_count": 96
        }
      ]
    },
    {
      "cell_type": "code",
      "metadata": {
        "colab": {
          "base_uri": "https://localhost:8080/",
          "height": 128
        },
        "id": "TsgUdLMNEjPa",
        "outputId": "c98d4175-984d-4879-f0da-5e0a251116d2"
      },
      "source": [
        "#Making prediction - picking a sample to predict from the test set\n",
        "X_to_predict = X_test[1948]\n",
        "y_to_predict = y_test[1948]\n",
        "\n",
        "make_prediction(model, X_to_predict, y_to_predict)"
      ],
      "execution_count": 97,
      "outputs": [
        {
          "output_type": "stream",
          "text": [
            "Original Label: classical \n",
            " Predicted Output: classical\n"
          ],
          "name": "stdout"
        },
        {
          "output_type": "stream",
          "text": [
            "/usr/local/lib/python3.7/dist-packages/sklearn/preprocessing/_label.py:289: DataConversionWarning: A column-vector y was passed when a 1d array was expected. Please change the shape of y to (n_samples, ), for example using ravel().\n",
            "  y = column_or_1d(y, warn=True)\n"
          ],
          "name": "stderr"
        },
        {
          "output_type": "execute_result",
          "data": {
            "application/vnd.google.colaboratory.intrinsic+json": {
              "type": "string"
            },
            "text/plain": [
              "'classical'"
            ]
          },
          "metadata": {
            "tags": []
          },
          "execution_count": 97
        }
      ]
    },
    {
      "cell_type": "code",
      "metadata": {
        "id": "pnF77nhZv15E"
      },
      "source": [
        ""
      ],
      "execution_count": null,
      "outputs": []
    }
  ]
}