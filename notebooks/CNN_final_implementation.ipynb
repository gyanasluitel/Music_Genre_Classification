{
  "nbformat": 4,
  "nbformat_minor": 0,
  "metadata": {
    "colab": {
      "name": "CNN_final_implementation_G.ipynb",
      "provenance": [],
      "collapsed_sections": []
    },
    "kernelspec": {
      "name": "python3",
      "display_name": "Python 3"
    },
    "language_info": {
      "name": "python"
    }
  },
  "cells": [
    {
      "cell_type": "code",
      "metadata": {
        "id": "Wlk0NraorcxO"
      },
      "source": [
        "import pandas as pd\n",
        "import numpy as np\n",
        "import os\n",
        "from sklearn.model_selection import train_test_split"
      ],
      "execution_count": 1,
      "outputs": []
    },
    {
      "cell_type": "code",
      "metadata": {
        "id": "-VY1b89VJfah"
      },
      "source": [
        "from sklearn.metrics import classification_report, confusion_matrix"
      ],
      "execution_count": 2,
      "outputs": []
    },
    {
      "cell_type": "code",
      "metadata": {
        "id": "e03VN3-iQTQg"
      },
      "source": [
        "import math"
      ],
      "execution_count": 3,
      "outputs": []
    },
    {
      "cell_type": "code",
      "metadata": {
        "id": "NS5SNikxQYZE"
      },
      "source": [
        "import librosa"
      ],
      "execution_count": 4,
      "outputs": []
    },
    {
      "cell_type": "code",
      "metadata": {
        "colab": {
          "base_uri": "https://localhost:8080/"
        },
        "id": "BelCQA1or0ZN",
        "outputId": "23d955d8-44ab-4fdb-c58c-6bef08b56bd3"
      },
      "source": [
        "from google.colab import drive\n",
        "drive.mount('/content/drive')"
      ],
      "execution_count": 5,
      "outputs": [
        {
          "output_type": "stream",
          "text": [
            "Mounted at /content/drive\n"
          ],
          "name": "stdout"
        }
      ]
    },
    {
      "cell_type": "code",
      "metadata": {
        "id": "B9z-5K7Rr6vh"
      },
      "source": [
        "import pickle"
      ],
      "execution_count": 6,
      "outputs": []
    },
    {
      "cell_type": "code",
      "metadata": {
        "id": "R6d3rEIeGDjY"
      },
      "source": [
        "import keras"
      ],
      "execution_count": 7,
      "outputs": []
    },
    {
      "cell_type": "code",
      "metadata": {
        "id": "-YZPWhxP5Jwp"
      },
      "source": [
        "from keras import layers, Sequential\n",
        "from sklearn.preprocessing import LabelEncoder, StandardScaler"
      ],
      "execution_count": 8,
      "outputs": []
    },
    {
      "cell_type": "code",
      "metadata": {
        "id": "sGSaZniDKrVy"
      },
      "source": [
        "import matplotlib.pyplot as plt\n",
        "%matplotlib inline"
      ],
      "execution_count": 9,
      "outputs": []
    },
    {
      "cell_type": "code",
      "metadata": {
        "id": "2_wuKpeFsB4f"
      },
      "source": [
        "df_path= os.getcwd()+'/drive/MyDrive/Sub_Data/data_13_G.pickle'"
      ],
      "execution_count": 10,
      "outputs": []
    },
    {
      "cell_type": "code",
      "metadata": {
        "colab": {
          "base_uri": "https://localhost:8080/",
          "height": 444
        },
        "id": "RTyWizDSsDyX",
        "outputId": "078a0bf6-b415-44d2-b3a4-56f7c050dc63"
      },
      "source": [
        "df = pd.read_pickle(df_path)\n",
        "df"
      ],
      "execution_count": 11,
      "outputs": [
        {
          "output_type": "execute_result",
          "data": {
            "text/html": [
              "<div>\n",
              "<style scoped>\n",
              "    .dataframe tbody tr th:only-of-type {\n",
              "        vertical-align: middle;\n",
              "    }\n",
              "\n",
              "    .dataframe tbody tr th {\n",
              "        vertical-align: top;\n",
              "    }\n",
              "\n",
              "    .dataframe thead th {\n",
              "        text-align: right;\n",
              "    }\n",
              "</style>\n",
              "<table border=\"1\" class=\"dataframe\">\n",
              "  <thead>\n",
              "    <tr style=\"text-align: right;\">\n",
              "      <th></th>\n",
              "      <th>mfcc_1</th>\n",
              "      <th>mfcc_2</th>\n",
              "      <th>mfcc_3</th>\n",
              "      <th>mfcc_4</th>\n",
              "      <th>mfcc_5</th>\n",
              "      <th>mfcc_6</th>\n",
              "      <th>mfcc_7</th>\n",
              "      <th>mfcc_8</th>\n",
              "      <th>mfcc_9</th>\n",
              "      <th>mfcc_10</th>\n",
              "      <th>mfcc_11</th>\n",
              "      <th>mfcc_12</th>\n",
              "      <th>mfcc_13</th>\n",
              "      <th>Labels</th>\n",
              "    </tr>\n",
              "  </thead>\n",
              "  <tbody>\n",
              "    <tr>\n",
              "      <th>0</th>\n",
              "      <td>27.555986</td>\n",
              "      <td>88.491943</td>\n",
              "      <td>-20.645388</td>\n",
              "      <td>18.461662</td>\n",
              "      <td>-22.876869</td>\n",
              "      <td>26.373840</td>\n",
              "      <td>-7.842380</td>\n",
              "      <td>5.040419</td>\n",
              "      <td>-10.529922</td>\n",
              "      <td>30.722309</td>\n",
              "      <td>8.053223</td>\n",
              "      <td>25.249620</td>\n",
              "      <td>-3.851202</td>\n",
              "      <td>disco</td>\n",
              "    </tr>\n",
              "    <tr>\n",
              "      <th>1</th>\n",
              "      <td>21.160398</td>\n",
              "      <td>99.239639</td>\n",
              "      <td>-33.311604</td>\n",
              "      <td>24.493477</td>\n",
              "      <td>-17.089005</td>\n",
              "      <td>25.532211</td>\n",
              "      <td>-5.425315</td>\n",
              "      <td>11.550676</td>\n",
              "      <td>-12.097195</td>\n",
              "      <td>27.441135</td>\n",
              "      <td>0.058880</td>\n",
              "      <td>19.927771</td>\n",
              "      <td>-11.912487</td>\n",
              "      <td>disco</td>\n",
              "    </tr>\n",
              "    <tr>\n",
              "      <th>2</th>\n",
              "      <td>-13.337629</td>\n",
              "      <td>112.291656</td>\n",
              "      <td>-48.217140</td>\n",
              "      <td>38.652039</td>\n",
              "      <td>-11.287874</td>\n",
              "      <td>30.100903</td>\n",
              "      <td>-4.544308</td>\n",
              "      <td>16.824894</td>\n",
              "      <td>-15.798969</td>\n",
              "      <td>27.857822</td>\n",
              "      <td>-13.360273</td>\n",
              "      <td>20.098824</td>\n",
              "      <td>-20.572792</td>\n",
              "      <td>disco</td>\n",
              "    </tr>\n",
              "    <tr>\n",
              "      <th>3</th>\n",
              "      <td>-40.871708</td>\n",
              "      <td>116.767059</td>\n",
              "      <td>-47.124802</td>\n",
              "      <td>49.234226</td>\n",
              "      <td>-17.217890</td>\n",
              "      <td>37.331268</td>\n",
              "      <td>-0.842096</td>\n",
              "      <td>16.252968</td>\n",
              "      <td>-20.979574</td>\n",
              "      <td>27.505018</td>\n",
              "      <td>-24.680790</td>\n",
              "      <td>19.476368</td>\n",
              "      <td>-18.812157</td>\n",
              "      <td>disco</td>\n",
              "    </tr>\n",
              "    <tr>\n",
              "      <th>4</th>\n",
              "      <td>-67.497528</td>\n",
              "      <td>117.398331</td>\n",
              "      <td>-47.275208</td>\n",
              "      <td>47.681198</td>\n",
              "      <td>-16.081495</td>\n",
              "      <td>43.743324</td>\n",
              "      <td>13.473402</td>\n",
              "      <td>14.318071</td>\n",
              "      <td>-27.892868</td>\n",
              "      <td>20.559271</td>\n",
              "      <td>-31.776064</td>\n",
              "      <td>17.269453</td>\n",
              "      <td>-14.578279</td>\n",
              "      <td>disco</td>\n",
              "    </tr>\n",
              "    <tr>\n",
              "      <th>...</th>\n",
              "      <td>...</td>\n",
              "      <td>...</td>\n",
              "      <td>...</td>\n",
              "      <td>...</td>\n",
              "      <td>...</td>\n",
              "      <td>...</td>\n",
              "      <td>...</td>\n",
              "      <td>...</td>\n",
              "      <td>...</td>\n",
              "      <td>...</td>\n",
              "      <td>...</td>\n",
              "      <td>...</td>\n",
              "      <td>...</td>\n",
              "      <td>...</td>\n",
              "    </tr>\n",
              "    <tr>\n",
              "      <th>1233175</th>\n",
              "      <td>-101.685333</td>\n",
              "      <td>23.818932</td>\n",
              "      <td>0.495472</td>\n",
              "      <td>30.757507</td>\n",
              "      <td>17.166796</td>\n",
              "      <td>16.255051</td>\n",
              "      <td>18.272770</td>\n",
              "      <td>9.566826</td>\n",
              "      <td>11.331477</td>\n",
              "      <td>4.932149</td>\n",
              "      <td>9.956822</td>\n",
              "      <td>12.857517</td>\n",
              "      <td>7.169489</td>\n",
              "      <td>reggae</td>\n",
              "    </tr>\n",
              "    <tr>\n",
              "      <th>1233176</th>\n",
              "      <td>-136.458862</td>\n",
              "      <td>21.216267</td>\n",
              "      <td>-1.512686</td>\n",
              "      <td>37.810467</td>\n",
              "      <td>22.128681</td>\n",
              "      <td>20.463276</td>\n",
              "      <td>16.296101</td>\n",
              "      <td>12.380598</td>\n",
              "      <td>18.769466</td>\n",
              "      <td>8.667844</td>\n",
              "      <td>15.075156</td>\n",
              "      <td>15.303005</td>\n",
              "      <td>7.611032</td>\n",
              "      <td>reggae</td>\n",
              "    </tr>\n",
              "    <tr>\n",
              "      <th>1233177</th>\n",
              "      <td>-167.509811</td>\n",
              "      <td>25.255136</td>\n",
              "      <td>0.489490</td>\n",
              "      <td>48.138466</td>\n",
              "      <td>27.790737</td>\n",
              "      <td>23.130043</td>\n",
              "      <td>17.280693</td>\n",
              "      <td>13.791199</td>\n",
              "      <td>17.217871</td>\n",
              "      <td>7.926507</td>\n",
              "      <td>13.045273</td>\n",
              "      <td>12.954222</td>\n",
              "      <td>9.367888</td>\n",
              "      <td>reggae</td>\n",
              "    </tr>\n",
              "    <tr>\n",
              "      <th>1233178</th>\n",
              "      <td>-152.141953</td>\n",
              "      <td>51.688583</td>\n",
              "      <td>-4.779652</td>\n",
              "      <td>27.629368</td>\n",
              "      <td>14.154837</td>\n",
              "      <td>21.258694</td>\n",
              "      <td>11.772314</td>\n",
              "      <td>17.563957</td>\n",
              "      <td>16.069324</td>\n",
              "      <td>20.217516</td>\n",
              "      <td>16.887005</td>\n",
              "      <td>8.754175</td>\n",
              "      <td>-7.446566</td>\n",
              "      <td>reggae</td>\n",
              "    </tr>\n",
              "    <tr>\n",
              "      <th>1233179</th>\n",
              "      <td>-122.472549</td>\n",
              "      <td>60.572250</td>\n",
              "      <td>-2.877283</td>\n",
              "      <td>10.160194</td>\n",
              "      <td>5.135730</td>\n",
              "      <td>20.476721</td>\n",
              "      <td>2.254365</td>\n",
              "      <td>16.538300</td>\n",
              "      <td>6.136049</td>\n",
              "      <td>24.907104</td>\n",
              "      <td>14.526672</td>\n",
              "      <td>6.741484</td>\n",
              "      <td>-13.376986</td>\n",
              "      <td>reggae</td>\n",
              "    </tr>\n",
              "  </tbody>\n",
              "</table>\n",
              "<p>1233180 rows × 14 columns</p>\n",
              "</div>"
            ],
            "text/plain": [
              "             mfcc_1      mfcc_2     mfcc_3  ...    mfcc_12    mfcc_13  Labels\n",
              "0         27.555986   88.491943 -20.645388  ...  25.249620  -3.851202   disco\n",
              "1         21.160398   99.239639 -33.311604  ...  19.927771 -11.912487   disco\n",
              "2        -13.337629  112.291656 -48.217140  ...  20.098824 -20.572792   disco\n",
              "3        -40.871708  116.767059 -47.124802  ...  19.476368 -18.812157   disco\n",
              "4        -67.497528  117.398331 -47.275208  ...  17.269453 -14.578279   disco\n",
              "...             ...         ...        ...  ...        ...        ...     ...\n",
              "1233175 -101.685333   23.818932   0.495472  ...  12.857517   7.169489  reggae\n",
              "1233176 -136.458862   21.216267  -1.512686  ...  15.303005   7.611032  reggae\n",
              "1233177 -167.509811   25.255136   0.489490  ...  12.954222   9.367888  reggae\n",
              "1233178 -152.141953   51.688583  -4.779652  ...   8.754175  -7.446566  reggae\n",
              "1233179 -122.472549   60.572250  -2.877283  ...   6.741484 -13.376986  reggae\n",
              "\n",
              "[1233180 rows x 14 columns]"
            ]
          },
          "metadata": {
            "tags": []
          },
          "execution_count": 11
        }
      ]
    },
    {
      "cell_type": "code",
      "metadata": {
        "id": "E0IRM96psFt9"
      },
      "source": [
        "def process_df(df):\n",
        "    '''\n",
        "    Input: dataframe object\n",
        "    Output: returns a 3d nparray\n",
        "    '''\n",
        "    inputs = df.iloc[0*130:0+1*130,:-1] #getting the first 130 rows\n",
        "    inputs = np.expand_dims(inputs,0)   #expanding the shape of the array by inserting a new axis at the first position\n",
        "    targets= [df.iloc[0*130,-1]]\n",
        "    for i in range(1, int(df.shape[0]/130)): #repeating the above process for the entirety of the remaining dataset\n",
        "        dummy_x = df.iloc[i*130:(i+1)*130, :-1].values\n",
        "        dummy_x = np.expand_dims(dummy_x,0)\n",
        "        dummy_y = df.iloc[i*130,-1]\n",
        "        inputs = np.concatenate((inputs, dummy_x), axis=0)\n",
        "        targets.append(dummy_y)\n",
        "    return inputs, targets"
      ],
      "execution_count": 12,
      "outputs": []
    },
    {
      "cell_type": "code",
      "metadata": {
        "id": "FvR66PQN5vGN"
      },
      "source": [
        "def split_data(df, test_size, validation_size):\n",
        "    '''\n",
        "    Input: A dataframe\n",
        "    Ouput: return the train, test and validation set \n",
        "    '''\n",
        "    # inputs, targets = process_df(df)\n",
        "    # encoder = LabelEncoder()\n",
        "    # targets = encoder.fit_transform(targets) #encoded the categorical values in our target class \n",
        "\n",
        "    #Splitting data into train and test sets\n",
        "    inputs_train, inputs_test, targets_train, targets_test = train_test_split(inputs, targets, test_size = test_size)\n",
        "\n",
        "    #Splitting train data into train and validation sets\n",
        "    inputs_train, inputs_validation, targets_train, targets_validation = train_test_split(inputs_train, targets_train, test_size = validation_size)\n",
        "\n",
        "    #adding an axis to input sets\n",
        "    inputs_train = np.expand_dims(inputs_train,-1)\n",
        "    inputs_validation = np.expand_dims(inputs_validation,-1)\n",
        "    inputs_test = np.expand_dims(inputs_test,-1)\n",
        "\n",
        "    return inputs_train, inputs_validation, inputs_test, targets_train, targets_validation, targets_test\n"
      ],
      "execution_count": 13,
      "outputs": []
    },
    {
      "cell_type": "code",
      "metadata": {
        "id": "heEP0yxe_a-c"
      },
      "source": [
        "def build_model(input_shape):\n",
        "    '''Generates CNN model'''\n",
        "\n",
        "    #build network topology\n",
        "    model = keras.Sequential()\n",
        "\n",
        "    #1st convolutional layer\n",
        "    model.add(keras.layers.Conv2D(32,(3,3), activation = 'relu', input_shape = input_shape))\n",
        "    model.add(keras.layers.MaxPooling2D((3,3), strides = (2,2), padding='same'))\n",
        "    model.add(keras.layers.BatchNormalization())\n",
        "\n",
        "    #2st convolutional layer\n",
        "    model.add(keras.layers.Conv2D(32,(3,3), activation = 'relu'))\n",
        "    model.add(keras.layers.MaxPooling2D((3,3), strides = (2,2), padding='same'))\n",
        "    model.add(keras.layers.BatchNormalization())\n",
        "\n",
        "    #3rd convolutional layer\n",
        "    model.add(keras.layers.Conv2D(32,(2,2), activation ='relu'))\n",
        "    model.add(keras.layers.MaxPooling2D((2,2), strides = (2,2), padding='same'))\n",
        "    model.add(keras.layers.BatchNormalization())\n",
        "\n",
        "    #flatten output and feed it into dense layer\n",
        "    model.add(keras.layers.Flatten())\n",
        "    model.add(keras.layers.Dense(64, activation='relu'))\n",
        "    model.add(keras.layers.Dropout(0.3))\n",
        "\n",
        "    #output layer\n",
        "    model.add(keras.layers.Dense(10, activation='softmax'))\n",
        "\n",
        "    return model"
      ],
      "execution_count": 14,
      "outputs": []
    },
    {
      "cell_type": "code",
      "metadata": {
        "colab": {
          "base_uri": "https://localhost:8080/"
        },
        "id": "hohyKIzoB5HV",
        "outputId": "4146ccb8-0717-4758-852c-4124e84026bd"
      },
      "source": [
        "if __name__ == '__main__':\n",
        "    inputs, targets = process_df(df)\n",
        "    encoder = LabelEncoder()\n",
        "    targets = encoder.fit_transform(targets) #encoded the categorical values in our target class \n",
        "\n",
        "    #get train, validation, test splits\n",
        "    X_train, X_validation, X_test, y_train, y_validation, y_test = split_data(df, 0.25,0.2)\n",
        "    print(f'Shape of X_train: {X_train.shape}')\n",
        "    print(f'Shape of X_train: {X_validation.shape}')\n",
        "    print(f'Shape of X_train: {X_test.shape}')\n",
        "\n",
        "    #create network \n",
        "    input_shape = (X_train.shape[1], X_train.shape[2],1)\n",
        "    model = build_model(input_shape)\n",
        "\n",
        "    #compile model\n",
        "    optimiser = keras.optimizers.Adam(learning_rate = 0.0001)\n",
        "    model.compile(optimizer = optimiser, \n",
        "                  loss='sparse_categorical_crossentropy',\n",
        "                  metrics = ['accuracy'])\n",
        "    model.summary()\n",
        "\n",
        "    #train modle\n",
        "    history = model.fit(X_train, y_train, validation_data=(X_validation,y_validation), batch_size=32,  epochs = 50)"
      ],
      "execution_count": 15,
      "outputs": [
        {
          "output_type": "stream",
          "text": [
            "Shape of X_train: (5691, 130, 13, 1)\n",
            "Shape of X_train: (1423, 130, 13, 1)\n",
            "Shape of X_train: (2372, 130, 13, 1)\n",
            "Model: \"sequential\"\n",
            "_________________________________________________________________\n",
            "Layer (type)                 Output Shape              Param #   \n",
            "=================================================================\n",
            "conv2d (Conv2D)              (None, 128, 11, 32)       320       \n",
            "_________________________________________________________________\n",
            "max_pooling2d (MaxPooling2D) (None, 64, 6, 32)         0         \n",
            "_________________________________________________________________\n",
            "batch_normalization (BatchNo (None, 64, 6, 32)         128       \n",
            "_________________________________________________________________\n",
            "conv2d_1 (Conv2D)            (None, 62, 4, 32)         9248      \n",
            "_________________________________________________________________\n",
            "max_pooling2d_1 (MaxPooling2 (None, 31, 2, 32)         0         \n",
            "_________________________________________________________________\n",
            "batch_normalization_1 (Batch (None, 31, 2, 32)         128       \n",
            "_________________________________________________________________\n",
            "conv2d_2 (Conv2D)            (None, 30, 1, 32)         4128      \n",
            "_________________________________________________________________\n",
            "max_pooling2d_2 (MaxPooling2 (None, 15, 1, 32)         0         \n",
            "_________________________________________________________________\n",
            "batch_normalization_2 (Batch (None, 15, 1, 32)         128       \n",
            "_________________________________________________________________\n",
            "flatten (Flatten)            (None, 480)               0         \n",
            "_________________________________________________________________\n",
            "dense (Dense)                (None, 64)                30784     \n",
            "_________________________________________________________________\n",
            "dropout (Dropout)            (None, 64)                0         \n",
            "_________________________________________________________________\n",
            "dense_1 (Dense)              (None, 10)                650       \n",
            "=================================================================\n",
            "Total params: 45,514\n",
            "Trainable params: 45,322\n",
            "Non-trainable params: 192\n",
            "_________________________________________________________________\n",
            "Epoch 1/50\n",
            "178/178 [==============================] - 32s 70ms/step - loss: 2.6588 - accuracy: 0.1650 - val_loss: 1.8136 - val_accuracy: 0.3612\n",
            "Epoch 2/50\n",
            "178/178 [==============================] - 12s 67ms/step - loss: 1.8629 - accuracy: 0.3469 - val_loss: 1.5168 - val_accuracy: 0.4491\n",
            "Epoch 3/50\n",
            "178/178 [==============================] - 12s 66ms/step - loss: 1.6468 - accuracy: 0.4338 - val_loss: 1.3870 - val_accuracy: 0.5032\n",
            "Epoch 4/50\n",
            "178/178 [==============================] - 12s 66ms/step - loss: 1.4954 - accuracy: 0.4561 - val_loss: 1.3072 - val_accuracy: 0.5186\n",
            "Epoch 5/50\n",
            "178/178 [==============================] - 12s 66ms/step - loss: 1.4435 - accuracy: 0.4764 - val_loss: 1.2350 - val_accuracy: 0.5432\n",
            "Epoch 6/50\n",
            "178/178 [==============================] - 12s 66ms/step - loss: 1.3617 - accuracy: 0.5077 - val_loss: 1.2183 - val_accuracy: 0.5524\n",
            "Epoch 7/50\n",
            "178/178 [==============================] - 12s 66ms/step - loss: 1.3177 - accuracy: 0.5145 - val_loss: 1.1464 - val_accuracy: 0.5819\n",
            "Epoch 8/50\n",
            "178/178 [==============================] - 12s 67ms/step - loss: 1.2591 - accuracy: 0.5389 - val_loss: 1.1138 - val_accuracy: 0.5994\n",
            "Epoch 9/50\n",
            "178/178 [==============================] - 12s 67ms/step - loss: 1.2170 - accuracy: 0.5606 - val_loss: 1.0833 - val_accuracy: 0.6177\n",
            "Epoch 10/50\n",
            "178/178 [==============================] - 12s 67ms/step - loss: 1.1418 - accuracy: 0.5939 - val_loss: 1.0674 - val_accuracy: 0.6219\n",
            "Epoch 11/50\n",
            "178/178 [==============================] - 12s 67ms/step - loss: 1.1283 - accuracy: 0.5990 - val_loss: 1.0415 - val_accuracy: 0.6304\n",
            "Epoch 12/50\n",
            "178/178 [==============================] - 12s 67ms/step - loss: 1.0939 - accuracy: 0.6096 - val_loss: 1.0135 - val_accuracy: 0.6346\n",
            "Epoch 13/50\n",
            "178/178 [==============================] - 12s 67ms/step - loss: 1.0880 - accuracy: 0.6170 - val_loss: 0.9759 - val_accuracy: 0.6578\n",
            "Epoch 14/50\n",
            "178/178 [==============================] - 12s 67ms/step - loss: 1.0617 - accuracy: 0.6208 - val_loss: 0.9703 - val_accuracy: 0.6507\n",
            "Epoch 15/50\n",
            "178/178 [==============================] - 12s 68ms/step - loss: 1.0227 - accuracy: 0.6399 - val_loss: 0.9480 - val_accuracy: 0.6606\n",
            "Epoch 16/50\n",
            "178/178 [==============================] - 12s 68ms/step - loss: 0.9805 - accuracy: 0.6484 - val_loss: 0.9249 - val_accuracy: 0.6697\n",
            "Epoch 17/50\n",
            "178/178 [==============================] - 12s 67ms/step - loss: 0.9483 - accuracy: 0.6622 - val_loss: 0.9165 - val_accuracy: 0.6683\n",
            "Epoch 18/50\n",
            "178/178 [==============================] - 12s 68ms/step - loss: 0.9161 - accuracy: 0.6718 - val_loss: 0.8867 - val_accuracy: 0.6866\n",
            "Epoch 19/50\n",
            "178/178 [==============================] - 12s 67ms/step - loss: 0.9017 - accuracy: 0.6774 - val_loss: 0.8849 - val_accuracy: 0.6845\n",
            "Epoch 20/50\n",
            "178/178 [==============================] - 12s 66ms/step - loss: 0.8845 - accuracy: 0.6857 - val_loss: 0.8920 - val_accuracy: 0.6929\n",
            "Epoch 21/50\n",
            "178/178 [==============================] - 12s 65ms/step - loss: 0.8464 - accuracy: 0.7087 - val_loss: 0.8403 - val_accuracy: 0.6964\n",
            "Epoch 22/50\n",
            "178/178 [==============================] - 12s 66ms/step - loss: 0.8212 - accuracy: 0.7090 - val_loss: 0.8666 - val_accuracy: 0.6915\n",
            "Epoch 23/50\n",
            "178/178 [==============================] - 12s 67ms/step - loss: 0.8279 - accuracy: 0.7060 - val_loss: 0.8894 - val_accuracy: 0.6845\n",
            "Epoch 24/50\n",
            "178/178 [==============================] - 12s 67ms/step - loss: 0.7832 - accuracy: 0.7333 - val_loss: 0.8378 - val_accuracy: 0.7034\n",
            "Epoch 25/50\n",
            "178/178 [==============================] - 12s 67ms/step - loss: 0.7800 - accuracy: 0.7199 - val_loss: 0.8179 - val_accuracy: 0.7070\n",
            "Epoch 26/50\n",
            "178/178 [==============================] - 12s 67ms/step - loss: 0.7583 - accuracy: 0.7338 - val_loss: 0.8088 - val_accuracy: 0.7077\n",
            "Epoch 27/50\n",
            "178/178 [==============================] - 12s 67ms/step - loss: 0.7400 - accuracy: 0.7364 - val_loss: 0.8217 - val_accuracy: 0.7006\n",
            "Epoch 28/50\n",
            "178/178 [==============================] - 12s 67ms/step - loss: 0.7354 - accuracy: 0.7451 - val_loss: 0.7960 - val_accuracy: 0.7224\n",
            "Epoch 29/50\n",
            "178/178 [==============================] - 12s 67ms/step - loss: 0.7109 - accuracy: 0.7554 - val_loss: 0.7953 - val_accuracy: 0.7196\n",
            "Epoch 30/50\n",
            "178/178 [==============================] - 12s 66ms/step - loss: 0.7195 - accuracy: 0.7445 - val_loss: 0.7863 - val_accuracy: 0.7140\n",
            "Epoch 31/50\n",
            "178/178 [==============================] - 12s 66ms/step - loss: 0.7217 - accuracy: 0.7459 - val_loss: 0.8429 - val_accuracy: 0.7119\n",
            "Epoch 32/50\n",
            "178/178 [==============================] - 12s 66ms/step - loss: 0.6758 - accuracy: 0.7648 - val_loss: 0.7954 - val_accuracy: 0.7210\n",
            "Epoch 33/50\n",
            "178/178 [==============================] - 12s 67ms/step - loss: 0.6717 - accuracy: 0.7505 - val_loss: 0.7882 - val_accuracy: 0.7238\n",
            "Epoch 34/50\n",
            "178/178 [==============================] - 12s 66ms/step - loss: 0.6541 - accuracy: 0.7687 - val_loss: 0.7769 - val_accuracy: 0.7189\n",
            "Epoch 35/50\n",
            "178/178 [==============================] - 12s 67ms/step - loss: 0.6512 - accuracy: 0.7711 - val_loss: 0.7600 - val_accuracy: 0.7386\n",
            "Epoch 36/50\n",
            "178/178 [==============================] - 12s 67ms/step - loss: 0.6313 - accuracy: 0.7768 - val_loss: 0.7667 - val_accuracy: 0.7309\n",
            "Epoch 37/50\n",
            "178/178 [==============================] - 12s 67ms/step - loss: 0.6025 - accuracy: 0.7827 - val_loss: 0.7510 - val_accuracy: 0.7344\n",
            "Epoch 38/50\n",
            "178/178 [==============================] - 12s 67ms/step - loss: 0.5916 - accuracy: 0.7933 - val_loss: 0.8237 - val_accuracy: 0.7105\n",
            "Epoch 39/50\n",
            "178/178 [==============================] - 12s 66ms/step - loss: 0.6182 - accuracy: 0.7811 - val_loss: 0.7706 - val_accuracy: 0.7372\n",
            "Epoch 40/50\n",
            "178/178 [==============================] - 12s 65ms/step - loss: 0.6203 - accuracy: 0.7844 - val_loss: 0.7682 - val_accuracy: 0.7316\n",
            "Epoch 41/50\n",
            "178/178 [==============================] - 12s 65ms/step - loss: 0.5708 - accuracy: 0.8004 - val_loss: 0.7866 - val_accuracy: 0.7273\n",
            "Epoch 42/50\n",
            "178/178 [==============================] - 12s 67ms/step - loss: 0.6004 - accuracy: 0.7907 - val_loss: 0.7671 - val_accuracy: 0.7323\n",
            "Epoch 43/50\n",
            "178/178 [==============================] - 12s 68ms/step - loss: 0.5604 - accuracy: 0.8054 - val_loss: 0.7575 - val_accuracy: 0.7273\n",
            "Epoch 44/50\n",
            "178/178 [==============================] - 12s 68ms/step - loss: 0.5630 - accuracy: 0.7985 - val_loss: 0.7780 - val_accuracy: 0.7252\n",
            "Epoch 45/50\n",
            "178/178 [==============================] - 12s 68ms/step - loss: 0.5263 - accuracy: 0.8147 - val_loss: 0.7443 - val_accuracy: 0.7386\n",
            "Epoch 46/50\n",
            "178/178 [==============================] - 12s 67ms/step - loss: 0.5040 - accuracy: 0.8252 - val_loss: 0.7771 - val_accuracy: 0.7280\n",
            "Epoch 47/50\n",
            "178/178 [==============================] - 12s 67ms/step - loss: 0.5123 - accuracy: 0.8268 - val_loss: 0.7473 - val_accuracy: 0.7393\n",
            "Epoch 48/50\n",
            "178/178 [==============================] - 12s 67ms/step - loss: 0.5222 - accuracy: 0.8201 - val_loss: 0.7376 - val_accuracy: 0.7435\n",
            "Epoch 49/50\n",
            "178/178 [==============================] - 12s 67ms/step - loss: 0.5253 - accuracy: 0.8187 - val_loss: 0.7771 - val_accuracy: 0.7428\n",
            "Epoch 50/50\n",
            "178/178 [==============================] - 12s 68ms/step - loss: 0.5165 - accuracy: 0.8160 - val_loss: 0.7685 - val_accuracy: 0.7337\n"
          ],
          "name": "stdout"
        }
      ]
    },
    {
      "cell_type": "code",
      "metadata": {
        "id": "zRlMYrjHKiTW"
      },
      "source": [
        "def plot_history(history):\n",
        "    \"\"\"Plots accuracy/loss for training/validation set as a function of the epochs\n",
        "        :param history: Training history of model\n",
        "        :return:\n",
        "    \"\"\"\n",
        "\n",
        "    fig, axs = plt.subplots(2, figsize=(10,10))\n",
        "        \n",
        "\n",
        "    # create accuracy sublpot\n",
        "    axs[0].plot(history.history[\"accuracy\"], label=\"train accuracy\",color='b')\n",
        "    axs[0].plot(history.history[\"val_accuracy\"], label=\"validation accuracy\",color='r')\n",
        "    axs[0].set_yticks([0.1,0.2,0.3,0.4,0.5,0.6,0.7,0.8,0.9,1.0])\n",
        "    axs[0].set_ylabel(\"Accuracy\")\n",
        "    axs[0].legend(bbox_to_anchor=(1.05, 1), loc='upper left',prop={'size': 20})\n",
        "    axs[0].set_title(\"Accuracy eval\")\n",
        "\n",
        "    # create error sublpot\n",
        "    axs[1].plot(history.history[\"loss\"], label=\"train error\",color='b')\n",
        "    axs[1].plot(history.history[\"val_loss\"], label=\"validation error\",color='r')\n",
        "    axs[1].set_ylabel(\"Error\")\n",
        "    axs[1].set_xlabel(\"Epoch\")\n",
        "    axs[1].legend(bbox_to_anchor=(1.05, 1), loc='upper left', prop={'size': 20})\n",
        "    axs[1].set_title(\"Error eval\")\n",
        "    fig.tight_layout(pad=3.0)\n",
        "    plt.savefig('CNN_train_validation_accuracy.png')\n",
        "    plt.show()\n",
        "    \n",
        "\n"
      ],
      "execution_count": 16,
      "outputs": []
    },
    {
      "cell_type": "code",
      "metadata": {
        "colab": {
          "base_uri": "https://localhost:8080/",
          "height": 691
        },
        "id": "lzVLiGyIKjB1",
        "outputId": "f632ec13-755e-48bf-8070-248a29775938"
      },
      "source": [
        "plot_history(history)"
      ],
      "execution_count": 17,
      "outputs": [
        {
          "output_type": "display_data",
          "data": {
            "image/png": "[encoded data removed]",
            "text/plain": [
              "<Figure size 720x720 with 2 Axes>"
            ]
          },
          "metadata": {
            "tags": [],
            "needs_background": "light"
          }
        }
      ]
    },
    {
      "cell_type": "markdown",
      "metadata": {
        "id": "O8dMYiBkyZjB"
      },
      "source": [
        "# Evaluating Model"
      ]
    },
    {
      "cell_type": "code",
      "metadata": {
        "colab": {
          "base_uri": "https://localhost:8080/"
        },
        "id": "hML7BhfEu_It",
        "outputId": "4f1800a6-a9ee-4a1e-8239-e3e94da2cd48"
      },
      "source": [
        "#Evalution model on test set\n",
        "test_loss, test_acc = model.evaluate(X_test, y_test, verbose = 2)\n",
        "print(f'Test Accuracy: {test_acc}')"
      ],
      "execution_count": 18,
      "outputs": [
        {
          "output_type": "stream",
          "text": [
            "75/75 - 1s - loss: 0.7484 - accuracy: 0.7352\n",
            "Test Accuracy: 0.7352445125579834\n"
          ],
          "name": "stdout"
        }
      ]
    },
    {
      "cell_type": "code",
      "metadata": {
        "colab": {
          "base_uri": "https://localhost:8080/"
        },
        "id": "W6wjPevqu_g9",
        "outputId": "e8afb346-9af7-45f4-e39f-e080f741cec2"
      },
      "source": [
        "genres = encoder.inverse_transform(np.unique(targets))\n",
        "genres"
      ],
      "execution_count": 19,
      "outputs": [
        {
          "output_type": "execute_result",
          "data": {
            "text/plain": [
              "array(['blues', 'classical', 'country', 'disco', 'hiphop', 'jazz',\n",
              "       'metal', 'pop', 'reggae', 'rock'], dtype='<U9')"
            ]
          },
          "metadata": {
            "tags": []
          },
          "execution_count": 19
        }
      ]
    },
    {
      "cell_type": "code",
      "metadata": {
        "colab": {
          "base_uri": "https://localhost:8080/"
        },
        "id": "U7lboBeiu_qG",
        "outputId": "739937b2-f713-4527-9b4c-26a7393fce9d"
      },
      "source": [
        "#Classification Report\n",
        "predictions = model.predict(X_test)\n",
        "predicted_indexes= np.argmax(predictions, axis=1)\n",
        "print(classification_report(y_test, predicted_indexes,target_names = genres))"
      ],
      "execution_count": 20,
      "outputs": [
        {
          "output_type": "stream",
          "text": [
            "              precision    recall  f1-score   support\n",
            "\n",
            "       blues       0.80      0.73      0.76       254\n",
            "   classical       0.85      0.93      0.89       227\n",
            "     country       0.68      0.69      0.68       263\n",
            "       disco       0.75      0.66      0.70       229\n",
            "      hiphop       0.76      0.72      0.74       228\n",
            "        jazz       0.86      0.75      0.80       259\n",
            "       metal       0.86      0.84      0.85       240\n",
            "         pop       0.76      0.81      0.78       225\n",
            "      reggae       0.67      0.67      0.67       226\n",
            "        rock       0.43      0.56      0.49       221\n",
            "\n",
            "    accuracy                           0.74      2372\n",
            "   macro avg       0.74      0.73      0.74      2372\n",
            "weighted avg       0.75      0.74      0.74      2372\n",
            "\n"
          ],
          "name": "stdout"
        }
      ]
    },
    {
      "cell_type": "code",
      "metadata": {
        "colab": {
          "base_uri": "https://localhost:8080/"
        },
        "id": "PbR5tCC6u_v_",
        "outputId": "86fa52bb-8b09-4418-a4ce-35d1ea51b7b5"
      },
      "source": [
        "cf = confusion_matrix(y_test, predicted_indexes)\n",
        "cf"
      ],
      "execution_count": 21,
      "outputs": [
        {
          "output_type": "execute_result",
          "data": {
            "text/plain": [
              "array([[185,   0,  22,   2,   2,   9,  11,   0,   4,  19],\n",
              "       [  0, 211,   7,   0,   0,   5,   0,   0,   0,   4],\n",
              "       [  6,   4, 181,  10,   1,   6,   1,   5,   8,  41],\n",
              "       [  9,   1,   3, 151,   2,   0,   4,  12,  19,  28],\n",
              "       [  6,   1,   0,   4, 164,   1,   7,  24,  15,   6],\n",
              "       [ 11,  26,  11,   0,   0, 194,   0,   2,   3,  12],\n",
              "       [  0,   0,   1,   5,   4,   2, 201,   0,   0,  27],\n",
              "       [  0,   0,   8,   7,   9,   2,   0, 183,   8,   8],\n",
              "       [  4,   2,   8,   7,  28,   2,   1,   8, 151,  15],\n",
              "       [  9,   3,  26,  15,   7,   4,   9,   8,  17, 123]])"
            ]
          },
          "metadata": {
            "tags": []
          },
          "execution_count": 21
        }
      ]
    },
    {
      "cell_type": "code",
      "metadata": {
        "colab": {
          "base_uri": "https://localhost:8080/"
        },
        "id": "JQimjMc3vQXl",
        "outputId": "6674fcbf-8277-4ff6-9451-a4005d6f72a4"
      },
      "source": [
        "cf.astype(np.float).sum(axis=1)"
      ],
      "execution_count": 22,
      "outputs": [
        {
          "output_type": "execute_result",
          "data": {
            "text/plain": [
              "array([254., 227., 263., 229., 228., 259., 240., 225., 226., 221.])"
            ]
          },
          "metadata": {
            "tags": []
          },
          "execution_count": 22
        }
      ]
    },
    {
      "cell_type": "code",
      "metadata": {
        "colab": {
          "base_uri": "https://localhost:8080/"
        },
        "id": "bYGwxdXZu_13",
        "outputId": "a88f9dbf-efa6-464a-dc8b-60b21e8ff4fc"
      },
      "source": [
        "n_cf_matrix = cf / cf.astype(np.float).sum(axis=1)\n",
        "print(np.round(n_cf_matrix, 3))"
      ],
      "execution_count": 23,
      "outputs": [
        {
          "output_type": "stream",
          "text": [
            "[[0.728 0.    0.084 0.009 0.009 0.035 0.046 0.    0.018 0.086]\n",
            " [0.    0.93  0.027 0.    0.    0.019 0.    0.    0.    0.018]\n",
            " [0.024 0.018 0.688 0.044 0.004 0.023 0.004 0.022 0.035 0.186]\n",
            " [0.035 0.004 0.011 0.659 0.009 0.    0.017 0.053 0.084 0.127]\n",
            " [0.024 0.004 0.    0.017 0.719 0.004 0.029 0.107 0.066 0.027]\n",
            " [0.043 0.115 0.042 0.    0.    0.749 0.    0.009 0.013 0.054]\n",
            " [0.    0.    0.004 0.022 0.018 0.008 0.838 0.    0.    0.122]\n",
            " [0.    0.    0.03  0.031 0.039 0.008 0.    0.813 0.035 0.036]\n",
            " [0.016 0.009 0.03  0.031 0.123 0.008 0.004 0.036 0.668 0.068]\n",
            " [0.035 0.013 0.099 0.066 0.031 0.015 0.038 0.036 0.075 0.557]]\n"
          ],
          "name": "stdout"
        }
      ]
    },
    {
      "cell_type": "code",
      "metadata": {
        "colab": {
          "base_uri": "https://localhost:8080/",
          "height": 460
        },
        "id": "ckxbFJ64vUnZ",
        "outputId": "bcf35adc-4af9-4802-d173-1b58efcc3b4f"
      },
      "source": [
        "import seaborn as sns\n",
        "plt.figure(figsize=(10,7))\n",
        "sns.heatmap(np.round(n_cf_matrix, 3), \n",
        "            annot=True,\n",
        "            cmap='Blues',\n",
        "            xticklabels = genres,\n",
        "            yticklabels = genres)\n",
        "plt.title('Confusion Matrix for CNN model',pad=20, fontdict={\n",
        "    'fontsize':15\n",
        "})\n",
        "plt.savefig('Confusion_Matrix_for_CNN')"
      ],
      "execution_count": 24,
      "outputs": [
        {
          "output_type": "display_data",
          "data": {
            "image/png": "[encoded data removed]",
            "text/plain": [
              "<Figure size 720x504 with 2 Axes>"
            ]
          },
          "metadata": {
            "tags": [],
            "needs_background": "light"
          }
        }
      ]
    },
    {
      "cell_type": "markdown",
      "metadata": {
        "id": "GjqHQimdFh_m"
      },
      "source": [
        "#Saving CNN Model"
      ]
    },
    {
      "cell_type": "code",
      "metadata": {
        "id": "w_2Qh8IFD6__"
      },
      "source": [
        "import pickle \n",
        "import os"
      ],
      "execution_count": 25,
      "outputs": []
    },
    {
      "cell_type": "code",
      "metadata": {
        "id": "mA3aVYsyD9mk"
      },
      "source": [
        "# model_path = os.path.join(os.getcwd(), 'drive/Sub_Data')\n",
        "# cnn_model = keras.models.load_model(model_path) "
      ],
      "execution_count": 27,
      "outputs": []
    },
    {
      "cell_type": "code",
      "metadata": {
        "id": "DU7yJTC0EDMN"
      },
      "source": [
        "model.save('CNN_model_mfcc13_G.h5')"
      ],
      "execution_count": 28,
      "outputs": []
    },
    {
      "cell_type": "markdown",
      "metadata": {
        "id": "cx6ZCDOEFNM7"
      },
      "source": [
        "#Making Predictions"
      ]
    },
    {
      "cell_type": "code",
      "metadata": {
        "id": "Nw7gPdeSFPyx"
      },
      "source": [
        "# inputs, targets = process_df(df)\n",
        "# encoder = LabelEncoder()\n",
        "# targets = encoder.fit_transform(targets) #encoded the categorical values in our target class \n"
      ],
      "execution_count": 29,
      "outputs": []
    },
    {
      "cell_type": "code",
      "metadata": {
        "id": "EwTENHt_EHHg"
      },
      "source": [
        "def make_prediction(model, X, y):\n",
        "    #adding a dimension to input data since model.predict() expects a 4d array as input\n",
        "    X_to_predict= np.expand_dims(X,0)\n",
        "    # inputs, targets = process_df(df)\n",
        "    # encoder = LabelEncoder()\n",
        "    # targets = encoder.fit_transform(targets)\n",
        "\n",
        "    #perfrom predicition\n",
        "    prediction = model.predict(X_to_predict)\n",
        "    predicted_index = np.argmax(prediction, axis=1)\n",
        "    predicted_output = encoder.inverse_transform([predicted_index])[0]\n",
        "    print(f'Original Label: {encoder.inverse_transform([y_to_predict])[0]} \\n Predicted Output: {predicted_output}')\n",
        "    return predicted_output\n",
        "    #get index with ma "
      ],
      "execution_count": 30,
      "outputs": []
    },
    {
      "cell_type": "code",
      "metadata": {
        "colab": {
          "base_uri": "https://localhost:8080/"
        },
        "id": "vDUKqoJLEd63",
        "outputId": "229ef3ed-86da-4c43-f9fc-1ebcde6a17ca"
      },
      "source": [
        "#Making prediction - picking a sample to predict from the test set\n",
        "X_to_predict = X_test[100]\n",
        "y_to_predict = y_test[100]\n",
        "\n",
        "predicted_output = make_prediction(model, X_to_predict, y_to_predict)"
      ],
      "execution_count": 31,
      "outputs": [
        {
          "output_type": "stream",
          "text": [
            "Original Label: blues \n",
            " Predicted Output: metal\n"
          ],
          "name": "stdout"
        },
        {
          "output_type": "stream",
          "text": [
            "/usr/local/lib/python3.7/dist-packages/sklearn/preprocessing/_label.py:289: DataConversionWarning: A column-vector y was passed when a 1d array was expected. Please change the shape of y to (n_samples, ), for example using ravel().\n",
            "  y = column_or_1d(y, warn=True)\n"
          ],
          "name": "stderr"
        }
      ]
    },
    {
      "cell_type": "code",
      "metadata": {
        "colab": {
          "base_uri": "https://localhost:8080/",
          "height": 125
        },
        "id": "2AYxuOUqEeq6",
        "outputId": "721dec03-eed2-481a-f170-2dbe47c61c5d"
      },
      "source": [
        "#Making prediction - picking a sample to predict from the test set\n",
        "X_to_predict = X_test[600]\n",
        "y_to_predict = y_test[600]\n",
        "\n",
        "make_prediction(model, X_to_predict, y_to_predict)"
      ],
      "execution_count": 32,
      "outputs": [
        {
          "output_type": "stream",
          "text": [
            "Original Label: blues \n",
            " Predicted Output: blues\n"
          ],
          "name": "stdout"
        },
        {
          "output_type": "stream",
          "text": [
            "/usr/local/lib/python3.7/dist-packages/sklearn/preprocessing/_label.py:289: DataConversionWarning: A column-vector y was passed when a 1d array was expected. Please change the shape of y to (n_samples, ), for example using ravel().\n",
            "  y = column_or_1d(y, warn=True)\n"
          ],
          "name": "stderr"
        },
        {
          "output_type": "execute_result",
          "data": {
            "application/vnd.google.colaboratory.intrinsic+json": {
              "type": "string"
            },
            "text/plain": [
              "'blues'"
            ]
          },
          "metadata": {
            "tags": []
          },
          "execution_count": 32
        }
      ]
    },
    {
      "cell_type": "code",
      "metadata": {
        "colab": {
          "base_uri": "https://localhost:8080/",
          "height": 125
        },
        "id": "bBKeRuvJEf3Z",
        "outputId": "f9726a8f-8d7c-4841-aac6-3b6b5bbe3c5e"
      },
      "source": [
        "#Making prediction - picking a sample to predict from the test set\n",
        "X_to_predict = X_test[-1]\n",
        "y_to_predict = y_test[-1]\n",
        "\n",
        "make_prediction(model, X_to_predict, y_to_predict)"
      ],
      "execution_count": 33,
      "outputs": [
        {
          "output_type": "stream",
          "text": [
            "Original Label: classical \n",
            " Predicted Output: classical\n"
          ],
          "name": "stdout"
        },
        {
          "output_type": "stream",
          "text": [
            "/usr/local/lib/python3.7/dist-packages/sklearn/preprocessing/_label.py:289: DataConversionWarning: A column-vector y was passed when a 1d array was expected. Please change the shape of y to (n_samples, ), for example using ravel().\n",
            "  y = column_or_1d(y, warn=True)\n"
          ],
          "name": "stderr"
        },
        {
          "output_type": "execute_result",
          "data": {
            "application/vnd.google.colaboratory.intrinsic+json": {
              "type": "string"
            },
            "text/plain": [
              "'classical'"
            ]
          },
          "metadata": {
            "tags": []
          },
          "execution_count": 33
        }
      ]
    },
    {
      "cell_type": "code",
      "metadata": {
        "colab": {
          "base_uri": "https://localhost:8080/",
          "height": 125
        },
        "id": "CX3LVibpEh1c",
        "outputId": "3e39046d-c6d8-45d0-b6ac-86e791a422b7"
      },
      "source": [
        "#Making prediction - picking a sample to predict from the test set\n",
        "X_to_predict = X_test[232]\n",
        "y_to_predict = y_test[232]\n",
        "\n",
        "make_prediction(model, X_to_predict, y_to_predict)"
      ],
      "execution_count": 34,
      "outputs": [
        {
          "output_type": "stream",
          "text": [
            "Original Label: classical \n",
            " Predicted Output: classical\n"
          ],
          "name": "stdout"
        },
        {
          "output_type": "stream",
          "text": [
            "/usr/local/lib/python3.7/dist-packages/sklearn/preprocessing/_label.py:289: DataConversionWarning: A column-vector y was passed when a 1d array was expected. Please change the shape of y to (n_samples, ), for example using ravel().\n",
            "  y = column_or_1d(y, warn=True)\n"
          ],
          "name": "stderr"
        },
        {
          "output_type": "execute_result",
          "data": {
            "application/vnd.google.colaboratory.intrinsic+json": {
              "type": "string"
            },
            "text/plain": [
              "'classical'"
            ]
          },
          "metadata": {
            "tags": []
          },
          "execution_count": 34
        }
      ]
    },
    {
      "cell_type": "code",
      "metadata": {
        "colab": {
          "base_uri": "https://localhost:8080/",
          "height": 125
        },
        "id": "TsgUdLMNEjPa",
        "outputId": "6198484e-2a01-49a0-fe5f-4c264b35fb57"
      },
      "source": [
        "#Making prediction - picking a sample to predict from the test set\n",
        "X_to_predict = X_test[1948]\n",
        "y_to_predict = y_test[1948]\n",
        "\n",
        "make_prediction(model, X_to_predict, y_to_predict)"
      ],
      "execution_count": 35,
      "outputs": [
        {
          "output_type": "stream",
          "text": [
            "Original Label: reggae \n",
            " Predicted Output: reggae\n"
          ],
          "name": "stdout"
        },
        {
          "output_type": "stream",
          "text": [
            "/usr/local/lib/python3.7/dist-packages/sklearn/preprocessing/_label.py:289: DataConversionWarning: A column-vector y was passed when a 1d array was expected. Please change the shape of y to (n_samples, ), for example using ravel().\n",
            "  y = column_or_1d(y, warn=True)\n"
          ],
          "name": "stderr"
        },
        {
          "output_type": "execute_result",
          "data": {
            "application/vnd.google.colaboratory.intrinsic+json": {
              "type": "string"
            },
            "text/plain": [
              "'reggae'"
            ]
          },
          "metadata": {
            "tags": []
          },
          "execution_count": 35
        }
      ]
    },
    {
      "cell_type": "code",
      "metadata": {
        "id": "pnF77nhZv15E"
      },
      "source": [
        ""
      ],
      "execution_count": null,
      "outputs": []
    }
  ]
}