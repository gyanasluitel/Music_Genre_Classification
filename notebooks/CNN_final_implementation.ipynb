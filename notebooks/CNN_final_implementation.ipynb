{
  "nbformat": 4,
  "nbformat_minor": 0,
  "metadata": {
    "colab": {
      "name": "CNN_final_implementation_G.ipynb",
      "provenance": [],
      "collapsed_sections": []
    },
    "kernelspec": {
      "name": "python3",
      "display_name": "Python 3"
    },
    "language_info": {
      "name": "python"
    }
  },
  "cells": [
    {
      "cell_type": "code",
      "metadata": {
        "id": "Wlk0NraorcxO"
      },
      "source": [
        "import pandas as pd\n",
        "import numpy as np\n",
        "import os\n",
        "from sklearn.model_selection import train_test_split"
      ],
      "execution_count": 1,
      "outputs": []
    },
    {
      "cell_type": "code",
      "metadata": {
        "id": "-VY1b89VJfah"
      },
      "source": [
        "from sklearn.metrics import classification_report, confusion_matrix"
      ],
      "execution_count": 2,
      "outputs": []
    },
    {
      "cell_type": "code",
      "metadata": {
        "id": "e03VN3-iQTQg"
      },
      "source": [
        "import math"
      ],
      "execution_count": 3,
      "outputs": []
    },
    {
      "cell_type": "code",
      "metadata": {
        "id": "NS5SNikxQYZE"
      },
      "source": [
        "import librosa"
      ],
      "execution_count": 4,
      "outputs": []
    },
    {
      "cell_type": "code",
      "metadata": {
        "colab": {
          "base_uri": "https://localhost:8080/"
        },
        "id": "BelCQA1or0ZN",
        "outputId": "71ed39e0-ca9b-4e13-ee3b-ecb0273cbf24"
      },
      "source": [
        "from google.colab import drive\n",
        "drive.mount('/content/drive')"
      ],
      "execution_count": 5,
      "outputs": [
        {
          "output_type": "stream",
          "text": [
            "Mounted at /content/drive\n"
          ],
          "name": "stdout"
        }
      ]
    },
    {
      "cell_type": "code",
      "metadata": {
        "id": "B9z-5K7Rr6vh"
      },
      "source": [
        "import pickle"
      ],
      "execution_count": 6,
      "outputs": []
    },
    {
      "cell_type": "code",
      "metadata": {
        "id": "R6d3rEIeGDjY"
      },
      "source": [
        "import keras"
      ],
      "execution_count": 7,
      "outputs": []
    },
    {
      "cell_type": "code",
      "metadata": {
        "id": "-YZPWhxP5Jwp"
      },
      "source": [
        "from keras import layers, Sequential\n",
        "from sklearn.preprocessing import LabelEncoder, StandardScaler"
      ],
      "execution_count": 8,
      "outputs": []
    },
    {
      "cell_type": "code",
      "metadata": {
        "id": "sGSaZniDKrVy"
      },
      "source": [
        "import matplotlib.pyplot as plt\n",
        "%matplotlib inline"
      ],
      "execution_count": 9,
      "outputs": []
    },
    {
      "cell_type": "code",
      "metadata": {
        "id": "2_wuKpeFsB4f"
      },
      "source": [
        "df_path= os.getcwd()+'/drive/MyDrive/Sub_Data/data_13_G.pickle'"
      ],
      "execution_count": 10,
      "outputs": []
    },
    {
      "cell_type": "code",
      "metadata": {
        "colab": {
          "base_uri": "https://localhost:8080/",
          "height": 444
        },
        "id": "RTyWizDSsDyX",
        "outputId": "12aa4978-c7e2-4407-90f4-06bd1c533890"
      },
      "source": [
        "df = pd.read_pickle(df_path)\n",
        "df"
      ],
      "execution_count": 11,
      "outputs": [
        {
          "output_type": "execute_result",
          "data": {
            "text/html": [
              "<div>\n",
              "<style scoped>\n",
              "    .dataframe tbody tr th:only-of-type {\n",
              "        vertical-align: middle;\n",
              "    }\n",
              "\n",
              "    .dataframe tbody tr th {\n",
              "        vertical-align: top;\n",
              "    }\n",
              "\n",
              "    .dataframe thead th {\n",
              "        text-align: right;\n",
              "    }\n",
              "</style>\n",
              "<table border=\"1\" class=\"dataframe\">\n",
              "  <thead>\n",
              "    <tr style=\"text-align: right;\">\n",
              "      <th></th>\n",
              "      <th>mfcc_1</th>\n",
              "      <th>mfcc_2</th>\n",
              "      <th>mfcc_3</th>\n",
              "      <th>mfcc_4</th>\n",
              "      <th>mfcc_5</th>\n",
              "      <th>mfcc_6</th>\n",
              "      <th>mfcc_7</th>\n",
              "      <th>mfcc_8</th>\n",
              "      <th>mfcc_9</th>\n",
              "      <th>mfcc_10</th>\n",
              "      <th>mfcc_11</th>\n",
              "      <th>mfcc_12</th>\n",
              "      <th>mfcc_13</th>\n",
              "      <th>Labels</th>\n",
              "    </tr>\n",
              "  </thead>\n",
              "  <tbody>\n",
              "    <tr>\n",
              "      <th>0</th>\n",
              "      <td>27.555986</td>\n",
              "      <td>88.491943</td>\n",
              "      <td>-20.645388</td>\n",
              "      <td>18.461662</td>\n",
              "      <td>-22.876869</td>\n",
              "      <td>26.373840</td>\n",
              "      <td>-7.842380</td>\n",
              "      <td>5.040419</td>\n",
              "      <td>-10.529922</td>\n",
              "      <td>30.722309</td>\n",
              "      <td>8.053223</td>\n",
              "      <td>25.249620</td>\n",
              "      <td>-3.851202</td>\n",
              "      <td>disco</td>\n",
              "    </tr>\n",
              "    <tr>\n",
              "      <th>1</th>\n",
              "      <td>21.160398</td>\n",
              "      <td>99.239639</td>\n",
              "      <td>-33.311604</td>\n",
              "      <td>24.493477</td>\n",
              "      <td>-17.089005</td>\n",
              "      <td>25.532211</td>\n",
              "      <td>-5.425315</td>\n",
              "      <td>11.550676</td>\n",
              "      <td>-12.097195</td>\n",
              "      <td>27.441135</td>\n",
              "      <td>0.058880</td>\n",
              "      <td>19.927771</td>\n",
              "      <td>-11.912487</td>\n",
              "      <td>disco</td>\n",
              "    </tr>\n",
              "    <tr>\n",
              "      <th>2</th>\n",
              "      <td>-13.337629</td>\n",
              "      <td>112.291656</td>\n",
              "      <td>-48.217140</td>\n",
              "      <td>38.652039</td>\n",
              "      <td>-11.287874</td>\n",
              "      <td>30.100903</td>\n",
              "      <td>-4.544308</td>\n",
              "      <td>16.824894</td>\n",
              "      <td>-15.798969</td>\n",
              "      <td>27.857822</td>\n",
              "      <td>-13.360273</td>\n",
              "      <td>20.098824</td>\n",
              "      <td>-20.572792</td>\n",
              "      <td>disco</td>\n",
              "    </tr>\n",
              "    <tr>\n",
              "      <th>3</th>\n",
              "      <td>-40.871708</td>\n",
              "      <td>116.767059</td>\n",
              "      <td>-47.124802</td>\n",
              "      <td>49.234226</td>\n",
              "      <td>-17.217890</td>\n",
              "      <td>37.331268</td>\n",
              "      <td>-0.842096</td>\n",
              "      <td>16.252968</td>\n",
              "      <td>-20.979574</td>\n",
              "      <td>27.505018</td>\n",
              "      <td>-24.680790</td>\n",
              "      <td>19.476368</td>\n",
              "      <td>-18.812157</td>\n",
              "      <td>disco</td>\n",
              "    </tr>\n",
              "    <tr>\n",
              "      <th>4</th>\n",
              "      <td>-67.497528</td>\n",
              "      <td>117.398331</td>\n",
              "      <td>-47.275208</td>\n",
              "      <td>47.681198</td>\n",
              "      <td>-16.081495</td>\n",
              "      <td>43.743324</td>\n",
              "      <td>13.473402</td>\n",
              "      <td>14.318071</td>\n",
              "      <td>-27.892868</td>\n",
              "      <td>20.559271</td>\n",
              "      <td>-31.776064</td>\n",
              "      <td>17.269453</td>\n",
              "      <td>-14.578279</td>\n",
              "      <td>disco</td>\n",
              "    </tr>\n",
              "    <tr>\n",
              "      <th>...</th>\n",
              "      <td>...</td>\n",
              "      <td>...</td>\n",
              "      <td>...</td>\n",
              "      <td>...</td>\n",
              "      <td>...</td>\n",
              "      <td>...</td>\n",
              "      <td>...</td>\n",
              "      <td>...</td>\n",
              "      <td>...</td>\n",
              "      <td>...</td>\n",
              "      <td>...</td>\n",
              "      <td>...</td>\n",
              "      <td>...</td>\n",
              "      <td>...</td>\n",
              "    </tr>\n",
              "    <tr>\n",
              "      <th>1233175</th>\n",
              "      <td>-101.685333</td>\n",
              "      <td>23.818932</td>\n",
              "      <td>0.495472</td>\n",
              "      <td>30.757507</td>\n",
              "      <td>17.166796</td>\n",
              "      <td>16.255051</td>\n",
              "      <td>18.272770</td>\n",
              "      <td>9.566826</td>\n",
              "      <td>11.331477</td>\n",
              "      <td>4.932149</td>\n",
              "      <td>9.956822</td>\n",
              "      <td>12.857517</td>\n",
              "      <td>7.169489</td>\n",
              "      <td>reggae</td>\n",
              "    </tr>\n",
              "    <tr>\n",
              "      <th>1233176</th>\n",
              "      <td>-136.458862</td>\n",
              "      <td>21.216267</td>\n",
              "      <td>-1.512686</td>\n",
              "      <td>37.810467</td>\n",
              "      <td>22.128681</td>\n",
              "      <td>20.463276</td>\n",
              "      <td>16.296101</td>\n",
              "      <td>12.380598</td>\n",
              "      <td>18.769466</td>\n",
              "      <td>8.667844</td>\n",
              "      <td>15.075156</td>\n",
              "      <td>15.303005</td>\n",
              "      <td>7.611032</td>\n",
              "      <td>reggae</td>\n",
              "    </tr>\n",
              "    <tr>\n",
              "      <th>1233177</th>\n",
              "      <td>-167.509811</td>\n",
              "      <td>25.255136</td>\n",
              "      <td>0.489490</td>\n",
              "      <td>48.138466</td>\n",
              "      <td>27.790737</td>\n",
              "      <td>23.130043</td>\n",
              "      <td>17.280693</td>\n",
              "      <td>13.791199</td>\n",
              "      <td>17.217871</td>\n",
              "      <td>7.926507</td>\n",
              "      <td>13.045273</td>\n",
              "      <td>12.954222</td>\n",
              "      <td>9.367888</td>\n",
              "      <td>reggae</td>\n",
              "    </tr>\n",
              "    <tr>\n",
              "      <th>1233178</th>\n",
              "      <td>-152.141953</td>\n",
              "      <td>51.688583</td>\n",
              "      <td>-4.779652</td>\n",
              "      <td>27.629368</td>\n",
              "      <td>14.154837</td>\n",
              "      <td>21.258694</td>\n",
              "      <td>11.772314</td>\n",
              "      <td>17.563957</td>\n",
              "      <td>16.069324</td>\n",
              "      <td>20.217516</td>\n",
              "      <td>16.887005</td>\n",
              "      <td>8.754175</td>\n",
              "      <td>-7.446566</td>\n",
              "      <td>reggae</td>\n",
              "    </tr>\n",
              "    <tr>\n",
              "      <th>1233179</th>\n",
              "      <td>-122.472549</td>\n",
              "      <td>60.572250</td>\n",
              "      <td>-2.877283</td>\n",
              "      <td>10.160194</td>\n",
              "      <td>5.135730</td>\n",
              "      <td>20.476721</td>\n",
              "      <td>2.254365</td>\n",
              "      <td>16.538300</td>\n",
              "      <td>6.136049</td>\n",
              "      <td>24.907104</td>\n",
              "      <td>14.526672</td>\n",
              "      <td>6.741484</td>\n",
              "      <td>-13.376986</td>\n",
              "      <td>reggae</td>\n",
              "    </tr>\n",
              "  </tbody>\n",
              "</table>\n",
              "<p>1233180 rows × 14 columns</p>\n",
              "</div>"
            ],
            "text/plain": [
              "             mfcc_1      mfcc_2     mfcc_3  ...    mfcc_12    mfcc_13  Labels\n",
              "0         27.555986   88.491943 -20.645388  ...  25.249620  -3.851202   disco\n",
              "1         21.160398   99.239639 -33.311604  ...  19.927771 -11.912487   disco\n",
              "2        -13.337629  112.291656 -48.217140  ...  20.098824 -20.572792   disco\n",
              "3        -40.871708  116.767059 -47.124802  ...  19.476368 -18.812157   disco\n",
              "4        -67.497528  117.398331 -47.275208  ...  17.269453 -14.578279   disco\n",
              "...             ...         ...        ...  ...        ...        ...     ...\n",
              "1233175 -101.685333   23.818932   0.495472  ...  12.857517   7.169489  reggae\n",
              "1233176 -136.458862   21.216267  -1.512686  ...  15.303005   7.611032  reggae\n",
              "1233177 -167.509811   25.255136   0.489490  ...  12.954222   9.367888  reggae\n",
              "1233178 -152.141953   51.688583  -4.779652  ...   8.754175  -7.446566  reggae\n",
              "1233179 -122.472549   60.572250  -2.877283  ...   6.741484 -13.376986  reggae\n",
              "\n",
              "[1233180 rows x 14 columns]"
            ]
          },
          "metadata": {
            "tags": []
          },
          "execution_count": 11
        }
      ]
    },
    {
      "cell_type": "code",
      "metadata": {
        "id": "E0IRM96psFt9"
      },
      "source": [
        "def process_df(df):\n",
        "    '''\n",
        "    Input: dataframe object\n",
        "    Output: returns a 3d nparray\n",
        "    '''\n",
        "    inputs = df.iloc[0*130:0+1*130,:-1] #getting the first 130 rows\n",
        "    inputs = np.expand_dims(inputs,0)   #expanding the shape of the array by inserting a new axis at the first position\n",
        "    targets= [df.iloc[0*130,-1]]\n",
        "    for i in range(1, int(df.shape[0]/130)): #repeating the above process for the entirety of the remaining dataset\n",
        "        dummy_x = df.iloc[i*130:(i+1)*130, :-1].values\n",
        "        dummy_x = np.expand_dims(dummy_x,0)\n",
        "        dummy_y = df.iloc[i*130,-1]\n",
        "        inputs = np.concatenate((inputs, dummy_x), axis=0)\n",
        "        targets.append(dummy_y)\n",
        "    return inputs, targets"
      ],
      "execution_count": 12,
      "outputs": []
    },
    {
      "cell_type": "code",
      "metadata": {
        "id": "FvR66PQN5vGN"
      },
      "source": [
        "def split_data(df, test_size, validation_size):\n",
        "    '''\n",
        "    Input: A dataframe\n",
        "    Ouput: return the train, test and validation set \n",
        "    '''\n",
        "    # inputs, targets = process_df(df)\n",
        "    # encoder = LabelEncoder()\n",
        "    # targets = encoder.fit_transform(targets) #encoded the categorical values in our target class \n",
        "\n",
        "    #Splitting data into train and test sets\n",
        "    inputs_train, inputs_test, targets_train, targets_test = train_test_split(inputs, targets, test_size = test_size)\n",
        "\n",
        "    #Splitting train data into train and validation sets\n",
        "    inputs_train, inputs_validation, targets_train, targets_validation = train_test_split(inputs_train, targets_train, test_size = validation_size)\n",
        "\n",
        "    #adding an axis to input sets\n",
        "    inputs_train = np.expand_dims(inputs_train,-1)\n",
        "    inputs_validation = np.expand_dims(inputs_validation,-1)\n",
        "    inputs_test = np.expand_dims(inputs_test,-1)\n",
        "\n",
        "    return inputs_train, inputs_validation, inputs_test, targets_train, targets_validation, targets_test\n"
      ],
      "execution_count": 13,
      "outputs": []
    },
    {
      "cell_type": "code",
      "metadata": {
        "id": "heEP0yxe_a-c"
      },
      "source": [
        "def build_model(input_shape):\n",
        "    '''Generates CNN model'''\n",
        "\n",
        "    #build network topology\n",
        "    model = keras.Sequential()\n",
        "\n",
        "    #1st convolutional layer\n",
        "    model.add(keras.layers.Conv2D(32,(3,3), activation = 'relu', input_shape = input_shape))\n",
        "    model.add(keras.layers.MaxPooling2D((3,3), strides = (2,2), padding='same'))\n",
        "    model.add(keras.layers.BatchNormalization())\n",
        "\n",
        "    #2st convolutional layer\n",
        "    model.add(keras.layers.Conv2D(32,(3,3), activation = 'relu'))\n",
        "    model.add(keras.layers.MaxPooling2D((3,3), strides = (2,2), padding='same'))\n",
        "    model.add(keras.layers.BatchNormalization())\n",
        "\n",
        "    #3rd convolutional layer\n",
        "    model.add(keras.layers.Conv2D(32,(2,2), activation ='relu'))\n",
        "    model.add(keras.layers.MaxPooling2D((2,2), strides = (2,2), padding='same'))\n",
        "    model.add(keras.layers.BatchNormalization())\n",
        "\n",
        "    #flatten output and feed it into dense layer\n",
        "    model.add(keras.layers.Flatten())\n",
        "    model.add(keras.layers.Dense(64, activation='relu'))\n",
        "    model.add(keras.layers.Dropout(0.3))\n",
        "\n",
        "    #output layer\n",
        "    model.add(keras.layers.Dense(10, activation='softmax'))\n",
        "\n",
        "    return model"
      ],
      "execution_count": 14,
      "outputs": []
    },
    {
      "cell_type": "code",
      "metadata": {
        "colab": {
          "base_uri": "https://localhost:8080/"
        },
        "id": "hohyKIzoB5HV",
        "outputId": "c50d6042-d372-4bbc-ad4a-509a149c7236"
      },
      "source": [
        "if __name__ == '__main__':\n",
        "    inputs, targets = process_df(df)\n",
        "    encoder = LabelEncoder()\n",
        "    targets = encoder.fit_transform(targets) #encoded the categorical values in our target class \n",
        "\n",
        "    #get train, validation, test splits\n",
        "    X_train, X_validation, X_test, y_train, y_validation, y_test = split_data(df, 0.25,0.2)\n",
        "    print(f'Shape of X_train: {X_train.shape}')\n",
        "    print(f'Shape of X_train: {X_validation.shape}')\n",
        "    print(f'Shape of X_train: {X_test.shape}')\n",
        "\n",
        "    #create network \n",
        "    input_shape = (X_train.shape[1], X_train.shape[2],1)\n",
        "    model = build_model(input_shape)\n",
        "\n",
        "    #compile model\n",
        "    optimiser = keras.optimizers.Adam(learning_rate = 0.0001)\n",
        "    model.compile(optimizer = optimiser, \n",
        "                  loss='sparse_categorical_crossentropy',\n",
        "                  metrics = ['accuracy'])\n",
        "    model.summary()\n",
        "\n",
        "    #train modle\n",
        "    history = model.fit(X_train, y_train, validation_data=(X_validation,y_validation), batch_size=32,  epochs = 50)"
      ],
      "execution_count": 15,
      "outputs": [
        {
          "output_type": "stream",
          "text": [
            "Shape of X_train: (5691, 130, 13, 1)\n",
            "Shape of X_train: (1423, 130, 13, 1)\n",
            "Shape of X_train: (2372, 130, 13, 1)\n",
            "Model: \"sequential\"\n",
            "_________________________________________________________________\n",
            "Layer (type)                 Output Shape              Param #   \n",
            "=================================================================\n",
            "conv2d (Conv2D)              (None, 128, 11, 32)       320       \n",
            "_________________________________________________________________\n",
            "max_pooling2d (MaxPooling2D) (None, 64, 6, 32)         0         \n",
            "_________________________________________________________________\n",
            "batch_normalization (BatchNo (None, 64, 6, 32)         128       \n",
            "_________________________________________________________________\n",
            "conv2d_1 (Conv2D)            (None, 62, 4, 32)         9248      \n",
            "_________________________________________________________________\n",
            "max_pooling2d_1 (MaxPooling2 (None, 31, 2, 32)         0         \n",
            "_________________________________________________________________\n",
            "batch_normalization_1 (Batch (None, 31, 2, 32)         128       \n",
            "_________________________________________________________________\n",
            "conv2d_2 (Conv2D)            (None, 30, 1, 32)         4128      \n",
            "_________________________________________________________________\n",
            "max_pooling2d_2 (MaxPooling2 (None, 15, 1, 32)         0         \n",
            "_________________________________________________________________\n",
            "batch_normalization_2 (Batch (None, 15, 1, 32)         128       \n",
            "_________________________________________________________________\n",
            "flatten (Flatten)            (None, 480)               0         \n",
            "_________________________________________________________________\n",
            "dense (Dense)                (None, 64)                30784     \n",
            "_________________________________________________________________\n",
            "dropout (Dropout)            (None, 64)                0         \n",
            "_________________________________________________________________\n",
            "dense_1 (Dense)              (None, 10)                650       \n",
            "=================================================================\n",
            "Total params: 45,514\n",
            "Trainable params: 45,322\n",
            "Non-trainable params: 192\n",
            "_________________________________________________________________\n",
            "Epoch 1/50\n",
            "178/178 [==============================] - 26s 57ms/step - loss: 2.6857 - accuracy: 0.1644 - val_loss: 1.8788 - val_accuracy: 0.3345\n",
            "Epoch 2/50\n",
            "178/178 [==============================] - 10s 55ms/step - loss: 1.9651 - accuracy: 0.3239 - val_loss: 1.5731 - val_accuracy: 0.4399\n",
            "Epoch 3/50\n",
            "178/178 [==============================] - 10s 55ms/step - loss: 1.7079 - accuracy: 0.4008 - val_loss: 1.4314 - val_accuracy: 0.4814\n",
            "Epoch 4/50\n",
            "178/178 [==============================] - 10s 56ms/step - loss: 1.5496 - accuracy: 0.4515 - val_loss: 1.3357 - val_accuracy: 0.5123\n",
            "Epoch 5/50\n",
            "178/178 [==============================] - 10s 55ms/step - loss: 1.4423 - accuracy: 0.4852 - val_loss: 1.2639 - val_accuracy: 0.5362\n",
            "Epoch 6/50\n",
            "178/178 [==============================] - 10s 56ms/step - loss: 1.3571 - accuracy: 0.5251 - val_loss: 1.2390 - val_accuracy: 0.5453\n",
            "Epoch 7/50\n",
            "178/178 [==============================] - 10s 56ms/step - loss: 1.3173 - accuracy: 0.5316 - val_loss: 1.1934 - val_accuracy: 0.5699\n",
            "Epoch 8/50\n",
            "178/178 [==============================] - 10s 56ms/step - loss: 1.2382 - accuracy: 0.5510 - val_loss: 1.1474 - val_accuracy: 0.5854\n",
            "Epoch 9/50\n",
            "178/178 [==============================] - 10s 57ms/step - loss: 1.1846 - accuracy: 0.5820 - val_loss: 1.0989 - val_accuracy: 0.6086\n",
            "Epoch 10/50\n",
            "178/178 [==============================] - 10s 56ms/step - loss: 1.1285 - accuracy: 0.5991 - val_loss: 1.0741 - val_accuracy: 0.6128\n",
            "Epoch 11/50\n",
            "178/178 [==============================] - 10s 56ms/step - loss: 1.1021 - accuracy: 0.6036 - val_loss: 1.0558 - val_accuracy: 0.6198\n",
            "Epoch 12/50\n",
            "178/178 [==============================] - 10s 56ms/step - loss: 1.0836 - accuracy: 0.6240 - val_loss: 1.0229 - val_accuracy: 0.6381\n",
            "Epoch 13/50\n",
            "178/178 [==============================] - 10s 57ms/step - loss: 1.0318 - accuracy: 0.6346 - val_loss: 1.0032 - val_accuracy: 0.6528\n",
            "Epoch 14/50\n",
            "178/178 [==============================] - 10s 56ms/step - loss: 1.0266 - accuracy: 0.6348 - val_loss: 0.9830 - val_accuracy: 0.6521\n",
            "Epoch 15/50\n",
            "178/178 [==============================] - 10s 55ms/step - loss: 0.9794 - accuracy: 0.6503 - val_loss: 0.9685 - val_accuracy: 0.6655\n",
            "Epoch 16/50\n",
            "178/178 [==============================] - 10s 56ms/step - loss: 0.9378 - accuracy: 0.6702 - val_loss: 0.9545 - val_accuracy: 0.6683\n",
            "Epoch 17/50\n",
            "178/178 [==============================] - 10s 56ms/step - loss: 0.9302 - accuracy: 0.6835 - val_loss: 0.9491 - val_accuracy: 0.6599\n",
            "Epoch 18/50\n",
            "178/178 [==============================] - 10s 56ms/step - loss: 0.8703 - accuracy: 0.6946 - val_loss: 0.9182 - val_accuracy: 0.6781\n",
            "Epoch 19/50\n",
            "178/178 [==============================] - 10s 57ms/step - loss: 0.8820 - accuracy: 0.7018 - val_loss: 0.9059 - val_accuracy: 0.6901\n",
            "Epoch 20/50\n",
            "178/178 [==============================] - 10s 57ms/step - loss: 0.8681 - accuracy: 0.6895 - val_loss: 0.9186 - val_accuracy: 0.6697\n",
            "Epoch 21/50\n",
            "178/178 [==============================] - 10s 56ms/step - loss: 0.8712 - accuracy: 0.6872 - val_loss: 0.8821 - val_accuracy: 0.6873\n",
            "Epoch 22/50\n",
            "178/178 [==============================] - 10s 57ms/step - loss: 0.7940 - accuracy: 0.7221 - val_loss: 0.8667 - val_accuracy: 0.6978\n",
            "Epoch 23/50\n",
            "178/178 [==============================] - 10s 57ms/step - loss: 0.7817 - accuracy: 0.7300 - val_loss: 0.8515 - val_accuracy: 0.7041\n",
            "Epoch 24/50\n",
            "178/178 [==============================] - 10s 56ms/step - loss: 0.7668 - accuracy: 0.7348 - val_loss: 0.8495 - val_accuracy: 0.7105\n",
            "Epoch 25/50\n",
            "178/178 [==============================] - 10s 57ms/step - loss: 0.7696 - accuracy: 0.7278 - val_loss: 0.8537 - val_accuracy: 0.7020\n",
            "Epoch 26/50\n",
            "178/178 [==============================] - 10s 57ms/step - loss: 0.7578 - accuracy: 0.7328 - val_loss: 0.8264 - val_accuracy: 0.7140\n",
            "Epoch 27/50\n",
            "178/178 [==============================] - 10s 56ms/step - loss: 0.7255 - accuracy: 0.7480 - val_loss: 0.8466 - val_accuracy: 0.7063\n",
            "Epoch 28/50\n",
            "178/178 [==============================] - 10s 57ms/step - loss: 0.7158 - accuracy: 0.7559 - val_loss: 0.8336 - val_accuracy: 0.7119\n",
            "Epoch 29/50\n",
            "178/178 [==============================] - 10s 58ms/step - loss: 0.7272 - accuracy: 0.7471 - val_loss: 0.8328 - val_accuracy: 0.7034\n",
            "Epoch 30/50\n",
            "178/178 [==============================] - 10s 58ms/step - loss: 0.6894 - accuracy: 0.7607 - val_loss: 0.8207 - val_accuracy: 0.7196\n",
            "Epoch 31/50\n",
            "178/178 [==============================] - 10s 56ms/step - loss: 0.6886 - accuracy: 0.7609 - val_loss: 0.8178 - val_accuracy: 0.7140\n",
            "Epoch 32/50\n",
            "178/178 [==============================] - 10s 57ms/step - loss: 0.6566 - accuracy: 0.7694 - val_loss: 0.8186 - val_accuracy: 0.7119\n",
            "Epoch 33/50\n",
            "178/178 [==============================] - 10s 58ms/step - loss: 0.6491 - accuracy: 0.7752 - val_loss: 0.7954 - val_accuracy: 0.7252\n",
            "Epoch 34/50\n",
            "178/178 [==============================] - 10s 58ms/step - loss: 0.6288 - accuracy: 0.7854 - val_loss: 0.8003 - val_accuracy: 0.7168\n",
            "Epoch 35/50\n",
            "178/178 [==============================] - 10s 57ms/step - loss: 0.6151 - accuracy: 0.7851 - val_loss: 0.7850 - val_accuracy: 0.7266\n",
            "Epoch 36/50\n",
            "178/178 [==============================] - 10s 58ms/step - loss: 0.5972 - accuracy: 0.7962 - val_loss: 0.7992 - val_accuracy: 0.7252\n",
            "Epoch 37/50\n",
            "178/178 [==============================] - 10s 57ms/step - loss: 0.5913 - accuracy: 0.7993 - val_loss: 0.8141 - val_accuracy: 0.7182\n",
            "Epoch 38/50\n",
            "178/178 [==============================] - 10s 57ms/step - loss: 0.5690 - accuracy: 0.8092 - val_loss: 0.7767 - val_accuracy: 0.7323\n",
            "Epoch 39/50\n",
            "178/178 [==============================] - 10s 57ms/step - loss: 0.5580 - accuracy: 0.8025 - val_loss: 0.7855 - val_accuracy: 0.7203\n",
            "Epoch 40/50\n",
            "178/178 [==============================] - 10s 58ms/step - loss: 0.5488 - accuracy: 0.8101 - val_loss: 0.7878 - val_accuracy: 0.7294\n",
            "Epoch 41/50\n",
            "178/178 [==============================] - 10s 58ms/step - loss: 0.5443 - accuracy: 0.8114 - val_loss: 0.7631 - val_accuracy: 0.7330\n",
            "Epoch 42/50\n",
            "178/178 [==============================] - 10s 58ms/step - loss: 0.5383 - accuracy: 0.8071 - val_loss: 0.8290 - val_accuracy: 0.7147\n",
            "Epoch 43/50\n",
            "178/178 [==============================] - 10s 57ms/step - loss: 0.5191 - accuracy: 0.8281 - val_loss: 0.7690 - val_accuracy: 0.7379\n",
            "Epoch 44/50\n",
            "178/178 [==============================] - 10s 57ms/step - loss: 0.4957 - accuracy: 0.8256 - val_loss: 0.7566 - val_accuracy: 0.7428\n",
            "Epoch 45/50\n",
            "178/178 [==============================] - 10s 58ms/step - loss: 0.5046 - accuracy: 0.8334 - val_loss: 0.7682 - val_accuracy: 0.7358\n",
            "Epoch 46/50\n",
            "178/178 [==============================] - 10s 59ms/step - loss: 0.5103 - accuracy: 0.8313 - val_loss: 0.7573 - val_accuracy: 0.7414\n",
            "Epoch 47/50\n",
            "178/178 [==============================] - 11s 60ms/step - loss: 0.4953 - accuracy: 0.8335 - val_loss: 0.7580 - val_accuracy: 0.7323\n",
            "Epoch 48/50\n",
            "178/178 [==============================] - 11s 60ms/step - loss: 0.4716 - accuracy: 0.8332 - val_loss: 0.7792 - val_accuracy: 0.7358\n",
            "Epoch 49/50\n",
            "178/178 [==============================] - 11s 60ms/step - loss: 0.4433 - accuracy: 0.8504 - val_loss: 0.7700 - val_accuracy: 0.7449\n",
            "Epoch 50/50\n",
            "178/178 [==============================] - 10s 59ms/step - loss: 0.4606 - accuracy: 0.8388 - val_loss: 0.7612 - val_accuracy: 0.7449\n"
          ],
          "name": "stdout"
        }
      ]
    },
    {
      "cell_type": "code",
      "metadata": {
        "id": "zRlMYrjHKiTW"
      },
      "source": [
        "def plot_history(history):\n",
        "    \"\"\"Plots accuracy/loss for training/validation set as a function of the epochs\n",
        "        :param history: Training history of model\n",
        "        :return:\n",
        "    \"\"\"\n",
        "\n",
        "    fig, axs = plt.subplots(2, figsize=(10,10))\n",
        "        \n",
        "\n",
        "    # create accuracy sublpot\n",
        "    axs[0].plot(history.history[\"accuracy\"], label=\"train accuracy\",color='b')\n",
        "    axs[0].plot(history.history[\"val_accuracy\"], label=\"validation accuracy\",color='r')\n",
        "    axs[0].set_yticks([0.1,0.2,0.3,0.4,0.5,0.6,0.7,0.8,0.9,1.0])\n",
        "    axs[0].set_ylabel(\"Accuracy\")\n",
        "    axs[0].legend(bbox_to_anchor=(1.05, 1), loc='upper left',prop={'size': 20})\n",
        "    axs[0].set_title(\"Accuracy eval\")\n",
        "\n",
        "    # create error sublpot\n",
        "    axs[1].plot(history.history[\"loss\"], label=\"loss\",color='b')\n",
        "    axs[1].plot(history.history[\"val_loss\"], label=\"validation loss\",color='r')\n",
        "    axs[1].set_ylabel(\"Loss\")\n",
        "    axs[1].set_xlabel(\"Epoch\")\n",
        "    axs[1].legend(bbox_to_anchor=(1.05, 1), loc='upper left', prop={'size': 20})\n",
        "    axs[1].set_title(\"Loss eval\")\n",
        "    fig.tight_layout(pad=3.0)\n",
        "    plt.savefig('CNN_train_validation_accuracy.png')\n",
        "    plt.show()\n",
        "    \n",
        "\n"
      ],
      "execution_count": 24,
      "outputs": []
    },
    {
      "cell_type": "code",
      "metadata": {
        "colab": {
          "base_uri": "https://localhost:8080/",
          "height": 691
        },
        "id": "lzVLiGyIKjB1",
        "outputId": "a643dbff-fd55-460b-b6f3-d41179f5c7e1"
      },
      "source": [
        "plot_history(history)"
      ],
      "execution_count": 25,
      "outputs": [
        {
          "output_type": "display_data",
          "data": {
            "image/png": "[encoded data removed]",
            "text/plain": [
              "<Figure size 720x720 with 2 Axes>"
            ]
          },
          "metadata": {
            "tags": [],
            "needs_background": "light"
          }
        }
      ]
    },
    {
      "cell_type": "markdown",
      "metadata": {
        "id": "O8dMYiBkyZjB"
      },
      "source": [
        "# Evaluating Model"
      ]
    },
    {
      "cell_type": "code",
      "metadata": {
        "colab": {
          "base_uri": "https://localhost:8080/"
        },
        "id": "hML7BhfEu_It",
        "outputId": "3540fc0c-075d-44a4-de2f-569f311e79a9"
      },
      "source": [
        "#Evalution model on test set\n",
        "test_loss, test_acc = model.evaluate(X_test, y_test, verbose = 2)\n",
        "print(f'Test Accuracy: {test_acc}')"
      ],
      "execution_count": 18,
      "outputs": [
        {
          "output_type": "stream",
          "text": [
            "75/75 - 1s - loss: 0.7102 - accuracy: 0.7622\n",
            "Test Accuracy: 0.7622259855270386\n"
          ],
          "name": "stdout"
        }
      ]
    },
    {
      "cell_type": "code",
      "metadata": {
        "colab": {
          "base_uri": "https://localhost:8080/"
        },
        "id": "W6wjPevqu_g9",
        "outputId": "d54c6e1c-76ca-42f7-f4f6-c5ae668ad49f"
      },
      "source": [
        "genres = encoder.inverse_transform(np.unique(targets))\n",
        "genres"
      ],
      "execution_count": 19,
      "outputs": [
        {
          "output_type": "execute_result",
          "data": {
            "text/plain": [
              "array(['blues', 'classical', 'country', 'disco', 'hiphop', 'jazz',\n",
              "       'metal', 'pop', 'reggae', 'rock'], dtype='<U9')"
            ]
          },
          "metadata": {
            "tags": []
          },
          "execution_count": 19
        }
      ]
    },
    {
      "cell_type": "code",
      "metadata": {
        "colab": {
          "base_uri": "https://localhost:8080/"
        },
        "id": "U7lboBeiu_qG",
        "outputId": "2f802904-9209-4066-fec5-8c90b0d4c548"
      },
      "source": [
        "#Classification Report\n",
        "predictions = model.predict(X_test)\n",
        "predicted_indexes= np.argmax(predictions, axis=1)\n",
        "print(classification_report(y_test, predicted_indexes,target_names = genres))"
      ],
      "execution_count": 20,
      "outputs": [
        {
          "output_type": "stream",
          "text": [
            "              precision    recall  f1-score   support\n",
            "\n",
            "       blues       0.77      0.84      0.81       245\n",
            "   classical       0.90      0.96      0.93       243\n",
            "     country       0.73      0.59      0.65       257\n",
            "       disco       0.69      0.70      0.69       241\n",
            "      hiphop       0.76      0.73      0.75       227\n",
            "        jazz       0.81      0.85      0.83       225\n",
            "       metal       0.88      0.90      0.89       251\n",
            "         pop       0.74      0.87      0.80       216\n",
            "      reggae       0.71      0.67      0.69       224\n",
            "        rock       0.59      0.52      0.55       243\n",
            "\n",
            "    accuracy                           0.76      2372\n",
            "   macro avg       0.76      0.76      0.76      2372\n",
            "weighted avg       0.76      0.76      0.76      2372\n",
            "\n"
          ],
          "name": "stdout"
        }
      ]
    },
    {
      "cell_type": "code",
      "metadata": {
        "colab": {
          "base_uri": "https://localhost:8080/"
        },
        "id": "PbR5tCC6u_v_",
        "outputId": "96da8b29-fb10-4888-d416-d2daba5eeffb"
      },
      "source": [
        "cf = confusion_matrix(y_test, predicted_indexes)\n",
        "cf"
      ],
      "execution_count": 21,
      "outputs": [
        {
          "output_type": "execute_result",
          "data": {
            "text/plain": [
              "array([[207,   0,   8,   2,   2,   7,   9,   1,   4,   5],\n",
              "       [  1, 234,   3,   0,   0,   3,   0,   0,   1,   1],\n",
              "       [ 17,   5, 151,   7,   1,  11,   4,   9,  10,  42],\n",
              "       [  2,   1,   8, 168,  12,   1,   5,  18,  15,  11],\n",
              "       [  2,   1,   1,  18, 166,   4,   4,  13,  17,   1],\n",
              "       [  9,  15,   4,   1,   1, 192,   1,   0,   0,   2],\n",
              "       [  4,   0,   3,   2,   1,   0, 225,   0,   1,  15],\n",
              "       [  0,   1,   4,   6,   7,   2,   0, 188,   3,   5],\n",
              "       [  5,   1,   6,  21,  20,   2,   0,  11, 150,   8],\n",
              "       [ 22,   2,  19,  19,   7,  15,   9,  14,   9, 127]])"
            ]
          },
          "metadata": {
            "tags": []
          },
          "execution_count": 21
        }
      ]
    },
    {
      "cell_type": "code",
      "metadata": {
        "colab": {
          "base_uri": "https://localhost:8080/"
        },
        "id": "JQimjMc3vQXl",
        "outputId": "7a999f20-0f82-4f78-e175-d454c066da3e"
      },
      "source": [
        "cf.astype(np.float).sum(axis=1)"
      ],
      "execution_count": 22,
      "outputs": [
        {
          "output_type": "execute_result",
          "data": {
            "text/plain": [
              "array([245., 243., 257., 241., 227., 225., 251., 216., 224., 243.])"
            ]
          },
          "metadata": {
            "tags": []
          },
          "execution_count": 22
        }
      ]
    },
    {
      "cell_type": "code",
      "metadata": {
        "colab": {
          "base_uri": "https://localhost:8080/"
        },
        "id": "bYGwxdXZu_13",
        "outputId": "851f356c-3afb-4e40-d6fc-afe31242b1b7"
      },
      "source": [
        "n_cf_matrix = cf / cf.astype(np.float).sum(axis=1)\n",
        "print(np.round(n_cf_matrix, 3))"
      ],
      "execution_count": 23,
      "outputs": [
        {
          "output_type": "stream",
          "text": [
            "[[0.845 0.    0.031 0.008 0.009 0.031 0.036 0.005 0.018 0.021]\n",
            " [0.004 0.963 0.012 0.    0.    0.013 0.    0.    0.004 0.004]\n",
            " [0.069 0.021 0.588 0.029 0.004 0.049 0.016 0.042 0.045 0.173]\n",
            " [0.008 0.004 0.031 0.697 0.053 0.004 0.02  0.083 0.067 0.045]\n",
            " [0.008 0.004 0.004 0.075 0.731 0.018 0.016 0.06  0.076 0.004]\n",
            " [0.037 0.062 0.016 0.004 0.004 0.853 0.004 0.    0.    0.008]\n",
            " [0.016 0.    0.012 0.008 0.004 0.    0.896 0.    0.004 0.062]\n",
            " [0.    0.004 0.016 0.025 0.031 0.009 0.    0.87  0.013 0.021]\n",
            " [0.02  0.004 0.023 0.087 0.088 0.009 0.    0.051 0.67  0.033]\n",
            " [0.09  0.008 0.074 0.079 0.031 0.067 0.036 0.065 0.04  0.523]]\n"
          ],
          "name": "stdout"
        }
      ]
    },
    {
      "cell_type": "code",
      "metadata": {
        "colab": {
          "base_uri": "https://localhost:8080/",
          "height": 460
        },
        "id": "ckxbFJ64vUnZ",
        "outputId": "73646314-008f-4553-d89c-1b5d8b76cd03"
      },
      "source": [
        "import seaborn as sns\n",
        "plt.figure(figsize=(10,7))\n",
        "sns.heatmap(np.round(n_cf_matrix, 3), \n",
        "            annot=True,\n",
        "            cmap='Blues',\n",
        "            xticklabels = genres,\n",
        "            yticklabels = genres)\n",
        "plt.title('Confusion Matrix for CNN model',pad=20, fontdict={\n",
        "    'fontsize':15\n",
        "})\n",
        "plt.savefig('Confusion_Matrix_for_CNN')"
      ],
      "execution_count": 26,
      "outputs": [
        {
          "output_type": "display_data",
          "data": {
            "image/png": "[encoded data removed]",
            "text/plain": [
              "<Figure size 720x504 with 2 Axes>"
            ]
          },
          "metadata": {
            "tags": [],
            "needs_background": "light"
          }
        }
      ]
    },
    {
      "cell_type": "markdown",
      "metadata": {
        "id": "GjqHQimdFh_m"
      },
      "source": [
        "#Saving CNN Model"
      ]
    },
    {
      "cell_type": "code",
      "metadata": {
        "id": "w_2Qh8IFD6__"
      },
      "source": [
        "import pickle \n",
        "import os"
      ],
      "execution_count": 27,
      "outputs": []
    },
    {
      "cell_type": "code",
      "metadata": {
        "id": "mA3aVYsyD9mk"
      },
      "source": [
        "# model_path = os.path.join(os.getcwd(), 'drive/Sub_Data')\n",
        "# cnn_model = keras.models.load_model(model_path) "
      ],
      "execution_count": 28,
      "outputs": []
    },
    {
      "cell_type": "code",
      "metadata": {
        "id": "DU7yJTC0EDMN"
      },
      "source": [
        "model.save('CNN_model_mfcc13_G.h5')"
      ],
      "execution_count": 29,
      "outputs": []
    },
    {
      "cell_type": "markdown",
      "metadata": {
        "id": "cx6ZCDOEFNM7"
      },
      "source": [
        "#Making Predictions"
      ]
    },
    {
      "cell_type": "code",
      "metadata": {
        "id": "EwTENHt_EHHg"
      },
      "source": [
        "def make_prediction(model, X, y):\n",
        "    #adding a dimension to input data since model.predict() expects a 4d array as input\n",
        "    X_to_predict= np.expand_dims(X,0)\n",
        "    # inputs, targets = process_df(df)\n",
        "    # encoder = LabelEncoder()\n",
        "    # targets = encoder.fit_transform(targets)\n",
        "\n",
        "    #perfrom predicition\n",
        "    prediction = model.predict(X_to_predict)\n",
        "    predicted_index = np.argmax(prediction, axis=1)\n",
        "    predicted_output = encoder.inverse_transform([predicted_index])[0]\n",
        "    print(f'Original Label: {encoder.inverse_transform([y_to_predict])[0]} \\n Predicted Output: {predicted_output}')\n",
        "    return predicted_output\n",
        "    #get index with ma "
      ],
      "execution_count": 30,
      "outputs": []
    },
    {
      "cell_type": "code",
      "metadata": {
        "colab": {
          "base_uri": "https://localhost:8080/"
        },
        "id": "vDUKqoJLEd63",
        "outputId": "0cc5c7ae-a158-47c5-ebc6-145a3d247f7d"
      },
      "source": [
        "#Making prediction - picking a sample to predict from the test set\n",
        "X_to_predict = X_test[100]\n",
        "y_to_predict = y_test[100]\n",
        "\n",
        "predicted_output = make_prediction(model, X_to_predict, y_to_predict)"
      ],
      "execution_count": 31,
      "outputs": [
        {
          "output_type": "stream",
          "text": [
            "Original Label: jazz \n",
            " Predicted Output: classical\n"
          ],
          "name": "stdout"
        },
        {
          "output_type": "stream",
          "text": [
            "/usr/local/lib/python3.7/dist-packages/sklearn/preprocessing/_label.py:289: DataConversionWarning: A column-vector y was passed when a 1d array was expected. Please change the shape of y to (n_samples, ), for example using ravel().\n",
            "  y = column_or_1d(y, warn=True)\n"
          ],
          "name": "stderr"
        }
      ]
    },
    {
      "cell_type": "code",
      "metadata": {
        "colab": {
          "base_uri": "https://localhost:8080/",
          "height": 125
        },
        "id": "2AYxuOUqEeq6",
        "outputId": "4b369ac0-a2e7-4faf-c60c-4e3fd7478bd4"
      },
      "source": [
        "#Making prediction - picking a sample to predict from the test set\n",
        "X_to_predict = X_test[600]\n",
        "y_to_predict = y_test[600]\n",
        "\n",
        "make_prediction(model, X_to_predict, y_to_predict)"
      ],
      "execution_count": 32,
      "outputs": [
        {
          "output_type": "stream",
          "text": [
            "Original Label: metal \n",
            " Predicted Output: metal\n"
          ],
          "name": "stdout"
        },
        {
          "output_type": "stream",
          "text": [
            "/usr/local/lib/python3.7/dist-packages/sklearn/preprocessing/_label.py:289: DataConversionWarning: A column-vector y was passed when a 1d array was expected. Please change the shape of y to (n_samples, ), for example using ravel().\n",
            "  y = column_or_1d(y, warn=True)\n"
          ],
          "name": "stderr"
        },
        {
          "output_type": "execute_result",
          "data": {
            "application/vnd.google.colaboratory.intrinsic+json": {
              "type": "string"
            },
            "text/plain": [
              "'metal'"
            ]
          },
          "metadata": {
            "tags": []
          },
          "execution_count": 32
        }
      ]
    },
    {
      "cell_type": "code",
      "metadata": {
        "colab": {
          "base_uri": "https://localhost:8080/",
          "height": 125
        },
        "id": "bBKeRuvJEf3Z",
        "outputId": "6df59bd4-764a-4f5d-f318-f9ea9407d819"
      },
      "source": [
        "#Making prediction - picking a sample to predict from the test set\n",
        "X_to_predict = X_test[-1]\n",
        "y_to_predict = y_test[-1]\n",
        "\n",
        "make_prediction(model, X_to_predict, y_to_predict)"
      ],
      "execution_count": 33,
      "outputs": [
        {
          "output_type": "stream",
          "text": [
            "Original Label: reggae \n",
            " Predicted Output: disco\n"
          ],
          "name": "stdout"
        },
        {
          "output_type": "stream",
          "text": [
            "/usr/local/lib/python3.7/dist-packages/sklearn/preprocessing/_label.py:289: DataConversionWarning: A column-vector y was passed when a 1d array was expected. Please change the shape of y to (n_samples, ), for example using ravel().\n",
            "  y = column_or_1d(y, warn=True)\n"
          ],
          "name": "stderr"
        },
        {
          "output_type": "execute_result",
          "data": {
            "application/vnd.google.colaboratory.intrinsic+json": {
              "type": "string"
            },
            "text/plain": [
              "'disco'"
            ]
          },
          "metadata": {
            "tags": []
          },
          "execution_count": 33
        }
      ]
    },
    {
      "cell_type": "code",
      "metadata": {
        "colab": {
          "base_uri": "https://localhost:8080/",
          "height": 125
        },
        "id": "CX3LVibpEh1c",
        "outputId": "a1c21971-670b-44b0-9081-d94039069b9f"
      },
      "source": [
        "#Making prediction - picking a sample to predict from the test set\n",
        "X_to_predict = X_test[232]\n",
        "y_to_predict = y_test[232]\n",
        "\n",
        "make_prediction(model, X_to_predict, y_to_predict)"
      ],
      "execution_count": 34,
      "outputs": [
        {
          "output_type": "stream",
          "text": [
            "Original Label: classical \n",
            " Predicted Output: classical\n"
          ],
          "name": "stdout"
        },
        {
          "output_type": "stream",
          "text": [
            "/usr/local/lib/python3.7/dist-packages/sklearn/preprocessing/_label.py:289: DataConversionWarning: A column-vector y was passed when a 1d array was expected. Please change the shape of y to (n_samples, ), for example using ravel().\n",
            "  y = column_or_1d(y, warn=True)\n"
          ],
          "name": "stderr"
        },
        {
          "output_type": "execute_result",
          "data": {
            "application/vnd.google.colaboratory.intrinsic+json": {
              "type": "string"
            },
            "text/plain": [
              "'classical'"
            ]
          },
          "metadata": {
            "tags": []
          },
          "execution_count": 34
        }
      ]
    },
    {
      "cell_type": "code",
      "metadata": {
        "colab": {
          "base_uri": "https://localhost:8080/",
          "height": 125
        },
        "id": "TsgUdLMNEjPa",
        "outputId": "01e1ca76-ea03-4618-fb94-d99ad59048fd"
      },
      "source": [
        "#Making prediction - picking a sample to predict from the test set\n",
        "X_to_predict = X_test[1948]\n",
        "y_to_predict = y_test[1948]\n",
        "\n",
        "make_prediction(model, X_to_predict, y_to_predict)"
      ],
      "execution_count": 35,
      "outputs": [
        {
          "output_type": "stream",
          "text": [
            "Original Label: metal \n",
            " Predicted Output: metal\n"
          ],
          "name": "stdout"
        },
        {
          "output_type": "stream",
          "text": [
            "/usr/local/lib/python3.7/dist-packages/sklearn/preprocessing/_label.py:289: DataConversionWarning: A column-vector y was passed when a 1d array was expected. Please change the shape of y to (n_samples, ), for example using ravel().\n",
            "  y = column_or_1d(y, warn=True)\n"
          ],
          "name": "stderr"
        },
        {
          "output_type": "execute_result",
          "data": {
            "application/vnd.google.colaboratory.intrinsic+json": {
              "type": "string"
            },
            "text/plain": [
              "'metal'"
            ]
          },
          "metadata": {
            "tags": []
          },
          "execution_count": 35
        }
      ]
    },
    {
      "cell_type": "code",
      "metadata": {
        "id": "pnF77nhZv15E",
        "colab": {
          "base_uri": "https://localhost:8080/",
          "height": 125
        },
        "outputId": "848f422c-90bd-4f03-cb8b-3fad8540f518"
      },
      "source": [
        "#Making prediction - picking a sample to predict from the test set\n",
        "X_to_predict = X_test[666]\n",
        "y_to_predict = y_test[666]\n",
        "\n",
        "make_prediction(model, X_to_predict, y_to_predict)"
      ],
      "execution_count": 36,
      "outputs": [
        {
          "output_type": "stream",
          "text": [
            "Original Label: country \n",
            " Predicted Output: country\n"
          ],
          "name": "stdout"
        },
        {
          "output_type": "stream",
          "text": [
            "/usr/local/lib/python3.7/dist-packages/sklearn/preprocessing/_label.py:289: DataConversionWarning: A column-vector y was passed when a 1d array was expected. Please change the shape of y to (n_samples, ), for example using ravel().\n",
            "  y = column_or_1d(y, warn=True)\n"
          ],
          "name": "stderr"
        },
        {
          "output_type": "execute_result",
          "data": {
            "application/vnd.google.colaboratory.intrinsic+json": {
              "type": "string"
            },
            "text/plain": [
              "'country'"
            ]
          },
          "metadata": {
            "tags": []
          },
          "execution_count": 36
        }
      ]
    },
    {
      "cell_type": "code",
      "metadata": {
        "id": "2gDQlTWZFEIq"
      },
      "source": [
        ""
      ],
      "execution_count": null,
      "outputs": []
    }
  ]
}