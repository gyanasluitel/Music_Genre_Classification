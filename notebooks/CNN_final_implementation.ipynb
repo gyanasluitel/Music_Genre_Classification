{
  "nbformat": 4,
  "nbformat_minor": 0,
  "metadata": {
    "colab": {
      "name": "CNN_final_implementation.ipynb",
      "provenance": [],
      "collapsed_sections": [],
      "include_colab_link": true
    },
    "kernelspec": {
      "name": "python3",
      "display_name": "Python 3"
    },
    "language_info": {
      "name": "python"
    }
  },
  "cells": [
    {
      "cell_type": "markdown",
      "metadata": {
        "id": "view-in-github",
        "colab_type": "text"
      },
      "source": [
        "<a href=\"https://colab.research.google.com/github/gyanasluitel/Music_Genre_Classification/blob/main/notebooks/CNN_final_implementation.ipynb\" target=\"_parent\"><img src=\"https://colab.research.google.com/assets/colab-badge.svg\" alt=\"Open In Colab\"/></a>"
      ]
    },
    {
      "cell_type": "code",
      "metadata": {
        "id": "Wlk0NraorcxO"
      },
      "source": [
        "import pandas as pd\n",
        "import numpy as np\n",
        "import os\n",
        "from sklearn.model_selection import train_test_split"
      ],
      "execution_count": 1,
      "outputs": []
    },
    {
      "cell_type": "code",
      "metadata": {
        "id": "-VY1b89VJfah"
      },
      "source": [
        "from sklearn.metrics import classification_report"
      ],
      "execution_count": 410,
      "outputs": []
    },
    {
      "cell_type": "code",
      "metadata": {
        "id": "e03VN3-iQTQg"
      },
      "source": [
        "import math"
      ],
      "execution_count": 2,
      "outputs": []
    },
    {
      "cell_type": "code",
      "metadata": {
        "id": "NS5SNikxQYZE"
      },
      "source": [
        "import librosa"
      ],
      "execution_count": 3,
      "outputs": []
    },
    {
      "cell_type": "code",
      "metadata": {
        "colab": {
          "base_uri": "https://localhost:8080/"
        },
        "id": "BelCQA1or0ZN",
        "outputId": "0baff786-8202-4241-c24f-b6098a2965f5"
      },
      "source": [
        "from google.colab import drive\n",
        "drive.mount('/content/drive')"
      ],
      "execution_count": 4,
      "outputs": [
        {
          "output_type": "stream",
          "text": [
            "Mounted at /content/drive\n"
          ],
          "name": "stdout"
        }
      ]
    },
    {
      "cell_type": "code",
      "metadata": {
        "id": "B9z-5K7Rr6vh"
      },
      "source": [
        "import pickle"
      ],
      "execution_count": 5,
      "outputs": []
    },
    {
      "cell_type": "code",
      "metadata": {
        "id": "R6d3rEIeGDjY"
      },
      "source": [
        "import keras"
      ],
      "execution_count": 6,
      "outputs": []
    },
    {
      "cell_type": "code",
      "metadata": {
        "id": "-YZPWhxP5Jwp"
      },
      "source": [
        "from keras import layers, Sequential\n",
        "from sklearn.preprocessing import LabelEncoder, StandardScaler"
      ],
      "execution_count": 7,
      "outputs": []
    },
    {
      "cell_type": "code",
      "metadata": {
        "id": "sGSaZniDKrVy"
      },
      "source": [
        "import matplotlib.pyplot as plt\n",
        "%matplotlib inline"
      ],
      "execution_count": 8,
      "outputs": []
    },
    {
      "cell_type": "code",
      "metadata": {
        "id": "2_wuKpeFsB4f"
      },
      "source": [
        "df_path= os.getcwd()+'/drive/MyDrive/Sub_Data/data.pickle'"
      ],
      "execution_count": 9,
      "outputs": []
    },
    {
      "cell_type": "code",
      "metadata": {
        "colab": {
          "base_uri": "https://localhost:8080/",
          "height": 444
        },
        "id": "RTyWizDSsDyX",
        "outputId": "648335cc-097d-43e4-fb34-40405a47e88b"
      },
      "source": [
        "df = pd.read_pickle(df_path)\n",
        "df"
      ],
      "execution_count": 10,
      "outputs": [
        {
          "output_type": "execute_result",
          "data": {
            "text/html": [
              "<div>\n",
              "<style scoped>\n",
              "    .dataframe tbody tr th:only-of-type {\n",
              "        vertical-align: middle;\n",
              "    }\n",
              "\n",
              "    .dataframe tbody tr th {\n",
              "        vertical-align: top;\n",
              "    }\n",
              "\n",
              "    .dataframe thead th {\n",
              "        text-align: right;\n",
              "    }\n",
              "</style>\n",
              "<table border=\"1\" class=\"dataframe\">\n",
              "  <thead>\n",
              "    <tr style=\"text-align: right;\">\n",
              "      <th></th>\n",
              "      <th>mfcc_1</th>\n",
              "      <th>mfcc_2</th>\n",
              "      <th>mfcc_3</th>\n",
              "      <th>mfcc_4</th>\n",
              "      <th>mfcc_5</th>\n",
              "      <th>mfcc_6</th>\n",
              "      <th>mfcc_7</th>\n",
              "      <th>mfcc_8</th>\n",
              "      <th>mfcc_9</th>\n",
              "      <th>mfcc_10</th>\n",
              "      <th>mfcc_11</th>\n",
              "      <th>mfcc_12</th>\n",
              "      <th>mfcc_13</th>\n",
              "      <th>Labels</th>\n",
              "    </tr>\n",
              "  </thead>\n",
              "  <tbody>\n",
              "    <tr>\n",
              "      <th>0</th>\n",
              "      <td>-536.042786</td>\n",
              "      <td>32.067459</td>\n",
              "      <td>-49.450306</td>\n",
              "      <td>25.776079</td>\n",
              "      <td>-11.531991</td>\n",
              "      <td>-18.413410</td>\n",
              "      <td>-8.967739</td>\n",
              "      <td>-4.582458</td>\n",
              "      <td>-0.501133</td>\n",
              "      <td>6.618028</td>\n",
              "      <td>12.905916</td>\n",
              "      <td>6.469436</td>\n",
              "      <td>12.735432</td>\n",
              "      <td>reggae</td>\n",
              "    </tr>\n",
              "    <tr>\n",
              "      <th>1</th>\n",
              "      <td>-392.235077</td>\n",
              "      <td>28.644016</td>\n",
              "      <td>-73.791199</td>\n",
              "      <td>50.155655</td>\n",
              "      <td>1.933116</td>\n",
              "      <td>-14.058987</td>\n",
              "      <td>1.360568</td>\n",
              "      <td>-14.130725</td>\n",
              "      <td>-4.516984</td>\n",
              "      <td>-18.869156</td>\n",
              "      <td>12.337111</td>\n",
              "      <td>0.084416</td>\n",
              "      <td>-19.625988</td>\n",
              "      <td>reggae</td>\n",
              "    </tr>\n",
              "    <tr>\n",
              "      <th>2</th>\n",
              "      <td>-451.695129</td>\n",
              "      <td>17.615837</td>\n",
              "      <td>-53.177261</td>\n",
              "      <td>43.919796</td>\n",
              "      <td>28.546822</td>\n",
              "      <td>-8.240944</td>\n",
              "      <td>3.578257</td>\n",
              "      <td>-8.234414</td>\n",
              "      <td>-9.060442</td>\n",
              "      <td>-26.781670</td>\n",
              "      <td>-4.912760</td>\n",
              "      <td>1.545562</td>\n",
              "      <td>-2.422036</td>\n",
              "      <td>reggae</td>\n",
              "    </tr>\n",
              "    <tr>\n",
              "      <th>3</th>\n",
              "      <td>-477.528839</td>\n",
              "      <td>33.314350</td>\n",
              "      <td>-58.991947</td>\n",
              "      <td>36.357792</td>\n",
              "      <td>26.536734</td>\n",
              "      <td>-0.675872</td>\n",
              "      <td>1.368691</td>\n",
              "      <td>-16.134178</td>\n",
              "      <td>-0.317810</td>\n",
              "      <td>-8.654249</td>\n",
              "      <td>-9.246617</td>\n",
              "      <td>-24.636469</td>\n",
              "      <td>-10.302074</td>\n",
              "      <td>reggae</td>\n",
              "    </tr>\n",
              "    <tr>\n",
              "      <th>4</th>\n",
              "      <td>-504.078796</td>\n",
              "      <td>35.871197</td>\n",
              "      <td>-48.558861</td>\n",
              "      <td>50.370205</td>\n",
              "      <td>2.761873</td>\n",
              "      <td>-12.647474</td>\n",
              "      <td>7.050649</td>\n",
              "      <td>-2.322120</td>\n",
              "      <td>-6.039096</td>\n",
              "      <td>-31.120485</td>\n",
              "      <td>-4.710315</td>\n",
              "      <td>-3.640983</td>\n",
              "      <td>-0.203701</td>\n",
              "      <td>reggae</td>\n",
              "    </tr>\n",
              "    <tr>\n",
              "      <th>...</th>\n",
              "      <td>...</td>\n",
              "      <td>...</td>\n",
              "      <td>...</td>\n",
              "      <td>...</td>\n",
              "      <td>...</td>\n",
              "      <td>...</td>\n",
              "      <td>...</td>\n",
              "      <td>...</td>\n",
              "      <td>...</td>\n",
              "      <td>...</td>\n",
              "      <td>...</td>\n",
              "      <td>...</td>\n",
              "      <td>...</td>\n",
              "      <td>...</td>\n",
              "    </tr>\n",
              "    <tr>\n",
              "      <th>1298175</th>\n",
              "      <td>-455.102631</td>\n",
              "      <td>24.158625</td>\n",
              "      <td>-63.375328</td>\n",
              "      <td>65.074524</td>\n",
              "      <td>3.704499</td>\n",
              "      <td>40.963463</td>\n",
              "      <td>-21.325134</td>\n",
              "      <td>10.105320</td>\n",
              "      <td>-16.304668</td>\n",
              "      <td>-9.928100</td>\n",
              "      <td>-23.563305</td>\n",
              "      <td>4.619114</td>\n",
              "      <td>15.669947</td>\n",
              "      <td>blues</td>\n",
              "    </tr>\n",
              "    <tr>\n",
              "      <th>1298176</th>\n",
              "      <td>-447.722656</td>\n",
              "      <td>2.117634</td>\n",
              "      <td>-44.335674</td>\n",
              "      <td>58.148350</td>\n",
              "      <td>12.036886</td>\n",
              "      <td>21.317839</td>\n",
              "      <td>-22.656757</td>\n",
              "      <td>19.766155</td>\n",
              "      <td>-27.212273</td>\n",
              "      <td>-20.932671</td>\n",
              "      <td>-30.610203</td>\n",
              "      <td>16.540192</td>\n",
              "      <td>9.672492</td>\n",
              "      <td>blues</td>\n",
              "    </tr>\n",
              "    <tr>\n",
              "      <th>1298177</th>\n",
              "      <td>-449.050079</td>\n",
              "      <td>10.812412</td>\n",
              "      <td>-50.106941</td>\n",
              "      <td>54.213680</td>\n",
              "      <td>1.793259</td>\n",
              "      <td>21.684978</td>\n",
              "      <td>-25.272818</td>\n",
              "      <td>8.188376</td>\n",
              "      <td>-16.318310</td>\n",
              "      <td>9.493264</td>\n",
              "      <td>-36.492809</td>\n",
              "      <td>12.093601</td>\n",
              "      <td>3.433430</td>\n",
              "      <td>blues</td>\n",
              "    </tr>\n",
              "    <tr>\n",
              "      <th>1298178</th>\n",
              "      <td>-437.535187</td>\n",
              "      <td>12.875460</td>\n",
              "      <td>-50.128567</td>\n",
              "      <td>54.451469</td>\n",
              "      <td>7.296531</td>\n",
              "      <td>35.563461</td>\n",
              "      <td>-19.915752</td>\n",
              "      <td>4.126825</td>\n",
              "      <td>-17.346703</td>\n",
              "      <td>5.894392</td>\n",
              "      <td>-34.753819</td>\n",
              "      <td>12.200981</td>\n",
              "      <td>-2.462997</td>\n",
              "      <td>blues</td>\n",
              "    </tr>\n",
              "    <tr>\n",
              "      <th>1298179</th>\n",
              "      <td>-447.140839</td>\n",
              "      <td>16.377399</td>\n",
              "      <td>-48.402046</td>\n",
              "      <td>55.142967</td>\n",
              "      <td>-2.129559</td>\n",
              "      <td>32.123970</td>\n",
              "      <td>-22.165173</td>\n",
              "      <td>11.436558</td>\n",
              "      <td>-23.840561</td>\n",
              "      <td>-4.055938</td>\n",
              "      <td>-29.433973</td>\n",
              "      <td>18.781826</td>\n",
              "      <td>1.168216</td>\n",
              "      <td>blues</td>\n",
              "    </tr>\n",
              "  </tbody>\n",
              "</table>\n",
              "<p>1298180 rows × 14 columns</p>\n",
              "</div>"
            ],
            "text/plain": [
              "             mfcc_1     mfcc_2     mfcc_3  ...    mfcc_12    mfcc_13  Labels\n",
              "0       -536.042786  32.067459 -49.450306  ...   6.469436  12.735432  reggae\n",
              "1       -392.235077  28.644016 -73.791199  ...   0.084416 -19.625988  reggae\n",
              "2       -451.695129  17.615837 -53.177261  ...   1.545562  -2.422036  reggae\n",
              "3       -477.528839  33.314350 -58.991947  ... -24.636469 -10.302074  reggae\n",
              "4       -504.078796  35.871197 -48.558861  ...  -3.640983  -0.203701  reggae\n",
              "...             ...        ...        ...  ...        ...        ...     ...\n",
              "1298175 -455.102631  24.158625 -63.375328  ...   4.619114  15.669947   blues\n",
              "1298176 -447.722656   2.117634 -44.335674  ...  16.540192   9.672492   blues\n",
              "1298177 -449.050079  10.812412 -50.106941  ...  12.093601   3.433430   blues\n",
              "1298178 -437.535187  12.875460 -50.128567  ...  12.200981  -2.462997   blues\n",
              "1298179 -447.140839  16.377399 -48.402046  ...  18.781826   1.168216   blues\n",
              "\n",
              "[1298180 rows x 14 columns]"
            ]
          },
          "metadata": {
            "tags": []
          },
          "execution_count": 10
        }
      ]
    },
    {
      "cell_type": "code",
      "metadata": {
        "id": "E0IRM96psFt9"
      },
      "source": [
        "def process_df(df):\n",
        "    '''\n",
        "    Input: dataframe object\n",
        "    Output: returns a 3d nparray\n",
        "    '''\n",
        "    inputs = df.iloc[0*130:0+1*130,:-1] #getting the first 130 rows\n",
        "    inputs = np.expand_dims(inputs,0)   #expanding the shape of the array by inserting a new axis at the first position\n",
        "    targets= [df.iloc[0*130,-1]]\n",
        "    for i in range(1, int(df.shape[0]/130)): #repeating the above process for the entirety of the remaining dataset\n",
        "        dummy_x = df.iloc[i*130:(i+1)*130, :-1].values\n",
        "        dummy_x = np.expand_dims(dummy_x,0)\n",
        "        dummy_y = df.iloc[i*130,-1]\n",
        "        inputs = np.concatenate((inputs, dummy_x), axis=0)\n",
        "        targets.append(dummy_y)\n",
        "    return inputs, targets"
      ],
      "execution_count": 11,
      "outputs": []
    },
    {
      "cell_type": "code",
      "metadata": {
        "id": "FvR66PQN5vGN"
      },
      "source": [
        "def split_data(df, test_size, validation_size):\n",
        "    '''\n",
        "    Input: A dataframe\n",
        "    Ouput: return the train, test and validation set \n",
        "    '''\n",
        "    # inputs, targets = process_df(df)\n",
        "    # encoder = LabelEncoder()\n",
        "    # targets = encoder.fit_transform(targets) #encoded the categorical values in our target class \n",
        "\n",
        "    #Splitting data into train and test sets\n",
        "    inputs_train, inputs_test, targets_train, targets_test = train_test_split(inputs, targets, test_size = test_size)\n",
        "\n",
        "    #Splitting train data into train and validation sets\n",
        "    inputs_train, inputs_validation, targets_train, targets_validation = train_test_split(inputs_train, targets_train, test_size = validation_size)\n",
        "\n",
        "    #adding an axis to input sets\n",
        "    inputs_train = np.expand_dims(inputs_train,-1)\n",
        "    inputs_validation = np.expand_dims(inputs_validation,-1)\n",
        "    inputs_test = np.expand_dims(inputs_test,-1)\n",
        "\n",
        "    return inputs_train, inputs_validation, inputs_test, targets_train, targets_validation, targets_test\n"
      ],
      "execution_count": 12,
      "outputs": []
    },
    {
      "cell_type": "code",
      "metadata": {
        "id": "heEP0yxe_a-c"
      },
      "source": [
        "def build_model(input_shape):\n",
        "    '''Generates CNN model'''\n",
        "\n",
        "    #build network topology\n",
        "    model = keras.Sequential()\n",
        "\n",
        "    #1st convolutional layer\n",
        "    model.add(keras.layers.Conv2D(32,(3,3), activation = 'relu', input_shape = input_shape))\n",
        "    model.add(keras.layers.MaxPooling2D((3,3), strides = (2,2), padding='same'))\n",
        "    model.add(keras.layers.BatchNormalization())\n",
        "\n",
        "    #2st convolutional layer\n",
        "    model.add(keras.layers.Conv2D(32,(3,3), activation = 'relu'))\n",
        "    model.add(keras.layers.MaxPooling2D((3,3), strides = (2,2), padding='same'))\n",
        "    model.add(keras.layers.BatchNormalization())\n",
        "\n",
        "    #3rd convolutional layer\n",
        "    model.add(keras.layers.Conv2D(32,(2,2), activation ='relu'))\n",
        "    model.add(keras.layers.MaxPooling2D((2,2), strides = (2,2), padding='same'))\n",
        "    model.add(keras.layers.BatchNormalization())\n",
        "\n",
        "    #flatten output and feed it into dense layer\n",
        "    model.add(keras.layers.Flatten())\n",
        "    model.add(keras.layers.Dense(64, activation='relu'))\n",
        "    model.add(keras.layers.Dropout(0.3))\n",
        "\n",
        "    #output layer\n",
        "    model.add(keras.layers.Dense(10, activation='softmax'))\n",
        "\n",
        "    return model"
      ],
      "execution_count": 13,
      "outputs": []
    },
    {
      "cell_type": "code",
      "metadata": {
        "colab": {
          "base_uri": "https://localhost:8080/"
        },
        "id": "hohyKIzoB5HV",
        "outputId": "dbbd51b3-124f-4b14-e005-8b67b94398ad"
      },
      "source": [
        "if __name__ == '__main__':\n",
        "    inputs, targets = process_df(df)\n",
        "    encoder = LabelEncoder()\n",
        "    targets = encoder.fit_transform(targets) #encoded the categorical values in our target class \n",
        "\n",
        "    #get train, validation, test splits\n",
        "    X_train, X_validation, X_test, y_train, y_validation, y_test = split_data(df, 0.25,0.2)\n",
        "    print(f'Shape of X_train: {X_train.shape}')\n",
        "    print(f'Shape of X_train: {X_validation.shape}')\n",
        "    print(f'Shape of X_train: {X_test.shape}')\n",
        "\n",
        "    #create network \n",
        "    input_shape = (X_train.shape[1], X_train.shape[2],1)\n",
        "    model = build_model(input_shape)\n",
        "\n",
        "    #compile model\n",
        "    optimiser = keras.optimizers.Adam(learning_rate = 0.0001)\n",
        "    model.compile(optimizer = optimiser, \n",
        "                  loss='sparse_categorical_crossentropy',\n",
        "                  metrics = ['accuracy'])\n",
        "    model.summary()\n",
        "\n",
        "    #train modle\n",
        "    history = model.fit(X_train, y_train, validation_data=(X_validation,y_validation), batch_size=32,  epochs = 50)"
      ],
      "execution_count": 14,
      "outputs": [
        {
          "output_type": "stream",
          "text": [
            "Shape of X_train: (5991, 130, 13, 1)\n",
            "Shape of X_train: (1498, 130, 13, 1)\n",
            "Shape of X_train: (2497, 130, 13, 1)\n",
            "Model: \"sequential\"\n",
            "_________________________________________________________________\n",
            "Layer (type)                 Output Shape              Param #   \n",
            "=================================================================\n",
            "conv2d (Conv2D)              (None, 128, 11, 32)       320       \n",
            "_________________________________________________________________\n",
            "max_pooling2d (MaxPooling2D) (None, 64, 6, 32)         0         \n",
            "_________________________________________________________________\n",
            "batch_normalization (BatchNo (None, 64, 6, 32)         128       \n",
            "_________________________________________________________________\n",
            "conv2d_1 (Conv2D)            (None, 62, 4, 32)         9248      \n",
            "_________________________________________________________________\n",
            "max_pooling2d_1 (MaxPooling2 (None, 31, 2, 32)         0         \n",
            "_________________________________________________________________\n",
            "batch_normalization_1 (Batch (None, 31, 2, 32)         128       \n",
            "_________________________________________________________________\n",
            "conv2d_2 (Conv2D)            (None, 30, 1, 32)         4128      \n",
            "_________________________________________________________________\n",
            "max_pooling2d_2 (MaxPooling2 (None, 15, 1, 32)         0         \n",
            "_________________________________________________________________\n",
            "batch_normalization_2 (Batch (None, 15, 1, 32)         128       \n",
            "_________________________________________________________________\n",
            "flatten (Flatten)            (None, 480)               0         \n",
            "_________________________________________________________________\n",
            "dense (Dense)                (None, 64)                30784     \n",
            "_________________________________________________________________\n",
            "dropout (Dropout)            (None, 64)                0         \n",
            "_________________________________________________________________\n",
            "dense_1 (Dense)              (None, 10)                650       \n",
            "=================================================================\n",
            "Total params: 45,514\n",
            "Trainable params: 45,322\n",
            "Non-trainable params: 192\n",
            "_________________________________________________________________\n",
            "Epoch 1/50\n",
            "188/188 [==============================] - 34s 72ms/step - loss: 2.8233 - accuracy: 0.1693 - val_loss: 2.0265 - val_accuracy: 0.2750\n",
            "Epoch 2/50\n",
            "188/188 [==============================] - 13s 69ms/step - loss: 2.0338 - accuracy: 0.3091 - val_loss: 1.6768 - val_accuracy: 0.3812\n",
            "Epoch 3/50\n",
            "188/188 [==============================] - 13s 68ms/step - loss: 1.8050 - accuracy: 0.3577 - val_loss: 1.5228 - val_accuracy: 0.4566\n",
            "Epoch 4/50\n",
            "188/188 [==============================] - 13s 69ms/step - loss: 1.6741 - accuracy: 0.4060 - val_loss: 1.4164 - val_accuracy: 0.5020\n",
            "Epoch 5/50\n",
            "188/188 [==============================] - 13s 68ms/step - loss: 1.5474 - accuracy: 0.4602 - val_loss: 1.3304 - val_accuracy: 0.5200\n",
            "Epoch 6/50\n",
            "188/188 [==============================] - 13s 67ms/step - loss: 1.4643 - accuracy: 0.4798 - val_loss: 1.2646 - val_accuracy: 0.5521\n",
            "Epoch 7/50\n",
            "188/188 [==============================] - 13s 68ms/step - loss: 1.3436 - accuracy: 0.5188 - val_loss: 1.2113 - val_accuracy: 0.5668\n",
            "Epoch 8/50\n",
            "188/188 [==============================] - 13s 68ms/step - loss: 1.3115 - accuracy: 0.5265 - val_loss: 1.1807 - val_accuracy: 0.5821\n",
            "Epoch 9/50\n",
            "188/188 [==============================] - 13s 69ms/step - loss: 1.2625 - accuracy: 0.5573 - val_loss: 1.1456 - val_accuracy: 0.6021\n",
            "Epoch 10/50\n",
            "188/188 [==============================] - 13s 69ms/step - loss: 1.2314 - accuracy: 0.5565 - val_loss: 1.1135 - val_accuracy: 0.6068\n",
            "Epoch 11/50\n",
            "188/188 [==============================] - 13s 67ms/step - loss: 1.1723 - accuracy: 0.5901 - val_loss: 1.0812 - val_accuracy: 0.6262\n",
            "Epoch 12/50\n",
            "188/188 [==============================] - 12s 66ms/step - loss: 1.1630 - accuracy: 0.5745 - val_loss: 1.0743 - val_accuracy: 0.6255\n",
            "Epoch 13/50\n",
            "188/188 [==============================] - 13s 67ms/step - loss: 1.1039 - accuracy: 0.6139 - val_loss: 1.0635 - val_accuracy: 0.6368\n",
            "Epoch 14/50\n",
            "188/188 [==============================] - 13s 69ms/step - loss: 1.0759 - accuracy: 0.6250 - val_loss: 1.0450 - val_accuracy: 0.6315\n",
            "Epoch 15/50\n",
            "188/188 [==============================] - 13s 68ms/step - loss: 1.0204 - accuracy: 0.6346 - val_loss: 1.0107 - val_accuracy: 0.6589\n",
            "Epoch 16/50\n",
            "188/188 [==============================] - 13s 68ms/step - loss: 1.0370 - accuracy: 0.6296 - val_loss: 0.9990 - val_accuracy: 0.6622\n",
            "Epoch 17/50\n",
            "188/188 [==============================] - 13s 68ms/step - loss: 1.0175 - accuracy: 0.6435 - val_loss: 0.9991 - val_accuracy: 0.6522\n",
            "Epoch 18/50\n",
            "188/188 [==============================] - 13s 68ms/step - loss: 0.9682 - accuracy: 0.6513 - val_loss: 0.9893 - val_accuracy: 0.6682\n",
            "Epoch 19/50\n",
            "188/188 [==============================] - 13s 68ms/step - loss: 0.9403 - accuracy: 0.6602 - val_loss: 0.9709 - val_accuracy: 0.6649\n",
            "Epoch 20/50\n",
            "188/188 [==============================] - 12s 66ms/step - loss: 0.9395 - accuracy: 0.6755 - val_loss: 0.9652 - val_accuracy: 0.6689\n",
            "Epoch 21/50\n",
            "188/188 [==============================] - 13s 67ms/step - loss: 0.8971 - accuracy: 0.6823 - val_loss: 0.9703 - val_accuracy: 0.6575\n",
            "Epoch 22/50\n",
            "188/188 [==============================] - 13s 69ms/step - loss: 0.8894 - accuracy: 0.6913 - val_loss: 0.9474 - val_accuracy: 0.6749\n",
            "Epoch 23/50\n",
            "188/188 [==============================] - 13s 69ms/step - loss: 0.8374 - accuracy: 0.7106 - val_loss: 0.9282 - val_accuracy: 0.6809\n",
            "Epoch 24/50\n",
            "188/188 [==============================] - 13s 67ms/step - loss: 0.8373 - accuracy: 0.7076 - val_loss: 0.9430 - val_accuracy: 0.6716\n",
            "Epoch 25/50\n",
            "188/188 [==============================] - 13s 67ms/step - loss: 0.8063 - accuracy: 0.7171 - val_loss: 0.9217 - val_accuracy: 0.6782\n",
            "Epoch 26/50\n",
            "188/188 [==============================] - 13s 68ms/step - loss: 0.8074 - accuracy: 0.7204 - val_loss: 0.9143 - val_accuracy: 0.6876\n",
            "Epoch 27/50\n",
            "188/188 [==============================] - 13s 68ms/step - loss: 0.7829 - accuracy: 0.7223 - val_loss: 0.9207 - val_accuracy: 0.6702\n",
            "Epoch 28/50\n",
            "188/188 [==============================] - 13s 67ms/step - loss: 0.7779 - accuracy: 0.7277 - val_loss: 0.8952 - val_accuracy: 0.6842\n",
            "Epoch 29/50\n",
            "188/188 [==============================] - 13s 68ms/step - loss: 0.7667 - accuracy: 0.7341 - val_loss: 0.9037 - val_accuracy: 0.6736\n",
            "Epoch 30/50\n",
            "188/188 [==============================] - 12s 66ms/step - loss: 0.7220 - accuracy: 0.7539 - val_loss: 0.9206 - val_accuracy: 0.6682\n",
            "Epoch 31/50\n",
            "188/188 [==============================] - 13s 67ms/step - loss: 0.7363 - accuracy: 0.7427 - val_loss: 0.9018 - val_accuracy: 0.6749\n",
            "Epoch 32/50\n",
            "188/188 [==============================] - 13s 67ms/step - loss: 0.6909 - accuracy: 0.7577 - val_loss: 0.8925 - val_accuracy: 0.6883\n",
            "Epoch 33/50\n",
            "188/188 [==============================] - 13s 69ms/step - loss: 0.7096 - accuracy: 0.7503 - val_loss: 0.9093 - val_accuracy: 0.6729\n",
            "Epoch 34/50\n",
            "188/188 [==============================] - 13s 68ms/step - loss: 0.6984 - accuracy: 0.7469 - val_loss: 0.8845 - val_accuracy: 0.6816\n",
            "Epoch 35/50\n",
            "188/188 [==============================] - 13s 70ms/step - loss: 0.6971 - accuracy: 0.7585 - val_loss: 0.8709 - val_accuracy: 0.6856\n",
            "Epoch 36/50\n",
            "188/188 [==============================] - 13s 72ms/step - loss: 0.6487 - accuracy: 0.7842 - val_loss: 0.9156 - val_accuracy: 0.6822\n",
            "Epoch 37/50\n",
            "188/188 [==============================] - 13s 69ms/step - loss: 0.6574 - accuracy: 0.7736 - val_loss: 0.8886 - val_accuracy: 0.6896\n",
            "Epoch 38/50\n",
            "188/188 [==============================] - 13s 70ms/step - loss: 0.6514 - accuracy: 0.7713 - val_loss: 0.8778 - val_accuracy: 0.6796\n",
            "Epoch 39/50\n",
            "188/188 [==============================] - 13s 69ms/step - loss: 0.6365 - accuracy: 0.7885 - val_loss: 0.8719 - val_accuracy: 0.6969\n",
            "Epoch 40/50\n",
            "188/188 [==============================] - 13s 68ms/step - loss: 0.6043 - accuracy: 0.7966 - val_loss: 0.8954 - val_accuracy: 0.6796\n",
            "Epoch 41/50\n",
            "188/188 [==============================] - 13s 68ms/step - loss: 0.6175 - accuracy: 0.7863 - val_loss: 0.8767 - val_accuracy: 0.6929\n",
            "Epoch 42/50\n",
            "188/188 [==============================] - 13s 68ms/step - loss: 0.5786 - accuracy: 0.7968 - val_loss: 0.8717 - val_accuracy: 0.6969\n",
            "Epoch 43/50\n",
            "188/188 [==============================] - 13s 71ms/step - loss: 0.5627 - accuracy: 0.8090 - val_loss: 0.8874 - val_accuracy: 0.6956\n",
            "Epoch 44/50\n",
            "188/188 [==============================] - 13s 67ms/step - loss: 0.5434 - accuracy: 0.8127 - val_loss: 0.8737 - val_accuracy: 0.7003\n",
            "Epoch 45/50\n",
            "188/188 [==============================] - 13s 69ms/step - loss: 0.5702 - accuracy: 0.7910 - val_loss: 0.8862 - val_accuracy: 0.6929\n",
            "Epoch 46/50\n",
            "188/188 [==============================] - 13s 70ms/step - loss: 0.5444 - accuracy: 0.8090 - val_loss: 0.8919 - val_accuracy: 0.6869\n",
            "Epoch 47/50\n",
            "188/188 [==============================] - 13s 70ms/step - loss: 0.5351 - accuracy: 0.8152 - val_loss: 0.8784 - val_accuracy: 0.6996\n",
            "Epoch 48/50\n",
            "188/188 [==============================] - 13s 69ms/step - loss: 0.5221 - accuracy: 0.8129 - val_loss: 0.9021 - val_accuracy: 0.6889\n",
            "Epoch 49/50\n",
            "188/188 [==============================] - 13s 69ms/step - loss: 0.5214 - accuracy: 0.8185 - val_loss: 0.8770 - val_accuracy: 0.7043\n",
            "Epoch 50/50\n",
            "188/188 [==============================] - 13s 69ms/step - loss: 0.5090 - accuracy: 0.8278 - val_loss: 0.8919 - val_accuracy: 0.7016\n"
          ],
          "name": "stdout"
        }
      ]
    },
    {
      "cell_type": "code",
      "metadata": {
        "id": "zRlMYrjHKiTW"
      },
      "source": [
        "def plot_history(history):\n",
        "    \"\"\"Plots accuracy/loss for training/validation set as a function of the epochs\n",
        "        :param history: Training history of model\n",
        "        :return:\n",
        "    \"\"\"\n",
        "\n",
        "    fig, axs = plt.subplots(2, figsize=(10,10))\n",
        "        \n",
        "\n",
        "    # create accuracy sublpot\n",
        "    axs[0].plot(history.history[\"accuracy\"], label=\"train accuracy\")\n",
        "    axs[0].plot(history.history[\"val_accuracy\"], label=\"test accuracy\")\n",
        "    axs[0].set_yticks([0.1,0.2,0.3,0.4,0.5,0.6,0.7,0.8,0.9,1.0])\n",
        "    axs[0].set_ylabel(\"Accuracy\")\n",
        "    axs[0].legend(bbox_to_anchor=(1.05, 1), loc='upper left',prop={'size': 20})\n",
        "    axs[0].set_title(\"Accuracy eval\")\n",
        "\n",
        "    # create error sublpot\n",
        "    axs[1].plot(history.history[\"loss\"], label=\"train error\")\n",
        "    axs[1].plot(history.history[\"val_loss\"], label=\"test error\")\n",
        "    axs[1].set_ylabel(\"Error\")\n",
        "    axs[1].set_xlabel(\"Epoch\")\n",
        "    axs[1].legend(bbox_to_anchor=(1.05, 1), loc='upper left', prop={'size': 20})\n",
        "    axs[1].set_title(\"Error eval\")\n",
        "    fig.tight_layout(pad=3.0)\n",
        "    plt.savefig('cnn_train_test_accuracy2.png')\n",
        "    plt.show()\n",
        "\n"
      ],
      "execution_count": 15,
      "outputs": []
    },
    {
      "cell_type": "code",
      "metadata": {
        "colab": {
          "base_uri": "https://localhost:8080/",
          "height": 670
        },
        "id": "lzVLiGyIKjB1",
        "outputId": "15c7da47-aac5-4448-e99f-fd832b22488d"
      },
      "source": [
        "plot_history(history)"
      ],
      "execution_count": 16,
      "outputs": [
        {
          "output_type": "display_data",
          "data": {
            "image/png": "[encoded data removed]",
            "text/plain": [
              "<Figure size 720x720 with 2 Axes>"
            ]
          },
          "metadata": {
            "tags": [],
            "needs_background": "light"
          }
        }
      ]
    },
    {
      "cell_type": "markdown",
      "metadata": {
        "id": "GjqHQimdFh_m"
      },
      "source": [
        "#Saving CNN Model"
      ]
    },
    {
      "cell_type": "code",
      "metadata": {
        "id": "w_2Qh8IFD6__"
      },
      "source": [
        "import pickle \n",
        "import os"
      ],
      "execution_count": 17,
      "outputs": []
    },
    {
      "cell_type": "code",
      "metadata": {
        "id": "mA3aVYsyD9mk"
      },
      "source": [
        "model_path = os.path.join(os.getcwd(), 'drive/Sub_Data')"
      ],
      "execution_count": 18,
      "outputs": []
    },
    {
      "cell_type": "code",
      "metadata": {
        "colab": {
          "base_uri": "https://localhost:8080/",
          "height": 36
        },
        "id": "IuCpBULcEChh",
        "outputId": "e13a0667-f72a-48ed-a6e4-27657b94953e"
      },
      "source": [
        "model_path"
      ],
      "execution_count": 19,
      "outputs": [
        {
          "output_type": "execute_result",
          "data": {
            "application/vnd.google.colaboratory.intrinsic+json": {
              "type": "string"
            },
            "text/plain": [
              "'/content/drive/Sub_Data'"
            ]
          },
          "metadata": {
            "tags": []
          },
          "execution_count": 19
        }
      ]
    },
    {
      "cell_type": "code",
      "metadata": {
        "id": "DU7yJTC0EDMN"
      },
      "source": [
        "model.save('cnn_model_mfcc13_2.h5')"
      ],
      "execution_count": 20,
      "outputs": []
    },
    {
      "cell_type": "markdown",
      "metadata": {
        "id": "cx6ZCDOEFNM7"
      },
      "source": [
        "#Making Predictions"
      ]
    },
    {
      "cell_type": "code",
      "metadata": {
        "id": "Nw7gPdeSFPyx"
      },
      "source": [
        "# inputs, targets = process_df(df)\n",
        "# encoder = LabelEncoder()\n",
        "# targets = encoder.fit_transform(targets) #encoded the categorical values in our target class \n"
      ],
      "execution_count": 22,
      "outputs": []
    },
    {
      "cell_type": "code",
      "metadata": {
        "id": "EwTENHt_EHHg"
      },
      "source": [
        "def make_prediction(model, X, y):\n",
        "    #adding a dimension to input data since model.predict() expects a 4d array as input\n",
        "    X_to_predict= np.expand_dims(X,0)\n",
        "    # inputs, targets = process_df(df)\n",
        "    # encoder = LabelEncoder()\n",
        "    # targets = encoder.fit_transform(targets)\n",
        "\n",
        "    #perfrom predicition\n",
        "    prediction = model.predict(X_to_predict)\n",
        "    predicted_index = np.argmax(prediction, axis=1)\n",
        "    predicted_output = encoder.inverse_transform([predicted_index])[0]\n",
        "    print(f'Original Label: {encoder.inverse_transform([y_to_predict])[0]} \\n Predicted Output: {predicted_output}')\n",
        "    #get index with ma "
      ],
      "execution_count": 23,
      "outputs": []
    },
    {
      "cell_type": "code",
      "metadata": {
        "colab": {
          "base_uri": "https://localhost:8080/"
        },
        "id": "vDUKqoJLEd63",
        "outputId": "3ea2c437-0769-4d8c-bb0b-79c62c0e3e38"
      },
      "source": [
        "#Making prediction - picking a sample to predict from the test set\n",
        "X_to_predict = X_test[100]\n",
        "y_to_predict = y_test[100]\n",
        "\n",
        "make_prediction(model, X_to_predict, y_to_predict)"
      ],
      "execution_count": 24,
      "outputs": [
        {
          "output_type": "stream",
          "text": [
            "Original Label: blues \n",
            " Predicted Output: blues\n"
          ],
          "name": "stdout"
        },
        {
          "output_type": "stream",
          "text": [
            "/usr/local/lib/python3.7/dist-packages/sklearn/preprocessing/_label.py:289: DataConversionWarning: A column-vector y was passed when a 1d array was expected. Please change the shape of y to (n_samples, ), for example using ravel().\n",
            "  y = column_or_1d(y, warn=True)\n"
          ],
          "name": "stderr"
        }
      ]
    },
    {
      "cell_type": "code",
      "metadata": {
        "colab": {
          "base_uri": "https://localhost:8080/"
        },
        "id": "2AYxuOUqEeq6",
        "outputId": "c4145bb5-e251-42d4-92c0-4902ec36719a"
      },
      "source": [
        "#Making prediction - picking a sample to predict from the test set\n",
        "X_to_predict = X_test[600]\n",
        "y_to_predict = y_test[600]\n",
        "\n",
        "make_prediction(model, X_to_predict, y_to_predict)"
      ],
      "execution_count": 25,
      "outputs": [
        {
          "output_type": "stream",
          "text": [
            "Original Label: blues \n",
            " Predicted Output: rock\n"
          ],
          "name": "stdout"
        },
        {
          "output_type": "stream",
          "text": [
            "/usr/local/lib/python3.7/dist-packages/sklearn/preprocessing/_label.py:289: DataConversionWarning: A column-vector y was passed when a 1d array was expected. Please change the shape of y to (n_samples, ), for example using ravel().\n",
            "  y = column_or_1d(y, warn=True)\n"
          ],
          "name": "stderr"
        }
      ]
    },
    {
      "cell_type": "code",
      "metadata": {
        "colab": {
          "base_uri": "https://localhost:8080/"
        },
        "id": "bBKeRuvJEf3Z",
        "outputId": "b60edac5-4083-4aca-8340-ffe6f309cd12"
      },
      "source": [
        "#Making prediction - picking a sample to predict from the test set\n",
        "X_to_predict = X_test[-1]\n",
        "y_to_predict = y_test[-1]\n",
        "\n",
        "make_prediction(model, X_to_predict, y_to_predict)"
      ],
      "execution_count": 26,
      "outputs": [
        {
          "output_type": "stream",
          "text": [
            "Original Label: country \n",
            " Predicted Output: disco\n"
          ],
          "name": "stdout"
        },
        {
          "output_type": "stream",
          "text": [
            "/usr/local/lib/python3.7/dist-packages/sklearn/preprocessing/_label.py:289: DataConversionWarning: A column-vector y was passed when a 1d array was expected. Please change the shape of y to (n_samples, ), for example using ravel().\n",
            "  y = column_or_1d(y, warn=True)\n"
          ],
          "name": "stderr"
        }
      ]
    },
    {
      "cell_type": "code",
      "metadata": {
        "colab": {
          "base_uri": "https://localhost:8080/"
        },
        "id": "CX3LVibpEh1c",
        "outputId": "6bc16f68-d7b8-411b-b984-a56df0eb7a1d"
      },
      "source": [
        "#Making prediction - picking a sample to predict from the test set\n",
        "X_to_predict = X_test[232]\n",
        "y_to_predict = y_test[232]\n",
        "\n",
        "make_prediction(model, X_to_predict, y_to_predict)"
      ],
      "execution_count": 27,
      "outputs": [
        {
          "output_type": "stream",
          "text": [
            "Original Label: classical \n",
            " Predicted Output: classical\n"
          ],
          "name": "stdout"
        },
        {
          "output_type": "stream",
          "text": [
            "/usr/local/lib/python3.7/dist-packages/sklearn/preprocessing/_label.py:289: DataConversionWarning: A column-vector y was passed when a 1d array was expected. Please change the shape of y to (n_samples, ), for example using ravel().\n",
            "  y = column_or_1d(y, warn=True)\n"
          ],
          "name": "stderr"
        }
      ]
    },
    {
      "cell_type": "code",
      "metadata": {
        "colab": {
          "base_uri": "https://localhost:8080/"
        },
        "id": "TsgUdLMNEjPa",
        "outputId": "98cb8620-af06-4fe4-f2d2-0ce6e72f06d5"
      },
      "source": [
        "#Making prediction - picking a sample to predict from the test set\n",
        "X_to_predict = X_test[1948]\n",
        "y_to_predict = y_test[1948]\n",
        "\n",
        "make_prediction(model, X_to_predict, y_to_predict)"
      ],
      "execution_count": 28,
      "outputs": [
        {
          "output_type": "stream",
          "text": [
            "Original Label: country \n",
            " Predicted Output: country\n"
          ],
          "name": "stdout"
        },
        {
          "output_type": "stream",
          "text": [
            "/usr/local/lib/python3.7/dist-packages/sklearn/preprocessing/_label.py:289: DataConversionWarning: A column-vector y was passed when a 1d array was expected. Please change the shape of y to (n_samples, ), for example using ravel().\n",
            "  y = column_or_1d(y, warn=True)\n"
          ],
          "name": "stderr"
        }
      ]
    },
    {
      "cell_type": "code",
      "metadata": {
        "colab": {
          "base_uri": "https://localhost:8080/"
        },
        "id": "NqI2AZG0EkiM",
        "outputId": "c50e6123-fef7-498f-9719-f4a7daafc565"
      },
      "source": [
        "#Evalution model on test set\n",
        "test_loss, test_acc = model.evaluate(X_test, y_test, verbose = 2)\n",
        "print(f'Test Accuracy: {test_acc}')"
      ],
      "execution_count": 29,
      "outputs": [
        {
          "output_type": "stream",
          "text": [
            "79/79 - 1s - loss: 0.9307 - accuracy: 0.6856\n",
            "Test Accuracy: 0.6856227517127991\n"
          ],
          "name": "stdout"
        }
      ]
    },
    {
      "cell_type": "code",
      "metadata": {
        "colab": {
          "base_uri": "https://localhost:8080/"
        },
        "id": "BvyL6RroL0DG",
        "outputId": "446ff852-092a-4848-c9f6-bf2dd9e48a2f"
      },
      "source": [
        "encoder.inverse_transform(np.unique(targets))"
      ],
      "execution_count": 415,
      "outputs": [
        {
          "output_type": "execute_result",
          "data": {
            "text/plain": [
              "array(['blues', 'classical', 'country', 'disco', 'hiphop', 'jazz',\n",
              "       'metal', 'pop', 'reggae', 'rock'], dtype='<U9')"
            ]
          },
          "metadata": {
            "tags": []
          },
          "execution_count": 415
        }
      ]
    },
    {
      "cell_type": "code",
      "metadata": {
        "colab": {
          "base_uri": "https://localhost:8080/"
        },
        "id": "voUV3rh-JZ6u",
        "outputId": "ef78d502-3ae9-4663-e74e-74475207f781"
      },
      "source": [
        "#Classification Report\n",
        "predictions = model.predict(X_test)\n",
        "predicted_indexes= np.argmax(predictions, axis=1)\n",
        "print(classification_report(y_test, predicted_indexes))"
      ],
      "execution_count": 414,
      "outputs": [
        {
          "output_type": "stream",
          "text": [
            "              precision    recall  f1-score   support\n",
            "\n",
            "           0       0.66      0.77      0.71       277\n",
            "           1       0.92      0.90      0.91       278\n",
            "           2       0.53      0.61      0.57       232\n",
            "           3       0.65      0.48      0.55       250\n",
            "           4       0.66      0.67      0.67       259\n",
            "           5       0.82      0.75      0.78       236\n",
            "           6       0.79      0.83      0.81       254\n",
            "           7       0.70      0.72      0.71       240\n",
            "           8       0.61      0.62      0.62       231\n",
            "           9       0.48      0.45      0.47       240\n",
            "\n",
            "    accuracy                           0.69      2497\n",
            "   macro avg       0.68      0.68      0.68      2497\n",
            "weighted avg       0.69      0.69      0.68      2497\n",
            "\n"
          ],
          "name": "stdout"
        }
      ]
    },
    {
      "cell_type": "code",
      "metadata": {
        "id": "MWO5xcKGLoEf"
      },
      "source": [
        ""
      ],
      "execution_count": null,
      "outputs": []
    }
  ]
}