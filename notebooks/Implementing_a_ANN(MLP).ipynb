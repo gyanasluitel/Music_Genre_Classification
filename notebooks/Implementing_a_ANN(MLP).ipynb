{
  "nbformat": 4,
  "nbformat_minor": 0,
  "metadata": {
    "colab": {
      "name": "Implementing a ANN(MLP).ipynb",
      "provenance": []
    },
    "kernelspec": {
      "name": "python3",
      "display_name": "Python 3"
    },
    "language_info": {
      "name": "python"
    }
  },
  "cells": [
    {
      "cell_type": "code",
      "metadata": {
        "id": "wzo9LzAppqo1"
      },
      "source": [
        "import pandas as pd\n",
        "import numpy as np\n",
        "from sklearn.model_selection import train_test_split"
      ],
      "execution_count": 1,
      "outputs": []
    },
    {
      "cell_type": "code",
      "metadata": {
        "id": "eYR8h9Xppvtc"
      },
      "source": [
        "import tensorflow.keras as keras"
      ],
      "execution_count": 2,
      "outputs": []
    },
    {
      "cell_type": "code",
      "metadata": {
        "id": "yjB4DZEGpyj9"
      },
      "source": [
        "from keras import layers, Sequential\n",
        "from sklearn.preprocessing import LabelEncoder, StandardScaler"
      ],
      "execution_count": 3,
      "outputs": []
    },
    {
      "cell_type": "code",
      "metadata": {
        "id": "4EKCrpCVcGvk"
      },
      "source": [
        "import os"
      ],
      "execution_count": 4,
      "outputs": []
    },
    {
      "cell_type": "code",
      "metadata": {
        "id": "nAhvJqa5eItj"
      },
      "source": [
        "import pickle"
      ],
      "execution_count": 5,
      "outputs": []
    },
    {
      "cell_type": "code",
      "metadata": {
        "colab": {
          "base_uri": "https://localhost:8080/",
          "height": 36
        },
        "id": "EbOUG76ndUmg",
        "outputId": "f87b9b37-c342-4f7a-8d85-d774ef2cf064"
      },
      "source": [
        "os.getcwd()"
      ],
      "execution_count": 6,
      "outputs": [
        {
          "output_type": "execute_result",
          "data": {
            "application/vnd.google.colaboratory.intrinsic+json": {
              "type": "string"
            },
            "text/plain": [
              "'/content'"
            ]
          },
          "metadata": {
            "tags": []
          },
          "execution_count": 6
        }
      ]
    },
    {
      "cell_type": "code",
      "metadata": {
        "colab": {
          "base_uri": "https://localhost:8080/"
        },
        "id": "qL3MAV3odhTi",
        "outputId": "bec2c400-875c-43ed-b272-b500fdf19080"
      },
      "source": [
        "os.listdir(os.getcwd())"
      ],
      "execution_count": 7,
      "outputs": [
        {
          "output_type": "execute_result",
          "data": {
            "text/plain": [
              "['.config', 'drive', 'sample_data']"
            ]
          },
          "metadata": {
            "tags": []
          },
          "execution_count": 7
        }
      ]
    },
    {
      "cell_type": "code",
      "metadata": {
        "id": "peZfbhfLdWtD"
      },
      "source": [
        "pickle_file= os.getcwd()+'/drive/MyDrive/Sub_Data/data.pickle'"
      ],
      "execution_count": 8,
      "outputs": []
    },
    {
      "cell_type": "code",
      "metadata": {
        "colab": {
          "base_uri": "https://localhost:8080/",
          "height": 36
        },
        "id": "8oOagE2jdsBM",
        "outputId": "50a03bd5-b20e-4b6a-ec39-b5be64dad60a"
      },
      "source": [
        "pickle_file"
      ],
      "execution_count": 9,
      "outputs": [
        {
          "output_type": "execute_result",
          "data": {
            "application/vnd.google.colaboratory.intrinsic+json": {
              "type": "string"
            },
            "text/plain": [
              "'/content/drive/MyDrive/Sub_Data/data.pickle'"
            ]
          },
          "metadata": {
            "tags": []
          },
          "execution_count": 9
        }
      ]
    },
    {
      "cell_type": "code",
      "metadata": {
        "id": "no0ddPakdv1V"
      },
      "source": [
        "df = pd.read_pickle(pickle_file)"
      ],
      "execution_count": 10,
      "outputs": []
    },
    {
      "cell_type": "code",
      "metadata": {
        "colab": {
          "base_uri": "https://localhost:8080/",
          "height": 444
        },
        "id": "5-OtbRo-eHYs",
        "outputId": "49974a10-5b5a-4dbd-dba2-68fddeb07eb3"
      },
      "source": [
        "df"
      ],
      "execution_count": 11,
      "outputs": [
        {
          "output_type": "execute_result",
          "data": {
            "text/html": [
              "<div>\n",
              "<style scoped>\n",
              "    .dataframe tbody tr th:only-of-type {\n",
              "        vertical-align: middle;\n",
              "    }\n",
              "\n",
              "    .dataframe tbody tr th {\n",
              "        vertical-align: top;\n",
              "    }\n",
              "\n",
              "    .dataframe thead th {\n",
              "        text-align: right;\n",
              "    }\n",
              "</style>\n",
              "<table border=\"1\" class=\"dataframe\">\n",
              "  <thead>\n",
              "    <tr style=\"text-align: right;\">\n",
              "      <th></th>\n",
              "      <th>mfcc_1</th>\n",
              "      <th>mfcc_2</th>\n",
              "      <th>mfcc_3</th>\n",
              "      <th>mfcc_4</th>\n",
              "      <th>mfcc_5</th>\n",
              "      <th>mfcc_6</th>\n",
              "      <th>mfcc_7</th>\n",
              "      <th>mfcc_8</th>\n",
              "      <th>mfcc_9</th>\n",
              "      <th>mfcc_10</th>\n",
              "      <th>mfcc_11</th>\n",
              "      <th>mfcc_12</th>\n",
              "      <th>mfcc_13</th>\n",
              "      <th>Labels</th>\n",
              "    </tr>\n",
              "  </thead>\n",
              "  <tbody>\n",
              "    <tr>\n",
              "      <th>0</th>\n",
              "      <td>-358.717529</td>\n",
              "      <td>-6.362634</td>\n",
              "      <td>-18.675270</td>\n",
              "      <td>2.614578</td>\n",
              "      <td>6.788164</td>\n",
              "      <td>-16.964695</td>\n",
              "      <td>19.294222</td>\n",
              "      <td>3.831350</td>\n",
              "      <td>-1.007537</td>\n",
              "      <td>17.229862</td>\n",
              "      <td>1.682296</td>\n",
              "      <td>-10.763758</td>\n",
              "      <td>-7.563745</td>\n",
              "      <td>blues</td>\n",
              "    </tr>\n",
              "    <tr>\n",
              "      <th>1</th>\n",
              "      <td>-373.422455</td>\n",
              "      <td>28.541172</td>\n",
              "      <td>-62.292374</td>\n",
              "      <td>33.772362</td>\n",
              "      <td>-24.182438</td>\n",
              "      <td>24.464520</td>\n",
              "      <td>14.590254</td>\n",
              "      <td>10.334937</td>\n",
              "      <td>-33.561497</td>\n",
              "      <td>25.110397</td>\n",
              "      <td>-2.553226</td>\n",
              "      <td>-12.549841</td>\n",
              "      <td>-11.501458</td>\n",
              "      <td>blues</td>\n",
              "    </tr>\n",
              "    <tr>\n",
              "      <th>2</th>\n",
              "      <td>-379.265686</td>\n",
              "      <td>37.311401</td>\n",
              "      <td>-62.880608</td>\n",
              "      <td>33.969246</td>\n",
              "      <td>-15.152157</td>\n",
              "      <td>23.453659</td>\n",
              "      <td>3.502853</td>\n",
              "      <td>1.759964</td>\n",
              "      <td>-27.262371</td>\n",
              "      <td>18.922270</td>\n",
              "      <td>-4.817671</td>\n",
              "      <td>-28.283806</td>\n",
              "      <td>1.101586</td>\n",
              "      <td>blues</td>\n",
              "    </tr>\n",
              "    <tr>\n",
              "      <th>3</th>\n",
              "      <td>-394.471283</td>\n",
              "      <td>39.922462</td>\n",
              "      <td>-71.621735</td>\n",
              "      <td>41.641197</td>\n",
              "      <td>-6.377332</td>\n",
              "      <td>24.744980</td>\n",
              "      <td>20.557190</td>\n",
              "      <td>4.765609</td>\n",
              "      <td>-24.279747</td>\n",
              "      <td>2.292906</td>\n",
              "      <td>-9.145906</td>\n",
              "      <td>-16.167883</td>\n",
              "      <td>1.773674</td>\n",
              "      <td>blues</td>\n",
              "    </tr>\n",
              "    <tr>\n",
              "      <th>4</th>\n",
              "      <td>-405.742004</td>\n",
              "      <td>53.017689</td>\n",
              "      <td>-49.039005</td>\n",
              "      <td>26.963558</td>\n",
              "      <td>-19.102318</td>\n",
              "      <td>22.194271</td>\n",
              "      <td>13.690291</td>\n",
              "      <td>8.213572</td>\n",
              "      <td>-58.082420</td>\n",
              "      <td>7.680556</td>\n",
              "      <td>3.642120</td>\n",
              "      <td>-24.813526</td>\n",
              "      <td>5.854433</td>\n",
              "      <td>blues</td>\n",
              "    </tr>\n",
              "    <tr>\n",
              "      <th>...</th>\n",
              "      <td>...</td>\n",
              "      <td>...</td>\n",
              "      <td>...</td>\n",
              "      <td>...</td>\n",
              "      <td>...</td>\n",
              "      <td>...</td>\n",
              "      <td>...</td>\n",
              "      <td>...</td>\n",
              "      <td>...</td>\n",
              "      <td>...</td>\n",
              "      <td>...</td>\n",
              "      <td>...</td>\n",
              "      <td>...</td>\n",
              "      <td>...</td>\n",
              "    </tr>\n",
              "    <tr>\n",
              "      <th>1298175</th>\n",
              "      <td>-637.151001</td>\n",
              "      <td>34.008850</td>\n",
              "      <td>-59.231636</td>\n",
              "      <td>33.153923</td>\n",
              "      <td>-13.896715</td>\n",
              "      <td>1.681734</td>\n",
              "      <td>-8.170829</td>\n",
              "      <td>-0.926614</td>\n",
              "      <td>-13.010382</td>\n",
              "      <td>26.459517</td>\n",
              "      <td>4.632920</td>\n",
              "      <td>7.670885</td>\n",
              "      <td>-14.734737</td>\n",
              "      <td>classical</td>\n",
              "    </tr>\n",
              "    <tr>\n",
              "      <th>1298176</th>\n",
              "      <td>-635.690308</td>\n",
              "      <td>35.429245</td>\n",
              "      <td>-69.809265</td>\n",
              "      <td>32.217850</td>\n",
              "      <td>-6.378393</td>\n",
              "      <td>-6.269723</td>\n",
              "      <td>-17.840149</td>\n",
              "      <td>4.386957</td>\n",
              "      <td>2.011418</td>\n",
              "      <td>36.566162</td>\n",
              "      <td>7.126342</td>\n",
              "      <td>-3.887561</td>\n",
              "      <td>-17.075964</td>\n",
              "      <td>classical</td>\n",
              "    </tr>\n",
              "    <tr>\n",
              "      <th>1298177</th>\n",
              "      <td>-643.668945</td>\n",
              "      <td>26.324226</td>\n",
              "      <td>-72.707924</td>\n",
              "      <td>18.648598</td>\n",
              "      <td>-8.029517</td>\n",
              "      <td>11.763157</td>\n",
              "      <td>-15.609495</td>\n",
              "      <td>2.920358</td>\n",
              "      <td>-4.031073</td>\n",
              "      <td>25.876705</td>\n",
              "      <td>2.650877</td>\n",
              "      <td>1.302766</td>\n",
              "      <td>-19.647341</td>\n",
              "      <td>classical</td>\n",
              "    </tr>\n",
              "    <tr>\n",
              "      <th>1298178</th>\n",
              "      <td>-658.121094</td>\n",
              "      <td>19.917147</td>\n",
              "      <td>-63.834007</td>\n",
              "      <td>23.408195</td>\n",
              "      <td>-12.162072</td>\n",
              "      <td>11.127884</td>\n",
              "      <td>-14.975857</td>\n",
              "      <td>0.325112</td>\n",
              "      <td>-10.495857</td>\n",
              "      <td>12.072266</td>\n",
              "      <td>0.321636</td>\n",
              "      <td>8.379921</td>\n",
              "      <td>-13.380528</td>\n",
              "      <td>classical</td>\n",
              "    </tr>\n",
              "    <tr>\n",
              "      <th>1298179</th>\n",
              "      <td>-645.263123</td>\n",
              "      <td>33.971275</td>\n",
              "      <td>-53.536480</td>\n",
              "      <td>33.020721</td>\n",
              "      <td>-9.981987</td>\n",
              "      <td>-1.199664</td>\n",
              "      <td>-13.776031</td>\n",
              "      <td>3.484468</td>\n",
              "      <td>0.939938</td>\n",
              "      <td>21.475380</td>\n",
              "      <td>-4.569006</td>\n",
              "      <td>8.602991</td>\n",
              "      <td>-20.182755</td>\n",
              "      <td>classical</td>\n",
              "    </tr>\n",
              "  </tbody>\n",
              "</table>\n",
              "<p>1298180 rows × 14 columns</p>\n",
              "</div>"
            ],
            "text/plain": [
              "             mfcc_1     mfcc_2     mfcc_3  ...    mfcc_12    mfcc_13     Labels\n",
              "0       -358.717529  -6.362634 -18.675270  ... -10.763758  -7.563745      blues\n",
              "1       -373.422455  28.541172 -62.292374  ... -12.549841 -11.501458      blues\n",
              "2       -379.265686  37.311401 -62.880608  ... -28.283806   1.101586      blues\n",
              "3       -394.471283  39.922462 -71.621735  ... -16.167883   1.773674      blues\n",
              "4       -405.742004  53.017689 -49.039005  ... -24.813526   5.854433      blues\n",
              "...             ...        ...        ...  ...        ...        ...        ...\n",
              "1298175 -637.151001  34.008850 -59.231636  ...   7.670885 -14.734737  classical\n",
              "1298176 -635.690308  35.429245 -69.809265  ...  -3.887561 -17.075964  classical\n",
              "1298177 -643.668945  26.324226 -72.707924  ...   1.302766 -19.647341  classical\n",
              "1298178 -658.121094  19.917147 -63.834007  ...   8.379921 -13.380528  classical\n",
              "1298179 -645.263123  33.971275 -53.536480  ...   8.602991 -20.182755  classical\n",
              "\n",
              "[1298180 rows x 14 columns]"
            ]
          },
          "metadata": {
            "tags": []
          },
          "execution_count": 11
        }
      ]
    },
    {
      "cell_type": "code",
      "metadata": {
        "id": "oUNyCmbReSSo"
      },
      "source": [
        "#calculations of dataframe\n",
        "\n",
        "#n_mfcc = 13,\n",
        "#n_fft = 248,\n",
        "#hop_length = 512, num_segment = 10\n",
        "#sample_rate = 22050,\n",
        "#track_duration = 30,\n",
        "#samples_per_track = sample_rate * track_duration = 661500\n",
        "#num_samples_per_segment = int(samples_per_track/num_segments) = 66150\n",
        "#expected_num_mfcc_vectors_per_segment = math.ceil(num__samples_per_segment/hop_length)=130"
      ],
      "execution_count": 12,
      "outputs": []
    },
    {
      "cell_type": "code",
      "metadata": {
        "colab": {
          "base_uri": "https://localhost:8080/",
          "height": 444
        },
        "id": "oDeGOt8mh1eG",
        "outputId": "e0e53dd3-d988-4f2a-ee68-d701a8da23d5"
      },
      "source": [
        "input = df.iloc[0*130:0+1*130,:-1]\n",
        "input"
      ],
      "execution_count": 13,
      "outputs": [
        {
          "output_type": "execute_result",
          "data": {
            "text/html": [
              "<div>\n",
              "<style scoped>\n",
              "    .dataframe tbody tr th:only-of-type {\n",
              "        vertical-align: middle;\n",
              "    }\n",
              "\n",
              "    .dataframe tbody tr th {\n",
              "        vertical-align: top;\n",
              "    }\n",
              "\n",
              "    .dataframe thead th {\n",
              "        text-align: right;\n",
              "    }\n",
              "</style>\n",
              "<table border=\"1\" class=\"dataframe\">\n",
              "  <thead>\n",
              "    <tr style=\"text-align: right;\">\n",
              "      <th></th>\n",
              "      <th>mfcc_1</th>\n",
              "      <th>mfcc_2</th>\n",
              "      <th>mfcc_3</th>\n",
              "      <th>mfcc_4</th>\n",
              "      <th>mfcc_5</th>\n",
              "      <th>mfcc_6</th>\n",
              "      <th>mfcc_7</th>\n",
              "      <th>mfcc_8</th>\n",
              "      <th>mfcc_9</th>\n",
              "      <th>mfcc_10</th>\n",
              "      <th>mfcc_11</th>\n",
              "      <th>mfcc_12</th>\n",
              "      <th>mfcc_13</th>\n",
              "    </tr>\n",
              "  </thead>\n",
              "  <tbody>\n",
              "    <tr>\n",
              "      <th>0</th>\n",
              "      <td>-358.717529</td>\n",
              "      <td>-6.362634</td>\n",
              "      <td>-18.675270</td>\n",
              "      <td>2.614578</td>\n",
              "      <td>6.788164</td>\n",
              "      <td>-16.964695</td>\n",
              "      <td>19.294222</td>\n",
              "      <td>3.831350</td>\n",
              "      <td>-1.007537</td>\n",
              "      <td>17.229862</td>\n",
              "      <td>1.682296</td>\n",
              "      <td>-10.763758</td>\n",
              "      <td>-7.563745</td>\n",
              "    </tr>\n",
              "    <tr>\n",
              "      <th>1</th>\n",
              "      <td>-373.422455</td>\n",
              "      <td>28.541172</td>\n",
              "      <td>-62.292374</td>\n",
              "      <td>33.772362</td>\n",
              "      <td>-24.182438</td>\n",
              "      <td>24.464520</td>\n",
              "      <td>14.590254</td>\n",
              "      <td>10.334937</td>\n",
              "      <td>-33.561497</td>\n",
              "      <td>25.110397</td>\n",
              "      <td>-2.553226</td>\n",
              "      <td>-12.549841</td>\n",
              "      <td>-11.501458</td>\n",
              "    </tr>\n",
              "    <tr>\n",
              "      <th>2</th>\n",
              "      <td>-379.265686</td>\n",
              "      <td>37.311401</td>\n",
              "      <td>-62.880608</td>\n",
              "      <td>33.969246</td>\n",
              "      <td>-15.152157</td>\n",
              "      <td>23.453659</td>\n",
              "      <td>3.502853</td>\n",
              "      <td>1.759964</td>\n",
              "      <td>-27.262371</td>\n",
              "      <td>18.922270</td>\n",
              "      <td>-4.817671</td>\n",
              "      <td>-28.283806</td>\n",
              "      <td>1.101586</td>\n",
              "    </tr>\n",
              "    <tr>\n",
              "      <th>3</th>\n",
              "      <td>-394.471283</td>\n",
              "      <td>39.922462</td>\n",
              "      <td>-71.621735</td>\n",
              "      <td>41.641197</td>\n",
              "      <td>-6.377332</td>\n",
              "      <td>24.744980</td>\n",
              "      <td>20.557190</td>\n",
              "      <td>4.765609</td>\n",
              "      <td>-24.279747</td>\n",
              "      <td>2.292906</td>\n",
              "      <td>-9.145906</td>\n",
              "      <td>-16.167883</td>\n",
              "      <td>1.773674</td>\n",
              "    </tr>\n",
              "    <tr>\n",
              "      <th>4</th>\n",
              "      <td>-405.742004</td>\n",
              "      <td>53.017689</td>\n",
              "      <td>-49.039005</td>\n",
              "      <td>26.963558</td>\n",
              "      <td>-19.102318</td>\n",
              "      <td>22.194271</td>\n",
              "      <td>13.690291</td>\n",
              "      <td>8.213572</td>\n",
              "      <td>-58.082420</td>\n",
              "      <td>7.680556</td>\n",
              "      <td>3.642120</td>\n",
              "      <td>-24.813526</td>\n",
              "      <td>5.854433</td>\n",
              "    </tr>\n",
              "    <tr>\n",
              "      <th>...</th>\n",
              "      <td>...</td>\n",
              "      <td>...</td>\n",
              "      <td>...</td>\n",
              "      <td>...</td>\n",
              "      <td>...</td>\n",
              "      <td>...</td>\n",
              "      <td>...</td>\n",
              "      <td>...</td>\n",
              "      <td>...</td>\n",
              "      <td>...</td>\n",
              "      <td>...</td>\n",
              "      <td>...</td>\n",
              "      <td>...</td>\n",
              "    </tr>\n",
              "    <tr>\n",
              "      <th>125</th>\n",
              "      <td>-553.638550</td>\n",
              "      <td>115.547859</td>\n",
              "      <td>-11.745089</td>\n",
              "      <td>3.652759</td>\n",
              "      <td>12.958879</td>\n",
              "      <td>7.425889</td>\n",
              "      <td>-12.086588</td>\n",
              "      <td>-12.838453</td>\n",
              "      <td>6.056415</td>\n",
              "      <td>0.925507</td>\n",
              "      <td>-8.802722</td>\n",
              "      <td>4.830578</td>\n",
              "      <td>8.481441</td>\n",
              "    </tr>\n",
              "    <tr>\n",
              "      <th>126</th>\n",
              "      <td>-515.812256</td>\n",
              "      <td>81.606880</td>\n",
              "      <td>-30.202282</td>\n",
              "      <td>26.742224</td>\n",
              "      <td>0.390943</td>\n",
              "      <td>4.433127</td>\n",
              "      <td>-0.263771</td>\n",
              "      <td>3.414610</td>\n",
              "      <td>3.164185</td>\n",
              "      <td>6.794114</td>\n",
              "      <td>-8.196673</td>\n",
              "      <td>-8.922878</td>\n",
              "      <td>9.851894</td>\n",
              "    </tr>\n",
              "    <tr>\n",
              "      <th>127</th>\n",
              "      <td>-461.981842</td>\n",
              "      <td>63.263069</td>\n",
              "      <td>-41.111145</td>\n",
              "      <td>31.014582</td>\n",
              "      <td>-5.264947</td>\n",
              "      <td>1.090261</td>\n",
              "      <td>-12.309715</td>\n",
              "      <td>10.950979</td>\n",
              "      <td>-11.831028</td>\n",
              "      <td>7.117218</td>\n",
              "      <td>-17.210554</td>\n",
              "      <td>-15.731875</td>\n",
              "      <td>-13.295950</td>\n",
              "    </tr>\n",
              "    <tr>\n",
              "      <th>128</th>\n",
              "      <td>-484.115234</td>\n",
              "      <td>85.535843</td>\n",
              "      <td>-35.242767</td>\n",
              "      <td>35.987541</td>\n",
              "      <td>3.471575</td>\n",
              "      <td>3.514775</td>\n",
              "      <td>0.937387</td>\n",
              "      <td>0.554750</td>\n",
              "      <td>-16.195789</td>\n",
              "      <td>-1.557993</td>\n",
              "      <td>-2.944598</td>\n",
              "      <td>1.448021</td>\n",
              "      <td>-14.577988</td>\n",
              "    </tr>\n",
              "    <tr>\n",
              "      <th>129</th>\n",
              "      <td>-482.298950</td>\n",
              "      <td>95.723915</td>\n",
              "      <td>-46.823750</td>\n",
              "      <td>19.469755</td>\n",
              "      <td>11.244518</td>\n",
              "      <td>5.873800</td>\n",
              "      <td>-10.678331</td>\n",
              "      <td>5.033775</td>\n",
              "      <td>1.432614</td>\n",
              "      <td>-5.375190</td>\n",
              "      <td>-14.613095</td>\n",
              "      <td>1.856694</td>\n",
              "      <td>-18.763222</td>\n",
              "    </tr>\n",
              "  </tbody>\n",
              "</table>\n",
              "<p>130 rows × 13 columns</p>\n",
              "</div>"
            ],
            "text/plain": [
              "         mfcc_1      mfcc_2     mfcc_3  ...    mfcc_11    mfcc_12    mfcc_13\n",
              "0   -358.717529   -6.362634 -18.675270  ...   1.682296 -10.763758  -7.563745\n",
              "1   -373.422455   28.541172 -62.292374  ...  -2.553226 -12.549841 -11.501458\n",
              "2   -379.265686   37.311401 -62.880608  ...  -4.817671 -28.283806   1.101586\n",
              "3   -394.471283   39.922462 -71.621735  ...  -9.145906 -16.167883   1.773674\n",
              "4   -405.742004   53.017689 -49.039005  ...   3.642120 -24.813526   5.854433\n",
              "..          ...         ...        ...  ...        ...        ...        ...\n",
              "125 -553.638550  115.547859 -11.745089  ...  -8.802722   4.830578   8.481441\n",
              "126 -515.812256   81.606880 -30.202282  ...  -8.196673  -8.922878   9.851894\n",
              "127 -461.981842   63.263069 -41.111145  ... -17.210554 -15.731875 -13.295950\n",
              "128 -484.115234   85.535843 -35.242767  ...  -2.944598   1.448021 -14.577988\n",
              "129 -482.298950   95.723915 -46.823750  ... -14.613095   1.856694 -18.763222\n",
              "\n",
              "[130 rows x 13 columns]"
            ]
          },
          "metadata": {
            "tags": []
          },
          "execution_count": 13
        }
      ]
    },
    {
      "cell_type": "code",
      "metadata": {
        "colab": {
          "base_uri": "https://localhost:8080/"
        },
        "id": "RE_netD-juu6",
        "outputId": "e6f0e33d-926c-466d-e8e2-1721fff1f5c1"
      },
      "source": [
        "print(f\"Shape of input: {input.shape}\")"
      ],
      "execution_count": 14,
      "outputs": [
        {
          "output_type": "stream",
          "text": [
            "Shape of input: (130, 13)\n"
          ],
          "name": "stdout"
        }
      ]
    },
    {
      "cell_type": "code",
      "metadata": {
        "colab": {
          "base_uri": "https://localhost:8080/"
        },
        "id": "Wx6KR5yYi-EM",
        "outputId": "541e92ea-2ac0-47c8-c98f-ad9e0190cc0a"
      },
      "source": [
        "input = np.expand_dims(input,0) #expanded the shape of the array by adding a new axis at the 0th position \n",
        "input.shape"
      ],
      "execution_count": 15,
      "outputs": [
        {
          "output_type": "execute_result",
          "data": {
            "text/plain": [
              "(1, 130, 13)"
            ]
          },
          "metadata": {
            "tags": []
          },
          "execution_count": 15
        }
      ]
    },
    {
      "cell_type": "code",
      "metadata": {
        "colab": {
          "base_uri": "https://localhost:8080/"
        },
        "id": "pXxJdouOiHh8",
        "outputId": "dca001ce-4822-4036-f2ea-5d92267c4cad"
      },
      "source": [
        "target= [df.iloc[0*130,-1]]\n",
        "target"
      ],
      "execution_count": 16,
      "outputs": [
        {
          "output_type": "execute_result",
          "data": {
            "text/plain": [
              "['blues']"
            ]
          },
          "metadata": {
            "tags": []
          },
          "execution_count": 16
        }
      ]
    },
    {
      "cell_type": "code",
      "metadata": {
        "id": "-Mys-di_g0Y3"
      },
      "source": [
        "def process_df(df):\n",
        "    '''\n",
        "    Input: dataframe object\n",
        "    Output: returns a 3d nparray\n",
        "    '''\n",
        "    inputs = df.iloc[0*130:0+1*130,:-1] #getting the first 130 rows\n",
        "    inputs = np.expand_dims(inputs,0)   #expanding the shape of the array by inserting a new axis at the first position\n",
        "    targets= [df.iloc[0*130,-1]]\n",
        "    for i in range(1, int(df.shape[0]/130)): #repeating the above process for the entirety of the remaining dataset\n",
        "        dummy_x = df.iloc[i*130:(i+1)*130, :-1].values\n",
        "        dummy_x = np.expand_dims(dummy_x,0)\n",
        "        dummy_y = df.iloc[i*130,-1]\n",
        "        inputs = np.concatenate((inputs, dummy_x), axis=0)\n",
        "        targets.append(dummy_y)\n",
        "    return inputs, targets"
      ],
      "execution_count": 17,
      "outputs": []
    },
    {
      "cell_type": "code",
      "metadata": {
        "id": "0LeqjtKkjQxW"
      },
      "source": [
        "inputs, targets = process_df(df)"
      ],
      "execution_count": 18,
      "outputs": []
    },
    {
      "cell_type": "code",
      "metadata": {
        "colab": {
          "base_uri": "https://localhost:8080/"
        },
        "id": "UFwA-yHdoem8",
        "outputId": "71db9ab9-5ac5-46b1-d475-32507ca38940"
      },
      "source": [
        "inputs.shape"
      ],
      "execution_count": 19,
      "outputs": [
        {
          "output_type": "execute_result",
          "data": {
            "text/plain": [
              "(9986, 130, 13)"
            ]
          },
          "metadata": {
            "tags": []
          },
          "execution_count": 19
        }
      ]
    },
    {
      "cell_type": "code",
      "metadata": {
        "colab": {
          "base_uri": "https://localhost:8080/"
        },
        "id": "F7vBSZNHpPV_",
        "outputId": "f209b111-68fc-4dd5-9109-6e262ca3978d"
      },
      "source": [
        "len(targets)"
      ],
      "execution_count": 20,
      "outputs": [
        {
          "output_type": "execute_result",
          "data": {
            "text/plain": [
              "9986"
            ]
          },
          "metadata": {
            "tags": []
          },
          "execution_count": 20
        }
      ]
    },
    {
      "cell_type": "code",
      "metadata": {
        "colab": {
          "base_uri": "https://localhost:8080/"
        },
        "id": "hbvRJ0wUpSAv",
        "outputId": "87430e5d-8a2e-4d2e-b10f-d2c0659297aa"
      },
      "source": [
        "type(inputs)"
      ],
      "execution_count": 21,
      "outputs": [
        {
          "output_type": "execute_result",
          "data": {
            "text/plain": [
              "numpy.ndarray"
            ]
          },
          "metadata": {
            "tags": []
          },
          "execution_count": 21
        }
      ]
    },
    {
      "cell_type": "code",
      "metadata": {
        "colab": {
          "base_uri": "https://localhost:8080/"
        },
        "id": "2J_hP1IPpWD-",
        "outputId": "03eceff1-aedf-414f-f6cf-66484270bd49"
      },
      "source": [
        "inputs.dtype"
      ],
      "execution_count": 22,
      "outputs": [
        {
          "output_type": "execute_result",
          "data": {
            "text/plain": [
              "dtype('float32')"
            ]
          },
          "metadata": {
            "tags": []
          },
          "execution_count": 22
        }
      ]
    },
    {
      "cell_type": "code",
      "metadata": {
        "colab": {
          "base_uri": "https://localhost:8080/"
        },
        "id": "DSrzFRGbu6Ml",
        "outputId": "dddbe79e-8859-468e-8eeb-43ebb0b57a02"
      },
      "source": [
        "inputs"
      ],
      "execution_count": 23,
      "outputs": [
        {
          "output_type": "execute_result",
          "data": {
            "text/plain": [
              "array([[[-3.58717529e+02, -6.36263418e+00, -1.86752701e+01, ...,\n",
              "          1.68229556e+00, -1.07637577e+01, -7.56374454e+00],\n",
              "        [-3.73422455e+02,  2.85411720e+01, -6.22923737e+01, ...,\n",
              "         -2.55322552e+00, -1.25498409e+01, -1.15014582e+01],\n",
              "        [-3.79265686e+02,  3.73114014e+01, -6.28806076e+01, ...,\n",
              "         -4.81767130e+00, -2.82838058e+01,  1.10158634e+00],\n",
              "        ...,\n",
              "        [-4.61981842e+02,  6.32630692e+01, -4.11111450e+01, ...,\n",
              "         -1.72105541e+01, -1.57318754e+01, -1.32959499e+01],\n",
              "        [-4.84115234e+02,  8.55358429e+01, -3.52427673e+01, ...,\n",
              "         -2.94459820e+00,  1.44802141e+00, -1.45779877e+01],\n",
              "        [-4.82298950e+02,  9.57239151e+01, -4.68237495e+01, ...,\n",
              "         -1.46130953e+01,  1.85669422e+00, -1.87632217e+01]],\n",
              "\n",
              "       [[-4.98308105e+02,  9.13460999e+01, -3.89359055e+01, ...,\n",
              "         -1.63229694e+01,  1.06008034e+01, -6.07426119e+00],\n",
              "        [-4.69089386e+02,  6.82946014e+01, -3.39981308e+01, ...,\n",
              "         -1.27064991e+01, -4.01786232e+00, -1.83320465e+01],\n",
              "        [-3.83420868e+02,  2.57795849e+01, -4.25828247e+01, ...,\n",
              "         -2.59815674e+01, -6.53142691e-01, -1.11508751e+01],\n",
              "        ...,\n",
              "        [-4.80266876e+02,  6.33718300e+01, -4.77320404e+01, ...,\n",
              "         -5.40371227e+00, -3.62484193e+00, -9.62430954e-01],\n",
              "        [-4.99863129e+02,  7.31559448e+01, -2.88783836e+01, ...,\n",
              "         -9.25725555e+00, -9.41110325e+00, -8.38471508e+00],\n",
              "        [-4.93023468e+02,  5.71959953e+01, -3.55554657e+01, ...,\n",
              "         -2.54203262e+01,  9.01084328e+00, -2.40212536e+00]],\n",
              "\n",
              "       [[-5.00381348e+02,  2.57756844e+01, -2.70403442e+01, ...,\n",
              "         -1.65605106e+01, -1.21499710e+01, -4.28485966e+00],\n",
              "        [-5.12469177e+02,  5.33222122e+01, -3.88537827e+01, ...,\n",
              "         -2.75065193e+01,  1.03244871e-01, -6.22598171e+00],\n",
              "        [-5.10462738e+02,  5.06976700e+01, -4.37777939e+01, ...,\n",
              "         -1.47996321e+01,  6.21949863e+00,  9.06835747e+00],\n",
              "        ...,\n",
              "        [-4.51685425e+02,  1.47477818e+01, -2.68215961e+01, ...,\n",
              "         -1.35255814e+01,  4.20909226e-01, -1.67958488e+01],\n",
              "        [-4.51652191e+02,  3.08214569e+01, -3.25056305e+01, ...,\n",
              "         -1.02184725e+01,  3.98361325e+00, -1.55289211e+01],\n",
              "        [-4.80153625e+02,  1.94764347e+01, -3.49460640e+01, ...,\n",
              "         -1.22813473e+01,  5.09543324e+00, -2.32480717e+01]],\n",
              "\n",
              "       ...,\n",
              "\n",
              "       [[-5.45623779e+02, -1.96783829e+01, -7.30516815e+01, ...,\n",
              "         -1.44510527e+01, -1.56626043e+01,  1.76016235e+01],\n",
              "        [-5.69182007e+02,  3.44894829e+01, -1.16763641e+02, ...,\n",
              "          2.87597513e+00, -4.29680634e+00, -1.32446976e+01],\n",
              "        [-5.55525330e+02,  2.33359318e+01, -1.26282791e+02, ...,\n",
              "         -1.11176167e+01,  7.18146753e+00, -2.01474609e+01],\n",
              "        ...,\n",
              "        [-5.15239685e+02,  2.06002808e+01, -9.94287720e+01, ...,\n",
              "         -2.01703224e+01,  4.54881763e+00, -3.49582367e+01],\n",
              "        [-5.26088135e+02,  9.98001003e+00, -8.64774857e+01, ...,\n",
              "         -2.34692898e+01, -5.33434868e+00, -2.53343658e+01],\n",
              "        [-5.30565979e+02,  1.79951286e+01, -7.24118958e+01, ...,\n",
              "         -2.62353382e+01,  4.97060013e+00, -2.46166382e+01]],\n",
              "\n",
              "       [[-5.06455414e+02, -1.27615910e+01, -6.67462692e+01, ...,\n",
              "         -8.31995773e+00, -8.67546654e+00, -2.64375916e+01],\n",
              "        [-5.21417664e+02,  2.27432861e+01, -7.26971741e+01, ...,\n",
              "         -7.92077732e+00, -1.40552890e+00, -3.30823021e+01],\n",
              "        [-5.28346619e+02,  1.48435698e+01, -7.83442841e+01, ...,\n",
              "         -1.17498322e+01, -1.02371988e+01, -2.27960091e+01],\n",
              "        ...,\n",
              "        [-5.69017944e+02,  2.56787262e+01, -9.44866562e+01, ...,\n",
              "         -9.76446342e+00, -2.57161865e+01, -1.77984314e+01],\n",
              "        [-5.92890747e+02,  2.06794930e+00, -9.90163116e+01, ...,\n",
              "         -1.75909309e+01, -2.78601036e+01, -1.01221123e+01],\n",
              "        [-5.78658813e+02,  5.45069313e+00, -9.88652267e+01, ...,\n",
              "         -1.09766397e+01,  4.11535740e-01, -2.39231777e+01]],\n",
              "\n",
              "       [[-5.56571655e+02, -2.23306732e+01, -9.27024612e+01, ...,\n",
              "         -1.40364571e+01,  1.12161374e+00, -7.41455221e+00],\n",
              "        [-5.72979675e+02, -1.38296580e+00, -7.97015228e+01, ...,\n",
              "         -3.04976425e+01, -7.69677210e+00, -1.70982838e+01],\n",
              "        [-5.75888977e+02,  8.62953663e+00, -7.90270691e+01, ...,\n",
              "         -2.14360085e+01, -1.25328493e+01, -1.74855747e+01],\n",
              "        ...,\n",
              "        [-6.43668945e+02,  2.63242264e+01, -7.27079239e+01, ...,\n",
              "          2.65087700e+00,  1.30276620e+00, -1.96473408e+01],\n",
              "        [-6.58121094e+02,  1.99171467e+01, -6.38340073e+01, ...,\n",
              "          3.21636081e-01,  8.37992096e+00, -1.33805285e+01],\n",
              "        [-6.45263123e+02,  3.39712753e+01, -5.35364799e+01, ...,\n",
              "         -4.56900597e+00,  8.60299110e+00, -2.01827545e+01]]],\n",
              "      dtype=float32)"
            ]
          },
          "metadata": {
            "tags": []
          },
          "execution_count": 23
        }
      ]
    },
    {
      "cell_type": "code",
      "metadata": {
        "id": "lBzZCVK4pbHF"
      },
      "source": [
        "#encoding categorical values \n",
        "encoder = LabelEncoder()\n",
        "targets = encoder.fit_transform(targets) #encoded the categorical values in our target class "
      ],
      "execution_count": 24,
      "outputs": []
    },
    {
      "cell_type": "code",
      "metadata": {
        "colab": {
          "base_uri": "https://localhost:8080/"
        },
        "id": "2Howa6uAvCew",
        "outputId": "93ea7ba3-0532-4921-d753-42def6e7f047"
      },
      "source": [
        "targets"
      ],
      "execution_count": 25,
      "outputs": [
        {
          "output_type": "execute_result",
          "data": {
            "text/plain": [
              "array([0, 0, 0, ..., 1, 1, 1])"
            ]
          },
          "metadata": {
            "tags": []
          },
          "execution_count": 25
        }
      ]
    },
    {
      "cell_type": "code",
      "metadata": {
        "colab": {
          "base_uri": "https://localhost:8080/"
        },
        "id": "EkWDa4RTqVQP",
        "outputId": "85d7da84-f39d-416b-e22f-d1a0206ad413"
      },
      "source": [
        "np.unique(targets)"
      ],
      "execution_count": 47,
      "outputs": [
        {
          "output_type": "execute_result",
          "data": {
            "text/plain": [
              "array([0, 1, 2, 3, 4, 5, 6, 7, 8, 9])"
            ]
          },
          "metadata": {
            "tags": []
          },
          "execution_count": 47
        }
      ]
    },
    {
      "cell_type": "code",
      "metadata": {
        "colab": {
          "base_uri": "https://localhost:8080/"
        },
        "id": "7_jRMNwjq-6l",
        "outputId": "b1aac667-d10f-4263-8cd1-2433dabffe1c"
      },
      "source": [
        "list(encoder.inverse_transform([0,1,2,3,4,5,6,7,8,9]))"
      ],
      "execution_count": 49,
      "outputs": [
        {
          "output_type": "execute_result",
          "data": {
            "text/plain": [
              "['blues',\n",
              " 'classical',\n",
              " 'country',\n",
              " 'disco',\n",
              " 'hiphop',\n",
              " 'jazz',\n",
              " 'metal',\n",
              " 'pop',\n",
              " 'reggae',\n",
              " 'rock']"
            ]
          },
          "metadata": {
            "tags": []
          },
          "execution_count": 49
        }
      ]
    },
    {
      "cell_type": "code",
      "metadata": {
        "id": "NWm3SroQvEGQ"
      },
      "source": [
        "#Splitting data into train and test sets\n",
        "inputs_train, inputs_test, targets_train, targets_test = train_test_split(inputs, targets, test_size = 0.3)"
      ],
      "execution_count": 26,
      "outputs": []
    },
    {
      "cell_type": "code",
      "metadata": {
        "colab": {
          "base_uri": "https://localhost:8080/"
        },
        "id": "wYFhfDphvVIU",
        "outputId": "18fc8ca5-41d0-4d20-e294-ee5d08527e92"
      },
      "source": [
        "inputs.shape"
      ],
      "execution_count": 27,
      "outputs": [
        {
          "output_type": "execute_result",
          "data": {
            "text/plain": [
              "(9986, 130, 13)"
            ]
          },
          "metadata": {
            "tags": []
          },
          "execution_count": 27
        }
      ]
    },
    {
      "cell_type": "code",
      "metadata": {
        "colab": {
          "base_uri": "https://localhost:8080/"
        },
        "id": "9mOfNz4Uvt5I",
        "outputId": "21ef2914-53dc-4e8e-cfa2-ba4e1ec32ce3"
      },
      "source": [
        "inputs_train.shape"
      ],
      "execution_count": 28,
      "outputs": [
        {
          "output_type": "execute_result",
          "data": {
            "text/plain": [
              "(6990, 130, 13)"
            ]
          },
          "metadata": {
            "tags": []
          },
          "execution_count": 28
        }
      ]
    },
    {
      "cell_type": "code",
      "metadata": {
        "colab": {
          "base_uri": "https://localhost:8080/"
        },
        "id": "VKQLaRDbvvY9",
        "outputId": "e1f0926a-bd84-4fe8-c955-b73604daf70d"
      },
      "source": [
        "inputs_test.shape"
      ],
      "execution_count": 29,
      "outputs": [
        {
          "output_type": "execute_result",
          "data": {
            "text/plain": [
              "(2996, 130, 13)"
            ]
          },
          "metadata": {
            "tags": []
          },
          "execution_count": 29
        }
      ]
    },
    {
      "cell_type": "code",
      "metadata": {
        "id": "_NMKgA7Ovwn1"
      },
      "source": [
        "#Building a neural network model\n",
        "model = keras.Sequential([\n",
        "    #inpute layer\n",
        "    keras.layers.Flatten(input_shape = (inputs_train.shape[1], inputs_train.shape[2])),\n",
        "\n",
        "    #1st dense layer\n",
        "    keras.layers.Dense(512, activation = 'relu'),\n",
        "\n",
        "    #2nd dense layeer\n",
        "    keras.layers.Dense(256, activation = 'relu'),\n",
        "\n",
        "    #3rd dense layer\n",
        "    keras.layers.Dense(64, activation = 'relu'),\n",
        "\n",
        "    #output layer\n",
        "    keras.layers.Dense(10,activation ='softmax')\n",
        "])"
      ],
      "execution_count": 30,
      "outputs": []
    },
    {
      "cell_type": "code",
      "metadata": {
        "id": "xt-lgp5Jx4hg"
      },
      "source": [
        "#compile model\n",
        "optimizer = keras.optimizers.Adam(learning_rate=0.0001)\n",
        "model.compile(optimizer = optimizer,\n",
        "              loss='sparse_categorical_crossentropy',\n",
        "              metrics=['accuracy'])"
      ],
      "execution_count": 31,
      "outputs": []
    },
    {
      "cell_type": "code",
      "metadata": {
        "colab": {
          "base_uri": "https://localhost:8080/"
        },
        "id": "Qmu8fhg9yFf0",
        "outputId": "8b9728c9-4526-4bb8-8422-4b31460c7aec"
      },
      "source": [
        "model.summary()"
      ],
      "execution_count": 32,
      "outputs": [
        {
          "output_type": "stream",
          "text": [
            "Model: \"sequential\"\n",
            "_________________________________________________________________\n",
            "Layer (type)                 Output Shape              Param #   \n",
            "=================================================================\n",
            "flatten (Flatten)            (None, 1690)              0         \n",
            "_________________________________________________________________\n",
            "dense (Dense)                (None, 512)               865792    \n",
            "_________________________________________________________________\n",
            "dense_1 (Dense)              (None, 256)               131328    \n",
            "_________________________________________________________________\n",
            "dense_2 (Dense)              (None, 64)                16448     \n",
            "_________________________________________________________________\n",
            "dense_3 (Dense)              (None, 10)                650       \n",
            "=================================================================\n",
            "Total params: 1,014,218\n",
            "Trainable params: 1,014,218\n",
            "Non-trainable params: 0\n",
            "_________________________________________________________________\n"
          ],
          "name": "stdout"
        }
      ]
    },
    {
      "cell_type": "code",
      "metadata": {
        "colab": {
          "base_uri": "https://localhost:8080/"
        },
        "id": "Vr8nBC6oyIiu",
        "outputId": "154619ba-959b-4562-d523-1f7c17c06acf"
      },
      "source": [
        "#train the network\n",
        "nn_model = model.fit(inputs_train, targets_train,\n",
        "                    validation_data = (inputs_test, targets_test),\n",
        "                    epochs=50,\n",
        "                    batch_size=32)"
      ],
      "execution_count": 33,
      "outputs": [
        {
          "output_type": "stream",
          "text": [
            "Epoch 1/50\n",
            "219/219 [==============================] - 2s 8ms/step - loss: 14.4761 - accuracy: 0.2711 - val_loss: 8.3711 - val_accuracy: 0.2840\n",
            "Epoch 2/50\n",
            "219/219 [==============================] - 2s 7ms/step - loss: 6.5103 - accuracy: 0.3435 - val_loss: 5.3536 - val_accuracy: 0.3501\n",
            "Epoch 3/50\n",
            "219/219 [==============================] - 2s 8ms/step - loss: 4.8588 - accuracy: 0.3890 - val_loss: 7.0593 - val_accuracy: 0.2984\n",
            "Epoch 4/50\n",
            "219/219 [==============================] - 2s 7ms/step - loss: 4.1761 - accuracy: 0.4129 - val_loss: 4.8504 - val_accuracy: 0.4049\n",
            "Epoch 5/50\n",
            "219/219 [==============================] - 2s 7ms/step - loss: 3.6600 - accuracy: 0.4335 - val_loss: 3.8187 - val_accuracy: 0.4219\n",
            "Epoch 6/50\n",
            "219/219 [==============================] - 2s 8ms/step - loss: 3.1713 - accuracy: 0.4690 - val_loss: 4.2549 - val_accuracy: 0.3985\n",
            "Epoch 7/50\n",
            "219/219 [==============================] - 2s 7ms/step - loss: 2.6508 - accuracy: 0.5099 - val_loss: 3.4576 - val_accuracy: 0.4229\n",
            "Epoch 8/50\n",
            "219/219 [==============================] - 2s 8ms/step - loss: 2.4107 - accuracy: 0.5170 - val_loss: 3.7636 - val_accuracy: 0.4146\n",
            "Epoch 9/50\n",
            "219/219 [==============================] - 2s 8ms/step - loss: 2.1248 - accuracy: 0.5459 - val_loss: 3.9564 - val_accuracy: 0.4109\n",
            "Epoch 10/50\n",
            "219/219 [==============================] - 2s 8ms/step - loss: 1.9965 - accuracy: 0.5718 - val_loss: 3.7084 - val_accuracy: 0.3935\n",
            "Epoch 11/50\n",
            "219/219 [==============================] - 2s 8ms/step - loss: 1.7940 - accuracy: 0.5908 - val_loss: 3.1295 - val_accuracy: 0.4446\n",
            "Epoch 12/50\n",
            "219/219 [==============================] - 2s 8ms/step - loss: 1.7141 - accuracy: 0.6030 - val_loss: 3.3972 - val_accuracy: 0.4339\n",
            "Epoch 13/50\n",
            "219/219 [==============================] - 2s 8ms/step - loss: 1.6566 - accuracy: 0.6144 - val_loss: 4.1488 - val_accuracy: 0.4045\n",
            "Epoch 14/50\n",
            "219/219 [==============================] - 2s 8ms/step - loss: 1.3477 - accuracy: 0.6572 - val_loss: 3.3378 - val_accuracy: 0.4322\n",
            "Epoch 15/50\n",
            "219/219 [==============================] - 2s 8ms/step - loss: 1.1397 - accuracy: 0.6920 - val_loss: 3.4291 - val_accuracy: 0.4386\n",
            "Epoch 16/50\n",
            "219/219 [==============================] - 2s 7ms/step - loss: 1.0972 - accuracy: 0.6927 - val_loss: 3.0925 - val_accuracy: 0.4483\n",
            "Epoch 17/50\n",
            "219/219 [==============================] - 2s 8ms/step - loss: 0.9735 - accuracy: 0.7190 - val_loss: 2.7739 - val_accuracy: 0.4633\n",
            "Epoch 18/50\n",
            "219/219 [==============================] - 2s 7ms/step - loss: 0.8743 - accuracy: 0.7442 - val_loss: 3.1603 - val_accuracy: 0.4489\n",
            "Epoch 19/50\n",
            "219/219 [==============================] - 2s 8ms/step - loss: 0.7265 - accuracy: 0.7677 - val_loss: 3.1096 - val_accuracy: 0.4466\n",
            "Epoch 20/50\n",
            "219/219 [==============================] - 2s 8ms/step - loss: 0.7613 - accuracy: 0.7698 - val_loss: 3.2266 - val_accuracy: 0.4636\n",
            "Epoch 21/50\n",
            "219/219 [==============================] - 2s 8ms/step - loss: 0.7815 - accuracy: 0.7657 - val_loss: 3.0862 - val_accuracy: 0.4559\n",
            "Epoch 22/50\n",
            "219/219 [==============================] - 2s 8ms/step - loss: 0.6340 - accuracy: 0.7956 - val_loss: 2.8243 - val_accuracy: 0.4836\n",
            "Epoch 23/50\n",
            "219/219 [==============================] - 2s 7ms/step - loss: 0.5537 - accuracy: 0.8126 - val_loss: 2.8943 - val_accuracy: 0.4756\n",
            "Epoch 24/50\n",
            "219/219 [==============================] - 2s 7ms/step - loss: 0.7666 - accuracy: 0.7731 - val_loss: 2.8675 - val_accuracy: 0.5050\n",
            "Epoch 25/50\n",
            "219/219 [==============================] - 2s 7ms/step - loss: 0.6214 - accuracy: 0.8062 - val_loss: 2.9957 - val_accuracy: 0.4586\n",
            "Epoch 26/50\n",
            "219/219 [==============================] - 2s 7ms/step - loss: 0.4243 - accuracy: 0.8554 - val_loss: 2.9737 - val_accuracy: 0.4923\n",
            "Epoch 27/50\n",
            "219/219 [==============================] - 2s 7ms/step - loss: 0.4779 - accuracy: 0.8518 - val_loss: 3.9878 - val_accuracy: 0.4526\n",
            "Epoch 28/50\n",
            "219/219 [==============================] - 2s 7ms/step - loss: 0.5863 - accuracy: 0.8167 - val_loss: 2.8679 - val_accuracy: 0.4983\n",
            "Epoch 29/50\n",
            "219/219 [==============================] - 2s 8ms/step - loss: 0.3323 - accuracy: 0.8887 - val_loss: 2.9640 - val_accuracy: 0.4900\n",
            "Epoch 30/50\n",
            "219/219 [==============================] - 2s 8ms/step - loss: 0.3292 - accuracy: 0.8867 - val_loss: 3.1188 - val_accuracy: 0.5037\n",
            "Epoch 31/50\n",
            "219/219 [==============================] - 2s 7ms/step - loss: 0.2172 - accuracy: 0.9266 - val_loss: 2.9704 - val_accuracy: 0.4840\n",
            "Epoch 32/50\n",
            "219/219 [==============================] - 2s 7ms/step - loss: 0.2339 - accuracy: 0.9173 - val_loss: 3.4152 - val_accuracy: 0.4820\n",
            "Epoch 33/50\n",
            "219/219 [==============================] - 2s 8ms/step - loss: 0.2958 - accuracy: 0.8994 - val_loss: 3.2434 - val_accuracy: 0.4880\n",
            "Epoch 34/50\n",
            "219/219 [==============================] - 2s 7ms/step - loss: 0.4208 - accuracy: 0.8654 - val_loss: 4.9762 - val_accuracy: 0.4399\n",
            "Epoch 35/50\n",
            "219/219 [==============================] - 2s 8ms/step - loss: 0.4183 - accuracy: 0.8644 - val_loss: 3.0382 - val_accuracy: 0.5007\n",
            "Epoch 36/50\n",
            "219/219 [==============================] - 2s 8ms/step - loss: 0.4448 - accuracy: 0.8632 - val_loss: 3.4227 - val_accuracy: 0.4840\n",
            "Epoch 37/50\n",
            "219/219 [==============================] - 2s 8ms/step - loss: 0.2232 - accuracy: 0.9232 - val_loss: 3.5146 - val_accuracy: 0.4713\n",
            "Epoch 38/50\n",
            "219/219 [==============================] - 2s 8ms/step - loss: 0.2071 - accuracy: 0.9283 - val_loss: 3.6743 - val_accuracy: 0.4726\n",
            "Epoch 39/50\n",
            "219/219 [==============================] - 2s 8ms/step - loss: 0.2251 - accuracy: 0.9275 - val_loss: 3.3927 - val_accuracy: 0.4900\n",
            "Epoch 40/50\n",
            "219/219 [==============================] - 2s 7ms/step - loss: 0.3243 - accuracy: 0.8926 - val_loss: 3.3369 - val_accuracy: 0.4927\n",
            "Epoch 41/50\n",
            "219/219 [==============================] - 2s 7ms/step - loss: 0.2286 - accuracy: 0.9206 - val_loss: 3.7774 - val_accuracy: 0.4760\n",
            "Epoch 42/50\n",
            "219/219 [==============================] - 2s 7ms/step - loss: 0.2227 - accuracy: 0.9243 - val_loss: 3.0050 - val_accuracy: 0.5247\n",
            "Epoch 43/50\n",
            "219/219 [==============================] - 2s 8ms/step - loss: 0.1261 - accuracy: 0.9561 - val_loss: 3.6359 - val_accuracy: 0.4783\n",
            "Epoch 44/50\n",
            "219/219 [==============================] - 2s 8ms/step - loss: 0.3077 - accuracy: 0.9067 - val_loss: 3.5094 - val_accuracy: 0.4943\n",
            "Epoch 45/50\n",
            "219/219 [==============================] - 2s 8ms/step - loss: 0.2334 - accuracy: 0.9246 - val_loss: 3.0299 - val_accuracy: 0.5214\n",
            "Epoch 46/50\n",
            "219/219 [==============================] - 2s 8ms/step - loss: 0.1225 - accuracy: 0.9568 - val_loss: 3.2090 - val_accuracy: 0.5063\n",
            "Epoch 47/50\n",
            "219/219 [==============================] - 2s 7ms/step - loss: 0.3490 - accuracy: 0.8914 - val_loss: 3.3050 - val_accuracy: 0.5277\n",
            "Epoch 48/50\n",
            "219/219 [==============================] - 2s 8ms/step - loss: 0.2178 - accuracy: 0.9230 - val_loss: 3.5915 - val_accuracy: 0.5100\n",
            "Epoch 49/50\n",
            "219/219 [==============================] - 2s 8ms/step - loss: 0.0963 - accuracy: 0.9681 - val_loss: 3.1924 - val_accuracy: 0.5140\n",
            "Epoch 50/50\n",
            "219/219 [==============================] - 2s 8ms/step - loss: 0.1475 - accuracy: 0.9511 - val_loss: 3.0763 - val_accuracy: 0.5200\n"
          ],
          "name": "stdout"
        }
      ]
    },
    {
      "cell_type": "markdown",
      "metadata": {
        "id": "ni9KncHT5E1H"
      },
      "source": [
        "# Saving a model in pickel file"
      ]
    },
    {
      "cell_type": "code",
      "metadata": {
        "id": "VgwA9DdXFTnT"
      },
      "source": [
        "import pickle\n",
        "import os"
      ],
      "execution_count": 34,
      "outputs": []
    },
    {
      "cell_type": "code",
      "metadata": {
        "colab": {
          "base_uri": "https://localhost:8080/",
          "height": 36
        },
        "id": "Xhiasi6ZGbeK",
        "outputId": "46bd7b9f-6cc1-4920-c783-a077ed446e63"
      },
      "source": [
        "os.getcwd()"
      ],
      "execution_count": 35,
      "outputs": [
        {
          "output_type": "execute_result",
          "data": {
            "application/vnd.google.colaboratory.intrinsic+json": {
              "type": "string"
            },
            "text/plain": [
              "'/content'"
            ]
          },
          "metadata": {
            "tags": []
          },
          "execution_count": 35
        }
      ]
    },
    {
      "cell_type": "code",
      "metadata": {
        "colab": {
          "base_uri": "https://localhost:8080/"
        },
        "id": "WlXRW2_TGc1M",
        "outputId": "a7a43270-c598-4efc-f0aa-eab49d8d9fb0"
      },
      "source": [
        "os.listdir(os.getcwd())"
      ],
      "execution_count": 36,
      "outputs": [
        {
          "output_type": "execute_result",
          "data": {
            "text/plain": [
              "['.config', 'drive', 'sample_data']"
            ]
          },
          "metadata": {
            "tags": []
          },
          "execution_count": 36
        }
      ]
    },
    {
      "cell_type": "code",
      "metadata": {
        "id": "CxHpdGQnG4Op"
      },
      "source": [
        "model_path = os.path.join(os.getcwd(), 'drive/Sub_Data')"
      ],
      "execution_count": 37,
      "outputs": []
    },
    {
      "cell_type": "code",
      "metadata": {
        "colab": {
          "base_uri": "https://localhost:8080/",
          "height": 36
        },
        "id": "88oM_-TUG_bX",
        "outputId": "e7c35510-20a7-42b3-d982-843702106242"
      },
      "source": [
        "model_path"
      ],
      "execution_count": 38,
      "outputs": [
        {
          "output_type": "execute_result",
          "data": {
            "application/vnd.google.colaboratory.intrinsic+json": {
              "type": "string"
            },
            "text/plain": [
              "'/content/drive/Sub_Data'"
            ]
          },
          "metadata": {
            "tags": []
          },
          "execution_count": 38
        }
      ]
    },
    {
      "cell_type": "code",
      "metadata": {
        "id": "tzUTB6amXhJZ"
      },
      "source": [
        "model.save('nn_model.h5')"
      ],
      "execution_count": 42,
      "outputs": []
    },
    {
      "cell_type": "code",
      "metadata": {
        "id": "wbcmh99IcfXV"
      },
      "source": [
        ""
      ],
      "execution_count": null,
      "outputs": []
    }
  ]
}