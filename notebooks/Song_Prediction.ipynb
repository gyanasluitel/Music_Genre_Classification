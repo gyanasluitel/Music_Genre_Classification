{
  "nbformat": 4,
  "nbformat_minor": 0,
  "metadata": {
    "colab": {
      "name": "Song_Prediction_G.ipynb",
      "provenance": [],
      "collapsed_sections": []
    },
    "kernelspec": {
      "name": "python3",
      "display_name": "Python 3"
    },
    "language_info": {
      "name": "python"
    }
  },
  "cells": [
    {
      "cell_type": "markdown",
      "metadata": {
        "id": "snYUp9voDS5Q"
      },
      "source": [
        "#Imports"
      ]
    },
    {
      "cell_type": "code",
      "metadata": {
        "id": "NqUquHJVRFK_"
      },
      "source": [
        "import pandas as pd\n",
        "import numpy as np\n",
        "import os\n",
        "import math\n",
        "import librosa"
      ],
      "execution_count": 1,
      "outputs": []
    },
    {
      "cell_type": "code",
      "metadata": {
        "colab": {
          "base_uri": "https://localhost:8080/"
        },
        "id": "4sP_q4dRRMDM",
        "outputId": "9d380f82-6517-4bb0-c0ec-f642cdb62f93"
      },
      "source": [
        "from google.colab import drive\n",
        "drive.mount('/content/drive')"
      ],
      "execution_count": 2,
      "outputs": [
        {
          "output_type": "stream",
          "text": [
            "Mounted at /content/drive\n"
          ],
          "name": "stdout"
        }
      ]
    },
    {
      "cell_type": "code",
      "metadata": {
        "id": "bA2LeNZrUJwY"
      },
      "source": [
        "import keras\n",
        "from keras import layers, Sequential\n",
        "from sklearn.preprocessing import LabelEncoder, StandardScaler"
      ],
      "execution_count": 5,
      "outputs": []
    },
    {
      "cell_type": "code",
      "metadata": {
        "id": "sCQsVdvVR4cD"
      },
      "source": [
        "import matplotlib.pyplot as plt\n",
        "%matplotlib inline\n",
        "\n",
        "import seaborn as sns"
      ],
      "execution_count": 3,
      "outputs": []
    },
    {
      "cell_type": "markdown",
      "metadata": {
        "id": "BDzVk6y9R52W"
      },
      "source": [
        "# Model and Prediction Process"
      ]
    },
    {
      "cell_type": "code",
      "metadata": {
        "colab": {
          "base_uri": "https://localhost:8080/"
        },
        "id": "RMLVYCcHBxas",
        "outputId": "2da14dca-85f5-4817-918f-0a3d31917f50"
      },
      "source": [
        "model_path = os.getcwd()+'/drive/MyDrive/Sub_Data/CNN_model_mfcc13_G.h5'\n",
        "cnn_model = keras.models.load_model(model_path)\n",
        "cnn_model"
      ],
      "execution_count": 6,
      "outputs": [
        {
          "output_type": "execute_result",
          "data": {
            "text/plain": [
              "<keras.engine.sequential.Sequential at 0x7f991be5b490>"
            ]
          },
          "metadata": {
            "tags": []
          },
          "execution_count": 6
        }
      ]
    },
    {
      "cell_type": "code",
      "metadata": {
        "id": "mi5Y3u9tWwsr"
      },
      "source": [
        "n_mfcc=13\n",
        "n_fft=2048\n",
        "num_segments = 10\n",
        "hop_length = 512\n",
        "SAMPLE_RATE = 22050\n",
        "TRACK_DURATION = 30 # measured in seconds\n",
        "SAMPLES_PER_TRACK = SAMPLE_RATE * TRACK_DURATION"
      ],
      "execution_count": 7,
      "outputs": []
    },
    {
      "cell_type": "code",
      "metadata": {
        "colab": {
          "base_uri": "https://localhost:8080/"
        },
        "id": "Ih1IvKhabpql",
        "outputId": "cb09ff88-18e9-447c-c9c5-ea043f92a006"
      },
      "source": [
        "num_samples_per_segment = int(SAMPLES_PER_TRACK / num_segments)\n",
        "print(f'No of samples per segment: {num_samples_per_segment}')\n",
        "expected_num_mfcc_vectors_per_segment = math.ceil(num_samples_per_segment / hop_length)\n",
        "print(f'Expected no of mfcc vectors per segment: {expected_num_mfcc_vectors_per_segment}')"
      ],
      "execution_count": 8,
      "outputs": [
        {
          "output_type": "stream",
          "text": [
            "No of samples per segment: 66150\n",
            "Expected no of mfcc vectors per segment: 130\n"
          ],
          "name": "stdout"
        }
      ]
    },
    {
      "cell_type": "markdown",
      "metadata": {
        "id": "2-ihiZKXDmpm"
      },
      "source": [
        "**Loading sample song**"
      ]
    },
    {
      "cell_type": "code",
      "metadata": {
        "id": "E-2QFcmqX3kp"
      },
      "source": [
        "song_path = os.getcwd()+'/drive/MyDrive/Sub_Data/Songs/love_story.wav'"
      ],
      "execution_count": 9,
      "outputs": []
    },
    {
      "cell_type": "code",
      "metadata": {
        "colab": {
          "base_uri": "https://localhost:8080/"
        },
        "id": "HgEMsZivXMkG",
        "outputId": "88dad8aa-9429-4512-d42b-b7f96078a049"
      },
      "source": [
        "signal, sample_rate = librosa.load(song_path, sr=SAMPLE_RATE)\n",
        "song_length = int(librosa.get_duration(filename=song_path))\n",
        "print(song_length)"
      ],
      "execution_count": 10,
      "outputs": [
        {
          "output_type": "stream",
          "text": [
            "236\n"
          ],
          "name": "stdout"
        }
      ]
    },
    {
      "cell_type": "code",
      "metadata": {
        "colab": {
          "base_uri": "https://localhost:8080/"
        },
        "id": "M2no2uzuXnq6",
        "outputId": "cea3aa11-4bc5-40e7-daab-71fc6d84e7ce"
      },
      "source": [
        "if song_length > 30:\n",
        "    discarded_song_length = (song_length % 30)\n",
        "    song_length -= discarded_song_length\n",
        "    print(f\"Song is greater than 30 seconds\")\n",
        "    SAMPLES_PER_SONG = SAMPLE_RATE * song_length\n",
        "    parts= int(song_length/30)\n",
        "    SAMPLES_PER_SEGMENT_30 = int(SAMPLES_PER_SONG/(parts))\n",
        "    flag = 1\n",
        "    print(f\"Song sliced into {str(parts)} parts\")\n",
        "    print(f\"Samples per song: {SAMPLES_PER_SONG}\")\n",
        "    print(f'Samples PER 30 SEGMENT {SAMPLES_PER_SEGMENT_30}')\n",
        "elif song_length ==30:\n",
        "    parts = 1\n",
        "    flag = 0\n",
        "else:\n",
        "    print(\"Too short, enter a song of length minimum 30 seconds\")\n",
        "    flag = 2\n"
      ],
      "execution_count": 11,
      "outputs": [
        {
          "output_type": "stream",
          "text": [
            "Song is greater than 30 seconds\n",
            "Song sliced into 7 parts\n",
            "Samples per song: 4630500\n",
            "Samples PER 30 SEGMENT 661500\n"
          ],
          "name": "stdout"
        }
      ]
    },
    {
      "cell_type": "code",
      "metadata": {
        "id": "jjtJVKLuf9O_"
      },
      "source": [
        "def generating_headers(n_mfcc=13):\n",
        "  headers = []\n",
        "  for i in range(1,n_mfcc+1):\n",
        "    headers.append(f'mfcc_{i}')\n",
        "  return headers"
      ],
      "execution_count": 12,
      "outputs": []
    },
    {
      "cell_type": "code",
      "metadata": {
        "colab": {
          "base_uri": "https://localhost:8080/"
        },
        "id": "AymN0nyig1VN",
        "outputId": "adf76c7c-7ac7-4a75-b119-7cfdf0a2e95b"
      },
      "source": [
        "headers = generating_headers()\n",
        "headers"
      ],
      "execution_count": 13,
      "outputs": [
        {
          "output_type": "execute_result",
          "data": {
            "text/plain": [
              "['mfcc_1',\n",
              " 'mfcc_2',\n",
              " 'mfcc_3',\n",
              " 'mfcc_4',\n",
              " 'mfcc_5',\n",
              " 'mfcc_6',\n",
              " 'mfcc_7',\n",
              " 'mfcc_8',\n",
              " 'mfcc_9',\n",
              " 'mfcc_10',\n",
              " 'mfcc_11',\n",
              " 'mfcc_12',\n",
              " 'mfcc_13']"
            ]
          },
          "metadata": {
            "tags": []
          },
          "execution_count": 13
        }
      ]
    },
    {
      "cell_type": "code",
      "metadata": {
        "colab": {
          "base_uri": "https://localhost:8080/"
        },
        "id": "uEAp8uTDaR4-",
        "outputId": "dd63ea95-f294-413f-8051-8a1b5f4b35cf"
      },
      "source": [
        "single_file_df = pd.DataFrame()\n",
        "for i in range(0, parts):\n",
        "    if flag ==1:\n",
        "        print(f'Song snipped: {i+1}')\n",
        "        # calculate start and finish sample for current part\n",
        "        start30 = SAMPLES_PER_SEGMENT_30  * i\n",
        "        finish30= start30 + SAMPLES_PER_SEGMENT_30\n",
        "        y = signal[start30:finish30]\n",
        "    elif flag == 0:\n",
        "        print('Song is 30 seconds long so no need for slicing.')\n",
        "    \n",
        "    for segment in range(num_segments):\n",
        "        # calculate start and finish sample for current segment\n",
        "        start_sample = num_samples_per_segment * segment \n",
        "        finish_sample = start_sample + num_samples_per_segment\n",
        "\n",
        "        #extract mfcc\n",
        "        mfcc = librosa.feature.mfcc(y[start_sample:finish_sample], sample_rate, n_mfcc=n_mfcc, n_fft=n_fft, hop_length=hop_length)\n",
        "        mfcc = mfcc.T\n",
        "        # print(f'Shape of mfcc: {mfcc.shape}')\n",
        "        # mfcc = mfcc.reshape(1, mfcc.shape[0], mfcc.shape[1],1)\n",
        "        if len(mfcc) == expected_num_mfcc_vectors_per_segment:\n",
        "            segment_df = pd.DataFrame(data=mfcc,\n",
        "                                    columns= headers,\n",
        "                                            index = range(len(mfcc)))\n",
        "            single_file_df = pd.concat([single_file_df, segment_df],\n",
        "                                    axis=0,\n",
        "                                    sort=False,\n",
        "                                    ignore_index=True)\n",
        "            \n",
        "        \n",
        "\n",
        "\n"
      ],
      "execution_count": 14,
      "outputs": [
        {
          "output_type": "stream",
          "text": [
            "Song snipped: 1\n",
            "Song snipped: 2\n",
            "Song snipped: 3\n",
            "Song snipped: 4\n",
            "Song snipped: 5\n",
            "Song snipped: 6\n",
            "Song snipped: 7\n"
          ],
          "name": "stdout"
        }
      ]
    },
    {
      "cell_type": "markdown",
      "metadata": {
        "id": "hZl_2i-lD29e"
      },
      "source": [
        "**Single segment dataframe**"
      ]
    },
    {
      "cell_type": "code",
      "metadata": {
        "colab": {
          "base_uri": "https://localhost:8080/",
          "height": 444
        },
        "id": "Y3SRf1SnD0gP",
        "outputId": "160347b1-2c94-4806-90b5-87536d3cf492"
      },
      "source": [
        "segment_df"
      ],
      "execution_count": 15,
      "outputs": [
        {
          "output_type": "execute_result",
          "data": {
            "text/html": [
              "<div>\n",
              "<style scoped>\n",
              "    .dataframe tbody tr th:only-of-type {\n",
              "        vertical-align: middle;\n",
              "    }\n",
              "\n",
              "    .dataframe tbody tr th {\n",
              "        vertical-align: top;\n",
              "    }\n",
              "\n",
              "    .dataframe thead th {\n",
              "        text-align: right;\n",
              "    }\n",
              "</style>\n",
              "<table border=\"1\" class=\"dataframe\">\n",
              "  <thead>\n",
              "    <tr style=\"text-align: right;\">\n",
              "      <th></th>\n",
              "      <th>mfcc_1</th>\n",
              "      <th>mfcc_2</th>\n",
              "      <th>mfcc_3</th>\n",
              "      <th>mfcc_4</th>\n",
              "      <th>mfcc_5</th>\n",
              "      <th>mfcc_6</th>\n",
              "      <th>mfcc_7</th>\n",
              "      <th>mfcc_8</th>\n",
              "      <th>mfcc_9</th>\n",
              "      <th>mfcc_10</th>\n",
              "      <th>mfcc_11</th>\n",
              "      <th>mfcc_12</th>\n",
              "      <th>mfcc_13</th>\n",
              "    </tr>\n",
              "  </thead>\n",
              "  <tbody>\n",
              "    <tr>\n",
              "      <th>0</th>\n",
              "      <td>-148.176376</td>\n",
              "      <td>58.849495</td>\n",
              "      <td>2.231683</td>\n",
              "      <td>30.156811</td>\n",
              "      <td>5.731663</td>\n",
              "      <td>5.498857</td>\n",
              "      <td>1.786801</td>\n",
              "      <td>-4.123281</td>\n",
              "      <td>-3.815950</td>\n",
              "      <td>1.480081</td>\n",
              "      <td>-6.051296</td>\n",
              "      <td>9.690369</td>\n",
              "      <td>0.997327</td>\n",
              "    </tr>\n",
              "    <tr>\n",
              "      <th>1</th>\n",
              "      <td>-149.872635</td>\n",
              "      <td>61.860146</td>\n",
              "      <td>2.299911</td>\n",
              "      <td>33.350506</td>\n",
              "      <td>10.012131</td>\n",
              "      <td>8.513197</td>\n",
              "      <td>-1.911406</td>\n",
              "      <td>-7.383233</td>\n",
              "      <td>-3.873552</td>\n",
              "      <td>0.432916</td>\n",
              "      <td>-10.030327</td>\n",
              "      <td>5.771752</td>\n",
              "      <td>2.207474</td>\n",
              "    </tr>\n",
              "    <tr>\n",
              "      <th>2</th>\n",
              "      <td>-160.075821</td>\n",
              "      <td>60.924690</td>\n",
              "      <td>2.296649</td>\n",
              "      <td>29.362411</td>\n",
              "      <td>8.776583</td>\n",
              "      <td>9.735889</td>\n",
              "      <td>-5.213862</td>\n",
              "      <td>-7.864872</td>\n",
              "      <td>-5.764274</td>\n",
              "      <td>-2.250992</td>\n",
              "      <td>-11.839720</td>\n",
              "      <td>2.331911</td>\n",
              "      <td>2.522912</td>\n",
              "    </tr>\n",
              "    <tr>\n",
              "      <th>3</th>\n",
              "      <td>-166.390732</td>\n",
              "      <td>60.144241</td>\n",
              "      <td>9.190243</td>\n",
              "      <td>24.105061</td>\n",
              "      <td>3.408327</td>\n",
              "      <td>9.906729</td>\n",
              "      <td>-7.446197</td>\n",
              "      <td>-7.515676</td>\n",
              "      <td>-6.907587</td>\n",
              "      <td>0.833174</td>\n",
              "      <td>-5.457887</td>\n",
              "      <td>2.465569</td>\n",
              "      <td>-0.304948</td>\n",
              "    </tr>\n",
              "    <tr>\n",
              "      <th>4</th>\n",
              "      <td>-167.846725</td>\n",
              "      <td>63.226685</td>\n",
              "      <td>5.078386</td>\n",
              "      <td>24.152412</td>\n",
              "      <td>3.763126</td>\n",
              "      <td>8.905701</td>\n",
              "      <td>-5.221114</td>\n",
              "      <td>-12.700048</td>\n",
              "      <td>-11.406059</td>\n",
              "      <td>0.756910</td>\n",
              "      <td>-0.464761</td>\n",
              "      <td>0.727844</td>\n",
              "      <td>-4.665423</td>\n",
              "    </tr>\n",
              "    <tr>\n",
              "      <th>...</th>\n",
              "      <td>...</td>\n",
              "      <td>...</td>\n",
              "      <td>...</td>\n",
              "      <td>...</td>\n",
              "      <td>...</td>\n",
              "      <td>...</td>\n",
              "      <td>...</td>\n",
              "      <td>...</td>\n",
              "      <td>...</td>\n",
              "      <td>...</td>\n",
              "      <td>...</td>\n",
              "      <td>...</td>\n",
              "      <td>...</td>\n",
              "    </tr>\n",
              "    <tr>\n",
              "      <th>125</th>\n",
              "      <td>-213.530746</td>\n",
              "      <td>77.568451</td>\n",
              "      <td>-11.947769</td>\n",
              "      <td>26.175093</td>\n",
              "      <td>-0.389100</td>\n",
              "      <td>20.515320</td>\n",
              "      <td>0.051383</td>\n",
              "      <td>14.321722</td>\n",
              "      <td>5.260984</td>\n",
              "      <td>7.594134</td>\n",
              "      <td>-4.339521</td>\n",
              "      <td>9.086059</td>\n",
              "      <td>-5.130365</td>\n",
              "    </tr>\n",
              "    <tr>\n",
              "      <th>126</th>\n",
              "      <td>-206.128571</td>\n",
              "      <td>73.547333</td>\n",
              "      <td>-5.940646</td>\n",
              "      <td>20.333878</td>\n",
              "      <td>-0.418467</td>\n",
              "      <td>24.047176</td>\n",
              "      <td>-0.321561</td>\n",
              "      <td>12.356216</td>\n",
              "      <td>5.765261</td>\n",
              "      <td>8.984378</td>\n",
              "      <td>-1.066398</td>\n",
              "      <td>11.144606</td>\n",
              "      <td>-4.633588</td>\n",
              "    </tr>\n",
              "    <tr>\n",
              "      <th>127</th>\n",
              "      <td>-183.503708</td>\n",
              "      <td>47.352364</td>\n",
              "      <td>11.766156</td>\n",
              "      <td>21.078724</td>\n",
              "      <td>-6.373882</td>\n",
              "      <td>32.099030</td>\n",
              "      <td>-4.709827</td>\n",
              "      <td>12.623925</td>\n",
              "      <td>4.735358</td>\n",
              "      <td>16.812737</td>\n",
              "      <td>-2.374120</td>\n",
              "      <td>12.653233</td>\n",
              "      <td>-6.130325</td>\n",
              "    </tr>\n",
              "    <tr>\n",
              "      <th>128</th>\n",
              "      <td>-136.275650</td>\n",
              "      <td>41.219353</td>\n",
              "      <td>24.810184</td>\n",
              "      <td>27.256746</td>\n",
              "      <td>-9.594030</td>\n",
              "      <td>16.988823</td>\n",
              "      <td>-11.088366</td>\n",
              "      <td>1.944046</td>\n",
              "      <td>-5.501165</td>\n",
              "      <td>7.407494</td>\n",
              "      <td>-6.402434</td>\n",
              "      <td>11.670574</td>\n",
              "      <td>-9.197866</td>\n",
              "    </tr>\n",
              "    <tr>\n",
              "      <th>129</th>\n",
              "      <td>-110.271996</td>\n",
              "      <td>46.648346</td>\n",
              "      <td>19.674545</td>\n",
              "      <td>31.211346</td>\n",
              "      <td>-7.842442</td>\n",
              "      <td>1.671834</td>\n",
              "      <td>-14.191874</td>\n",
              "      <td>1.790437</td>\n",
              "      <td>-8.769466</td>\n",
              "      <td>1.943436</td>\n",
              "      <td>-7.352188</td>\n",
              "      <td>7.292105</td>\n",
              "      <td>-10.891582</td>\n",
              "    </tr>\n",
              "  </tbody>\n",
              "</table>\n",
              "<p>130 rows × 13 columns</p>\n",
              "</div>"
            ],
            "text/plain": [
              "         mfcc_1     mfcc_2     mfcc_3  ...    mfcc_11    mfcc_12    mfcc_13\n",
              "0   -148.176376  58.849495   2.231683  ...  -6.051296   9.690369   0.997327\n",
              "1   -149.872635  61.860146   2.299911  ... -10.030327   5.771752   2.207474\n",
              "2   -160.075821  60.924690   2.296649  ... -11.839720   2.331911   2.522912\n",
              "3   -166.390732  60.144241   9.190243  ...  -5.457887   2.465569  -0.304948\n",
              "4   -167.846725  63.226685   5.078386  ...  -0.464761   0.727844  -4.665423\n",
              "..          ...        ...        ...  ...        ...        ...        ...\n",
              "125 -213.530746  77.568451 -11.947769  ...  -4.339521   9.086059  -5.130365\n",
              "126 -206.128571  73.547333  -5.940646  ...  -1.066398  11.144606  -4.633588\n",
              "127 -183.503708  47.352364  11.766156  ...  -2.374120  12.653233  -6.130325\n",
              "128 -136.275650  41.219353  24.810184  ...  -6.402434  11.670574  -9.197866\n",
              "129 -110.271996  46.648346  19.674545  ...  -7.352188   7.292105 -10.891582\n",
              "\n",
              "[130 rows x 13 columns]"
            ]
          },
          "metadata": {
            "tags": []
          },
          "execution_count": 15
        }
      ]
    },
    {
      "cell_type": "markdown",
      "metadata": {
        "id": "gecCrqpuD7ck"
      },
      "source": [
        "**Dataframe of the whole song**"
      ]
    },
    {
      "cell_type": "code",
      "metadata": {
        "colab": {
          "base_uri": "https://localhost:8080/",
          "height": 444
        },
        "id": "7yVtlXqghhbx",
        "outputId": "a4670ab5-aab6-4256-9327-1b1a5872d219"
      },
      "source": [
        "single_file_df"
      ],
      "execution_count": 16,
      "outputs": [
        {
          "output_type": "execute_result",
          "data": {
            "text/html": [
              "<div>\n",
              "<style scoped>\n",
              "    .dataframe tbody tr th:only-of-type {\n",
              "        vertical-align: middle;\n",
              "    }\n",
              "\n",
              "    .dataframe tbody tr th {\n",
              "        vertical-align: top;\n",
              "    }\n",
              "\n",
              "    .dataframe thead th {\n",
              "        text-align: right;\n",
              "    }\n",
              "</style>\n",
              "<table border=\"1\" class=\"dataframe\">\n",
              "  <thead>\n",
              "    <tr style=\"text-align: right;\">\n",
              "      <th></th>\n",
              "      <th>mfcc_1</th>\n",
              "      <th>mfcc_2</th>\n",
              "      <th>mfcc_3</th>\n",
              "      <th>mfcc_4</th>\n",
              "      <th>mfcc_5</th>\n",
              "      <th>mfcc_6</th>\n",
              "      <th>mfcc_7</th>\n",
              "      <th>mfcc_8</th>\n",
              "      <th>mfcc_9</th>\n",
              "      <th>mfcc_10</th>\n",
              "      <th>mfcc_11</th>\n",
              "      <th>mfcc_12</th>\n",
              "      <th>mfcc_13</th>\n",
              "    </tr>\n",
              "  </thead>\n",
              "  <tbody>\n",
              "    <tr>\n",
              "      <th>0</th>\n",
              "      <td>-899.322937</td>\n",
              "      <td>0.000000</td>\n",
              "      <td>0.000000</td>\n",
              "      <td>0.000000</td>\n",
              "      <td>0.000000</td>\n",
              "      <td>0.000000</td>\n",
              "      <td>0.000000</td>\n",
              "      <td>0.000000</td>\n",
              "      <td>0.000000</td>\n",
              "      <td>0.000000</td>\n",
              "      <td>0.000000</td>\n",
              "      <td>0.000000</td>\n",
              "      <td>0.000000</td>\n",
              "    </tr>\n",
              "    <tr>\n",
              "      <th>1</th>\n",
              "      <td>-899.322937</td>\n",
              "      <td>0.000000</td>\n",
              "      <td>0.000000</td>\n",
              "      <td>0.000000</td>\n",
              "      <td>0.000000</td>\n",
              "      <td>0.000000</td>\n",
              "      <td>0.000000</td>\n",
              "      <td>0.000000</td>\n",
              "      <td>0.000000</td>\n",
              "      <td>0.000000</td>\n",
              "      <td>0.000000</td>\n",
              "      <td>0.000000</td>\n",
              "      <td>0.000000</td>\n",
              "    </tr>\n",
              "    <tr>\n",
              "      <th>2</th>\n",
              "      <td>-899.322937</td>\n",
              "      <td>0.000000</td>\n",
              "      <td>0.000000</td>\n",
              "      <td>0.000000</td>\n",
              "      <td>0.000000</td>\n",
              "      <td>0.000000</td>\n",
              "      <td>0.000000</td>\n",
              "      <td>0.000000</td>\n",
              "      <td>0.000000</td>\n",
              "      <td>0.000000</td>\n",
              "      <td>0.000000</td>\n",
              "      <td>0.000000</td>\n",
              "      <td>0.000000</td>\n",
              "    </tr>\n",
              "    <tr>\n",
              "      <th>3</th>\n",
              "      <td>-899.322937</td>\n",
              "      <td>0.000000</td>\n",
              "      <td>0.000000</td>\n",
              "      <td>0.000000</td>\n",
              "      <td>0.000000</td>\n",
              "      <td>0.000000</td>\n",
              "      <td>0.000000</td>\n",
              "      <td>0.000000</td>\n",
              "      <td>0.000000</td>\n",
              "      <td>0.000000</td>\n",
              "      <td>0.000000</td>\n",
              "      <td>0.000000</td>\n",
              "      <td>0.000000</td>\n",
              "    </tr>\n",
              "    <tr>\n",
              "      <th>4</th>\n",
              "      <td>-899.322937</td>\n",
              "      <td>0.000000</td>\n",
              "      <td>0.000000</td>\n",
              "      <td>0.000000</td>\n",
              "      <td>0.000000</td>\n",
              "      <td>0.000000</td>\n",
              "      <td>0.000000</td>\n",
              "      <td>0.000000</td>\n",
              "      <td>0.000000</td>\n",
              "      <td>0.000000</td>\n",
              "      <td>0.000000</td>\n",
              "      <td>0.000000</td>\n",
              "      <td>0.000000</td>\n",
              "    </tr>\n",
              "    <tr>\n",
              "      <th>...</th>\n",
              "      <td>...</td>\n",
              "      <td>...</td>\n",
              "      <td>...</td>\n",
              "      <td>...</td>\n",
              "      <td>...</td>\n",
              "      <td>...</td>\n",
              "      <td>...</td>\n",
              "      <td>...</td>\n",
              "      <td>...</td>\n",
              "      <td>...</td>\n",
              "      <td>...</td>\n",
              "      <td>...</td>\n",
              "      <td>...</td>\n",
              "    </tr>\n",
              "    <tr>\n",
              "      <th>9095</th>\n",
              "      <td>-213.530746</td>\n",
              "      <td>77.568451</td>\n",
              "      <td>-11.947769</td>\n",
              "      <td>26.175093</td>\n",
              "      <td>-0.389100</td>\n",
              "      <td>20.515320</td>\n",
              "      <td>0.051383</td>\n",
              "      <td>14.321722</td>\n",
              "      <td>5.260984</td>\n",
              "      <td>7.594134</td>\n",
              "      <td>-4.339521</td>\n",
              "      <td>9.086059</td>\n",
              "      <td>-5.130365</td>\n",
              "    </tr>\n",
              "    <tr>\n",
              "      <th>9096</th>\n",
              "      <td>-206.128571</td>\n",
              "      <td>73.547333</td>\n",
              "      <td>-5.940646</td>\n",
              "      <td>20.333878</td>\n",
              "      <td>-0.418467</td>\n",
              "      <td>24.047176</td>\n",
              "      <td>-0.321561</td>\n",
              "      <td>12.356216</td>\n",
              "      <td>5.765261</td>\n",
              "      <td>8.984378</td>\n",
              "      <td>-1.066398</td>\n",
              "      <td>11.144606</td>\n",
              "      <td>-4.633588</td>\n",
              "    </tr>\n",
              "    <tr>\n",
              "      <th>9097</th>\n",
              "      <td>-183.503708</td>\n",
              "      <td>47.352364</td>\n",
              "      <td>11.766156</td>\n",
              "      <td>21.078724</td>\n",
              "      <td>-6.373882</td>\n",
              "      <td>32.099030</td>\n",
              "      <td>-4.709827</td>\n",
              "      <td>12.623925</td>\n",
              "      <td>4.735358</td>\n",
              "      <td>16.812737</td>\n",
              "      <td>-2.374120</td>\n",
              "      <td>12.653233</td>\n",
              "      <td>-6.130325</td>\n",
              "    </tr>\n",
              "    <tr>\n",
              "      <th>9098</th>\n",
              "      <td>-136.275650</td>\n",
              "      <td>41.219353</td>\n",
              "      <td>24.810184</td>\n",
              "      <td>27.256746</td>\n",
              "      <td>-9.594030</td>\n",
              "      <td>16.988823</td>\n",
              "      <td>-11.088366</td>\n",
              "      <td>1.944046</td>\n",
              "      <td>-5.501165</td>\n",
              "      <td>7.407494</td>\n",
              "      <td>-6.402434</td>\n",
              "      <td>11.670574</td>\n",
              "      <td>-9.197866</td>\n",
              "    </tr>\n",
              "    <tr>\n",
              "      <th>9099</th>\n",
              "      <td>-110.271996</td>\n",
              "      <td>46.648346</td>\n",
              "      <td>19.674545</td>\n",
              "      <td>31.211346</td>\n",
              "      <td>-7.842442</td>\n",
              "      <td>1.671834</td>\n",
              "      <td>-14.191874</td>\n",
              "      <td>1.790437</td>\n",
              "      <td>-8.769466</td>\n",
              "      <td>1.943436</td>\n",
              "      <td>-7.352188</td>\n",
              "      <td>7.292105</td>\n",
              "      <td>-10.891582</td>\n",
              "    </tr>\n",
              "  </tbody>\n",
              "</table>\n",
              "<p>9100 rows × 13 columns</p>\n",
              "</div>"
            ],
            "text/plain": [
              "          mfcc_1     mfcc_2     mfcc_3  ...   mfcc_11    mfcc_12    mfcc_13\n",
              "0    -899.322937   0.000000   0.000000  ...  0.000000   0.000000   0.000000\n",
              "1    -899.322937   0.000000   0.000000  ...  0.000000   0.000000   0.000000\n",
              "2    -899.322937   0.000000   0.000000  ...  0.000000   0.000000   0.000000\n",
              "3    -899.322937   0.000000   0.000000  ...  0.000000   0.000000   0.000000\n",
              "4    -899.322937   0.000000   0.000000  ...  0.000000   0.000000   0.000000\n",
              "...          ...        ...        ...  ...       ...        ...        ...\n",
              "9095 -213.530746  77.568451 -11.947769  ... -4.339521   9.086059  -5.130365\n",
              "9096 -206.128571  73.547333  -5.940646  ... -1.066398  11.144606  -4.633588\n",
              "9097 -183.503708  47.352364  11.766156  ... -2.374120  12.653233  -6.130325\n",
              "9098 -136.275650  41.219353  24.810184  ... -6.402434  11.670574  -9.197866\n",
              "9099 -110.271996  46.648346  19.674545  ... -7.352188   7.292105 -10.891582\n",
              "\n",
              "[9100 rows x 13 columns]"
            ]
          },
          "metadata": {
            "tags": []
          },
          "execution_count": 16
        }
      ]
    },
    {
      "cell_type": "code",
      "metadata": {
        "colab": {
          "base_uri": "https://localhost:8080/"
        },
        "id": "oYXtcPgjdQ61",
        "outputId": "bf81d9ae-baa7-41d6-c018-d5f0528561be"
      },
      "source": [
        "len(single_file_df)"
      ],
      "execution_count": 17,
      "outputs": [
        {
          "output_type": "execute_result",
          "data": {
            "text/plain": [
              "9100"
            ]
          },
          "metadata": {
            "tags": []
          },
          "execution_count": 17
        }
      ]
    },
    {
      "cell_type": "code",
      "metadata": {
        "id": "Ibh3rESxcJl0"
      },
      "source": [
        "if flag == 1:\n",
        "  single_file_df = single_file_df.iloc[390: len(single_file_df) - 390]"
      ],
      "execution_count": 18,
      "outputs": []
    },
    {
      "cell_type": "code",
      "metadata": {
        "colab": {
          "base_uri": "https://localhost:8080/",
          "height": 444
        },
        "id": "61BC0URVdgGc",
        "outputId": "724bd35a-b5a5-422d-f8da-376bed9a3365"
      },
      "source": [
        "single_file_df"
      ],
      "execution_count": 19,
      "outputs": [
        {
          "output_type": "execute_result",
          "data": {
            "text/html": [
              "<div>\n",
              "<style scoped>\n",
              "    .dataframe tbody tr th:only-of-type {\n",
              "        vertical-align: middle;\n",
              "    }\n",
              "\n",
              "    .dataframe tbody tr th {\n",
              "        vertical-align: top;\n",
              "    }\n",
              "\n",
              "    .dataframe thead th {\n",
              "        text-align: right;\n",
              "    }\n",
              "</style>\n",
              "<table border=\"1\" class=\"dataframe\">\n",
              "  <thead>\n",
              "    <tr style=\"text-align: right;\">\n",
              "      <th></th>\n",
              "      <th>mfcc_1</th>\n",
              "      <th>mfcc_2</th>\n",
              "      <th>mfcc_3</th>\n",
              "      <th>mfcc_4</th>\n",
              "      <th>mfcc_5</th>\n",
              "      <th>mfcc_6</th>\n",
              "      <th>mfcc_7</th>\n",
              "      <th>mfcc_8</th>\n",
              "      <th>mfcc_9</th>\n",
              "      <th>mfcc_10</th>\n",
              "      <th>mfcc_11</th>\n",
              "      <th>mfcc_12</th>\n",
              "      <th>mfcc_13</th>\n",
              "    </tr>\n",
              "  </thead>\n",
              "  <tbody>\n",
              "    <tr>\n",
              "      <th>390</th>\n",
              "      <td>-492.022522</td>\n",
              "      <td>221.990723</td>\n",
              "      <td>-25.822758</td>\n",
              "      <td>-10.503971</td>\n",
              "      <td>-7.760462</td>\n",
              "      <td>-8.072725</td>\n",
              "      <td>-4.100123</td>\n",
              "      <td>6.554296</td>\n",
              "      <td>1.446481</td>\n",
              "      <td>-4.992213</td>\n",
              "      <td>-17.418743</td>\n",
              "      <td>-7.103581</td>\n",
              "      <td>0.893419</td>\n",
              "    </tr>\n",
              "    <tr>\n",
              "      <th>391</th>\n",
              "      <td>-498.153259</td>\n",
              "      <td>213.656830</td>\n",
              "      <td>-18.138809</td>\n",
              "      <td>-6.754316</td>\n",
              "      <td>-6.668977</td>\n",
              "      <td>-11.586367</td>\n",
              "      <td>-5.572831</td>\n",
              "      <td>5.633811</td>\n",
              "      <td>-0.183314</td>\n",
              "      <td>-7.040876</td>\n",
              "      <td>-16.573147</td>\n",
              "      <td>-2.192443</td>\n",
              "      <td>2.878886</td>\n",
              "    </tr>\n",
              "    <tr>\n",
              "      <th>392</th>\n",
              "      <td>-447.611664</td>\n",
              "      <td>149.532837</td>\n",
              "      <td>19.051647</td>\n",
              "      <td>-10.643509</td>\n",
              "      <td>-6.140965</td>\n",
              "      <td>-7.388492</td>\n",
              "      <td>-10.547832</td>\n",
              "      <td>1.630062</td>\n",
              "      <td>-1.296755</td>\n",
              "      <td>-4.382339</td>\n",
              "      <td>-8.097672</td>\n",
              "      <td>6.077648</td>\n",
              "      <td>-0.580983</td>\n",
              "    </tr>\n",
              "    <tr>\n",
              "      <th>393</th>\n",
              "      <td>-397.776825</td>\n",
              "      <td>139.435379</td>\n",
              "      <td>28.204884</td>\n",
              "      <td>-12.444464</td>\n",
              "      <td>-12.812505</td>\n",
              "      <td>-9.201343</td>\n",
              "      <td>-3.790159</td>\n",
              "      <td>1.712969</td>\n",
              "      <td>2.804123</td>\n",
              "      <td>-7.947084</td>\n",
              "      <td>-9.788048</td>\n",
              "      <td>-2.094393</td>\n",
              "      <td>-2.331987</td>\n",
              "    </tr>\n",
              "    <tr>\n",
              "      <th>394</th>\n",
              "      <td>-397.969299</td>\n",
              "      <td>147.673340</td>\n",
              "      <td>32.440826</td>\n",
              "      <td>-12.245346</td>\n",
              "      <td>-4.429707</td>\n",
              "      <td>-9.003803</td>\n",
              "      <td>-0.851206</td>\n",
              "      <td>2.222485</td>\n",
              "      <td>3.904117</td>\n",
              "      <td>-13.261947</td>\n",
              "      <td>-6.286728</td>\n",
              "      <td>-5.564908</td>\n",
              "      <td>-3.256240</td>\n",
              "    </tr>\n",
              "    <tr>\n",
              "      <th>...</th>\n",
              "      <td>...</td>\n",
              "      <td>...</td>\n",
              "      <td>...</td>\n",
              "      <td>...</td>\n",
              "      <td>...</td>\n",
              "      <td>...</td>\n",
              "      <td>...</td>\n",
              "      <td>...</td>\n",
              "      <td>...</td>\n",
              "      <td>...</td>\n",
              "      <td>...</td>\n",
              "      <td>...</td>\n",
              "      <td>...</td>\n",
              "    </tr>\n",
              "    <tr>\n",
              "      <th>8705</th>\n",
              "      <td>-121.508385</td>\n",
              "      <td>69.823273</td>\n",
              "      <td>1.692790</td>\n",
              "      <td>18.495541</td>\n",
              "      <td>-3.527219</td>\n",
              "      <td>6.103481</td>\n",
              "      <td>-8.898420</td>\n",
              "      <td>6.419630</td>\n",
              "      <td>-7.249172</td>\n",
              "      <td>3.644646</td>\n",
              "      <td>-9.598917</td>\n",
              "      <td>-6.091460</td>\n",
              "      <td>-0.703031</td>\n",
              "    </tr>\n",
              "    <tr>\n",
              "      <th>8706</th>\n",
              "      <td>-121.956841</td>\n",
              "      <td>68.511856</td>\n",
              "      <td>3.478100</td>\n",
              "      <td>10.045416</td>\n",
              "      <td>-1.325720</td>\n",
              "      <td>6.070758</td>\n",
              "      <td>-8.019709</td>\n",
              "      <td>4.156004</td>\n",
              "      <td>-2.410028</td>\n",
              "      <td>5.412845</td>\n",
              "      <td>-3.695178</td>\n",
              "      <td>-2.010675</td>\n",
              "      <td>-3.994624</td>\n",
              "    </tr>\n",
              "    <tr>\n",
              "      <th>8707</th>\n",
              "      <td>-135.210999</td>\n",
              "      <td>70.456909</td>\n",
              "      <td>-4.804649</td>\n",
              "      <td>8.412874</td>\n",
              "      <td>4.696113</td>\n",
              "      <td>6.364796</td>\n",
              "      <td>-5.461402</td>\n",
              "      <td>2.737119</td>\n",
              "      <td>0.942574</td>\n",
              "      <td>8.593540</td>\n",
              "      <td>-1.218001</td>\n",
              "      <td>3.941343</td>\n",
              "      <td>2.900291</td>\n",
              "    </tr>\n",
              "    <tr>\n",
              "      <th>8708</th>\n",
              "      <td>-147.101913</td>\n",
              "      <td>67.765923</td>\n",
              "      <td>-5.492129</td>\n",
              "      <td>14.991959</td>\n",
              "      <td>4.004101</td>\n",
              "      <td>7.306721</td>\n",
              "      <td>-4.076278</td>\n",
              "      <td>1.582791</td>\n",
              "      <td>0.951866</td>\n",
              "      <td>8.189951</td>\n",
              "      <td>-4.644315</td>\n",
              "      <td>3.299723</td>\n",
              "      <td>4.754741</td>\n",
              "    </tr>\n",
              "    <tr>\n",
              "      <th>8709</th>\n",
              "      <td>-148.864792</td>\n",
              "      <td>71.658081</td>\n",
              "      <td>-3.369171</td>\n",
              "      <td>14.906668</td>\n",
              "      <td>1.030524</td>\n",
              "      <td>6.299562</td>\n",
              "      <td>-6.211694</td>\n",
              "      <td>-0.946109</td>\n",
              "      <td>2.719359</td>\n",
              "      <td>12.585052</td>\n",
              "      <td>-2.275735</td>\n",
              "      <td>5.229307</td>\n",
              "      <td>5.951312</td>\n",
              "    </tr>\n",
              "  </tbody>\n",
              "</table>\n",
              "<p>8320 rows × 13 columns</p>\n",
              "</div>"
            ],
            "text/plain": [
              "          mfcc_1      mfcc_2     mfcc_3  ...    mfcc_11   mfcc_12   mfcc_13\n",
              "390  -492.022522  221.990723 -25.822758  ... -17.418743 -7.103581  0.893419\n",
              "391  -498.153259  213.656830 -18.138809  ... -16.573147 -2.192443  2.878886\n",
              "392  -447.611664  149.532837  19.051647  ...  -8.097672  6.077648 -0.580983\n",
              "393  -397.776825  139.435379  28.204884  ...  -9.788048 -2.094393 -2.331987\n",
              "394  -397.969299  147.673340  32.440826  ...  -6.286728 -5.564908 -3.256240\n",
              "...          ...         ...        ...  ...        ...       ...       ...\n",
              "8705 -121.508385   69.823273   1.692790  ...  -9.598917 -6.091460 -0.703031\n",
              "8706 -121.956841   68.511856   3.478100  ...  -3.695178 -2.010675 -3.994624\n",
              "8707 -135.210999   70.456909  -4.804649  ...  -1.218001  3.941343  2.900291\n",
              "8708 -147.101913   67.765923  -5.492129  ...  -4.644315  3.299723  4.754741\n",
              "8709 -148.864792   71.658081  -3.369171  ...  -2.275735  5.229307  5.951312\n",
              "\n",
              "[8320 rows x 13 columns]"
            ]
          },
          "metadata": {
            "tags": []
          },
          "execution_count": 19
        }
      ]
    },
    {
      "cell_type": "code",
      "metadata": {
        "id": "mcAH9ZKdbL7S"
      },
      "source": [
        "song_values= []\n",
        "for i in range(0,single_file_df.shape[0],130):\n",
        "    # print(i, i+130)\n",
        "    # i+1\n",
        "    # if i>=song_df2.shape[0]+130:\n",
        "    #     break\n",
        "    song_values.append(single_file_df.iloc[i:i+130,:])\n",
        "    i+=1\n",
        "    if i >=single_file_df.shape[0]+130:\n",
        "        break"
      ],
      "execution_count": 20,
      "outputs": []
    },
    {
      "cell_type": "code",
      "metadata": {
        "colab": {
          "base_uri": "https://localhost:8080/"
        },
        "id": "ytwTmkFLELcI",
        "outputId": "c8452769-bc53-4f69-a704-53674a51e4d9"
      },
      "source": [
        "song_values"
      ],
      "execution_count": 21,
      "outputs": [
        {
          "output_type": "execute_result",
          "data": {
            "text/plain": [
              "[         mfcc_1      mfcc_2     mfcc_3  ...    mfcc_11   mfcc_12   mfcc_13\n",
              " 390 -492.022522  221.990723 -25.822758  ... -17.418743 -7.103581  0.893419\n",
              " 391 -498.153259  213.656830 -18.138809  ... -16.573147 -2.192443  2.878886\n",
              " 392 -447.611664  149.532837  19.051647  ...  -8.097672  6.077648 -0.580983\n",
              " 393 -397.776825  139.435379  28.204884  ...  -9.788048 -2.094393 -2.331987\n",
              " 394 -397.969299  147.673340  32.440826  ...  -6.286728 -5.564908 -3.256240\n",
              " ..          ...         ...        ...  ...        ...       ...       ...\n",
              " 515 -475.243164  200.763733 -21.028805  ...  -8.404052  3.631967 -1.490010\n",
              " 516 -495.025330  200.864380 -21.890850  ...  -2.967733 -3.013862  0.579182\n",
              " 517 -506.314331  202.724945 -25.331005  ...  -7.154740 -4.385885 -3.990628\n",
              " 518 -498.754547  198.160065 -32.828690  ... -12.863153 -8.701575 -1.627706\n",
              " 519 -484.096313  199.491882 -34.964577  ... -14.304271 -7.974526  1.305053\n",
              " \n",
              " [130 rows x 13 columns],\n",
              "          mfcc_1      mfcc_2     mfcc_3  ...    mfcc_11    mfcc_12    mfcc_13\n",
              " 520 -503.271576  187.495956 -41.348358  ... -17.463169  -9.623496  -5.329039\n",
              " 521 -510.349396  173.250183 -25.282372  ... -14.165110  -9.928318   0.137046\n",
              " 522 -463.683075  107.217850  22.186108  ...  -6.274302  -4.977107  -3.084571\n",
              " 523 -392.081818  113.014488  29.429466  ...   1.616470  -7.764733 -10.026241\n",
              " 524 -376.503357  127.971725  25.436617  ...   2.555065 -10.835123 -13.012432\n",
              " ..          ...         ...        ...  ...        ...        ...        ...\n",
              " 645 -460.198700  172.144226 -16.350384  ... -13.014604  -9.032618  -2.666207\n",
              " 646 -497.532318  197.118713 -30.668953  ... -21.284760  -1.527591  -2.884621\n",
              " 647 -516.044312  198.071655 -27.624800  ... -18.683142   3.073954  -2.045482\n",
              " 648 -514.160767  211.899353 -31.564842  ... -14.929079  -1.657889  -4.065942\n",
              " 649 -499.812958  221.915039 -34.394787  ...  -7.995810  -2.548614  -5.876535\n",
              " \n",
              " [130 rows x 13 columns],\n",
              "          mfcc_1      mfcc_2     mfcc_3  ...    mfcc_11    mfcc_12    mfcc_13\n",
              " 650 -497.365540  207.590515 -18.731256  ...  -1.365684  -2.525718  -9.265438\n",
              " 651 -514.996399  200.861603 -16.316862  ...  -5.350602  -5.368823  -9.668976\n",
              " 652 -527.788208  185.658310 -13.558548  ...  -9.818756  -0.621275  -6.817531\n",
              " 653 -461.869904  139.332275  11.340101  ...  -5.197658   2.573081  -6.776192\n",
              " 654 -409.357422  126.124527  19.738224  ...   1.166637   8.361747  -6.241446\n",
              " ..          ...         ...        ...  ...        ...        ...        ...\n",
              " 775 -333.401520   90.907944  23.168013  ...  -4.962836   8.216747 -32.389763\n",
              " 776 -345.170044   83.552658  13.775721  ...  -4.568006  11.616673 -29.040787\n",
              " 777 -345.591095   86.819336   2.601982  ... -10.566649  -0.336012 -19.961212\n",
              " 778 -347.259827  112.621704  -0.512765  ... -11.610331  -9.359960 -12.611122\n",
              " 779 -340.946350  136.825043  -1.271724  ... -13.362706  -2.714384  -7.481419\n",
              " \n",
              " [130 rows x 13 columns],\n",
              "          mfcc_1      mfcc_2     mfcc_3  ...    mfcc_11    mfcc_12    mfcc_13\n",
              " 780 -337.078369  136.678467  -2.243140  ...  -8.134272  -5.006013  -3.819879\n",
              " 781 -359.460938  129.996841  -4.418711  ... -11.333996 -14.661071  -6.860807\n",
              " 782 -407.182678  114.463516  -9.726240  ... -19.796658 -28.848469 -16.878948\n",
              " 783 -410.924408  112.301140  -3.709679  ... -27.864523 -21.031574 -20.421034\n",
              " 784 -407.034882   99.152512   8.706343  ... -25.434591 -16.178976 -20.580532\n",
              " ..          ...         ...        ...  ...        ...        ...        ...\n",
              " 905 -325.826965   80.708160  19.758461  ...  -3.393983  -6.481336  -4.245807\n",
              " 906 -318.256561  118.956436  19.663490  ...  -4.702335 -13.279411  -5.740973\n",
              " 907 -334.882782  131.591949  11.052652  ... -11.203386 -14.264306  -9.008751\n",
              " 908 -356.021820  138.303787   3.728069  ... -16.944231  -6.001997 -12.859017\n",
              " 909 -352.269989  149.998688   5.907738  ... -15.990662  -1.013581 -12.461315\n",
              " \n",
              " [130 rows x 13 columns],\n",
              "           mfcc_1      mfcc_2     mfcc_3  ...    mfcc_11    mfcc_12    mfcc_13\n",
              " 910  -360.400452  140.661072   1.860430  ... -12.392221  -3.476480 -12.047132\n",
              " 911  -366.647583  132.590302  -3.097452  ... -13.416051  -6.027173 -15.153397\n",
              " 912  -374.262512  120.543945 -11.845877  ...  -8.262411 -11.882444 -19.877525\n",
              " 913  -378.065704  114.625351 -13.509109  ...  -3.297065 -12.050022 -17.428467\n",
              " 914  -382.564056  102.877960  -6.542841  ...   0.172445 -13.534819 -11.049948\n",
              " ...          ...         ...        ...  ...        ...        ...        ...\n",
              " 1035 -331.526031   79.899323 -40.571182  ... -21.466866  -3.947641 -17.109871\n",
              " 1036 -308.521973   89.958618 -28.636421  ... -14.599261   0.640248 -15.919704\n",
              " 1037 -306.249695   96.691559 -29.815071  ... -13.465796   0.113151 -13.497559\n",
              " 1038 -307.398621  103.954193 -49.357601  ... -14.056267   1.380729  -7.672710\n",
              " 1039 -295.161530  118.006813 -67.138557  ... -13.625679   1.805107  -5.561581\n",
              " \n",
              " [130 rows x 13 columns],\n",
              "           mfcc_1      mfcc_2     mfcc_3  ...    mfcc_11    mfcc_12    mfcc_13\n",
              " 1040 -301.248901  101.347969 -68.032364  ... -21.221294   6.270557  -0.224218\n",
              " 1041 -326.830231  104.476379 -68.436661  ... -20.831577  -1.354154  -3.302783\n",
              " 1042 -361.096130   97.247330 -65.125183  ... -16.257668 -13.153206  -8.738794\n",
              " 1043 -347.323120   88.399323 -51.887691  ... -21.441261  -5.593918 -14.518057\n",
              " 1044 -360.197754   80.291687 -22.149046  ... -24.641430  -2.567555 -14.140045\n",
              " ...          ...         ...        ...  ...        ...        ...        ...\n",
              " 1165 -509.173035  158.688812 -18.231470  ...  -3.556708   4.455193  -4.169750\n",
              " 1166 -451.989014  112.184570  -3.037263  ...  -2.478395   1.167228  -3.493941\n",
              " 1167 -418.868408  116.837738   5.853505  ...  -2.628580  -2.339732  -7.339021\n",
              " 1168 -397.794434  132.794525  17.948925  ...  -0.603742  -8.048381 -12.279202\n",
              " 1169 -408.444458  145.008209  19.658197  ...  -5.901772  -7.682420  -7.009187\n",
              " \n",
              " [130 rows x 13 columns],\n",
              "           mfcc_1      mfcc_2     mfcc_3  ...    mfcc_11    mfcc_12    mfcc_13\n",
              " 1170 -456.592407  187.308533  -3.214568  ... -16.746889   4.714961  -1.509939\n",
              " 1171 -458.424896  179.133133  -4.282711  ... -16.225285   6.057970  -4.828651\n",
              " 1172 -457.705933  162.986755  -7.123216  ... -14.582205   6.683215  -9.376587\n",
              " 1173 -460.660004  155.953903  -5.200415  ... -16.872570   9.334538  -8.663391\n",
              " 1174 -468.123962  151.943176  -3.470063  ... -14.426799   9.062174  -6.770021\n",
              " ...          ...         ...        ...  ...        ...        ...        ...\n",
              " 1295 -385.632233  105.671768 -16.245192  ...  12.293713 -20.392982  -4.243359\n",
              " 1296 -398.390228  108.650169  -7.847638  ...   8.015907 -19.790691  -5.488894\n",
              " 1297 -401.595032  103.556282  -0.849096  ...   1.501240 -12.135596  -5.394178\n",
              " 1298 -385.960968  111.900452   7.448238  ...   5.850015  -2.878152 -10.109723\n",
              " 1299 -367.535065  121.678314   7.855503  ...  10.869396   1.659705 -17.164770\n",
              " \n",
              " [130 rows x 13 columns],\n",
              "           mfcc_1      mfcc_2     mfcc_3  ...    mfcc_11    mfcc_12   mfcc_13\n",
              " 1300 -363.956879  143.102142   4.924849  ...  13.668056  -3.153745 -3.273207\n",
              " 1301 -377.264801  135.241653   2.801212  ...  11.763405  -4.618327  0.152630\n",
              " 1302 -399.768219  120.935104   3.131634  ...   8.107250  -5.237714  3.181980\n",
              " 1303 -410.145569  115.603897   4.223754  ...   2.753279  -9.781022  0.894207\n",
              " 1304 -413.786072  110.038864   8.460294  ...  -3.224858  -7.307354 -1.957240\n",
              " ...          ...         ...        ...  ...        ...        ...       ...\n",
              " 1425 -305.077087   22.512768  67.959610  ...  -1.146925  14.052010 -3.193420\n",
              " 1426 -316.074707   24.488106  67.178574  ...  -2.013700  11.479040 -4.400627\n",
              " 1427 -324.088989   32.622368  60.169384  ...  -5.227992  11.872231 -2.767785\n",
              " 1428 -321.463440   32.631767  59.684116  ...   4.332191  17.875721 -2.842378\n",
              " 1429 -307.327240   31.262863  60.266319  ...   7.292564  22.275248 -6.162566\n",
              " \n",
              " [130 rows x 13 columns],\n",
              "           mfcc_1      mfcc_2     mfcc_3  ...    mfcc_11    mfcc_12    mfcc_13\n",
              " 1430 -233.564514   69.465057  40.792862  ...   6.973780  16.743225  -2.744782\n",
              " 1431 -255.151367   87.121948  45.241768  ...   3.378560  12.063719  -5.863449\n",
              " 1432 -295.770752  102.971161  45.650139  ...   5.890616   8.860997 -12.097277\n",
              " 1433 -306.474548  101.757202  45.788868  ...  11.838750   4.474894 -17.215290\n",
              " 1434 -315.617340   94.888817  44.842289  ...  15.129662   1.282920 -21.935986\n",
              " ...          ...         ...        ...  ...        ...        ...        ...\n",
              " 1555 -354.431885  125.579514 -40.574310  ... -10.642227  -1.979781 -23.351772\n",
              " 1556 -345.280212  119.934952 -49.141815  ... -10.599923  -1.741936 -19.589790\n",
              " 1557 -342.267639  114.077484 -61.059624  ...  -2.917715  -4.193289 -13.965891\n",
              " 1558 -319.467621  126.544373 -76.570343  ...  -1.071705 -10.011912  -7.879108\n",
              " 1559 -307.986572  135.874222 -73.203041  ...  -2.858195  -9.560747  -7.606212\n",
              " \n",
              " [130 rows x 13 columns],\n",
              "           mfcc_1      mfcc_2     mfcc_3  ...    mfcc_11    mfcc_12    mfcc_13\n",
              " 1560 -312.699646  142.171143 -66.693687  ...  -6.660748  -2.370592  -2.739952\n",
              " 1561 -317.128510  126.568085 -55.856285  ...  -6.761277  -0.901895  -4.378695\n",
              " 1562 -316.494293  114.593102 -33.844872  ...  -7.442308   4.286408  -4.605194\n",
              " 1563 -320.549774  118.729454 -23.581619  ...  -8.401722   3.936548  -7.422741\n",
              " 1564 -342.506317  128.471359 -33.850407  ...  -9.525610  -1.466404 -10.259197\n",
              " ...          ...         ...        ...  ...        ...        ...        ...\n",
              " 1685 -339.960480  100.507965  31.344454  ...  15.502695  13.611006  -6.733077\n",
              " 1686 -365.231384  111.384026  26.240608  ...  15.983571  11.035187  -5.469731\n",
              " 1687 -396.427124  110.316963  19.527363  ...  19.367722  12.649389  -3.178470\n",
              " 1688 -395.614502  111.494675   9.751750  ...  17.813425   4.302167  -4.317409\n",
              " 1689 -391.988922  119.404343  -2.550020  ...  12.336635  -3.146023  -6.434181\n",
              " \n",
              " [130 rows x 13 columns],\n",
              "           mfcc_1      mfcc_2     mfcc_3  ...    mfcc_11    mfcc_12   mfcc_13\n",
              " 1690 -391.939728  128.644318  -5.364105  ...   8.986565   3.623161 -7.601601\n",
              " 1691 -389.301117  106.217819  13.471510  ...   7.345922  10.085115 -8.009518\n",
              " 1692 -353.096344   85.055321  19.101009  ...   5.245086  10.200211  0.249260\n",
              " 1693 -305.258606  103.370590  17.566378  ...   5.360666  10.599815  1.610323\n",
              " 1694 -308.696564  109.048752  27.234280  ...   3.510714   7.655057 -3.344054\n",
              " ...          ...         ...        ...  ...        ...        ...       ...\n",
              " 1815 -399.358734  159.661041  23.542915  ...  -2.976177   8.560444 -0.099424\n",
              " 1816 -406.433228  159.682373  26.859821  ...  -5.103222  10.844783  0.076009\n",
              " 1817 -402.829254  154.615051  34.354164  ... -11.166119  22.312538  1.185698\n",
              " 1818 -397.491791  160.880173  33.412857  ... -10.013540  20.119297  3.914630\n",
              " 1819 -396.903381  176.234589  23.730198  ...  -1.054025  12.325216  4.847535\n",
              " \n",
              " [130 rows x 13 columns],\n",
              "           mfcc_1      mfcc_2     mfcc_3  ...   mfcc_11    mfcc_12    mfcc_13\n",
              " 1820 -397.529266  163.981323  30.536943  ...  0.486826   7.073431  -3.851161\n",
              " 1821 -407.269318  166.083069  25.740635  ...  3.680230   5.918211  -5.057555\n",
              " 1822 -424.744659  155.286987  24.589331  ...  3.452424   5.709285   1.831217\n",
              " 1823 -394.828888  151.131241  31.493982  ... -0.298580   6.619025   3.048258\n",
              " 1824 -367.201019  153.369812  29.141159  ...  0.048475   5.215065  -0.635603\n",
              " ...          ...         ...        ...  ...       ...        ...        ...\n",
              " 1945 -302.036865  113.306931   1.255826  ...  5.852244 -19.509825   0.371662\n",
              " 1946 -312.370575  103.601715  -2.762951  ...  3.019375 -17.751534   2.897933\n",
              " 1947 -315.407135   97.973366 -10.168314  ...  0.715520 -18.051914   4.033276\n",
              " 1948 -320.390961   97.436989 -17.689505  ...  2.862816 -16.336611   7.663746\n",
              " 1949 -322.632660  103.859856 -21.200617  ...  4.582670 -24.824947  14.607225\n",
              " \n",
              " [130 rows x 13 columns],\n",
              "           mfcc_1      mfcc_2     mfcc_3  ...    mfcc_11    mfcc_12    mfcc_13\n",
              " 1950 -310.953186   94.012512 -20.722198  ...  11.100781 -13.019526  24.916782\n",
              " 1951 -316.852875   99.634064 -17.602060  ...  20.064590 -12.872758  20.843307\n",
              " 1952 -318.285797  103.138695 -11.903648  ...  21.707771 -11.812705  15.882948\n",
              " 1953 -324.056824  102.594994  -4.152375  ...  19.683994  -9.231699  13.381821\n",
              " 1954 -308.310883  116.147720   5.034971  ...  22.049932 -11.819385   7.719330\n",
              " ...          ...         ...        ...  ...        ...        ...        ...\n",
              " 2075 -344.427795  124.113411  19.376972  ...  15.012163   7.891554   7.048132\n",
              " 2076 -380.585938  128.980377  16.464653  ...   6.286662   6.618369   6.429620\n",
              " 2077 -404.145782  116.538635  12.801626  ...  -1.093430  11.511663   6.641124\n",
              " 2078 -416.650848  119.040695  11.152009  ...  -1.734411  11.503218   3.029321\n",
              " 2079 -421.881805  136.058380   6.966717  ...   0.246616  11.641771   4.338683\n",
              " \n",
              " [130 rows x 13 columns],\n",
              "           mfcc_1      mfcc_2     mfcc_3  ...   mfcc_11    mfcc_12    mfcc_13\n",
              " 2080 -436.729492  155.693268   0.703387  ...  4.057772  -1.311769   1.815753\n",
              " 2081 -453.776611  158.191437   2.089680  ...  2.804139  -1.888326   4.843125\n",
              " 2082 -484.311646  161.638931  -0.609834  ...  1.558510  -3.945313   9.995916\n",
              " 2083 -488.367889  168.951599  -1.682613  ...  3.630157  -3.765474   6.825303\n",
              " 2084 -477.675873  168.982162  -0.672352  ...  7.717276  -4.259567   9.382818\n",
              " ...          ...         ...        ...  ...       ...        ...        ...\n",
              " 2205 -284.213165   89.278442  19.683311  ...  4.617034  21.753567  -6.835598\n",
              " 2206 -278.376343   96.681961  14.267138  ...  0.198742  21.947784  -9.443684\n",
              " 2207 -283.399536  101.618927   5.030092  ... -5.352366  22.854252 -15.451538\n",
              " 2208 -285.074554   86.480942  17.162758  ... -0.789073  11.169798 -12.283623\n",
              " 2209 -305.446442   71.456512  45.100197  ...  3.061886   1.729685 -14.072748\n",
              " \n",
              " [130 rows x 13 columns],\n",
              "           mfcc_1      mfcc_2     mfcc_3  ...    mfcc_11    mfcc_12   mfcc_13\n",
              " 2210 -355.995148  104.372177  36.708614  ...  17.355814   9.235638 -8.024902\n",
              " 2211 -373.067108  113.289932  33.856911  ...  13.919903   6.968825 -9.577120\n",
              " 2212 -397.190125  120.519707  32.505444  ...  13.533223   5.642216 -6.332850\n",
              " 2213 -382.441193   97.863251  42.553726  ...   9.440235  10.635210  0.291810\n",
              " 2214 -343.774078   73.881439  42.872002  ...   1.829126   9.384711  2.696391\n",
              " ...          ...         ...        ...  ...        ...        ...       ...\n",
              " 2335 -277.166504  101.236153 -10.725647  ...   3.669681  11.224712  4.526068\n",
              " 2336 -264.567719  110.317146   8.262609  ...  10.487083   2.780200  5.604817\n",
              " 2337 -294.487671  110.937759  27.733967  ...  11.831915   5.111592  1.373675\n",
              " 2338 -311.105988   84.881149  64.306656  ...   2.564680  10.487658 -1.674902\n",
              " 2339 -308.073608   69.103401  78.300377  ...   1.652423   3.905766 -5.579913\n",
              " \n",
              " [130 rows x 13 columns],\n",
              "           mfcc_1      mfcc_2     mfcc_3  ...    mfcc_11   mfcc_12    mfcc_13\n",
              " 2340 -308.309387   55.838131  86.291321  ...  -3.210344  3.561813  -8.828619\n",
              " 2341 -306.881836   48.307259  88.537277  ...  -3.364075  2.589466  -6.555678\n",
              " 2342 -321.942261   42.338066  91.648254  ...  -7.555769  3.106349   0.385016\n",
              " 2343 -340.739288   55.065750  86.980911  ... -10.670191  4.790297   1.104498\n",
              " 2344 -369.727081   81.690849  72.425072  ... -11.728507  4.758746   1.877512\n",
              " ...          ...         ...        ...  ...        ...       ...        ...\n",
              " 2465 -254.066605  100.131805  -9.876676  ...  -4.928369  7.555706  -8.943598\n",
              " 2466 -269.656006  109.818985  -3.444825  ...  -7.763392  5.792463  -7.659426\n",
              " 2467 -265.230896  110.127892   2.325078  ... -13.650482 -2.043256  -2.628802\n",
              " 2468 -250.308670  111.439468   4.314064  ... -10.332856 -4.250462  -9.733563\n",
              " 2469 -256.272156  112.870636  13.141853  ...  -2.346552 -9.510164 -15.270666\n",
              " \n",
              " [130 rows x 13 columns],\n",
              "           mfcc_1      mfcc_2     mfcc_3  ...    mfcc_11   mfcc_12    mfcc_13\n",
              " 2470 -281.705139   84.739471  47.291481  ... -13.842371 -8.743734  -2.769871\n",
              " 2471 -280.535278   70.902489  57.095551  ... -13.253571 -8.299504  -1.950116\n",
              " 2472 -281.210449   57.259010  61.342617  ...  -9.398092 -0.649117  -4.500035\n",
              " 2473 -275.586884   47.069046  59.628372  ...  -9.991139  0.078924 -10.257994\n",
              " 2474 -293.879761   61.448944  46.647629  ... -13.787823  0.498137  -8.543571\n",
              " ...          ...         ...        ...  ...        ...       ...        ...\n",
              " 2595 -340.837280   78.921333  39.154076  ...  -8.682171  3.811286  -2.142259\n",
              " 2596 -333.231445   70.762634  36.494461  ...  -8.245681  2.395383  -0.881258\n",
              " 2597 -330.197418   73.062561  34.761734  ...  -8.691538  4.368177   2.433085\n",
              " 2598 -284.159790   91.373489  25.798626  ...  -3.865727  4.999276  -1.723464\n",
              " 2599 -263.315796  109.361633  19.159634  ...  -6.993674  3.428404  -2.863498\n",
              " \n",
              " [130 rows x 13 columns],\n",
              "           mfcc_1      mfcc_2     mfcc_3  ...    mfcc_11    mfcc_12    mfcc_13\n",
              " 2600 -273.081665  127.520416  16.934120  ... -12.611400   6.533105   0.943138\n",
              " 2601 -263.537109  117.796265  16.638649  ...  -9.794507   6.971771  -3.999949\n",
              " 2602 -270.343750  100.791473  16.813574  ...  -6.112357   4.574376  -4.062462\n",
              " 2603 -276.308929   87.509354  19.000551  ...  -9.272396   7.248171  -1.949627\n",
              " 2604 -277.647919   77.859497  20.845078  ...  -5.270322  15.004791 -12.437984\n",
              " ...          ...         ...        ...  ...        ...        ...        ...\n",
              " 2725 -233.508453   62.404221  35.734642  ...   2.787706  13.392191   0.353898\n",
              " 2726 -239.760513   68.540657  36.424664  ...   1.244972  13.968475  -5.008608\n",
              " 2727 -245.572449   70.357071  36.743771  ...   2.904152  11.592864  -3.290112\n",
              " 2728 -247.800674   75.444214  37.201740  ...  -2.919351   9.133442  -7.114141\n",
              " 2729 -252.551010   81.850960  41.491489  ...  -0.772062  10.729972  -5.742453\n",
              " \n",
              " [130 rows x 13 columns],\n",
              "           mfcc_1     mfcc_2     mfcc_3  ...   mfcc_11    mfcc_12    mfcc_13\n",
              " 2730 -239.398758  88.482651  33.030621  ... -3.804206   4.710581   1.491058\n",
              " 2731 -239.445190  93.237526  28.787575  ... -5.689392   3.316324   2.393288\n",
              " 2732 -251.668900  91.967377  30.554558  ... -5.080388   4.922673  -2.031917\n",
              " 2733 -266.033447  88.613052  35.879429  ...  0.726667   8.996237  -6.857130\n",
              " 2734 -273.472839  90.361557  36.506401  ...  7.677865   8.111649 -13.581937\n",
              " ...          ...        ...        ...  ...       ...        ...        ...\n",
              " 2855 -164.434738  61.775681  -0.916089  ...  1.577906  17.847515  -2.446583\n",
              " 2856 -169.316956  66.490036   0.384699  ...  6.727114  16.136415  -7.890765\n",
              " 2857 -178.004944  66.449196  -1.088171  ...  7.936681  17.378918  -3.356037\n",
              " 2858 -179.919891  67.678314  -4.608421  ...  3.485149  14.929745  -2.811723\n",
              " 2859 -176.452988  77.298950  -5.216782  ...  0.206793  11.662839  -6.710883\n",
              " \n",
              " [130 rows x 13 columns],\n",
              "           mfcc_1     mfcc_2     mfcc_3  ...    mfcc_11   mfcc_12    mfcc_13\n",
              " 2860 -178.924973  73.065941  -8.446096  ...   4.072639  3.613925  -6.819146\n",
              " 2861 -177.385025  79.399864  -5.968215  ...   1.401233 -3.296499  -9.597691\n",
              " 2862 -189.111145  83.834213   0.443639  ...   2.606932 -4.369277  -8.491178\n",
              " 2863 -198.471924  75.598274   4.619941  ...  10.624584  1.593460  -3.046918\n",
              " 2864 -206.005966  70.810120  10.499164  ...   6.884415  4.725397  -0.129045\n",
              " ...          ...        ...        ...  ...        ...       ...        ...\n",
              " 2985 -157.694138  73.705200   4.722608  ...  -1.209357  7.241791  11.440826\n",
              " 2986 -157.437012  73.616188   1.810044  ...  -2.354370  7.703739   9.809875\n",
              " 2987 -161.345963  72.400505   0.658522  ...  -6.622025  5.448823   9.269318\n",
              " 2988 -164.368546  76.858704  -2.959045  ...  -9.561087  6.595189  12.207945\n",
              " 2989 -167.578949  87.751770 -10.708937  ...  -7.960030  9.248695  15.373999\n",
              " \n",
              " [130 rows x 13 columns],\n",
              "           mfcc_1     mfcc_2     mfcc_3  ...   mfcc_11    mfcc_12    mfcc_13\n",
              " 2990 -169.014587  80.999390 -11.814334  ... -6.166524   6.359154  10.793102\n",
              " 2991 -170.812744  83.026520 -11.065492  ... -3.702313  10.686161  10.474884\n",
              " 2992 -176.835922  79.769135  -8.686697  ... -5.450402   8.408905   9.420610\n",
              " 2993 -170.930832  78.177986  -1.619070  ... -2.859729   4.628778  13.153799\n",
              " 2994 -170.289978  77.968445  -0.934123  ... -3.803927   5.702497  14.650118\n",
              " ...          ...        ...        ...  ...       ...        ...        ...\n",
              " 3115 -167.634140  71.587250  10.493277  ...  1.251226   1.117050   4.254605\n",
              " 3116 -172.863586  71.752853   8.443473  ... -1.311493   0.400888   5.137724\n",
              " 3117 -176.045334  71.744316   7.021703  ...  0.230800   3.789186   3.035848\n",
              " 3118 -180.443649  77.331833  11.687946  ...  1.195361  -0.188436   3.132786\n",
              " 3119 -184.054184  75.816391  15.787836  ...  8.101276  -4.269817  -1.182323\n",
              " \n",
              " [130 rows x 13 columns],\n",
              "           mfcc_1     mfcc_2     mfcc_3  ...    mfcc_11   mfcc_12    mfcc_13\n",
              " 3120 -207.470932  62.710789   7.329083  ...   3.238143 -5.871213  -9.615471\n",
              " 3121 -205.173569  65.910004   9.544451  ...   4.726820 -1.912596 -12.273939\n",
              " 3122 -208.720490  69.732971  10.609783  ...   2.583268  5.664051  -9.997416\n",
              " 3123 -196.194290  66.375031  16.400106  ...  -6.069346  3.369396  -3.750479\n",
              " 3124 -175.004974  54.552441  19.650187  ... -12.080905 -0.650831   0.033711\n",
              " ...          ...        ...        ...  ...        ...       ...        ...\n",
              " 3245 -142.351929  65.024414   7.795642  ...   3.027150  5.298771  -0.378802\n",
              " 3246 -150.592361  67.541931   9.921985  ...   1.218582  7.255560   1.321596\n",
              " 3247 -160.003967  67.059296  11.146738  ...  -1.762759  5.527391   3.867262\n",
              " 3248 -166.594406  68.636948  11.833513  ...  -0.488632  5.612550   7.983434\n",
              " 3249 -165.634125  73.589104  14.626786  ...  -1.258755  9.644909  10.458597\n",
              " \n",
              " [130 rows x 13 columns],\n",
              "           mfcc_1     mfcc_2     mfcc_3  ...    mfcc_11    mfcc_12    mfcc_13\n",
              " 3250 -171.732529  71.450249  11.264082  ...  -1.254188  16.344814  15.433005\n",
              " 3251 -173.736176  68.513245  13.549818  ...  -7.209057  12.386045  12.358232\n",
              " 3252 -183.979568  64.866425  17.412302  ... -12.359467  10.369942   5.307763\n",
              " 3253 -195.343201  70.214462  15.663402  ... -10.528124   7.765533   1.003540\n",
              " 3254 -210.028152  75.694229  12.781973  ...  -7.895099   7.751784   3.992484\n",
              " ...          ...        ...        ...  ...        ...        ...        ...\n",
              " 3375 -131.952759  77.283203  17.987522  ...   2.377360   3.571921   1.422017\n",
              " 3376 -152.306549  76.147713  12.478468  ...   2.070258   7.331317   7.156044\n",
              " 3377 -160.201004  72.024796   8.565242  ...  -2.165685   1.827769   7.804087\n",
              " 3378 -158.218704  76.814445   7.994401  ...  -2.776815  -4.914797   4.322083\n",
              " 3379 -158.693649  83.892265   5.885810  ...  -1.014826  -8.044306  -1.340039\n",
              " \n",
              " [130 rows x 13 columns],\n",
              "           mfcc_1     mfcc_2     mfcc_3  ...    mfcc_11    mfcc_12    mfcc_13\n",
              " 3380 -165.588638  78.956345  11.062101  ...  -4.993634  11.391016  10.970664\n",
              " 3381 -165.309174  81.686081  11.312607  ...  -2.975153   4.583371   5.715028\n",
              " 3382 -171.264847  83.172462   6.010679  ...  -1.371362  -1.777130   4.845311\n",
              " 3383 -172.693222  88.246132   2.582604  ...  -4.117105  -1.377813   7.765605\n",
              " 3384 -179.777313  91.267471   1.806631  ...  -5.974222   5.074438   9.570921\n",
              " ...          ...        ...        ...  ...        ...        ...        ...\n",
              " 3505 -340.187042  59.454712  24.501720  ...   2.044443  -3.751565 -17.424599\n",
              " 3506 -336.636292  50.797043  26.917469  ...   6.500328  -2.813004 -16.714462\n",
              " 3507 -335.508301  49.328129  25.332460  ...  10.680620  -5.021544 -14.974092\n",
              " 3508 -320.783630  58.181686  17.410507  ...  13.738312  -5.050876  -9.521013\n",
              " 3509 -308.014832  72.759476  13.416997  ...  11.454227  -1.888854  -2.585909\n",
              " \n",
              " [130 rows x 13 columns],\n",
              "           mfcc_1      mfcc_2     mfcc_3  ...    mfcc_11    mfcc_12    mfcc_13\n",
              " 3510 -320.531952   68.817200  11.439014  ...  11.931482   1.954618  -5.020100\n",
              " 3511 -321.103912   65.777802   6.641209  ...   7.233842  -7.700955  -8.853046\n",
              " 3512 -320.827026   62.146702  -3.799020  ...   2.989161 -17.082500  -8.879982\n",
              " 3513 -317.053436   60.711983  -8.656731  ...  -2.484338 -21.869680  -4.123817\n",
              " 3514 -318.889404   58.268929  -9.259600  ...  -1.163474 -21.175671  -6.138113\n",
              " ...          ...         ...        ...  ...        ...        ...        ...\n",
              " 3635 -489.474670  190.628662  28.797857  ...   7.034190  22.441120  18.897186\n",
              " 3636 -429.440033  160.002014  32.155514  ...   1.879958  18.905666  15.246984\n",
              " 3637 -408.849060  153.293274  21.096058  ...   1.899234  19.573751  14.322628\n",
              " 3638 -422.457611  162.607803  14.058813  ...   3.226575  21.227928  16.504967\n",
              " 3639 -440.739166  187.958130  -0.063533  ...   1.374163  22.440197  22.010090\n",
              " \n",
              " [130 rows x 13 columns],\n",
              "           mfcc_1      mfcc_2     mfcc_3  ...   mfcc_11    mfcc_12    mfcc_13\n",
              " 3640 -463.487610  193.664413 -15.491331  ...  3.787826  30.721954  25.267063\n",
              " 3641 -474.658295  189.961975  -8.805630  ...  4.891767  28.887512  23.878126\n",
              " 3642 -493.580811  179.261658  -0.801906  ...  1.985188  24.614647  22.094040\n",
              " 3643 -500.950806  179.502075   4.236127  ... -0.889319  24.584951  22.843548\n",
              " 3644 -502.874115  181.059235   6.145912  ... -1.152594  19.354210  20.138870\n",
              " ...          ...         ...        ...  ...       ...        ...        ...\n",
              " 3765 -349.871643   60.274914  72.238525  ... -1.002392  11.194147   3.370492\n",
              " 3766 -269.151276   33.909805  49.960976  ...  2.062708   2.078197  -6.083187\n",
              " 3767 -156.805511   36.308628  29.832615  ... -1.665376   0.284723 -15.035642\n",
              " 3768 -137.198425   41.296082  26.286098  ...  1.656456   5.210593 -12.272348\n",
              " 3769 -187.744232   41.835983  24.059189  ...  6.109171  12.127120  -3.516796\n",
              " \n",
              " [130 rows x 13 columns],\n",
              "           mfcc_1     mfcc_2     mfcc_3  ...    mfcc_11    mfcc_12    mfcc_13\n",
              " 3770 -214.867294  60.288330  26.664606  ...   6.675837  11.499973  -4.995127\n",
              " 3771 -214.228714  64.209015  24.466209  ...   2.938411   9.948497  -0.454417\n",
              " 3772 -227.148224  68.020508  21.207087  ...  -2.523179   2.979363  -1.538066\n",
              " 3773 -240.744385  74.518997  21.857185  ...  -5.572742   2.918228  -4.375888\n",
              " 3774 -253.846603  80.848335  23.394615  ...  -3.723028   4.186657  -2.472760\n",
              " ...          ...        ...        ...  ...        ...        ...        ...\n",
              " 3895 -280.657898  79.370102  48.079330  ...  15.488894   8.425798 -19.201649\n",
              " 3896 -275.829559  81.091797  47.028927  ...  15.993806   5.382607 -14.644712\n",
              " 3897 -242.057144  79.283615  38.647766  ...   3.707364   2.099741  -0.770147\n",
              " 3898 -159.484772  77.997971  23.326912  ...  -2.934396  -5.115196  -1.986097\n",
              " 3899 -142.359573  76.946815  23.445004  ...   1.656719  -5.189078  -2.589865\n",
              " \n",
              " [130 rows x 13 columns],\n",
              "           mfcc_1      mfcc_2     mfcc_3  ...    mfcc_11    mfcc_12   mfcc_13\n",
              " 3900 -200.978012   61.298687  31.806313  ...   4.040411  -1.418203  1.796613\n",
              " 3901 -207.249222   66.080994  28.242437  ...   6.012356   5.535368 -0.459780\n",
              " 3902 -232.189545   70.855072  26.509823  ...   3.502460  12.718037  2.734316\n",
              " 3903 -251.261307   81.496460  27.365093  ...   0.235252  15.767481  6.743542\n",
              " 3904 -262.930267   90.640305  23.180271  ...   2.190143  12.252466  3.144314\n",
              " ...          ...         ...        ...  ...        ...        ...       ...\n",
              " 4025 -339.910797  102.187332  44.735489  ...  11.013155   9.635498  6.260015\n",
              " 4026 -339.403381  110.326736  39.285263  ...   8.875303   8.816790  3.420102\n",
              " 4027 -313.229523  103.249969  30.641884  ...  -0.194478   8.786040  0.530721\n",
              " 4028 -290.867889   85.097824  36.315773  ...   2.387532   8.028654  3.925287\n",
              " 4029 -277.586700   73.541794  44.871056  ...   4.366324   8.012781  5.371896\n",
              " \n",
              " [130 rows x 13 columns],\n",
              "           mfcc_1     mfcc_2     mfcc_3  ...    mfcc_11   mfcc_12    mfcc_13\n",
              " 4030 -128.865524  63.833084  17.933849  ...  -0.371222  3.145424  -6.602035\n",
              " 4031 -148.762070  69.547852  20.233410  ...   1.347969  3.025558  -3.967096\n",
              " 4032 -187.205566  74.364761  27.878731  ...   6.833611  6.525895  -1.310352\n",
              " 4033 -202.600204  75.333466  31.879063  ...   9.986610  7.467549  -1.301173\n",
              " 4034 -217.713058  79.840584  35.018837  ...   8.717413  2.476452   2.561105\n",
              " ...          ...        ...        ...  ...        ...       ...        ...\n",
              " 4155 -239.060379   8.835871  82.697266  ...  -1.239683  6.057255   1.390510\n",
              " 4156 -243.812515  10.864902  80.142723  ...  -5.045394  7.514383  -6.183027\n",
              " 4157 -245.511078  10.097252  70.472229  ...  -7.879808  0.753831 -13.638464\n",
              " 4158 -255.007828  26.519732  68.241730  ...   1.086344 -1.107233  -7.419520\n",
              " 4159 -281.947235  61.962147  70.661819  ...  15.984150 -2.951203  -3.235333\n",
              " \n",
              " [130 rows x 13 columns],\n",
              "           mfcc_1      mfcc_2     mfcc_3  ...    mfcc_11    mfcc_12    mfcc_13\n",
              " 4160 -189.477753   71.869247  20.889191  ...  -4.988838   1.208097   0.257176\n",
              " 4161 -149.138382   67.583038  17.847887  ... -10.573315  -1.076895  -1.171853\n",
              " 4162 -158.653030   65.002411  19.339819  ...  -7.040158  -2.512828  -6.047230\n",
              " 4163 -182.865646   61.378761  22.833912  ...   3.880291   5.079019 -11.946336\n",
              " 4164 -193.052444   61.317314  24.025885  ...   9.265081   6.225035 -12.950769\n",
              " ...          ...         ...        ...  ...        ...        ...        ...\n",
              " 4285 -297.895844  126.902428  28.561277  ...   6.152968   2.311864   0.863691\n",
              " 4286 -294.260773  125.051804  24.515657  ...   4.254834   3.876237   2.087377\n",
              " 4287 -301.960846  121.713707  22.443441  ...   5.812184   3.103705   4.180932\n",
              " 4288 -305.325317  121.661163  26.087667  ...   5.093386  -3.561015  -0.076608\n",
              " 4289 -306.879395  118.088623  25.955589  ...   8.597680 -11.170058  -4.091978\n",
              " \n",
              " [130 rows x 13 columns],\n",
              "           mfcc_1      mfcc_2     mfcc_3  ...    mfcc_11    mfcc_12    mfcc_13\n",
              " 4290 -308.194794  122.742905  22.037086  ...   7.016426   2.580463  -0.496843\n",
              " 4291 -257.932037  102.808136  22.926847  ...  -1.305980   4.148185  -3.490041\n",
              " 4292 -171.352936   80.144165  18.945448  ...  -0.155466   5.651845  -9.565681\n",
              " 4293 -161.762497   74.176170  19.902843  ...   1.972187   2.015471  -6.010614\n",
              " 4294 -192.216507   67.502594  18.603899  ...   0.347560   4.007135   2.787049\n",
              " ...          ...         ...        ...  ...        ...        ...        ...\n",
              " 4415 -276.029022  116.411255   4.088598  ...  -4.032141  14.858711 -12.901400\n",
              " 4416 -284.183289  114.282524   5.467492  ...  -8.436838  14.411362 -11.853796\n",
              " 4417 -290.760742  112.703300  11.045443  ... -12.879557  18.465549 -12.513403\n",
              " 4418 -287.643341  114.100929  13.073103  ... -13.798822  24.689524 -12.592525\n",
              " 4419 -282.959564  115.523758  12.176120  ... -16.568892  26.401585  -7.669563\n",
              " \n",
              " [130 rows x 13 columns],\n",
              "           mfcc_1      mfcc_2     mfcc_3  ...    mfcc_11    mfcc_12   mfcc_13\n",
              " 4420 -288.975159  122.238937  10.193724  ... -11.304426  22.169439 -9.892441\n",
              " 4421 -293.173340  121.696976   9.471318  ...  -8.126671  27.672728 -4.918776\n",
              " 4422 -188.011856   85.582520  12.655264  ...  -2.157809  13.657036  2.892312\n",
              " 4423 -132.509003   74.371552  11.048447  ...  -2.967054   1.897651 -3.826341\n",
              " 4424 -153.138092   70.747177  15.186732  ...  -3.323400  -0.941982 -7.192196\n",
              " ...          ...         ...        ...  ...        ...        ...       ...\n",
              " 4545 -204.379120   72.141022  -1.683683  ...  -4.785412   2.648514  2.601240\n",
              " 4546 -225.976242   74.787552  -0.204005  ...  -5.047829   5.845783  0.570292\n",
              " 4547 -233.411316   76.109756  -1.288182  ...  -9.282449   6.398350  5.767553\n",
              " 4548 -229.108917   82.013115  -3.833782  ... -11.111086   2.839629  6.747170\n",
              " 4549 -219.706696   89.761009  -8.375784  ... -12.765545  -6.046417  4.270045\n",
              " \n",
              " [130 rows x 13 columns],\n",
              "           mfcc_1     mfcc_2     mfcc_3  ...    mfcc_11    mfcc_12    mfcc_13\n",
              " 4550 -219.732422  90.280815 -14.555101  ... -11.471983   4.426211   4.393058\n",
              " 4551 -231.620880  85.801544 -10.512621  ...  -7.554623   9.499487   7.727828\n",
              " 4552 -246.439316  82.876968  -7.781763  ...  -4.481197  12.272696  13.529629\n",
              " 4553 -235.387589  86.334091  -7.999681  ...  -6.352586   7.287504   9.360950\n",
              " 4554 -159.660492  83.899918  -1.526198  ... -10.933847  -1.706392   6.738305\n",
              " ...          ...        ...        ...  ...        ...        ...        ...\n",
              " 4675 -182.118637  51.660950  11.032413  ...  -3.834429   2.643788  -8.055847\n",
              " 4676 -185.644272  45.444168  13.125639  ...  -1.767783   7.440586 -14.119624\n",
              " 4677 -206.320663  42.996864  23.108467  ...   5.167669  10.611863 -17.604311\n",
              " 4678 -203.770233  43.865501  29.515598  ...   3.824995  10.557017 -18.742275\n",
              " 4679 -190.670105  46.177605  23.156940  ...   0.505167  11.566343 -14.942898\n",
              " \n",
              " [130 rows x 13 columns],\n",
              "           mfcc_1     mfcc_2     mfcc_3  ...   mfcc_11    mfcc_12    mfcc_13\n",
              " 4680 -200.207047  43.288399  20.043425  ...  0.826575   7.957519 -17.033592\n",
              " 4681 -207.201767  38.112953  20.325077  ... -0.134316  12.140797 -16.516838\n",
              " 4682 -224.787445  30.768511  17.469728  ... -2.422760  10.887137 -15.989577\n",
              " 4683 -230.280167  37.047203  16.060837  ...  1.704171  16.040552 -17.712734\n",
              " 4684 -227.192856  35.337654  17.272978  ...  3.848392  13.281219 -18.429090\n",
              " ...          ...        ...        ...  ...       ...        ...        ...\n",
              " 4805 -188.617279  44.580235  12.323809  ...  6.736465  14.362143 -17.247606\n",
              " 4806 -185.500443  50.512478  13.561968  ...  7.479239  15.713345 -13.131901\n",
              " 4807 -185.286774  52.578831  16.910280  ...  8.325871  18.123848 -12.031914\n",
              " 4808 -186.951965  50.104958  19.113907  ...  4.994177  10.515617 -14.937408\n",
              " 4809 -192.472061  52.638443  23.606087  ...  0.211302  -2.565847 -17.698532\n",
              " \n",
              " [130 rows x 13 columns],\n",
              "           mfcc_1      mfcc_2     mfcc_3  ...   mfcc_11    mfcc_12    mfcc_13\n",
              " 4810 -187.049210   52.934135  18.129635  ... -2.024732   6.470668 -17.194221\n",
              " 4811 -194.114731   48.281929  17.567940  ... -0.157637   5.908495 -17.612984\n",
              " 4812 -202.224899   45.058464  17.618851  ...  4.086273   8.331119 -21.939552\n",
              " 4813 -204.596832   42.964684  16.413807  ...  3.550272   9.035334 -22.274427\n",
              " 4814 -207.221558   42.368340  15.840012  ...  5.989635   9.211404 -19.561012\n",
              " ...          ...         ...        ...  ...       ...        ...        ...\n",
              " 4935 -207.184357   95.359467 -24.207594  ... -4.414352   4.507562 -11.383953\n",
              " 4936 -208.756287  105.422508 -28.308611  ... -1.399792   4.136786 -13.660633\n",
              " 4937 -216.450241  112.774887 -20.003660  ...  1.785293   7.628896 -11.251406\n",
              " 4938 -216.156372  112.754745 -20.304539  ...  6.031566  16.932755  -1.442233\n",
              " 4939 -212.554596  114.248962 -21.357962  ...  6.479349  19.061775  -1.435252\n",
              " \n",
              " [130 rows x 13 columns],\n",
              "           mfcc_1      mfcc_2     mfcc_3  ...    mfcc_11    mfcc_12    mfcc_13\n",
              " 4940 -219.082535  116.415527 -18.799702  ...   3.097872  19.003262  -0.215191\n",
              " 4941 -222.710327  113.820969 -19.253990  ...   1.790853  16.333347   2.461260\n",
              " 4942 -232.473572  108.971375 -20.434998  ...  -1.533156  18.134911   3.904741\n",
              " 4943 -231.335785  110.585022 -21.022039  ...  -1.432719  18.723164   2.772629\n",
              " 4944 -230.637695  111.865341 -23.591717  ...   0.054740  17.910538   1.071823\n",
              " ...          ...         ...        ...  ...        ...        ...        ...\n",
              " 5065 -201.187439   35.184151  20.853184  ...  -5.689722   7.490944 -10.631877\n",
              " 5066 -203.397034   34.918312  24.202442  ... -10.751937   9.720015  -6.153995\n",
              " 5067 -174.294067   49.057671  17.140945  ...  -6.080281  12.475027  -9.109533\n",
              " 5068 -131.454666   58.068222  10.766753  ...  -5.496778   3.835622 -10.325918\n",
              " 5069 -135.246582   58.973602  11.422594  ...  -1.994745  -2.966194  -4.924863\n",
              " \n",
              " [130 rows x 13 columns],\n",
              "           mfcc_1     mfcc_2     mfcc_3  ...   mfcc_11    mfcc_12   mfcc_13\n",
              " 5070 -160.490723  56.441525  13.372286  ...  3.975558  10.976038  5.430469\n",
              " 5071 -170.364288  64.172066   9.588263  ...  3.502469   6.942610  3.822285\n",
              " 5072 -185.937057  72.200653   2.034844  ...  4.532991   7.519621  3.812983\n",
              " 5073 -168.805725  71.178574   5.180990  ...  1.205442   9.033430  2.104221\n",
              " 5074 -134.914886  65.753723   6.822098  ... -1.776059   8.539025 -0.514279\n",
              " ...          ...        ...        ...  ...       ...        ...       ...\n",
              " 5195 -217.988358  69.962120  19.175615  ... -1.672503   6.290565 -5.860093\n",
              " 5196 -224.578781  69.716782  16.886951  ... -1.507954   8.866716 -5.613235\n",
              " 5197 -223.643829  68.036285  14.153690  ... -2.231895   3.319146 -6.502740\n",
              " 5198 -196.469147  80.939636   8.563164  ... -4.313645   6.872059  1.274910\n",
              " 5199 -180.866180  87.345795   8.546847  ... -2.653015  12.063114  6.565365\n",
              " \n",
              " [130 rows x 13 columns],\n",
              "           mfcc_1     mfcc_2     mfcc_3  ...    mfcc_11    mfcc_12    mfcc_13\n",
              " 5200 -178.808563  77.867966   7.375174  ...  14.284822   9.579052  11.123398\n",
              " 5201 -178.997192  76.916611   7.615552  ...   7.161201   5.315755  10.142078\n",
              " 5202 -185.703720  71.298134   7.344882  ...  -4.142449   3.425872  11.908226\n",
              " 5203 -185.965332  70.303123   5.785735  ...  -5.738223   7.740370  12.321609\n",
              " 5204 -184.657104  68.482285   4.932015  ...  -6.877123  12.047876   6.462449\n",
              " ...          ...        ...        ...  ...        ...        ...        ...\n",
              " 5325 -174.125473  52.299568   1.956836  ...   6.700262  16.226933  -6.402107\n",
              " 5326 -171.049225  39.757412   9.833335  ...   0.769112   9.242952  -7.114737\n",
              " 5327 -167.465454  34.998398  11.070677  ...  -2.532166  12.549023  -5.347734\n",
              " 5328 -172.147964  37.047318   9.762717  ...  -0.075982  15.820835  -3.652762\n",
              " 5329 -172.889786  37.617004   5.618051  ...   6.066246  15.360394  -7.202173\n",
              " \n",
              " [130 rows x 13 columns],\n",
              "           mfcc_1     mfcc_2     mfcc_3  ...    mfcc_11    mfcc_12    mfcc_13\n",
              " 5330 -161.440399  41.236397   7.209756  ...   3.778692  14.106480  -7.654075\n",
              " 5331 -161.872864  38.514565  10.471614  ...   3.890597   8.934296  -5.586103\n",
              " 5332 -172.282822  33.221680  14.192620  ...   4.456645   9.254144  -2.446153\n",
              " 5333 -174.023712  39.893711   7.044595  ...   1.400028   7.678654  -5.664756\n",
              " 5334 -177.069763  55.441269   2.166680  ...   3.254368   4.014573  -7.026149\n",
              " ...          ...        ...        ...  ...        ...        ...        ...\n",
              " 5455 -183.519760  75.443558  13.632767  ...  -1.543103   1.278254  -6.981004\n",
              " 5456 -190.245392  72.064484  19.490356  ...  -5.101964   1.451049  -2.135890\n",
              " 5457 -191.556229  70.871872  19.367458  ... -10.740607   3.807624   3.191906\n",
              " 5458 -193.506607  70.426170  20.907043  ... -12.054922   4.747061   8.246531\n",
              " 5459 -196.464050  73.367416  22.924801  ...  -8.802389   5.012060  10.455193\n",
              " \n",
              " [130 rows x 13 columns],\n",
              "           mfcc_1     mfcc_2     mfcc_3  ...    mfcc_11    mfcc_12   mfcc_13\n",
              " 5460 -190.149017  70.140182  21.341518  ... -12.004670   7.701812  1.177643\n",
              " 5461 -185.000092  72.300247  21.423368  ...  -8.342185   6.738859 -1.037150\n",
              " 5462 -185.549286  67.928230  20.354721  ...  -2.588803   3.231801  0.872959\n",
              " 5463 -189.530426  65.609749  19.893723  ...  -4.338500   4.304381  5.675717\n",
              " 5464 -196.692749  69.242279  20.010036  ...  -5.191060   5.307460  6.515813\n",
              " ...          ...        ...        ...  ...        ...        ...       ...\n",
              " 5585 -170.954086  47.854221   6.340445  ...  -3.746570  22.529394  5.711244\n",
              " 5586 -177.375107  45.330200  11.970325  ...  -2.385820  18.426367  4.659176\n",
              " 5587 -179.085388  47.403591  18.822020  ...  -4.739821  12.338802  2.025538\n",
              " 5588 -175.261795  53.106922  21.713745  ...  -5.889344  19.150810  4.857325\n",
              " 5589 -165.038635  55.429607  22.622614  ...  -1.570912  27.217548  6.816815\n",
              " \n",
              " [130 rows x 13 columns],\n",
              "           mfcc_1     mfcc_2     mfcc_3  ...   mfcc_11    mfcc_12    mfcc_13\n",
              " 5590 -168.693390  61.170471  18.311737  ... -9.464952  19.503380  -3.574670\n",
              " 5591 -172.092346  61.544704  20.875643  ... -9.816723  20.521212  -1.480697\n",
              " 5592 -180.134491  60.239403  18.448349  ... -8.629908  20.160744   1.064941\n",
              " 5593 -175.404022  75.823265  12.281010  ... -1.310112  13.289402   3.753080\n",
              " 5594 -184.517227  91.300995  12.293274  ...  5.757060   7.295125   3.993922\n",
              " ...          ...        ...        ...  ...       ...        ...        ...\n",
              " 5715 -158.725113  59.564144   3.640020  ...  4.465488   3.152332 -14.845480\n",
              " 5716 -162.189606  55.686432   5.384403  ...  7.201200   3.578262 -19.196716\n",
              " 5717 -166.244293  55.495327   2.950785  ...  6.842275   7.682234 -18.100893\n",
              " 5718 -162.871567  59.822056   2.624072  ...  8.543657  11.979592 -20.034712\n",
              " 5719 -161.263428  64.273148   4.991439  ...  7.369424  14.628244 -20.209076\n",
              " \n",
              " [130 rows x 13 columns],\n",
              "           mfcc_1     mfcc_2     mfcc_3  ...   mfcc_11    mfcc_12    mfcc_13\n",
              " 5720 -165.010788  65.568771   5.861730  ...  2.719256   9.644244 -25.212330\n",
              " 5721 -179.218719  69.441940   4.215082  ... -1.800921   8.966176 -18.713425\n",
              " 5722 -205.084030  78.105637   5.396738  ... -4.481781   1.527807  -7.629774\n",
              " 5723 -192.030228  78.008804   4.896587  ... -1.704422   1.572951  -9.538026\n",
              " 5724 -170.075348  77.604408   6.163237  ...  5.633022   7.139162  -8.568508\n",
              " ...          ...        ...        ...  ...       ...        ...        ...\n",
              " 5845 -172.020187  56.838776  10.688601  ...  6.336581  21.606472   2.187807\n",
              " 5846 -173.642700  51.416405   8.288045  ...  1.841249  21.441973  -0.994974\n",
              " 5847 -173.263046  52.375893  10.807962  ... -0.535883  20.880966  -3.264475\n",
              " 5848 -163.727844  50.868866   4.889414  ...  1.652575  18.931530  -5.078973\n",
              " 5849 -155.817505  54.402245  -0.326217  ...  5.443076  19.778656  -2.776726\n",
              " \n",
              " [130 rows x 13 columns],\n",
              "           mfcc_1     mfcc_2     mfcc_3  ...   mfcc_11    mfcc_12    mfcc_13\n",
              " 5850 -150.876801  59.447411   0.334331  ...  2.748435  26.627041  -7.455684\n",
              " 5851 -156.576294  57.359699   3.867528  ...  2.408720  24.269596  -6.394613\n",
              " 5852 -161.802963  54.175369   2.695300  ...  2.079166  22.547142  -6.612629\n",
              " 5853 -162.545731  52.801353  -2.540264  ...  4.513722  23.683804  -8.280916\n",
              " 5854 -164.991959  54.961441   3.096446  ...  4.642983  25.630014  -2.712015\n",
              " ...          ...        ...        ...  ...       ...        ...        ...\n",
              " 5975 -171.401077  62.727661  24.360126  ...  6.651844  19.179077   4.951600\n",
              " 5976 -165.382263  51.556519  15.843482  ... -1.408051  17.589428  10.139028\n",
              " 5977 -159.270874  46.614281  12.079424  ... -0.870096  16.451914   5.653073\n",
              " 5978 -165.490402  44.931450  16.494705  ... -3.083978  13.287663   6.169544\n",
              " 5979 -174.550308  46.496262  19.759701  ... -4.436692  10.918396   9.373730\n",
              " \n",
              " [130 rows x 13 columns],\n",
              "           mfcc_1     mfcc_2     mfcc_3  ...    mfcc_11    mfcc_12   mfcc_13\n",
              " 5980 -178.925522  44.832603  18.385490  ... -11.043111   8.163635  3.155499\n",
              " 5981 -181.958847  50.777691  18.736866  ...  -9.420557   6.130143 -3.226071\n",
              " 5982 -198.362518  59.424812  14.914162  ...  -7.166824   4.644288 -6.636696\n",
              " 5983 -208.552643  66.041977   9.875405  ...  -3.672304   4.039676 -7.337699\n",
              " 5984 -188.520996  54.837254  16.375217  ...  -4.460238   1.646919 -9.032609\n",
              " ...          ...        ...        ...  ...        ...        ...       ...\n",
              " 6105 -170.914139  80.942017  16.101671  ...   3.350964   6.171246  0.623932\n",
              " 6106 -154.977005  73.340736  10.793589  ...   1.151346  15.480129  6.932325\n",
              " 6107 -152.970703  54.389549   3.692978  ...  -6.315547  16.894258  2.278437\n",
              " 6108 -154.021347  43.803627   2.241428  ... -10.691084  16.849537 -3.877725\n",
              " 6109 -152.870773  46.369705  -0.134404  ... -14.828828   8.899437 -7.718188\n",
              " \n",
              " [130 rows x 13 columns],\n",
              "           mfcc_1     mfcc_2     mfcc_3  ...    mfcc_11    mfcc_12    mfcc_13\n",
              " 6110 -143.091019  41.323318   0.382178  ... -10.798590  16.169506  -9.170036\n",
              " 6111 -139.382675  37.535362  -2.681569  ...  -4.067844  15.304282 -15.955141\n",
              " 6112 -149.191711  38.145531  -0.575591  ...  -0.754639  11.874199 -22.527052\n",
              " 6113 -159.314270  42.360580  11.095875  ...  -6.232357   8.975720 -16.735979\n",
              " 6114 -168.054169  40.117966  19.854265  ... -11.403624   6.108676 -12.532043\n",
              " ...          ...        ...        ...  ...        ...        ...        ...\n",
              " 6235 -217.710892  81.489937  18.575638  ... -10.287848   1.004351  -0.723048\n",
              " 6236 -185.061890  80.971954  19.211880  ...  -5.153334   5.107688   5.960233\n",
              " 6237 -176.269547  76.536583  20.061457  ...  -3.054855  13.211016  15.176929\n",
              " 6238 -190.286819  74.341522  23.966179  ...  -2.803300  15.265784  15.876312\n",
              " 6239 -193.598969  71.042603  22.239361  ...  -0.278895  16.829872  12.479687\n",
              " \n",
              " [130 rows x 13 columns],\n",
              "           mfcc_1     mfcc_2     mfcc_3  ...   mfcc_11    mfcc_12    mfcc_13\n",
              " 6240 -186.552994  72.259003  22.201881  ...  2.826224  18.498055  10.658117\n",
              " 6241 -188.593582  67.823471  19.087196  ...  1.108882   8.451717   6.697647\n",
              " 6242 -199.007263  64.743103  15.240747  ... -1.221369   4.186091   2.570126\n",
              " 6243 -209.131958  69.540062   7.460258  ... -4.872152   7.940892  -0.105186\n",
              " 6244 -221.406815  74.801414   8.505050  ... -4.981356  15.554811   0.933037\n",
              " ...          ...        ...        ...  ...       ...        ...        ...\n",
              " 6365 -181.548538  46.672791  35.678665  ... -4.849533   7.404636  -2.211462\n",
              " 6366 -180.449707  48.856316  29.044598  ... -5.818767   9.989494  -0.602068\n",
              " 6367 -162.355560  61.860046  23.886436  ... -0.057329   8.195833  -1.493128\n",
              " 6368 -145.790100  66.876427  12.726044  ... -3.505268   4.762314   3.659956\n",
              " 6369 -151.413956  73.105835   1.728956  ... -4.546897  -2.641889  10.141110\n",
              " \n",
              " [130 rows x 13 columns],\n",
              "           mfcc_1     mfcc_2     mfcc_3  ...    mfcc_11    mfcc_12   mfcc_13\n",
              " 6370 -167.105789  73.100342  10.214521  ... -14.519934  -5.117635 -1.753012\n",
              " 6371 -167.221649  72.901604  13.213821  ...  -7.939322   0.821499 -4.882814\n",
              " 6372 -174.942841  72.290543  15.685887  ...  -7.372651   1.913674 -3.413551\n",
              " 6373 -180.814484  72.395950  21.720076  ... -10.275618   3.674213 -0.221837\n",
              " 6374 -182.788010  75.291153  21.755146  ...  -8.270700   1.064163 -1.555630\n",
              " ...          ...        ...        ...  ...        ...        ...       ...\n",
              " 6495 -172.579849  77.051865  -0.958538  ...  -4.467642  -0.527760 -5.839800\n",
              " 6496 -171.069046  72.528687  -2.007874  ...  -0.160189   7.461895 -3.784080\n",
              " 6497 -167.596558  68.862671   9.640520  ...   3.281294  10.980331 -0.552642\n",
              " 6498 -160.270325  64.515045  13.476156  ...   2.254367  12.998775  4.949051\n",
              " 6499 -153.946991  59.609161  17.671051  ...   1.833967  13.217160  2.182664\n",
              " \n",
              " [130 rows x 13 columns],\n",
              "           mfcc_1     mfcc_2     mfcc_3  ...   mfcc_11    mfcc_12   mfcc_13\n",
              " 6500 -143.352859  33.960960  17.094938  ... -1.127881   8.222774 -6.380548\n",
              " 6501 -144.069748  27.210997  22.721401  ... -3.519951  10.022707 -5.316245\n",
              " 6502 -157.872009  18.584213  26.274918  ... -4.912980  11.804232 -8.819575\n",
              " 6503 -171.125229  17.194153  25.984970  ... -7.599043  11.010761 -7.204728\n",
              " 6504 -176.742783  16.656326  28.406956  ... -9.832654   5.786362 -3.384312\n",
              " ...          ...        ...        ...  ...       ...        ...       ...\n",
              " 6625 -225.269653  69.019630 -12.451543  ...  4.526147  13.010992  9.932899\n",
              " 6626 -224.837234  71.002312 -12.508141  ...  4.689066  13.863884  4.805007\n",
              " 6627 -226.247299  71.233681 -11.995049  ... -1.413575  10.979418  5.579076\n",
              " 6628 -219.174576  79.169952 -15.862654  ... -4.556499  15.386448  5.359592\n",
              " 6629 -206.899078  85.353722 -13.907713  ... -0.820211  19.540369  4.049444\n",
              " \n",
              " [130 rows x 13 columns],\n",
              "           mfcc_1     mfcc_2     mfcc_3  ...    mfcc_11    mfcc_12    mfcc_13\n",
              " 6630 -164.779785  81.373108  10.673897  ...   9.572880   8.817418   0.334468\n",
              " 6631 -159.750580  76.275108  10.472817  ...   4.544737   4.720914   3.102744\n",
              " 6632 -167.143005  62.157372   6.544228  ...  -0.836484   1.279072   4.951141\n",
              " 6633 -175.138611  55.369423   1.967536  ...  -1.190679   1.833508  -0.251665\n",
              " 6634 -176.294693  57.743446   0.907876  ...  -0.796246   1.971698  -6.903011\n",
              " ...          ...        ...        ...  ...        ...        ...        ...\n",
              " 6755 -206.398743  78.288757  -2.052916  ...  -5.075259   7.853122   6.747485\n",
              " 6756 -208.434464  84.504784  -5.612570  ... -12.022599  12.369950   9.029418\n",
              " 6757 -210.492554  86.732178  -9.887261  ...  -7.127589  11.998507   6.708565\n",
              " 6758 -208.547852  91.191742 -12.756715  ...  -5.387665  12.132063   6.438097\n",
              " 6759 -203.594376  96.551903 -13.359897  ...  -4.920918  13.489754  13.467777\n",
              " \n",
              " [130 rows x 13 columns],\n",
              "           mfcc_1     mfcc_2     mfcc_3  ...    mfcc_11    mfcc_12   mfcc_13\n",
              " 6760 -213.086258  90.403023 -10.752020  ...  -2.351121   8.480490  6.175808\n",
              " 6761 -193.853592  86.891785  -0.796670  ...   1.267380  -1.297616  1.351996\n",
              " 6762 -179.595322  79.468452  15.495541  ...   8.159693  -3.541515 -2.436573\n",
              " 6763 -194.386322  72.942635  13.384587  ...   8.442104   3.457050  4.939874\n",
              " 6764 -198.645813  71.126953   7.863957  ...   3.412591   5.092604  3.758008\n",
              " ...          ...        ...        ...  ...        ...        ...       ...\n",
              " 6885 -206.996048  62.426147   2.075968  ...   0.319464  12.357094  6.708998\n",
              " 6886 -212.806503  68.018501   1.947209  ...  -4.120379   8.686355  5.772871\n",
              " 6887 -211.681046  73.338120  -0.414157  ...  -7.899593   9.994066  5.950595\n",
              " 6888 -211.108353  80.709297  -3.514512  ... -10.258484  13.943321  7.311031\n",
              " 6889 -209.338928  87.294739  -8.192110  ...  -7.992091  13.350655  8.728281\n",
              " \n",
              " [130 rows x 13 columns],\n",
              "           mfcc_1     mfcc_2     mfcc_3  ...    mfcc_11    mfcc_12    mfcc_13\n",
              " 6890 -211.863113  85.298279 -12.444427  ... -11.883000   9.136408   8.147617\n",
              " 6891 -216.518692  80.343185  -4.643583  ... -11.486214  11.090511  11.293298\n",
              " 6892 -185.573563  78.818176   4.524734  ...   1.513252  12.073092   8.554380\n",
              " 6893 -157.416656  77.901833  10.399788  ...   8.399435   8.899679   7.061825\n",
              " 6894 -165.994339  69.415161  13.417956  ...   4.237709   9.919950   9.821447\n",
              " ...          ...        ...        ...  ...        ...        ...        ...\n",
              " 7015 -181.758530  72.728767  14.045650  ...   5.329346  12.089884  -0.070561\n",
              " 7016 -187.026031  77.727608  15.943626  ...  -2.246214  10.971964   2.102055\n",
              " 7017 -192.180298  87.598343  10.919580  ...  -1.291280   8.892973   2.118239\n",
              " 7018 -197.338593  93.416611  10.372101  ...  -2.410316  12.815718  -3.151685\n",
              " 7019 -203.899399  96.911003  14.020094  ...   2.189447  12.328890  -7.064875\n",
              " \n",
              " [130 rows x 13 columns],\n",
              "           mfcc_1      mfcc_2     mfcc_3  ...   mfcc_11   mfcc_12   mfcc_13\n",
              " 7020 -206.017410  100.041733   8.869514  ... -7.207810  9.000144  3.786818\n",
              " 7021 -209.708771   98.436768   9.973553  ... -6.439388  7.104198  4.204339\n",
              " 7022 -211.902054   93.662231   5.813355  ... -3.393809  6.863028  1.190972\n",
              " 7023 -178.281631   83.764206   8.187567  ...  5.716373  7.283595  6.250535\n",
              " 7024 -158.398148   89.864006  12.440151  ...  8.056887  7.803911  5.698633\n",
              " ...          ...         ...        ...  ...       ...       ...       ...\n",
              " 7145 -176.760101   85.196404  14.941312  ... -4.229150 -7.988165  1.213737\n",
              " 7146 -189.505905   81.031090  14.401231  ... -4.173729 -3.310982  5.217358\n",
              " 7147 -199.061447   81.923538  11.642977  ... -2.271518  0.826374  2.204247\n",
              " 7148 -202.500397   83.128830   5.059570  ... -0.649323  4.482844  1.274780\n",
              " 7149 -200.827423   89.808853   1.707366  ...  2.069746  9.353291  2.863211\n",
              " \n",
              " [130 rows x 13 columns],\n",
              "           mfcc_1      mfcc_2     mfcc_3  ...    mfcc_11    mfcc_12   mfcc_13\n",
              " 7150 -207.822708   92.389893   7.917150  ...  -1.775674  11.038976  5.724168\n",
              " 7151 -210.940689   89.298668   4.858591  ...  -2.758461  11.708569  3.599073\n",
              " 7152 -213.508270   92.269653   1.586056  ...  -7.325040   6.963820 -0.419215\n",
              " 7153 -173.297058   95.819702  -9.950327  ... -14.550917  -4.353749  2.058559\n",
              " 7154 -149.767365   91.760139  -8.568046  ...  -8.529713  -4.969979  9.982529\n",
              " ...          ...         ...        ...  ...        ...        ...       ...\n",
              " 7275 -292.334015  102.542831   9.553921  ...  -6.513578   1.866274  6.524539\n",
              " 7276 -287.767944   97.924332   9.031408  ... -10.451477  -1.667368  7.562140\n",
              " 7277 -289.726562   93.559616   9.155748  ... -10.190584  -2.381539  7.895816\n",
              " 7278 -289.633759   94.686562  13.876589  ...  -9.612745  -2.602648  2.476945\n",
              " 7279 -289.539642  101.200623  19.817204  ... -10.297945  -1.718080  3.823667\n",
              " \n",
              " [130 rows x 13 columns],\n",
              "           mfcc_1     mfcc_2     mfcc_3  ...    mfcc_11    mfcc_12    mfcc_13\n",
              " 7280 -277.246613  98.123444  20.793167  ...  -9.719438  -0.152531   7.898415\n",
              " 7281 -277.077332  96.811920  19.240776  ... -15.159008  -0.561561   5.969630\n",
              " 7282 -274.844940  92.866653  13.130523  ... -13.541918   1.772321   0.038191\n",
              " 7283 -277.832397  93.055588  12.977976  ...  -8.108307   3.918790  -1.442152\n",
              " 7284 -277.504547  97.680336  15.404795  ... -11.396717  -0.503703  -0.443857\n",
              " ...          ...        ...        ...  ...        ...        ...        ...\n",
              " 7405 -254.481567  90.255447  -6.318604  ...  -1.266753  11.223597 -16.303396\n",
              " 7406 -233.053635  86.279083  -8.710695  ...  -3.582266  13.998876 -19.214180\n",
              " 7407 -253.083496  80.260330  -0.829927  ...  -5.607845  10.913712 -19.322226\n",
              " 7408 -253.302414  79.545235   2.756200  ...  -2.472105  11.668081 -20.738024\n",
              " 7409 -256.104340  82.104645   5.468116  ...   1.331298  12.436913 -23.795330\n",
              " \n",
              " [130 rows x 13 columns],\n",
              "           mfcc_1      mfcc_2     mfcc_3  ...   mfcc_11    mfcc_12   mfcc_13\n",
              " 7410 -297.506683  103.422699   3.912745  ... -4.811789   8.368555 -8.942043\n",
              " 7411 -310.570099  105.139404  10.713176  ... -2.732635   9.789515 -7.814522\n",
              " 7412 -338.196350  102.555626  14.896310  ... -4.631793  15.422512 -3.212987\n",
              " 7413 -338.949036  100.916862   9.354465  ... -0.798282  15.930380 -2.785676\n",
              " 7414 -268.320618   57.084194   5.442674  ...  4.977078   5.902693 -3.261993\n",
              " ...          ...         ...        ...  ...       ...        ...       ...\n",
              " 7535 -287.962891   71.500343  41.732788  ...  1.549562  12.744503 -2.315502\n",
              " 7536 -289.823608   69.656754  39.282166  ...  6.527015  14.333827 -3.210931\n",
              " 7537 -282.244568   71.898682  38.895885  ...  1.388757  11.758676 -1.746355\n",
              " 7538 -277.641327   75.441383  33.857861  ...  1.651001  10.144262  1.075447\n",
              " 7539 -269.301086   78.613174  23.752174  ...  3.841393   9.389521  4.174078\n",
              " \n",
              " [130 rows x 13 columns],\n",
              "           mfcc_1      mfcc_2     mfcc_3  ...   mfcc_11   mfcc_12   mfcc_13\n",
              " 7540 -269.563080   88.035538  29.850128  ...  5.209289  7.787136 -2.721287\n",
              " 7541 -274.529510   79.648094  28.589767  ...  5.415373  2.579694 -3.276099\n",
              " 7542 -280.128998   73.608208  27.165401  ...  1.503289 -6.451299 -4.483821\n",
              " 7543 -275.899780   73.693359  19.644638  ...  2.583657 -2.970266 -5.146880\n",
              " 7544 -271.522308   77.534698  19.690586  ...  0.801696 -0.219622 -8.124882\n",
              " ...          ...         ...        ...  ...       ...       ...       ...\n",
              " 7665 -270.607452   83.465370  -1.090509  ...  0.101734 -6.405879 -6.526203\n",
              " 7666 -266.380127   82.427094   0.993429  ... -2.700736 -6.048513 -2.453712\n",
              " 7667 -257.005554   79.726646  -3.002920  ...  4.680248 -2.973739 -0.837660\n",
              " 7668 -262.676605   90.898170  -2.300023  ...  6.958838  2.225709 -0.699827\n",
              " 7669 -271.708618  108.920387  -3.675992  ...  6.386707  2.130392  0.790112\n",
              " \n",
              " [130 rows x 13 columns],\n",
              "           mfcc_1      mfcc_2     mfcc_3  ...    mfcc_11    mfcc_12    mfcc_13\n",
              " 7670 -293.874939  124.620026 -19.576488  ...   0.698806  -1.866317  10.322967\n",
              " 7671 -297.031982  111.502136 -14.181878  ...   2.577111   2.969028   5.409240\n",
              " 7672 -310.973236  101.117447 -15.585361  ...  10.323664   3.320226   0.486919\n",
              " 7673 -312.069031  108.680611 -14.686823  ...  12.368528  -0.325063  -3.903537\n",
              " 7674 -312.192902  112.172821 -11.990859  ...   8.244214   7.546192  -5.718442\n",
              " ...          ...         ...        ...  ...        ...        ...        ...\n",
              " 7795 -336.565308   30.570274  53.988167  ...   2.168878   4.150570   6.372900\n",
              " 7796 -331.366821   24.997387  67.376465  ...   7.346072   8.072342   5.953048\n",
              " 7797 -312.328827   26.623852  73.544548  ...  10.076006  10.739204   6.253127\n",
              " 7798 -289.466827   39.226131  63.191246  ...   4.850413   7.969514   6.982961\n",
              " 7799 -288.039032   53.534252  44.877884  ...  -1.547540   2.494576   5.870697\n",
              " \n",
              " [130 rows x 13 columns],\n",
              "           mfcc_1      mfcc_2     mfcc_3  ...    mfcc_11    mfcc_12    mfcc_13\n",
              " 7800 -292.760925   73.847443  35.300667  ...  -1.213512 -10.892899   0.422497\n",
              " 7801 -289.667725   70.568253  34.192795  ...  -3.098682  -8.363773   2.720230\n",
              " 7802 -302.165405   65.020027  36.887619  ...  -8.834036  -2.486432   5.670762\n",
              " 7803 -329.133636   78.705963  27.830547  ... -12.093378   4.134524   3.711424\n",
              " 7804 -358.916077  109.697617   6.132819  ...  -7.924426   4.421556   4.576346\n",
              " ...          ...         ...        ...  ...        ...        ...        ...\n",
              " 7925 -341.945038   98.875351 -32.885559  ...  -2.916929 -19.379513 -27.347692\n",
              " 7926 -348.219971  101.295990 -37.365105  ...  -1.587594 -17.791332 -24.174500\n",
              " 7927 -351.970734  104.153824 -42.991402  ...   1.564659 -18.012924 -20.212219\n",
              " 7928 -324.535126  124.645454 -41.021214  ...   5.247478 -16.723589 -14.779520\n",
              " 7929 -294.251129  140.289368 -37.148979  ...   4.077390 -20.132385 -10.458923\n",
              " \n",
              " [130 rows x 13 columns],\n",
              "           mfcc_1      mfcc_2     mfcc_3  ...    mfcc_11    mfcc_12    mfcc_13\n",
              " 7930 -280.868744  118.833450 -19.185581  ...  -1.484893 -11.708038 -22.697327\n",
              " 7931 -295.456482  111.191788 -18.396454  ...   0.122918 -13.439642 -17.995335\n",
              " 7932 -310.352020   89.049583  -5.991688  ...  -6.581816 -11.585009 -13.069473\n",
              " 7933 -283.931702   25.525757  29.716606  ...  -7.646062  -8.286498 -14.153087\n",
              " 7934 -286.460724  -13.116241  49.537975  ...  -4.696739  -3.882165 -15.127474\n",
              " ...          ...         ...        ...  ...        ...        ...        ...\n",
              " 8055 -352.782562  134.183228  -9.695992  ...  -4.606437 -20.262650   4.829373\n",
              " 8056 -364.594666  133.960815 -13.869595  ...  -8.220652 -19.181513   2.201633\n",
              " 8057 -374.046051  129.997925 -16.662781  ... -12.328121 -14.983604  -2.169253\n",
              " 8058 -366.624420  141.775970 -19.867910  ... -10.441192 -12.066387  -3.210982\n",
              " 8059 -346.423492  161.128250 -24.828945  ... -10.677620  -7.707755  -5.328166\n",
              " \n",
              " [130 rows x 13 columns],\n",
              "           mfcc_1      mfcc_2     mfcc_3  ...    mfcc_11    mfcc_12    mfcc_13\n",
              " 8060 -343.286835  154.020004 -20.142015  ... -15.395055  -5.341828 -10.738960\n",
              " 8061 -344.369720  138.737335 -16.764318  ... -18.952282  -3.179972  -4.690457\n",
              " 8062 -314.001221  116.288345  -6.040977  ... -25.120125  -1.735982  -5.332646\n",
              " 8063 -301.234375  119.310051   3.997517  ... -19.054962  -1.704457  -3.986392\n",
              " 8064 -322.712128  121.686249   8.743668  ... -17.889523  -3.652941  -6.616224\n",
              " ...          ...         ...        ...  ...        ...        ...        ...\n",
              " 8185 -280.038849   85.906746 -21.735985  ... -12.271962 -12.614451 -10.165142\n",
              " 8186 -290.744781   84.647041 -25.538652  ... -16.693268 -11.832674  -4.247877\n",
              " 8187 -291.449768   90.651367 -25.377871  ... -15.466311  -4.815955   4.611169\n",
              " 8188 -314.114197  106.619125 -22.248304  ... -15.142340  -1.112866   3.724833\n",
              " 8189 -365.952271  127.136032 -15.670862  ... -15.479251  -1.175741   1.431053\n",
              " \n",
              " [130 rows x 13 columns],\n",
              "           mfcc_1      mfcc_2     mfcc_3  ...    mfcc_11    mfcc_12    mfcc_13\n",
              " 8190 -362.391602   90.836823  12.251122  ... -16.766684  -5.440709  -7.385888\n",
              " 8191 -328.564301   45.769077  25.125061  ... -15.337522  -1.999601 -11.835670\n",
              " 8192 -291.630798    9.123724  34.513680  ... -15.284649   4.515710 -11.620310\n",
              " 8193 -258.576691   12.731420  41.338768  ... -16.404881   7.962320 -13.099427\n",
              " 8194 -255.047546   42.319069  35.211117  ... -20.438957   5.990639 -11.650151\n",
              " ...          ...         ...        ...  ...        ...        ...        ...\n",
              " 8315 -239.638504  109.055199  12.482613  ...  11.146460  10.764469   9.216606\n",
              " 8316 -244.476303  117.359787   2.317698  ...   3.991795   9.574915  15.267075\n",
              " 8317 -252.298141  126.665565 -12.137769  ...  -2.517811   4.759348  22.133656\n",
              " 8318 -264.949646  141.333115 -12.212797  ...  -8.364566   3.791408  18.091534\n",
              " 8319 -259.861359  149.744980  -6.045697  ... -10.549793   5.364086  15.722800\n",
              " \n",
              " [130 rows x 13 columns],\n",
              "           mfcc_1      mfcc_2     mfcc_3  ...    mfcc_11    mfcc_12    mfcc_13\n",
              " 8320 -267.609711  155.585480 -10.098671  ... -11.248041   6.893741  20.540115\n",
              " 8321 -285.671173  157.649384 -10.704222  ...  -7.841647   1.942202  22.362711\n",
              " 8322 -294.408447  151.006989 -16.639080  ...  -0.699388  -6.370296  20.569397\n",
              " 8323 -279.039642  130.639252   7.458614  ...  -3.886079   1.569751   9.101840\n",
              " 8324 -267.580933  113.549637  25.876484  ...   2.104469   0.041029  10.033401\n",
              " ...          ...         ...        ...  ...        ...        ...        ...\n",
              " 8445 -172.610733   61.999924  13.748664  ...  -0.948317  16.481400   0.395077\n",
              " 8446 -180.758560   66.559174   9.038013  ...  -4.651462  10.256739  -4.748691\n",
              " 8447 -190.279129   70.232803  10.643827  ...  -3.060692   5.683776 -11.732107\n",
              " 8448 -198.138428   75.902504  17.280622  ...  -7.810360   9.556662 -14.087803\n",
              " 8449 -200.347458   80.955612  27.799364  ... -14.036213  17.385124  -9.519989\n",
              " \n",
              " [130 rows x 13 columns],\n",
              "           mfcc_1     mfcc_2     mfcc_3  ...    mfcc_11    mfcc_12    mfcc_13\n",
              " 8450 -202.831879  80.587318  23.004574  ... -12.984348  23.714005 -10.610597\n",
              " 8451 -201.565735  75.179924  23.698536  ... -10.690966  24.057516 -18.458218\n",
              " 8452 -201.433121  67.814034  23.930790  ... -14.330186  19.426077 -23.142628\n",
              " 8453 -218.207657  73.537216  23.377007  ... -12.915842  15.691940 -14.387064\n",
              " 8454 -219.491531  82.971336  10.081439  ...   1.217536   7.866639  -4.509304\n",
              " ...          ...        ...        ...  ...        ...        ...        ...\n",
              " 8575 -214.928192  54.246040  -4.656760  ... -28.388647   5.857274 -10.373978\n",
              " 8576 -216.095993  53.662949  -7.866535  ... -24.513065   8.148438  -9.179640\n",
              " 8577 -224.076019  56.853855 -14.438534  ... -30.103186  10.731596 -12.728975\n",
              " 8578 -230.216553  62.813911 -20.167416  ... -28.932934  16.882746 -16.139515\n",
              " 8579 -234.997040  66.631477 -18.886333  ... -23.049595  18.797581 -17.182795\n",
              " \n",
              " [130 rows x 13 columns],\n",
              "           mfcc_1     mfcc_2     mfcc_3  ...    mfcc_11    mfcc_12    mfcc_13\n",
              " 8580 -226.527328  58.157173 -31.171814  ... -21.596615  23.642572  -9.982935\n",
              " 8581 -225.779251  57.234978 -29.788000  ... -21.010876  17.999916 -10.074956\n",
              " 8582 -236.571106  53.326488 -23.042973  ... -20.656818  14.315239  -8.993689\n",
              " 8583 -235.684296  55.632591 -26.194252  ... -20.018116   9.585127 -11.784647\n",
              " 8584 -234.878235  61.499069 -23.400990  ... -23.698318  10.252386 -10.617989\n",
              " ...          ...        ...        ...  ...        ...        ...        ...\n",
              " 8705 -121.508385  69.823273   1.692790  ...  -9.598917  -6.091460  -0.703031\n",
              " 8706 -121.956841  68.511856   3.478100  ...  -3.695178  -2.010675  -3.994624\n",
              " 8707 -135.210999  70.456909  -4.804649  ...  -1.218001   3.941343   2.900291\n",
              " 8708 -147.101913  67.765923  -5.492129  ...  -4.644315   3.299723   4.754741\n",
              " 8709 -148.864792  71.658081  -3.369171  ...  -2.275735   5.229307   5.951312\n",
              " \n",
              " [130 rows x 13 columns]]"
            ]
          },
          "metadata": {
            "tags": []
          },
          "execution_count": 21
        }
      ]
    },
    {
      "cell_type": "code",
      "metadata": {
        "colab": {
          "base_uri": "https://localhost:8080/"
        },
        "id": "9OajyKJbbL0E",
        "outputId": "ba8a137d-2971-49b3-8876-8066b5016f45"
      },
      "source": [
        "len(song_values) # Total number of segements"
      ],
      "execution_count": 22,
      "outputs": [
        {
          "output_type": "execute_result",
          "data": {
            "text/plain": [
              "64"
            ]
          },
          "metadata": {
            "tags": []
          },
          "execution_count": 22
        }
      ]
    },
    {
      "cell_type": "markdown",
      "metadata": {
        "id": "yYZi8DcXFL1A"
      },
      "source": [
        "**Predicting the class label of every segment**"
      ]
    },
    {
      "cell_type": "code",
      "metadata": {
        "id": "pM-14GNWbLsJ"
      },
      "source": [
        "predictions = []\n",
        "for x in range(len(song_values)):\n",
        "    X_to_predict = np.expand_dims(song_values[x],0)\n",
        "    X_to_predict = np.expand_dims(X_to_predict,3)\n",
        "    # print(X_to_predict.shape)\n",
        "    test = np.array(X_to_predict, dtype=np.float32)\n",
        "    try:\n",
        "        result = cnn_model.predict(test)\n",
        "        predictions.append(result)\n",
        "    except Exception as e:\n",
        "        print(f'{e}')"
      ],
      "execution_count": 23,
      "outputs": []
    },
    {
      "cell_type": "code",
      "metadata": {
        "id": "RutQR2hgntSf",
        "colab": {
          "base_uri": "https://localhost:8080/"
        },
        "outputId": "675f5999-7883-4612-fdee-81c4b326d37c"
      },
      "source": [
        "predictions"
      ],
      "execution_count": 24,
      "outputs": [
        {
          "output_type": "execute_result",
          "data": {
            "text/plain": [
              "[array([[9.6800420e-03, 9.5810908e-01, 4.4011208e-03, 2.0096793e-03,\n",
              "         9.8105671e-04, 2.3095822e-03, 4.2227935e-04, 9.7250585e-03,\n",
              "         1.0684240e-02, 1.6778981e-03]], dtype=float32),\n",
              " array([[6.9042156e-04, 9.8668230e-01, 1.5712093e-03, 1.2368470e-03,\n",
              "         3.7042334e-04, 6.9078116e-04, 5.4159336e-05, 4.9060299e-03,\n",
              "         2.6284652e-03, 1.1692940e-03]], dtype=float32),\n",
              " array([[3.5882755e-03, 1.8682213e-01, 1.3347383e-03, 2.2566293e-03,\n",
              "         4.5262780e-03, 2.2291554e-04, 7.1280473e-04, 7.3562485e-01,\n",
              "         6.2783554e-02, 2.1279301e-03]], dtype=float32),\n",
              " array([[1.5890226e-02, 9.1867633e-03, 1.5404144e-04, 9.9132871e-03,\n",
              "         2.5854805e-03, 1.1195739e-04, 1.0514345e-04, 8.4941357e-01,\n",
              "         1.0294932e-01, 9.6902326e-03]], dtype=float32),\n",
              " array([[5.9692157e-03, 1.1740789e-03, 7.8398595e-04, 9.6380875e-02,\n",
              "         6.2365332e-03, 2.2036151e-04, 2.2050047e-04, 3.1626523e-01,\n",
              "         5.2460915e-01, 4.8140038e-02]], dtype=float32),\n",
              " array([[2.9849557e-03, 2.7948251e-01, 1.7695645e-03, 8.9552581e-02,\n",
              "         5.6663603e-03, 1.0387035e-02, 1.2709966e-04, 4.8753539e-01,\n",
              "         4.7902420e-02, 7.4592106e-02]], dtype=float32),\n",
              " array([[5.9374433e-04, 1.4185331e-02, 1.5516556e-04, 5.4392344e-03,\n",
              "         1.6498035e-02, 1.0658770e-04, 2.5804067e-04, 7.5311470e-01,\n",
              "         2.0764977e-01, 1.9994851e-03]], dtype=float32),\n",
              " array([[3.0831315e-03, 9.6791124e-01, 2.1880479e-03, 2.0661673e-03,\n",
              "         3.4087471e-04, 1.3903463e-02, 8.0136429e-05, 4.4293269e-03,\n",
              "         2.0396444e-03, 3.9578453e-03]], dtype=float32),\n",
              " array([[0.00515445, 0.28524187, 0.03998401, 0.03312908, 0.03461687,\n",
              "         0.04698109, 0.00550095, 0.33398482, 0.10806294, 0.10734398]],\n",
              "       dtype=float32),\n",
              " array([[2.7333922e-03, 7.7035365e-05, 7.2764675e-04, 2.8375494e-03,\n",
              "         3.7571872e-03, 4.3150329e-05, 2.2341871e-04, 8.8301611e-01,\n",
              "         1.0364902e-01, 2.9354340e-03]], dtype=float32),\n",
              " array([[0.00598387, 0.00198575, 0.00309764, 0.03375762, 0.02248808,\n",
              "         0.00415326, 0.0046096 , 0.4583946 , 0.39241108, 0.07311852]],\n",
              "       dtype=float32),\n",
              " array([[0.04440766, 0.46704674, 0.11910499, 0.00106578, 0.00510536,\n",
              "         0.19006866, 0.00402379, 0.14306162, 0.02028087, 0.00583439]],\n",
              "       dtype=float32),\n",
              " array([[0.00151527, 0.04792516, 0.1291176 , 0.0040231 , 0.00580614,\n",
              "         0.02163054, 0.00780522, 0.7251319 , 0.02455946, 0.03248567]],\n",
              "       dtype=float32),\n",
              " array([[0.00194225, 0.02588956, 0.12390032, 0.00519468, 0.06377408,\n",
              "         0.07682052, 0.06242885, 0.43264595, 0.1756339 , 0.03176992]],\n",
              "       dtype=float32),\n",
              " array([[0.0058564 , 0.00064208, 0.14037602, 0.0402753 , 0.0129777 ,\n",
              "         0.00352971, 0.0107842 , 0.08202171, 0.5329503 , 0.17058662]],\n",
              "       dtype=float32),\n",
              " array([[2.6821655e-03, 1.9676896e-04, 2.0328017e-02, 8.1075095e-03,\n",
              "         1.5721240e-03, 7.9120073e-04, 2.6939870e-04, 9.2852461e-01,\n",
              "         1.9823736e-02, 1.7704437e-02]], dtype=float32),\n",
              " array([[2.7333468e-04, 2.1063212e-04, 1.8441103e-02, 1.3048353e-03,\n",
              "         8.0592453e-04, 8.2489332e-06, 9.6694025e-04, 8.3334798e-01,\n",
              "         1.3531789e-01, 9.3231434e-03]], dtype=float32),\n",
              " array([[1.8684207e-03, 4.4419277e-03, 5.4386336e-01, 1.5520849e-04,\n",
              "         1.8362041e-03, 2.9751004e-03, 6.3135237e-02, 3.6324701e-01,\n",
              "         1.5989576e-03, 1.6878540e-02]], dtype=float32),\n",
              " array([[3.1593948e-04, 2.5601536e-02, 3.8115424e-01, 1.4809474e-03,\n",
              "         2.3086527e-03, 4.8002288e-01, 3.7911783e-03, 5.5040300e-02,\n",
              "         5.1233768e-03, 4.5160949e-02]], dtype=float32),\n",
              " array([[2.4346617e-05, 2.0742709e-02, 1.2032869e-01, 1.0603183e-03,\n",
              "         2.9300894e-03, 7.9081452e-01, 1.3575976e-03, 1.6162084e-02,\n",
              "         1.0831126e-03, 4.5496568e-02]], dtype=float32),\n",
              " array([[0.00052706, 0.01764751, 0.4315826 , 0.00306802, 0.00491901,\n",
              "         0.39613768, 0.00422618, 0.05386154, 0.00270146, 0.08532894]],\n",
              "       dtype=float32),\n",
              " array([[1.9469729e-04, 2.5513605e-03, 7.6432103e-01, 1.7126608e-03,\n",
              "         5.4985104e-04, 1.6509251e-01, 3.8450474e-03, 6.1446847e-03,\n",
              "         8.0915680e-04, 5.4779027e-02]], dtype=float32),\n",
              " array([[1.9334158e-04, 5.7261162e-03, 1.7354515e-01, 9.8763022e-04,\n",
              "         2.0640407e-04, 7.9502058e-01, 2.7109255e-04, 5.9590844e-04,\n",
              "         1.0029774e-03, 2.2450691e-02]], dtype=float32),\n",
              " array([[0.00083136, 0.00341354, 0.32792532, 0.00267799, 0.00405381,\n",
              "         0.4912673 , 0.0465864 , 0.05538348, 0.00077328, 0.06708758]],\n",
              "       dtype=float32),\n",
              " array([[0.01965083, 0.39167958, 0.01949849, 0.00069045, 0.00494669,\n",
              "         0.41871464, 0.00099061, 0.13801175, 0.00484312, 0.00097387]],\n",
              "       dtype=float32),\n",
              " array([[0.00590815, 0.05673089, 0.02165499, 0.03902854, 0.0031414 ,\n",
              "         0.03608025, 0.00075794, 0.14256844, 0.64948446, 0.04464498]],\n",
              "       dtype=float32),\n",
              " array([[0.00138414, 0.00083591, 0.3525661 , 0.06475691, 0.00147741,\n",
              "         0.00669   , 0.0024325 , 0.542166  , 0.0048067 , 0.02288426]],\n",
              "       dtype=float32),\n",
              " array([[0.00162379, 0.00139769, 0.02728966, 0.00447814, 0.01150723,\n",
              "         0.01349437, 0.00829628, 0.75742936, 0.13984282, 0.03464072]],\n",
              "       dtype=float32),\n",
              " array([[0.00604275, 0.0029108 , 0.45540774, 0.00677679, 0.00101277,\n",
              "         0.35645023, 0.00220588, 0.04197052, 0.00185925, 0.12536323]],\n",
              "       dtype=float32),\n",
              " array([[1.7003007e-03, 8.3483998e-03, 2.1783481e-03, 7.1418169e-04,\n",
              "         2.2345268e-04, 9.7104394e-01, 5.6144530e-05, 4.3036853e-04,\n",
              "         6.1230356e-04, 1.4692573e-02]], dtype=float32),\n",
              " array([[0.00100247, 0.01743298, 0.3695881 , 0.00894879, 0.00154291,\n",
              "         0.2582731 , 0.00316171, 0.09480289, 0.01229246, 0.23295455]],\n",
              "       dtype=float32),\n",
              " array([[5.1367574e-04, 9.9425344e-04, 9.0996778e-01, 9.0061640e-04,\n",
              "         4.5763166e-03, 3.2871091e-03, 2.7459614e-02, 2.0568551e-02,\n",
              "         1.2601798e-02, 1.9130338e-02]], dtype=float32),\n",
              " array([[0.0006928 , 0.00046993, 0.3515122 , 0.03793899, 0.00241135,\n",
              "         0.00494802, 0.01366435, 0.08744261, 0.34889638, 0.15202329]],\n",
              "       dtype=float32),\n",
              " array([[0.0012483 , 0.0223811 , 0.4203143 , 0.03884086, 0.00740634,\n",
              "         0.13288599, 0.10878368, 0.02240514, 0.01825909, 0.22747515]],\n",
              "       dtype=float32),\n",
              " array([[6.1004281e-05, 1.5449724e-03, 8.8956982e-01, 4.6826052e-03,\n",
              "         7.7465442e-03, 1.6325228e-02, 6.1299177e-03, 2.3118347e-02,\n",
              "         7.2384095e-03, 4.3583073e-02]], dtype=float32),\n",
              " array([[1.0272013e-04, 1.2762721e-02, 5.7547462e-01, 1.2820237e-03,\n",
              "         2.6030865e-02, 2.4573986e-01, 2.7183516e-02, 6.1759081e-02,\n",
              "         3.9094742e-04, 4.9273677e-02]], dtype=float32),\n",
              " array([[1.1825873e-04, 4.4438662e-03, 6.1350656e-01, 4.2336816e-03,\n",
              "         1.1161341e-02, 2.8188163e-01, 2.3862094e-02, 7.4675665e-03,\n",
              "         1.4958667e-03, 5.1829189e-02]], dtype=float32),\n",
              " array([[2.0508273e-04, 6.1316162e-02, 5.2953714e-01, 7.5896028e-03,\n",
              "         2.3722555e-03, 2.1540770e-01, 2.9929548e-03, 1.0765246e-01,\n",
              "         3.1688027e-03, 6.9757693e-02]], dtype=float32),\n",
              " array([[1.4088604e-03, 7.5901137e-03, 8.3946985e-01, 1.3304470e-03,\n",
              "         1.0530605e-03, 7.4547842e-02, 1.4829079e-02, 4.7625195e-02,\n",
              "         5.4195226e-04, 1.1603679e-02]], dtype=float32),\n",
              " array([[1.2806552e-03, 8.5265554e-02, 5.1191485e-01, 4.3575995e-02,\n",
              "         4.3387781e-04, 1.9969963e-01, 6.0718674e-03, 9.8572470e-02,\n",
              "         4.0591685e-03, 4.9125910e-02]], dtype=float32),\n",
              " array([[2.9057452e-05, 5.6783888e-03, 1.2182032e-01, 2.6515196e-03,\n",
              "         7.3417759e-04, 7.9863018e-01, 2.3126854e-04, 7.1407640e-03,\n",
              "         2.0892625e-03, 6.0995013e-02]], dtype=float32),\n",
              " array([[1.4705253e-04, 1.0246364e-03, 6.8880743e-01, 8.3936602e-03,\n",
              "         1.0784676e-02, 1.9022872e-01, 4.5685217e-02, 5.1889541e-03,\n",
              "         9.3886815e-03, 4.0350989e-02]], dtype=float32),\n",
              " array([[2.9690488e-04, 3.5495702e-02, 3.6959499e-01, 2.2384378e-03,\n",
              "         8.3446950e-03, 5.3243291e-01, 3.9240611e-03, 1.8708650e-02,\n",
              "         2.1128324e-03, 2.6850816e-02]], dtype=float32),\n",
              " array([[0.00056214, 0.01107599, 0.4651728 , 0.00827278, 0.0005009 ,\n",
              "         0.41429392, 0.00160787, 0.01682596, 0.00135936, 0.08032835]],\n",
              "       dtype=float32),\n",
              " array([[8.8847912e-05, 6.1529982e-03, 4.2387155e-01, 2.6766022e-03,\n",
              "         1.3165034e-03, 4.0650156e-01, 1.3508914e-03, 8.2736388e-03,\n",
              "         8.2850827e-05, 1.4968453e-01]], dtype=float32),\n",
              " array([[1.9657984e-04, 4.9351403e-03, 3.7819311e-01, 2.0192580e-03,\n",
              "         1.4042143e-03, 5.6626660e-01, 7.6128059e-04, 9.9056335e-03,\n",
              "         5.9604767e-04, 3.5722099e-02]], dtype=float32),\n",
              " array([[5.48872376e-05, 2.71738996e-03, 1.14724010e-01, 3.10804520e-04,\n",
              "         2.39948509e-03, 8.62296045e-01, 5.22676099e-04, 8.49258155e-04,\n",
              "         8.00009409e-04, 1.53255025e-02]], dtype=float32),\n",
              " array([[6.3164749e-05, 1.2714437e-02, 2.1959167e-02, 1.8699692e-03,\n",
              "         4.4189621e-04, 9.0933824e-01, 2.5557386e-04, 5.4324832e-04,\n",
              "         3.8533259e-04, 5.2429002e-02]], dtype=float32),\n",
              " array([[5.9571841e-05, 3.8590737e-02, 1.2288568e-02, 9.4830635e-04,\n",
              "         2.1246109e-04, 9.2374796e-01, 9.4583069e-05, 2.1521393e-03,\n",
              "         2.9306113e-05, 2.1876432e-02]], dtype=float32),\n",
              " array([[1.6773629e-05, 5.7921469e-02, 1.0668313e-01, 7.3524960e-04,\n",
              "         5.1246863e-04, 7.5375772e-01, 1.5989604e-04, 5.5231061e-04,\n",
              "         4.7879730e-05, 7.9613097e-02]], dtype=float32),\n",
              " array([[7.9816993e-05, 1.9566501e-02, 6.5873839e-02, 2.5906326e-04,\n",
              "         6.0539081e-05, 9.0663522e-01, 3.7009693e-05, 4.7309382e-04,\n",
              "         2.7034477e-05, 6.9879903e-03]], dtype=float32),\n",
              " array([[3.5224622e-04, 3.4138463e-02, 2.9338384e-01, 4.1047696e-04,\n",
              "         8.4521790e-04, 6.5373677e-01, 1.4613412e-04, 7.4034780e-03,\n",
              "         9.2346520e-05, 9.4911307e-03]], dtype=float32),\n",
              " array([[1.8952195e-04, 9.9459933e-03, 3.8926002e-01, 4.4958160e-04,\n",
              "         5.1024789e-04, 5.8681726e-01, 1.1730475e-04, 2.4099657e-03,\n",
              "         3.6662768e-05, 1.0263440e-02]], dtype=float32),\n",
              " array([[2.1362942e-04, 7.2121213e-04, 9.4147718e-01, 3.8750248e-04,\n",
              "         2.7850599e-04, 2.3706706e-02, 1.2609931e-03, 1.9959051e-02,\n",
              "         6.6034176e-05, 1.1929067e-02]], dtype=float32),\n",
              " array([[3.4948226e-04, 4.1501634e-03, 1.9050865e-01, 3.3352524e-03,\n",
              "         5.4753325e-03, 5.8082096e-02, 2.8542690e-03, 7.0451587e-01,\n",
              "         6.0586617e-03, 2.4670152e-02]], dtype=float32),\n",
              " array([[8.6520723e-04, 1.0425683e-02, 3.6454952e-01, 1.2872017e-03,\n",
              "         3.6655937e-04, 5.4511428e-01, 1.2985296e-03, 3.7166748e-02,\n",
              "         8.4987725e-04, 3.8076390e-02]], dtype=float32),\n",
              " array([[0.00152982, 0.00216271, 0.20729454, 0.02082673, 0.02198043,\n",
              "         0.00607634, 0.02249068, 0.2540041 , 0.2793632 , 0.18427143]],\n",
              "       dtype=float32),\n",
              " array([[6.8084523e-03, 4.0822849e-04, 1.2071171e-02, 1.8246606e-02,\n",
              "         2.0364586e-03, 3.5874173e-03, 2.4110738e-03, 7.3317963e-01,\n",
              "         4.1405857e-02, 1.7984504e-01]], dtype=float32),\n",
              " array([[3.9195591e-03, 1.3026597e-03, 3.1643509e-04, 1.6389824e-01,\n",
              "         1.0228444e-02, 9.0780779e-04, 3.5643825e-04, 6.8522352e-01,\n",
              "         9.0266325e-02, 4.3580528e-02]], dtype=float32),\n",
              " array([[0.00239409, 0.06204539, 0.02197348, 0.09099708, 0.00664272,\n",
              "         0.01194596, 0.00231329, 0.23055474, 0.47639203, 0.09474121]],\n",
              "       dtype=float32),\n",
              " array([[5.0006475e-04, 3.9648967e-05, 7.1274146e-02, 2.4340462e-02,\n",
              "         2.0038064e-03, 2.5850293e-04, 8.0496620e-04, 7.8707254e-03,\n",
              "         7.5520384e-01, 1.3770378e-01]], dtype=float32),\n",
              " array([[4.1523430e-04, 3.0044841e-03, 6.3292706e-01, 1.2199843e-03,\n",
              "         1.4557669e-02, 6.6276942e-03, 1.3116147e-02, 2.0192605e-01,\n",
              "         6.8430737e-02, 5.7774987e-02]], dtype=float32),\n",
              " array([[5.5762914e-05, 4.6926532e-03, 7.1687782e-01, 8.3328970e-03,\n",
              "         4.0751724e-03, 6.7712389e-02, 4.8881490e-02, 9.7106121e-02,\n",
              "         1.1871557e-03, 5.1078603e-02]], dtype=float32),\n",
              " array([[1.1214974e-05, 3.5201502e-03, 9.3277150e-01, 2.2407114e-03,\n",
              "         4.5844624e-04, 2.6204638e-02, 1.3299423e-02, 2.7860107e-03,\n",
              "         6.1972014e-04, 1.8088175e-02]], dtype=float32)]"
            ]
          },
          "metadata": {
            "tags": []
          },
          "execution_count": 24
        }
      ]
    },
    {
      "cell_type": "code",
      "metadata": {
        "colab": {
          "base_uri": "https://localhost:8080/"
        },
        "id": "pSYIr9_6bLiF",
        "outputId": "2a4d0c7e-af34-4181-903b-9df680c7687e"
      },
      "source": [
        "len(predictions)"
      ],
      "execution_count": 25,
      "outputs": [
        {
          "output_type": "execute_result",
          "data": {
            "text/plain": [
              "64"
            ]
          },
          "metadata": {
            "tags": []
          },
          "execution_count": 25
        }
      ]
    },
    {
      "cell_type": "code",
      "metadata": {
        "id": "RDmldX0AlVbC"
      },
      "source": [
        "genres =['blues', 'classical', 'country', 'disco', 'hiphop', 'jazz',\n",
        "       'metal', 'pop', 'reggae', 'rock']"
      ],
      "execution_count": 26,
      "outputs": []
    },
    {
      "cell_type": "markdown",
      "metadata": {
        "id": "JWnCpc_zFXeV"
      },
      "source": [
        "**Finding the genre of the first five of the predictions**"
      ]
    },
    {
      "cell_type": "code",
      "metadata": {
        "colab": {
          "base_uri": "https://localhost:8080/"
        },
        "id": "N-wkyz6aoXNV",
        "outputId": "75f517bc-fa0a-4136-db89-24d74805572e"
      },
      "source": [
        "i = 0\n",
        "for prediction in predictions:\n",
        "    index = (np.argmax(prediction))\n",
        "    print(f\"Genre: {genres[index]}\")\n",
        "    i+=1\n",
        "    if i > 5:\n",
        "        break"
      ],
      "execution_count": 27,
      "outputs": [
        {
          "output_type": "stream",
          "text": [
            "Genre: classical\n",
            "Genre: classical\n",
            "Genre: pop\n",
            "Genre: pop\n",
            "Genre: reggae\n",
            "Genre: pop\n"
          ],
          "name": "stdout"
        }
      ]
    },
    {
      "cell_type": "markdown",
      "metadata": {
        "id": "A0iPKXqVFh-j"
      },
      "source": [
        "**Storing the prediction array of the segments in a dataframe**"
      ]
    },
    {
      "cell_type": "code",
      "metadata": {
        "id": "qvBVUGLCbLXr"
      },
      "source": [
        "all_prediction_df = pd.DataFrame(columns=genres)\n",
        "for prediction in predictions:\n",
        "    predict_row = pd.DataFrame(data=prediction, columns=genres)\n",
        "    all_prediction_df = pd.concat([all_prediction_df, predict_row], ignore_index=True)"
      ],
      "execution_count": 28,
      "outputs": []
    },
    {
      "cell_type": "code",
      "metadata": {
        "colab": {
          "base_uri": "https://localhost:8080/"
        },
        "id": "DfIbZA0GikQe",
        "outputId": "9579cdda-7415-4b31-e5ad-1b5dafb4da0e"
      },
      "source": [
        "all_prediction_df.shape"
      ],
      "execution_count": 29,
      "outputs": [
        {
          "output_type": "execute_result",
          "data": {
            "text/plain": [
              "(64, 10)"
            ]
          },
          "metadata": {
            "tags": []
          },
          "execution_count": 29
        }
      ]
    },
    {
      "cell_type": "code",
      "metadata": {
        "colab": {
          "base_uri": "https://localhost:8080/",
          "height": 424
        },
        "id": "0EeWnnfJikXz",
        "outputId": "c83133ac-bd28-4dd3-c6ca-bacb60e69e03"
      },
      "source": [
        "all_prediction_df"
      ],
      "execution_count": 30,
      "outputs": [
        {
          "output_type": "execute_result",
          "data": {
            "text/html": [
              "<div>\n",
              "<style scoped>\n",
              "    .dataframe tbody tr th:only-of-type {\n",
              "        vertical-align: middle;\n",
              "    }\n",
              "\n",
              "    .dataframe tbody tr th {\n",
              "        vertical-align: top;\n",
              "    }\n",
              "\n",
              "    .dataframe thead th {\n",
              "        text-align: right;\n",
              "    }\n",
              "</style>\n",
              "<table border=\"1\" class=\"dataframe\">\n",
              "  <thead>\n",
              "    <tr style=\"text-align: right;\">\n",
              "      <th></th>\n",
              "      <th>blues</th>\n",
              "      <th>classical</th>\n",
              "      <th>country</th>\n",
              "      <th>disco</th>\n",
              "      <th>hiphop</th>\n",
              "      <th>jazz</th>\n",
              "      <th>metal</th>\n",
              "      <th>pop</th>\n",
              "      <th>reggae</th>\n",
              "      <th>rock</th>\n",
              "    </tr>\n",
              "  </thead>\n",
              "  <tbody>\n",
              "    <tr>\n",
              "      <th>0</th>\n",
              "      <td>0.009680</td>\n",
              "      <td>0.958109</td>\n",
              "      <td>0.004401</td>\n",
              "      <td>0.002010</td>\n",
              "      <td>0.000981</td>\n",
              "      <td>0.002310</td>\n",
              "      <td>0.000422</td>\n",
              "      <td>0.009725</td>\n",
              "      <td>0.010684</td>\n",
              "      <td>0.001678</td>\n",
              "    </tr>\n",
              "    <tr>\n",
              "      <th>1</th>\n",
              "      <td>0.000690</td>\n",
              "      <td>0.986682</td>\n",
              "      <td>0.001571</td>\n",
              "      <td>0.001237</td>\n",
              "      <td>0.000370</td>\n",
              "      <td>0.000691</td>\n",
              "      <td>0.000054</td>\n",
              "      <td>0.004906</td>\n",
              "      <td>0.002628</td>\n",
              "      <td>0.001169</td>\n",
              "    </tr>\n",
              "    <tr>\n",
              "      <th>2</th>\n",
              "      <td>0.003588</td>\n",
              "      <td>0.186822</td>\n",
              "      <td>0.001335</td>\n",
              "      <td>0.002257</td>\n",
              "      <td>0.004526</td>\n",
              "      <td>0.000223</td>\n",
              "      <td>0.000713</td>\n",
              "      <td>0.735625</td>\n",
              "      <td>0.062784</td>\n",
              "      <td>0.002128</td>\n",
              "    </tr>\n",
              "    <tr>\n",
              "      <th>3</th>\n",
              "      <td>0.015890</td>\n",
              "      <td>0.009187</td>\n",
              "      <td>0.000154</td>\n",
              "      <td>0.009913</td>\n",
              "      <td>0.002585</td>\n",
              "      <td>0.000112</td>\n",
              "      <td>0.000105</td>\n",
              "      <td>0.849414</td>\n",
              "      <td>0.102949</td>\n",
              "      <td>0.009690</td>\n",
              "    </tr>\n",
              "    <tr>\n",
              "      <th>4</th>\n",
              "      <td>0.005969</td>\n",
              "      <td>0.001174</td>\n",
              "      <td>0.000784</td>\n",
              "      <td>0.096381</td>\n",
              "      <td>0.006237</td>\n",
              "      <td>0.000220</td>\n",
              "      <td>0.000221</td>\n",
              "      <td>0.316265</td>\n",
              "      <td>0.524609</td>\n",
              "      <td>0.048140</td>\n",
              "    </tr>\n",
              "    <tr>\n",
              "      <th>...</th>\n",
              "      <td>...</td>\n",
              "      <td>...</td>\n",
              "      <td>...</td>\n",
              "      <td>...</td>\n",
              "      <td>...</td>\n",
              "      <td>...</td>\n",
              "      <td>...</td>\n",
              "      <td>...</td>\n",
              "      <td>...</td>\n",
              "      <td>...</td>\n",
              "    </tr>\n",
              "    <tr>\n",
              "      <th>59</th>\n",
              "      <td>0.002394</td>\n",
              "      <td>0.062045</td>\n",
              "      <td>0.021973</td>\n",
              "      <td>0.090997</td>\n",
              "      <td>0.006643</td>\n",
              "      <td>0.011946</td>\n",
              "      <td>0.002313</td>\n",
              "      <td>0.230555</td>\n",
              "      <td>0.476392</td>\n",
              "      <td>0.094741</td>\n",
              "    </tr>\n",
              "    <tr>\n",
              "      <th>60</th>\n",
              "      <td>0.000500</td>\n",
              "      <td>0.000040</td>\n",
              "      <td>0.071274</td>\n",
              "      <td>0.024340</td>\n",
              "      <td>0.002004</td>\n",
              "      <td>0.000259</td>\n",
              "      <td>0.000805</td>\n",
              "      <td>0.007871</td>\n",
              "      <td>0.755204</td>\n",
              "      <td>0.137704</td>\n",
              "    </tr>\n",
              "    <tr>\n",
              "      <th>61</th>\n",
              "      <td>0.000415</td>\n",
              "      <td>0.003004</td>\n",
              "      <td>0.632927</td>\n",
              "      <td>0.001220</td>\n",
              "      <td>0.014558</td>\n",
              "      <td>0.006628</td>\n",
              "      <td>0.013116</td>\n",
              "      <td>0.201926</td>\n",
              "      <td>0.068431</td>\n",
              "      <td>0.057775</td>\n",
              "    </tr>\n",
              "    <tr>\n",
              "      <th>62</th>\n",
              "      <td>0.000056</td>\n",
              "      <td>0.004693</td>\n",
              "      <td>0.716878</td>\n",
              "      <td>0.008333</td>\n",
              "      <td>0.004075</td>\n",
              "      <td>0.067712</td>\n",
              "      <td>0.048881</td>\n",
              "      <td>0.097106</td>\n",
              "      <td>0.001187</td>\n",
              "      <td>0.051079</td>\n",
              "    </tr>\n",
              "    <tr>\n",
              "      <th>63</th>\n",
              "      <td>0.000011</td>\n",
              "      <td>0.003520</td>\n",
              "      <td>0.932772</td>\n",
              "      <td>0.002241</td>\n",
              "      <td>0.000458</td>\n",
              "      <td>0.026205</td>\n",
              "      <td>0.013299</td>\n",
              "      <td>0.002786</td>\n",
              "      <td>0.000620</td>\n",
              "      <td>0.018088</td>\n",
              "    </tr>\n",
              "  </tbody>\n",
              "</table>\n",
              "<p>64 rows × 10 columns</p>\n",
              "</div>"
            ],
            "text/plain": [
              "       blues  classical   country  ...       pop    reggae      rock\n",
              "0   0.009680   0.958109  0.004401  ...  0.009725  0.010684  0.001678\n",
              "1   0.000690   0.986682  0.001571  ...  0.004906  0.002628  0.001169\n",
              "2   0.003588   0.186822  0.001335  ...  0.735625  0.062784  0.002128\n",
              "3   0.015890   0.009187  0.000154  ...  0.849414  0.102949  0.009690\n",
              "4   0.005969   0.001174  0.000784  ...  0.316265  0.524609  0.048140\n",
              "..       ...        ...       ...  ...       ...       ...       ...\n",
              "59  0.002394   0.062045  0.021973  ...  0.230555  0.476392  0.094741\n",
              "60  0.000500   0.000040  0.071274  ...  0.007871  0.755204  0.137704\n",
              "61  0.000415   0.003004  0.632927  ...  0.201926  0.068431  0.057775\n",
              "62  0.000056   0.004693  0.716878  ...  0.097106  0.001187  0.051079\n",
              "63  0.000011   0.003520  0.932772  ...  0.002786  0.000620  0.018088\n",
              "\n",
              "[64 rows x 10 columns]"
            ]
          },
          "metadata": {
            "tags": []
          },
          "execution_count": 30
        }
      ]
    },
    {
      "cell_type": "code",
      "metadata": {
        "id": "WxC_8OSZpwLG"
      },
      "source": [
        "all_prediction_df['Predicted_Genre_index'] = all_prediction_df.apply(np.argmax,axis='columns')"
      ],
      "execution_count": 31,
      "outputs": []
    },
    {
      "cell_type": "code",
      "metadata": {
        "id": "-lhlsuknWUGM"
      },
      "source": [
        "genre_mapping = {\n",
        "    '0': 'blues',\n",
        "    '1': 'classical', \n",
        "    '2': 'country',\n",
        "    '3': 'disco',\n",
        "    '4': 'hiphop',\n",
        "    '5':'jazz',\n",
        "    '6': 'metal',\n",
        "    '7': 'pop',\n",
        "    '8':'reggae',\n",
        "    '9':'rock'\n",
        "}"
      ],
      "execution_count": 32,
      "outputs": []
    },
    {
      "cell_type": "markdown",
      "metadata": {
        "id": "DLniGAJTF7Ng"
      },
      "source": [
        "**Predicted genre index of each segments**"
      ]
    },
    {
      "cell_type": "code",
      "metadata": {
        "colab": {
          "base_uri": "https://localhost:8080/",
          "height": 424
        },
        "id": "mpu5bK95qe3u",
        "outputId": "8a593ff8-5646-438d-c048-e08f1da34912"
      },
      "source": [
        "all_prediction_df"
      ],
      "execution_count": 33,
      "outputs": [
        {
          "output_type": "execute_result",
          "data": {
            "text/html": [
              "<div>\n",
              "<style scoped>\n",
              "    .dataframe tbody tr th:only-of-type {\n",
              "        vertical-align: middle;\n",
              "    }\n",
              "\n",
              "    .dataframe tbody tr th {\n",
              "        vertical-align: top;\n",
              "    }\n",
              "\n",
              "    .dataframe thead th {\n",
              "        text-align: right;\n",
              "    }\n",
              "</style>\n",
              "<table border=\"1\" class=\"dataframe\">\n",
              "  <thead>\n",
              "    <tr style=\"text-align: right;\">\n",
              "      <th></th>\n",
              "      <th>blues</th>\n",
              "      <th>classical</th>\n",
              "      <th>country</th>\n",
              "      <th>disco</th>\n",
              "      <th>hiphop</th>\n",
              "      <th>jazz</th>\n",
              "      <th>metal</th>\n",
              "      <th>pop</th>\n",
              "      <th>reggae</th>\n",
              "      <th>rock</th>\n",
              "      <th>Predicted_Genre_index</th>\n",
              "    </tr>\n",
              "  </thead>\n",
              "  <tbody>\n",
              "    <tr>\n",
              "      <th>0</th>\n",
              "      <td>0.009680</td>\n",
              "      <td>0.958109</td>\n",
              "      <td>0.004401</td>\n",
              "      <td>0.002010</td>\n",
              "      <td>0.000981</td>\n",
              "      <td>0.002310</td>\n",
              "      <td>0.000422</td>\n",
              "      <td>0.009725</td>\n",
              "      <td>0.010684</td>\n",
              "      <td>0.001678</td>\n",
              "      <td>1</td>\n",
              "    </tr>\n",
              "    <tr>\n",
              "      <th>1</th>\n",
              "      <td>0.000690</td>\n",
              "      <td>0.986682</td>\n",
              "      <td>0.001571</td>\n",
              "      <td>0.001237</td>\n",
              "      <td>0.000370</td>\n",
              "      <td>0.000691</td>\n",
              "      <td>0.000054</td>\n",
              "      <td>0.004906</td>\n",
              "      <td>0.002628</td>\n",
              "      <td>0.001169</td>\n",
              "      <td>1</td>\n",
              "    </tr>\n",
              "    <tr>\n",
              "      <th>2</th>\n",
              "      <td>0.003588</td>\n",
              "      <td>0.186822</td>\n",
              "      <td>0.001335</td>\n",
              "      <td>0.002257</td>\n",
              "      <td>0.004526</td>\n",
              "      <td>0.000223</td>\n",
              "      <td>0.000713</td>\n",
              "      <td>0.735625</td>\n",
              "      <td>0.062784</td>\n",
              "      <td>0.002128</td>\n",
              "      <td>7</td>\n",
              "    </tr>\n",
              "    <tr>\n",
              "      <th>3</th>\n",
              "      <td>0.015890</td>\n",
              "      <td>0.009187</td>\n",
              "      <td>0.000154</td>\n",
              "      <td>0.009913</td>\n",
              "      <td>0.002585</td>\n",
              "      <td>0.000112</td>\n",
              "      <td>0.000105</td>\n",
              "      <td>0.849414</td>\n",
              "      <td>0.102949</td>\n",
              "      <td>0.009690</td>\n",
              "      <td>7</td>\n",
              "    </tr>\n",
              "    <tr>\n",
              "      <th>4</th>\n",
              "      <td>0.005969</td>\n",
              "      <td>0.001174</td>\n",
              "      <td>0.000784</td>\n",
              "      <td>0.096381</td>\n",
              "      <td>0.006237</td>\n",
              "      <td>0.000220</td>\n",
              "      <td>0.000221</td>\n",
              "      <td>0.316265</td>\n",
              "      <td>0.524609</td>\n",
              "      <td>0.048140</td>\n",
              "      <td>8</td>\n",
              "    </tr>\n",
              "    <tr>\n",
              "      <th>...</th>\n",
              "      <td>...</td>\n",
              "      <td>...</td>\n",
              "      <td>...</td>\n",
              "      <td>...</td>\n",
              "      <td>...</td>\n",
              "      <td>...</td>\n",
              "      <td>...</td>\n",
              "      <td>...</td>\n",
              "      <td>...</td>\n",
              "      <td>...</td>\n",
              "      <td>...</td>\n",
              "    </tr>\n",
              "    <tr>\n",
              "      <th>59</th>\n",
              "      <td>0.002394</td>\n",
              "      <td>0.062045</td>\n",
              "      <td>0.021973</td>\n",
              "      <td>0.090997</td>\n",
              "      <td>0.006643</td>\n",
              "      <td>0.011946</td>\n",
              "      <td>0.002313</td>\n",
              "      <td>0.230555</td>\n",
              "      <td>0.476392</td>\n",
              "      <td>0.094741</td>\n",
              "      <td>8</td>\n",
              "    </tr>\n",
              "    <tr>\n",
              "      <th>60</th>\n",
              "      <td>0.000500</td>\n",
              "      <td>0.000040</td>\n",
              "      <td>0.071274</td>\n",
              "      <td>0.024340</td>\n",
              "      <td>0.002004</td>\n",
              "      <td>0.000259</td>\n",
              "      <td>0.000805</td>\n",
              "      <td>0.007871</td>\n",
              "      <td>0.755204</td>\n",
              "      <td>0.137704</td>\n",
              "      <td>8</td>\n",
              "    </tr>\n",
              "    <tr>\n",
              "      <th>61</th>\n",
              "      <td>0.000415</td>\n",
              "      <td>0.003004</td>\n",
              "      <td>0.632927</td>\n",
              "      <td>0.001220</td>\n",
              "      <td>0.014558</td>\n",
              "      <td>0.006628</td>\n",
              "      <td>0.013116</td>\n",
              "      <td>0.201926</td>\n",
              "      <td>0.068431</td>\n",
              "      <td>0.057775</td>\n",
              "      <td>2</td>\n",
              "    </tr>\n",
              "    <tr>\n",
              "      <th>62</th>\n",
              "      <td>0.000056</td>\n",
              "      <td>0.004693</td>\n",
              "      <td>0.716878</td>\n",
              "      <td>0.008333</td>\n",
              "      <td>0.004075</td>\n",
              "      <td>0.067712</td>\n",
              "      <td>0.048881</td>\n",
              "      <td>0.097106</td>\n",
              "      <td>0.001187</td>\n",
              "      <td>0.051079</td>\n",
              "      <td>2</td>\n",
              "    </tr>\n",
              "    <tr>\n",
              "      <th>63</th>\n",
              "      <td>0.000011</td>\n",
              "      <td>0.003520</td>\n",
              "      <td>0.932772</td>\n",
              "      <td>0.002241</td>\n",
              "      <td>0.000458</td>\n",
              "      <td>0.026205</td>\n",
              "      <td>0.013299</td>\n",
              "      <td>0.002786</td>\n",
              "      <td>0.000620</td>\n",
              "      <td>0.018088</td>\n",
              "      <td>2</td>\n",
              "    </tr>\n",
              "  </tbody>\n",
              "</table>\n",
              "<p>64 rows × 11 columns</p>\n",
              "</div>"
            ],
            "text/plain": [
              "       blues  classical   country  ...    reggae      rock  Predicted_Genre_index\n",
              "0   0.009680   0.958109  0.004401  ...  0.010684  0.001678                      1\n",
              "1   0.000690   0.986682  0.001571  ...  0.002628  0.001169                      1\n",
              "2   0.003588   0.186822  0.001335  ...  0.062784  0.002128                      7\n",
              "3   0.015890   0.009187  0.000154  ...  0.102949  0.009690                      7\n",
              "4   0.005969   0.001174  0.000784  ...  0.524609  0.048140                      8\n",
              "..       ...        ...       ...  ...       ...       ...                    ...\n",
              "59  0.002394   0.062045  0.021973  ...  0.476392  0.094741                      8\n",
              "60  0.000500   0.000040  0.071274  ...  0.755204  0.137704                      8\n",
              "61  0.000415   0.003004  0.632927  ...  0.068431  0.057775                      2\n",
              "62  0.000056   0.004693  0.716878  ...  0.001187  0.051079                      2\n",
              "63  0.000011   0.003520  0.932772  ...  0.000620  0.018088                      2\n",
              "\n",
              "[64 rows x 11 columns]"
            ]
          },
          "metadata": {
            "tags": []
          },
          "execution_count": 33
        }
      ]
    },
    {
      "cell_type": "code",
      "metadata": {
        "colab": {
          "base_uri": "https://localhost:8080/"
        },
        "id": "IZ_Lcy_UXcaj",
        "outputId": "e60919c2-21ef-463d-dae5-f87781326fc5"
      },
      "source": [
        "genre_mapping.keys()"
      ],
      "execution_count": 34,
      "outputs": [
        {
          "output_type": "execute_result",
          "data": {
            "text/plain": [
              "dict_keys(['0', '1', '2', '3', '4', '5', '6', '7', '8', '9'])"
            ]
          },
          "metadata": {
            "tags": []
          },
          "execution_count": 34
        }
      ]
    },
    {
      "cell_type": "code",
      "metadata": {
        "colab": {
          "base_uri": "https://localhost:8080/"
        },
        "id": "U94Ic86oXiiE",
        "outputId": "ff9b15e8-68f1-440b-f7b9-6efb98e9b46e"
      },
      "source": [
        "all_prediction_df['Predicted_Genre_index'][0]"
      ],
      "execution_count": 35,
      "outputs": [
        {
          "output_type": "execute_result",
          "data": {
            "text/plain": [
              "1"
            ]
          },
          "metadata": {
            "tags": []
          },
          "execution_count": 35
        }
      ]
    },
    {
      "cell_type": "code",
      "metadata": {
        "id": "5BVLMD0BWr3Y"
      },
      "source": [
        "all_prediction_df['Predicted Genre Name']=all_prediction_df['Predicted_Genre_index'].apply(lambda x: genre_mapping[str(x)])"
      ],
      "execution_count": 36,
      "outputs": []
    },
    {
      "cell_type": "code",
      "metadata": {
        "colab": {
          "base_uri": "https://localhost:8080/",
          "height": 441
        },
        "id": "_zuutwgWXpEr",
        "outputId": "5e05b226-bf0e-4dcd-83cf-340da343f952"
      },
      "source": [
        "all_prediction_df"
      ],
      "execution_count": 37,
      "outputs": [
        {
          "output_type": "execute_result",
          "data": {
            "text/html": [
              "<div>\n",
              "<style scoped>\n",
              "    .dataframe tbody tr th:only-of-type {\n",
              "        vertical-align: middle;\n",
              "    }\n",
              "\n",
              "    .dataframe tbody tr th {\n",
              "        vertical-align: top;\n",
              "    }\n",
              "\n",
              "    .dataframe thead th {\n",
              "        text-align: right;\n",
              "    }\n",
              "</style>\n",
              "<table border=\"1\" class=\"dataframe\">\n",
              "  <thead>\n",
              "    <tr style=\"text-align: right;\">\n",
              "      <th></th>\n",
              "      <th>blues</th>\n",
              "      <th>classical</th>\n",
              "      <th>country</th>\n",
              "      <th>disco</th>\n",
              "      <th>hiphop</th>\n",
              "      <th>jazz</th>\n",
              "      <th>metal</th>\n",
              "      <th>pop</th>\n",
              "      <th>reggae</th>\n",
              "      <th>rock</th>\n",
              "      <th>Predicted_Genre_index</th>\n",
              "      <th>Predicted Genre Name</th>\n",
              "    </tr>\n",
              "  </thead>\n",
              "  <tbody>\n",
              "    <tr>\n",
              "      <th>0</th>\n",
              "      <td>0.009680</td>\n",
              "      <td>0.958109</td>\n",
              "      <td>0.004401</td>\n",
              "      <td>0.002010</td>\n",
              "      <td>0.000981</td>\n",
              "      <td>0.002310</td>\n",
              "      <td>0.000422</td>\n",
              "      <td>0.009725</td>\n",
              "      <td>0.010684</td>\n",
              "      <td>0.001678</td>\n",
              "      <td>1</td>\n",
              "      <td>classical</td>\n",
              "    </tr>\n",
              "    <tr>\n",
              "      <th>1</th>\n",
              "      <td>0.000690</td>\n",
              "      <td>0.986682</td>\n",
              "      <td>0.001571</td>\n",
              "      <td>0.001237</td>\n",
              "      <td>0.000370</td>\n",
              "      <td>0.000691</td>\n",
              "      <td>0.000054</td>\n",
              "      <td>0.004906</td>\n",
              "      <td>0.002628</td>\n",
              "      <td>0.001169</td>\n",
              "      <td>1</td>\n",
              "      <td>classical</td>\n",
              "    </tr>\n",
              "    <tr>\n",
              "      <th>2</th>\n",
              "      <td>0.003588</td>\n",
              "      <td>0.186822</td>\n",
              "      <td>0.001335</td>\n",
              "      <td>0.002257</td>\n",
              "      <td>0.004526</td>\n",
              "      <td>0.000223</td>\n",
              "      <td>0.000713</td>\n",
              "      <td>0.735625</td>\n",
              "      <td>0.062784</td>\n",
              "      <td>0.002128</td>\n",
              "      <td>7</td>\n",
              "      <td>pop</td>\n",
              "    </tr>\n",
              "    <tr>\n",
              "      <th>3</th>\n",
              "      <td>0.015890</td>\n",
              "      <td>0.009187</td>\n",
              "      <td>0.000154</td>\n",
              "      <td>0.009913</td>\n",
              "      <td>0.002585</td>\n",
              "      <td>0.000112</td>\n",
              "      <td>0.000105</td>\n",
              "      <td>0.849414</td>\n",
              "      <td>0.102949</td>\n",
              "      <td>0.009690</td>\n",
              "      <td>7</td>\n",
              "      <td>pop</td>\n",
              "    </tr>\n",
              "    <tr>\n",
              "      <th>4</th>\n",
              "      <td>0.005969</td>\n",
              "      <td>0.001174</td>\n",
              "      <td>0.000784</td>\n",
              "      <td>0.096381</td>\n",
              "      <td>0.006237</td>\n",
              "      <td>0.000220</td>\n",
              "      <td>0.000221</td>\n",
              "      <td>0.316265</td>\n",
              "      <td>0.524609</td>\n",
              "      <td>0.048140</td>\n",
              "      <td>8</td>\n",
              "      <td>reggae</td>\n",
              "    </tr>\n",
              "    <tr>\n",
              "      <th>...</th>\n",
              "      <td>...</td>\n",
              "      <td>...</td>\n",
              "      <td>...</td>\n",
              "      <td>...</td>\n",
              "      <td>...</td>\n",
              "      <td>...</td>\n",
              "      <td>...</td>\n",
              "      <td>...</td>\n",
              "      <td>...</td>\n",
              "      <td>...</td>\n",
              "      <td>...</td>\n",
              "      <td>...</td>\n",
              "    </tr>\n",
              "    <tr>\n",
              "      <th>59</th>\n",
              "      <td>0.002394</td>\n",
              "      <td>0.062045</td>\n",
              "      <td>0.021973</td>\n",
              "      <td>0.090997</td>\n",
              "      <td>0.006643</td>\n",
              "      <td>0.011946</td>\n",
              "      <td>0.002313</td>\n",
              "      <td>0.230555</td>\n",
              "      <td>0.476392</td>\n",
              "      <td>0.094741</td>\n",
              "      <td>8</td>\n",
              "      <td>reggae</td>\n",
              "    </tr>\n",
              "    <tr>\n",
              "      <th>60</th>\n",
              "      <td>0.000500</td>\n",
              "      <td>0.000040</td>\n",
              "      <td>0.071274</td>\n",
              "      <td>0.024340</td>\n",
              "      <td>0.002004</td>\n",
              "      <td>0.000259</td>\n",
              "      <td>0.000805</td>\n",
              "      <td>0.007871</td>\n",
              "      <td>0.755204</td>\n",
              "      <td>0.137704</td>\n",
              "      <td>8</td>\n",
              "      <td>reggae</td>\n",
              "    </tr>\n",
              "    <tr>\n",
              "      <th>61</th>\n",
              "      <td>0.000415</td>\n",
              "      <td>0.003004</td>\n",
              "      <td>0.632927</td>\n",
              "      <td>0.001220</td>\n",
              "      <td>0.014558</td>\n",
              "      <td>0.006628</td>\n",
              "      <td>0.013116</td>\n",
              "      <td>0.201926</td>\n",
              "      <td>0.068431</td>\n",
              "      <td>0.057775</td>\n",
              "      <td>2</td>\n",
              "      <td>country</td>\n",
              "    </tr>\n",
              "    <tr>\n",
              "      <th>62</th>\n",
              "      <td>0.000056</td>\n",
              "      <td>0.004693</td>\n",
              "      <td>0.716878</td>\n",
              "      <td>0.008333</td>\n",
              "      <td>0.004075</td>\n",
              "      <td>0.067712</td>\n",
              "      <td>0.048881</td>\n",
              "      <td>0.097106</td>\n",
              "      <td>0.001187</td>\n",
              "      <td>0.051079</td>\n",
              "      <td>2</td>\n",
              "      <td>country</td>\n",
              "    </tr>\n",
              "    <tr>\n",
              "      <th>63</th>\n",
              "      <td>0.000011</td>\n",
              "      <td>0.003520</td>\n",
              "      <td>0.932772</td>\n",
              "      <td>0.002241</td>\n",
              "      <td>0.000458</td>\n",
              "      <td>0.026205</td>\n",
              "      <td>0.013299</td>\n",
              "      <td>0.002786</td>\n",
              "      <td>0.000620</td>\n",
              "      <td>0.018088</td>\n",
              "      <td>2</td>\n",
              "      <td>country</td>\n",
              "    </tr>\n",
              "  </tbody>\n",
              "</table>\n",
              "<p>64 rows × 12 columns</p>\n",
              "</div>"
            ],
            "text/plain": [
              "       blues  classical  ...  Predicted_Genre_index  Predicted Genre Name\n",
              "0   0.009680   0.958109  ...                      1             classical\n",
              "1   0.000690   0.986682  ...                      1             classical\n",
              "2   0.003588   0.186822  ...                      7                   pop\n",
              "3   0.015890   0.009187  ...                      7                   pop\n",
              "4   0.005969   0.001174  ...                      8                reggae\n",
              "..       ...        ...  ...                    ...                   ...\n",
              "59  0.002394   0.062045  ...                      8                reggae\n",
              "60  0.000500   0.000040  ...                      8                reggae\n",
              "61  0.000415   0.003004  ...                      2               country\n",
              "62  0.000056   0.004693  ...                      2               country\n",
              "63  0.000011   0.003520  ...                      2               country\n",
              "\n",
              "[64 rows x 12 columns]"
            ]
          },
          "metadata": {
            "tags": []
          },
          "execution_count": 37
        }
      ]
    },
    {
      "cell_type": "code",
      "metadata": {
        "colab": {
          "base_uri": "https://localhost:8080/"
        },
        "id": "yjM9LI_-UgnB",
        "outputId": "052fcfda-9221-4e64-893e-0bb48ed1c278"
      },
      "source": [
        "all_prediction_df['Predicted Genre Name'].value_counts()"
      ],
      "execution_count": 38,
      "outputs": [
        {
          "output_type": "execute_result",
          "data": {
            "text/plain": [
              "country      21\n",
              "jazz         17\n",
              "pop          16\n",
              "reggae        6\n",
              "classical     4\n",
              "Name: Predicted Genre Name, dtype: int64"
            ]
          },
          "metadata": {
            "tags": []
          },
          "execution_count": 38
        }
      ]
    },
    {
      "cell_type": "code",
      "metadata": {
        "colab": {
          "base_uri": "https://localhost:8080/"
        },
        "id": "BCgDfzb_aqIC",
        "outputId": "9e7114dc-248f-460f-9eeb-8b3bd72153ff"
      },
      "source": [
        "all_prediction_df['Predicted Genre Name'].values"
      ],
      "execution_count": 39,
      "outputs": [
        {
          "output_type": "execute_result",
          "data": {
            "text/plain": [
              "array(['classical', 'classical', 'pop', 'pop', 'reggae', 'pop', 'pop',\n",
              "       'classical', 'pop', 'pop', 'pop', 'classical', 'pop', 'pop',\n",
              "       'reggae', 'pop', 'pop', 'country', 'jazz', 'jazz', 'country',\n",
              "       'country', 'jazz', 'jazz', 'jazz', 'reggae', 'pop', 'pop',\n",
              "       'country', 'jazz', 'country', 'country', 'country', 'country',\n",
              "       'country', 'country', 'country', 'country', 'country', 'country',\n",
              "       'jazz', 'country', 'jazz', 'country', 'country', 'jazz', 'jazz',\n",
              "       'jazz', 'jazz', 'jazz', 'jazz', 'jazz', 'jazz', 'country', 'pop',\n",
              "       'jazz', 'reggae', 'pop', 'pop', 'reggae', 'reggae', 'country',\n",
              "       'country', 'country'], dtype=object)"
            ]
          },
          "metadata": {
            "tags": []
          },
          "execution_count": 39
        }
      ]
    },
    {
      "cell_type": "code",
      "metadata": {
        "colab": {
          "base_uri": "https://localhost:8080/",
          "height": 296
        },
        "id": "uUgIPIi4UbPi",
        "outputId": "1cc52762-578d-4ad5-d689-769950186773"
      },
      "source": [
        "sns.countplot(data=all_prediction_df, x='Predicted Genre Name')"
      ],
      "execution_count": 40,
      "outputs": [
        {
          "output_type": "execute_result",
          "data": {
            "text/plain": [
              "<matplotlib.axes._subplots.AxesSubplot at 0x7f98d81efb50>"
            ]
          },
          "metadata": {
            "tags": []
          },
          "execution_count": 40
        },
        {
          "output_type": "display_data",
          "data": {
            "image/png": "[encoded data removed]",
            "text/plain": [
              "<Figure size 432x288 with 1 Axes>"
            ]
          },
          "metadata": {
            "tags": [],
            "needs_background": "light"
          }
        }
      ]
    },
    {
      "cell_type": "markdown",
      "metadata": {
        "id": "iewIt-95GUE9"
      },
      "source": [
        "**Predicting the genre of the song by taking the mean value of the porbabilities of the genres along the column**"
      ]
    },
    {
      "cell_type": "code",
      "metadata": {
        "colab": {
          "base_uri": "https://localhost:8080/"
        },
        "id": "h2SIx27UTYsk",
        "outputId": "5aaf7b57-9719-4588-f7e8-2b386beb29a3"
      },
      "source": [
        "prediction_mean = all_prediction_df.iloc[:,:-2].apply(np.mean, axis=0)\n",
        "prediction_mean"
      ],
      "execution_count": 41,
      "outputs": [
        {
          "output_type": "execute_result",
          "data": {
            "text/plain": [
              "blues        0.002799\n",
              "classical    0.083147\n",
              "country      0.277864\n",
              "disco        0.015341\n",
              "hiphop       0.006064\n",
              "jazz         0.249745\n",
              "metal        0.009917\n",
              "pop          0.215317\n",
              "reggae       0.084911\n",
              "rock         0.054895\n",
              "dtype: float64"
            ]
          },
          "metadata": {
            "tags": []
          },
          "execution_count": 41
        }
      ]
    },
    {
      "cell_type": "code",
      "metadata": {
        "colab": {
          "base_uri": "https://localhost:8080/"
        },
        "id": "mLrlR950ZNRy",
        "outputId": "c1e09cf9-1773-479a-e3e8-dee791997952"
      },
      "source": [
        "prediction_mean.index"
      ],
      "execution_count": 42,
      "outputs": [
        {
          "output_type": "execute_result",
          "data": {
            "text/plain": [
              "Index(['blues', 'classical', 'country', 'disco', 'hiphop', 'jazz', 'metal',\n",
              "       'pop', 'reggae', 'rock'],\n",
              "      dtype='object')"
            ]
          },
          "metadata": {
            "tags": []
          },
          "execution_count": 42
        }
      ]
    },
    {
      "cell_type": "code",
      "metadata": {
        "colab": {
          "base_uri": "https://localhost:8080/",
          "height": 387
        },
        "id": "84rxjhMMZz8p",
        "outputId": "1abdf140-8a0d-4f7a-d2e6-7b725d1906e0"
      },
      "source": [
        "sns.barplot(prediction_mean.index, prediction_mean)\n",
        "plt.xticks(rotation=90)"
      ],
      "execution_count": 43,
      "outputs": [
        {
          "output_type": "stream",
          "text": [
            "/usr/local/lib/python3.7/dist-packages/seaborn/_decorators.py:43: FutureWarning: Pass the following variables as keyword args: x, y. From version 0.12, the only valid positional argument will be `data`, and passing other arguments without an explicit keyword will result in an error or misinterpretation.\n",
            "  FutureWarning\n"
          ],
          "name": "stderr"
        },
        {
          "output_type": "execute_result",
          "data": {
            "text/plain": [
              "(array([0, 1, 2, 3, 4, 5, 6, 7, 8, 9]),\n",
              " <a list of 10 Text major ticklabel objects>)"
            ]
          },
          "metadata": {
            "tags": []
          },
          "execution_count": 43
        },
        {
          "output_type": "display_data",
          "data": {
            "image/png": "[encoded data removed]",
            "text/plain": [
              "<Figure size 432x288 with 1 Axes>"
            ]
          },
          "metadata": {
            "tags": [],
            "needs_background": "light"
          }
        }
      ]
    },
    {
      "cell_type": "markdown",
      "metadata": {
        "id": "obsARSf0G42Q"
      },
      "source": [
        "**Plotting the probabilitiy distribution of the predicted values of the genres of the song**"
      ]
    },
    {
      "cell_type": "code",
      "metadata": {
        "colab": {
          "base_uri": "https://localhost:8080/",
          "height": 500
        },
        "id": "94lZnYTMYr00",
        "outputId": "caa86f2e-fba2-4263-ac29-17eace1349be"
      },
      "source": [
        "plt.figure(figsize=(8,8))\n",
        "plt.bar(prediction_mean.index, prediction_mean,)"
      ],
      "execution_count": 44,
      "outputs": [
        {
          "output_type": "execute_result",
          "data": {
            "text/plain": [
              "<BarContainer object of 10 artists>"
            ]
          },
          "metadata": {
            "tags": []
          },
          "execution_count": 44
        },
        {
          "output_type": "display_data",
          "data": {
            "image/png": "[encoded data removed]",
            "text/plain": [
              "<Figure size 576x576 with 1 Axes>"
            ]
          },
          "metadata": {
            "tags": [],
            "needs_background": "light"
          }
        }
      ]
    },
    {
      "cell_type": "code",
      "metadata": {
        "id": "IXvmZ8NgYSlq"
      },
      "source": [
        "# type(prediction_mean)"
      ],
      "execution_count": 45,
      "outputs": []
    },
    {
      "cell_type": "code",
      "metadata": {
        "colab": {
          "base_uri": "https://localhost:8080/"
        },
        "id": "B4Z3gO1BT68b",
        "outputId": "d3e7bef2-1f65-4554-c6a5-ac51f904f7e7"
      },
      "source": [
        "all_prediction_df.iloc[:,:-2].apply(np.mean, axis=0).sum()"
      ],
      "execution_count": 46,
      "outputs": [
        {
          "output_type": "execute_result",
          "data": {
            "text/plain": [
              "1.0000000691507012"
            ]
          },
          "metadata": {
            "tags": []
          },
          "execution_count": 46
        }
      ]
    },
    {
      "cell_type": "code",
      "metadata": {
        "colab": {
          "base_uri": "https://localhost:8080/",
          "height": 35
        },
        "id": "aR4e4Kh0lgNa",
        "outputId": "b29da6e9-0301-46f4-9c6d-53fd15d6271e"
      },
      "source": [
        "all_prediction_df.iloc[:,:-2].apply(np.mean, axis=0).idxmax()"
      ],
      "execution_count": 47,
      "outputs": [
        {
          "output_type": "execute_result",
          "data": {
            "application/vnd.google.colaboratory.intrinsic+json": {
              "type": "string"
            },
            "text/plain": [
              "'country'"
            ]
          },
          "metadata": {
            "tags": []
          },
          "execution_count": 47
        }
      ]
    },
    {
      "cell_type": "markdown",
      "metadata": {
        "id": "wpEXPYg4Hg2B"
      },
      "source": [
        "# Prediction Function Module"
      ]
    },
    {
      "cell_type": "code",
      "metadata": {
        "id": "y5IdL_Ycau9-"
      },
      "source": [
        "# num = 236/30\n",
        "# num"
      ],
      "execution_count": 48,
      "outputs": []
    },
    {
      "cell_type": "code",
      "metadata": {
        "id": "w-9RksD8a395"
      },
      "source": [
        "# num = int(np.floor(num))\n",
        "# num"
      ],
      "execution_count": 49,
      "outputs": []
    },
    {
      "cell_type": "code",
      "metadata": {
        "id": "ry5omRtvbMjw"
      },
      "source": [
        "# int(236/30)"
      ],
      "execution_count": 50,
      "outputs": []
    },
    {
      "cell_type": "code",
      "metadata": {
        "id": "3SdtLPIBcPIY"
      },
      "source": [
        "# signal, sample_rate = librosa.load(song_path, sr=SAMPLE_RATE)\n",
        "# song_length = int(librosa.get_duration(filename=song_path))"
      ],
      "execution_count": 51,
      "outputs": []
    },
    {
      "cell_type": "code",
      "metadata": {
        "id": "n8JcOORVcS5C"
      },
      "source": [
        "# discarded_song_length = (song_length % 30)"
      ],
      "execution_count": 52,
      "outputs": []
    },
    {
      "cell_type": "code",
      "metadata": {
        "id": "OS616riTcoDB"
      },
      "source": [
        "# song_length -= discarded_song_length\n",
        "# song_length"
      ],
      "execution_count": 53,
      "outputs": []
    },
    {
      "cell_type": "code",
      "metadata": {
        "id": "kg_OiMWjcyrt"
      },
      "source": [
        "# SAMPLES_PER_SONG = SAMPLE_RATE * song_length\n",
        "# parts= song_length/30\n",
        "# SAMPLES_PER_SEGMENT_30 = int(SAMPLES_PER_SONG/(parts))\n",
        "# print(SAMPLES_PER_SEGMENT_30)"
      ],
      "execution_count": 54,
      "outputs": []
    },
    {
      "cell_type": "code",
      "metadata": {
        "id": "4KYcirBkal1W"
      },
      "source": [
        "def predict_song(song_path):\n",
        "    signal, sample_rate = librosa.load(song_path, sr=SAMPLE_RATE)\n",
        "    song_length = int(librosa.get_duration(filename=song_path))\n",
        "    \n",
        "    if song_length > 30:\n",
        "        discarded_song_length = (song_length % 30)\n",
        "        song_length -= discarded_song_length\n",
        "        # print(f\"Song is greater than 30 seconds\")\n",
        "        SAMPLES_PER_SONG = SAMPLE_RATE * song_length\n",
        "        parts= int(song_length/30)\n",
        "        SAMPLES_PER_SEGMENT_30 = int(SAMPLES_PER_SONG/(parts))\n",
        "        flag = 1\n",
        "        # print(SAMPLES_PER_SEGMENT_30)\n",
        "\n",
        "    elif song_length ==30:\n",
        "        parts = 1\n",
        "        flag = 0\n",
        "    else:\n",
        "        print(\"Too short, enter a song of length minimum 30 seconds\")\n",
        "        flag = 2\n",
        "\n",
        "    single_file_df = pd.DataFrame()\n",
        "    for i in range(0, parts):\n",
        "        if flag ==1:\n",
        "            # print(f'Song snipped: {i+1}')\n",
        "            # calculate start and finish sample for current part\n",
        "            start30 = SAMPLES_PER_SEGMENT_30  * i\n",
        "            finish30= start30 + SAMPLES_PER_SEGMENT_30\n",
        "            y = signal[start30:finish30]\n",
        "        elif flag == 0:\n",
        "            # print('Song is 30 seconds long so no need for slicing.')\n",
        "            y = signal\n",
        "            print()\n",
        "        \n",
        "        for segment in range(num_segments):\n",
        "            # calculate start and finish sample for current segment\n",
        "            start_sample = num_samples_per_segment * segment \n",
        "            finish_sample = start_sample + num_samples_per_segment\n",
        "\n",
        "            #extract mfcc\n",
        "            mfcc = librosa.feature.mfcc(y[start_sample:finish_sample], sample_rate, n_mfcc=n_mfcc, n_fft=n_fft, hop_length=hop_length)\n",
        "            mfcc = mfcc.T\n",
        "            # print(f'Shape of mfcc: {mfcc.shape}')\n",
        "            # mfcc = mfcc.reshape(1, mfcc.shape[0], mfcc.shape[1],1)\n",
        "            if len(mfcc) == expected_num_mfcc_vectors_per_segment:\n",
        "                segment_df = pd.DataFrame(data=mfcc,\n",
        "                                        columns= headers,\n",
        "                                                index = range(len(mfcc)))\n",
        "                single_file_df = pd.concat([single_file_df, segment_df],\n",
        "                                        axis=0,\n",
        "                                        sort=False,\n",
        "                                        ignore_index=True)\n",
        "\n",
        "\n",
        "    if flag == 1:\n",
        "      single_file_df = single_file_df.iloc[390: len(single_file_df) - 390] \n",
        "            \n",
        "    song_values= []\n",
        "    for i in range(0,single_file_df.shape[0],130):\n",
        "        # print(i, i+130)\n",
        "        # i+1\n",
        "        # if i>=song_df2.shape[0]+130:\n",
        "        #     break\n",
        "        song_values.append(single_file_df.iloc[i:i+130,:])\n",
        "        i+=1\n",
        "        if i >=single_file_df.shape[0]+130:\n",
        "            break\n",
        "\n",
        "    predictions = []\n",
        "    for x in range(len(song_values)):\n",
        "        X_to_predict = np.expand_dims(song_values[x],0)\n",
        "        X_to_predict = np.expand_dims(X_to_predict,3)\n",
        "        # print(X_to_predict.shape)\n",
        "        test = np.array(X_to_predict, dtype=np.float32)\n",
        "        try:\n",
        "            result = cnn_model.predict(test)\n",
        "            predictions.append(result)\n",
        "        except Exception as e:\n",
        "            print(f'{e}')\n",
        "\n",
        "    all_prediction_df = pd.DataFrame(columns=genres)\n",
        "    for prediction in predictions:\n",
        "        predict_row = pd.DataFrame(data=prediction, columns=genres)\n",
        "        all_prediction_df = pd.concat([all_prediction_df, predict_row], ignore_index=True)\n",
        "    print(\"\")\n",
        "    print(f\"Predicted genre of the song: \", all_prediction_df.apply(np.mean, axis=0).idxmax())\n",
        "\n",
        "    # Plotting the probability distribution of the song\n",
        "    prediction_mean = all_prediction_df.apply(np.mean, axis=0)\n",
        "    # sns.barplot(prediction_mean.index, prediction_mean)\n",
        "    # plt.xticks(rotation=90)\n",
        "\n",
        "    plt.figure(figsize=(8,8))\n",
        "    plt.bar(prediction_mean.index, prediction_mean,)\n"
      ],
      "execution_count": 55,
      "outputs": []
    },
    {
      "cell_type": "code",
      "metadata": {
        "id": "q2KbbkrQs1VE"
      },
      "source": [
        "# def predict_song(song_path):\n",
        "#     signal, sample_rate = librosa.load(song_path, sr=SAMPLE_RATE)\n",
        "#     song_length = int(librosa.get_duration(filename=song_path))\n",
        "    \n",
        "#     if song_length > 30:\n",
        "#         # print(f\"Song is greater than 30 seconds\")\n",
        "#         SAMPLES_PER_SONG = SAMPLE_RATE * song_length\n",
        "#         parts= int(song_length/30)\n",
        "#         SAMPLES_PER_SEGMENT_30 = int(SAMPLES_PER_SONG/(parts))\n",
        "#         flag = 1\n",
        "\n",
        "#     elif song_length ==30:\n",
        "#         parts = 1\n",
        "#         flag = 0\n",
        "#     else:\n",
        "#         print(\"Too short, enter a song of length minimum 30 seconds\")\n",
        "#         flag = 2\n",
        "\n",
        "#     single_file_df = pd.DataFrame()\n",
        "#     for i in range(0, parts):\n",
        "#         if flag ==1:\n",
        "#             # print(f'Song snipped: {i+1}')\n",
        "#             # calculate start and finish sample for current part\n",
        "#             start30 = SAMPLES_PER_SEGMENT_30  * i\n",
        "#             finish30= start30 + SAMPLES_PER_SEGMENT_30\n",
        "#             y = signal[start30:finish30]\n",
        "#         elif flag == 0:\n",
        "#             # print('Song is 30 seconds long so no need for slicing.')\n",
        "#             y = signal\n",
        "#             print()\n",
        "        \n",
        "#         for segment in range(num_segments):\n",
        "#             # calculate start and finish sample for current segment\n",
        "#             start_sample = num_samples_per_segment * segment \n",
        "#             finish_sample = start_sample + num_samples_per_segment\n",
        "\n",
        "#             #extract mfcc\n",
        "#             mfcc = librosa.feature.mfcc(y[start_sample:finish_sample], sample_rate, n_mfcc=n_mfcc, n_fft=n_fft, hop_length=hop_length)\n",
        "#             mfcc = mfcc.T\n",
        "#             # print(f'Shape of mfcc: {mfcc.shape}')\n",
        "#             # mfcc = mfcc.reshape(1, mfcc.shape[0], mfcc.shape[1],1)\n",
        "#             if len(mfcc) == expected_num_mfcc_vectors_per_segment:\n",
        "#                 segment_df = pd.DataFrame(data=mfcc,\n",
        "#                                         columns= headers,\n",
        "#                                                 index = range(len(mfcc)))\n",
        "#                 single_file_df = pd.concat([single_file_df, segment_df],\n",
        "#                                         axis=0,\n",
        "#                                         sort=False,\n",
        "#                                         ignore_index=True)\n",
        "\n",
        "\n",
        "#     if flag == 1:\n",
        "#       single_file_df = single_file_df.iloc[390: len(single_file_df) - 390] \n",
        "            \n",
        "#     song_values= []\n",
        "#     for i in range(0,single_file_df.shape[0],130):\n",
        "#         # print(i, i+130)\n",
        "#         # i+1\n",
        "#         # if i>=song_df2.shape[0]+130:\n",
        "#         #     break\n",
        "#         song_values.append(single_file_df.iloc[i:i+130,:])\n",
        "#         i+=1\n",
        "#         if i >=single_file_df.shape[0]+130:\n",
        "#             break\n",
        "\n",
        "#     predictions = []\n",
        "#     for x in range(len(song_values)):\n",
        "#         X_to_predict = np.expand_dims(song_values[x],0)\n",
        "#         X_to_predict = np.expand_dims(X_to_predict,3)\n",
        "#         # print(X_to_predict.shape)\n",
        "#         test = np.array(X_to_predict, dtype=np.float32)\n",
        "#         try:\n",
        "#             result = cnn_model.predict(test)\n",
        "#             predictions.append(result)\n",
        "#         except Exception as e:\n",
        "#             print(f'{e}')\n",
        "\n",
        "#     all_prediction_df = pd.DataFrame(columns=genres)\n",
        "#     for prediction in predictions:\n",
        "#         predict_row = pd.DataFrame(data=prediction, columns=genres)\n",
        "#         all_prediction_df = pd.concat([all_prediction_df, predict_row], ignore_index=True)\n",
        "#     print(\"\")\n",
        "#     print(f\"Predicted genre of the song: \", all_prediction_df.apply(np.mean, axis=0).idxmax())\n",
        "\n",
        "#     # Plotting the probability distribution of the song\n",
        "#     prediction_mean = all_prediction_df.apply(np.mean, axis=0)\n",
        "#     sns.barplot(prediction_mean.index, prediction_mean)\n",
        "#     plt.xticks(rotation=90)\n",
        "\n",
        "#     plt.figure(figsize=(8,8))\n",
        "#     plt.bar(prediction_mean.index, prediction_mean,)\n",
        "\n",
        "#     all_prediction_df['Predicted_Genre'] = all_prediction_df.apply(np.argmax,axis='columns')\n",
        "#     print(all_prediction_df['Predicted_Genre'].value_counts())\n"
      ],
      "execution_count": 56,
      "outputs": []
    },
    {
      "cell_type": "markdown",
      "metadata": {
        "id": "6xqQ6AX0M4Gr"
      },
      "source": [
        "# Testing prediction on different songs"
      ]
    },
    {
      "cell_type": "markdown",
      "metadata": {
        "id": "dyDROI73nMrj"
      },
      "source": [
        "**Test 1 - Teen Spirits by Nirvana (Rock)**"
      ]
    },
    {
      "cell_type": "code",
      "metadata": {
        "colab": {
          "base_uri": "https://localhost:8080/",
          "height": 518
        },
        "id": "jb0vAkJtnNPv",
        "outputId": "c1268701-58ca-4c26-fad2-13585a376e7a"
      },
      "source": [
        "song_path = os.getcwd()+'/drive/MyDrive/Sub_Data/Songs/nirvana_teen_spirits.wav'\n",
        "predict_song(song_path)"
      ],
      "execution_count": 57,
      "outputs": [
        {
          "output_type": "stream",
          "text": [
            "\n",
            "Predicted genre of the song:  rock\n"
          ],
          "name": "stdout"
        },
        {
          "output_type": "display_data",
          "data": {
            "image/png": "[encoded data removed]",
            "text/plain": [
              "<Figure size 576x576 with 1 Axes>"
            ]
          },
          "metadata": {
            "tags": [],
            "needs_background": "light"
          }
        }
      ]
    },
    {
      "cell_type": "markdown",
      "metadata": {
        "id": "8BwypBEgNQ9Q"
      },
      "source": [
        "**Test 2 - Love Story by Taylor Swift (Genre: Pop/Country)**"
      ]
    },
    {
      "cell_type": "code",
      "metadata": {
        "id": "fgcSxJmDNLsh"
      },
      "source": [
        "song_path = os.getcwd()+'/drive/MyDrive/Sub_Data/Songs/love_story.wav'"
      ],
      "execution_count": 58,
      "outputs": []
    },
    {
      "cell_type": "code",
      "metadata": {
        "colab": {
          "base_uri": "https://localhost:8080/",
          "height": 518
        },
        "id": "hCDTRdcKeYWp",
        "outputId": "56f68548-999f-4b6a-af96-4e4ea6a27118"
      },
      "source": [
        "predict_song(song_path)"
      ],
      "execution_count": 59,
      "outputs": [
        {
          "output_type": "stream",
          "text": [
            "\n",
            "Predicted genre of the song:  country\n"
          ],
          "name": "stdout"
        },
        {
          "output_type": "display_data",
          "data": {
            "image/png": "[encoded data removed]",
            "text/plain": [
              "<Figure size 576x576 with 1 Axes>"
            ]
          },
          "metadata": {
            "tags": [],
            "needs_background": "light"
          }
        }
      ]
    },
    {
      "cell_type": "markdown",
      "metadata": {
        "id": "Xwq5Hj-kO_AT"
      },
      "source": [
        "**Test 3 - Girls Like You by Maroon 5 (Pop)**"
      ]
    },
    {
      "cell_type": "code",
      "metadata": {
        "colab": {
          "base_uri": "https://localhost:8080/",
          "height": 518
        },
        "id": "Wo6o3uQ9f-hj",
        "outputId": "c63971f3-3022-42ba-9084-4c928474c5d5"
      },
      "source": [
        "song_path2 = os.getcwd()+'/drive/MyDrive/Sub_Data/Songs/girls_like_you.wav'\n",
        "predict_song(song_path2)"
      ],
      "execution_count": 60,
      "outputs": [
        {
          "output_type": "stream",
          "text": [
            "\n",
            "Predicted genre of the song:  pop\n"
          ],
          "name": "stdout"
        },
        {
          "output_type": "display_data",
          "data": {
            "image/png": "[encoded data removed]",
            "text/plain": [
              "<Figure size 576x576 with 1 Axes>"
            ]
          },
          "metadata": {
            "tags": [],
            "needs_background": "light"
          }
        }
      ]
    },
    {
      "cell_type": "markdown",
      "metadata": {
        "id": "J0V250MRo81P"
      },
      "source": [
        "**Test 4 - Coastal Ruminations I by Ben Nestor (Classical)**"
      ]
    },
    {
      "cell_type": "code",
      "metadata": {
        "colab": {
          "base_uri": "https://localhost:8080/",
          "height": 552
        },
        "id": "ga0WhW8wm1k2",
        "outputId": "f0b38376-b983-4de5-c3c0-9664e9554261"
      },
      "source": [
        "song_path2 = os.getcwd()+'/drive/MyDrive/Sub_Data/Songs/Ben Nestor - Coastal Ruminations I_Classical.mp3'\n",
        "predict_song(song_path2)"
      ],
      "execution_count": 61,
      "outputs": [
        {
          "output_type": "stream",
          "text": [
            "/usr/local/lib/python3.7/dist-packages/librosa/core/audio.py:165: UserWarning: PySoundFile failed. Trying audioread instead.\n",
            "  warnings.warn(\"PySoundFile failed. Trying audioread instead.\")\n"
          ],
          "name": "stderr"
        },
        {
          "output_type": "stream",
          "text": [
            "\n",
            "Predicted genre of the song:  classical\n"
          ],
          "name": "stdout"
        },
        {
          "output_type": "display_data",
          "data": {
            "image/png": "[encoded data removed]",
            "text/plain": [
              "<Figure size 576x576 with 1 Axes>"
            ]
          },
          "metadata": {
            "tags": [],
            "needs_background": "light"
          }
        }
      ]
    },
    {
      "cell_type": "markdown",
      "metadata": {
        "id": "isoK0o0CYNYd"
      },
      "source": [
        "# Testing on GTZAN Dataset saved previously for model prediction\n"
      ]
    },
    {
      "cell_type": "code",
      "metadata": {
        "id": "yVRl9KcpXoVq",
        "colab": {
          "base_uri": "https://localhost:8080/",
          "height": 535
        },
        "outputId": "e33ada9f-c62c-4991-ada0-a39d571f31de"
      },
      "source": [
        "song_path2 = os.getcwd()+'/drive/MyDrive/Sub_Data/Audio/Blues/blues.00095.wav'\n",
        "predict_song(song_path2)"
      ],
      "execution_count": 62,
      "outputs": [
        {
          "output_type": "stream",
          "text": [
            "\n",
            "\n",
            "Predicted genre of the song:  blues\n"
          ],
          "name": "stdout"
        },
        {
          "output_type": "display_data",
          "data": {
            "image/png": "[encoded data removed]",
            "text/plain": [
              "<Figure size 576x576 with 1 Axes>"
            ]
          },
          "metadata": {
            "tags": [],
            "needs_background": "light"
          }
        }
      ]
    },
    {
      "cell_type": "code",
      "metadata": {
        "colab": {
          "base_uri": "https://localhost:8080/",
          "height": 535
        },
        "id": "bcXtkMetZ9ya",
        "outputId": "891f456b-1189-491a-a0a1-899e36707f28"
      },
      "source": [
        "song_path2 = os.getcwd()+'/drive/MyDrive/Sub_Data/Audio/Blues/blues.00097.wav'\n",
        "predict_song(song_path2)"
      ],
      "execution_count": 67,
      "outputs": [
        {
          "output_type": "stream",
          "text": [
            "\n",
            "\n",
            "Predicted genre of the song:  country\n"
          ],
          "name": "stdout"
        },
        {
          "output_type": "display_data",
          "data": {
            "image/png": "[encoded data removed]",
            "text/plain": [
              "<Figure size 576x576 with 1 Axes>"
            ]
          },
          "metadata": {
            "tags": [],
            "needs_background": "light"
          }
        }
      ]
    },
    {
      "cell_type": "code",
      "metadata": {
        "colab": {
          "base_uri": "https://localhost:8080/",
          "height": 535
        },
        "id": "y-0k5l_aaAV_",
        "outputId": "f8f7bd5e-e572-430b-b399-600b73b5d424"
      },
      "source": [
        "song_path2 = os.getcwd()+'/drive/MyDrive/Sub_Data/Audio/Blues/blues.00098.wav'\n",
        "predict_song(song_path2)"
      ],
      "execution_count": 68,
      "outputs": [
        {
          "output_type": "stream",
          "text": [
            "\n",
            "\n",
            "Predicted genre of the song:  metal\n"
          ],
          "name": "stdout"
        },
        {
          "output_type": "display_data",
          "data": {
            "image/png": "[encoded data removed]",
            "text/plain": [
              "<Figure size 576x576 with 1 Axes>"
            ]
          },
          "metadata": {
            "tags": [],
            "needs_background": "light"
          }
        }
      ]
    },
    {
      "cell_type": "code",
      "metadata": {
        "colab": {
          "base_uri": "https://localhost:8080/",
          "height": 535
        },
        "id": "sp2eI8OVaFFI",
        "outputId": "b60b6223-eedf-4f4a-e922-0b217c7ead07"
      },
      "source": [
        "song_path2 = os.getcwd()+'/drive/MyDrive/Sub_Data/Audio/Classical/classical.00095.wav'\n",
        "predict_song(song_path2)"
      ],
      "execution_count": 70,
      "outputs": [
        {
          "output_type": "stream",
          "text": [
            "\n",
            "\n",
            "Predicted genre of the song:  classical\n"
          ],
          "name": "stdout"
        },
        {
          "output_type": "display_data",
          "data": {
            "image/png": "[encoded data removed]",
            "text/plain": [
              "<Figure size 576x576 with 1 Axes>"
            ]
          },
          "metadata": {
            "tags": [],
            "needs_background": "light"
          }
        }
      ]
    },
    {
      "cell_type": "code",
      "metadata": {
        "colab": {
          "base_uri": "https://localhost:8080/",
          "height": 535
        },
        "id": "OFIVvbYyaKXm",
        "outputId": "1218bd36-899e-4fda-b9fc-29c480da3500"
      },
      "source": [
        "song_path2 = os.getcwd()+'/drive/MyDrive/Sub_Data/Audio/Classical/classical.00096.wav'\n",
        "predict_song(song_path2)"
      ],
      "execution_count": 71,
      "outputs": [
        {
          "output_type": "stream",
          "text": [
            "\n",
            "\n",
            "Predicted genre of the song:  classical\n"
          ],
          "name": "stdout"
        },
        {
          "output_type": "display_data",
          "data": {
            "image/png": "[encoded data removed]",
            "text/plain": [
              "<Figure size 576x576 with 1 Axes>"
            ]
          },
          "metadata": {
            "tags": [],
            "needs_background": "light"
          }
        }
      ]
    },
    {
      "cell_type": "code",
      "metadata": {
        "colab": {
          "base_uri": "https://localhost:8080/",
          "height": 535
        },
        "id": "7tqulh5YaRQ4",
        "outputId": "960429e4-686c-4f7a-adda-257586299d25"
      },
      "source": [
        "song_path2 = os.getcwd()+'/drive/MyDrive/Sub_Data/Audio/Classical/classical.00097.wav'\n",
        "predict_song(song_path2)"
      ],
      "execution_count": 72,
      "outputs": [
        {
          "output_type": "stream",
          "text": [
            "\n",
            "\n",
            "Predicted genre of the song:  classical\n"
          ],
          "name": "stdout"
        },
        {
          "output_type": "display_data",
          "data": {
            "image/png": "[encoded data removed]",
            "text/plain": [
              "<Figure size 576x576 with 1 Axes>"
            ]
          },
          "metadata": {
            "tags": [],
            "needs_background": "light"
          }
        }
      ]
    },
    {
      "cell_type": "code",
      "metadata": {
        "colab": {
          "base_uri": "https://localhost:8080/",
          "height": 535
        },
        "id": "EjMngTvxaTX-",
        "outputId": "9cd86f1a-9015-46b4-faf9-ac0fcfad2393"
      },
      "source": [
        "song_path2 = os.getcwd()+'/drive/MyDrive/Sub_Data/Audio/Country/country.00095.wav'\n",
        "predict_song(song_path2)"
      ],
      "execution_count": 73,
      "outputs": [
        {
          "output_type": "stream",
          "text": [
            "\n",
            "\n",
            "Predicted genre of the song:  country\n"
          ],
          "name": "stdout"
        },
        {
          "output_type": "display_data",
          "data": {
            "image/png": "[encoded data removed]",
            "text/plain": [
              "<Figure size 576x576 with 1 Axes>"
            ]
          },
          "metadata": {
            "tags": [],
            "needs_background": "light"
          }
        }
      ]
    },
    {
      "cell_type": "code",
      "metadata": {
        "colab": {
          "base_uri": "https://localhost:8080/",
          "height": 535
        },
        "id": "AndFxRUAaXWj",
        "outputId": "ee28e386-53cc-476d-b483-1e4bb9ce92be"
      },
      "source": [
        "song_path2 = os.getcwd()+'/drive/MyDrive/Sub_Data/Audio/Country/country.00096.wav'\n",
        "predict_song(song_path2)"
      ],
      "execution_count": 74,
      "outputs": [
        {
          "output_type": "stream",
          "text": [
            "\n",
            "\n",
            "Predicted genre of the song:  country\n"
          ],
          "name": "stdout"
        },
        {
          "output_type": "display_data",
          "data": {
            "image/png": "[encoded data removed]",
            "text/plain": [
              "<Figure size 576x576 with 1 Axes>"
            ]
          },
          "metadata": {
            "tags": [],
            "needs_background": "light"
          }
        }
      ]
    },
    {
      "cell_type": "code",
      "metadata": {
        "colab": {
          "base_uri": "https://localhost:8080/",
          "height": 539
        },
        "id": "Z3aOh_Y3afkT",
        "outputId": "a8686cfb-2bf0-447f-fcf9-cc9609e67b52"
      },
      "source": [
        "song_path2 = os.getcwd()+'/drive/MyDrive/Sub_Data/Audio/Country/country.00097.wav'\n",
        "predict_song(song_path2)"
      ],
      "execution_count": 75,
      "outputs": [
        {
          "output_type": "stream",
          "text": [
            "\n",
            "\n",
            "Predicted genre of the song:  country\n"
          ],
          "name": "stdout"
        },
        {
          "output_type": "display_data",
          "data": {
            "image/png": "[encoded data removed]",
            "text/plain": [
              "<Figure size 576x576 with 1 Axes>"
            ]
          },
          "metadata": {
            "tags": [],
            "needs_background": "light"
          }
        }
      ]
    },
    {
      "cell_type": "code",
      "metadata": {
        "colab": {
          "base_uri": "https://localhost:8080/",
          "height": 535
        },
        "id": "Qk7aQFyuZv-R",
        "outputId": "9e8ec611-e820-4971-8bca-0b3783bbd0de"
      },
      "source": [
        "song_path2 = os.getcwd()+'/drive/MyDrive/Sub_Data/Audio/Jazz/jazz.00097.wav'\n",
        "predict_song(song_path2)"
      ],
      "execution_count": 76,
      "outputs": [
        {
          "output_type": "stream",
          "text": [
            "\n",
            "\n",
            "Predicted genre of the song:  blues\n"
          ],
          "name": "stdout"
        },
        {
          "output_type": "display_data",
          "data": {
            "image/png": "[encoded data removed]",
            "text/plain": [
              "<Figure size 576x576 with 1 Axes>"
            ]
          },
          "metadata": {
            "tags": [],
            "needs_background": "light"
          }
        }
      ]
    },
    {
      "cell_type": "code",
      "metadata": {
        "colab": {
          "base_uri": "https://localhost:8080/",
          "height": 535
        },
        "id": "imJJUiyCaBJo",
        "outputId": "86d4e627-dfa5-4421-e39a-4263bdff4361"
      },
      "source": [
        "song_path2 = os.getcwd()+'/drive/MyDrive/Sub_Data/Audio/Jazz/jazz.00095.wav'\n",
        "predict_song(song_path2)"
      ],
      "execution_count": 77,
      "outputs": [
        {
          "output_type": "stream",
          "text": [
            "\n",
            "\n",
            "Predicted genre of the song:  jazz\n"
          ],
          "name": "stdout"
        },
        {
          "output_type": "display_data",
          "data": {
            "image/png": "[encoded data removed]",
            "text/plain": [
              "<Figure size 576x576 with 1 Axes>"
            ]
          },
          "metadata": {
            "tags": [],
            "needs_background": "light"
          }
        }
      ]
    },
    {
      "cell_type": "code",
      "metadata": {
        "colab": {
          "base_uri": "https://localhost:8080/",
          "height": 535
        },
        "id": "NV8ptinRZ7OE",
        "outputId": "a8ae1e38-1d18-4720-fca3-82796b0f27c0"
      },
      "source": [
        "song_path2 = os.getcwd()+'/drive/MyDrive/Sub_Data/Audio/Metal/metal.00097.wav'\n",
        "predict_song(song_path2)"
      ],
      "execution_count": 78,
      "outputs": [
        {
          "output_type": "stream",
          "text": [
            "\n",
            "\n",
            "Predicted genre of the song:  metal\n"
          ],
          "name": "stdout"
        },
        {
          "output_type": "display_data",
          "data": {
            "image/png": "[encoded data removed]",
            "text/plain": [
              "<Figure size 576x576 with 1 Axes>"
            ]
          },
          "metadata": {
            "tags": [],
            "needs_background": "light"
          }
        }
      ]
    },
    {
      "cell_type": "code",
      "metadata": {
        "colab": {
          "base_uri": "https://localhost:8080/",
          "height": 535
        },
        "id": "jQcf4NqIaHB2",
        "outputId": "ff7b6873-9990-4c0a-cf75-6da85fe0fa1d"
      },
      "source": [
        "song_path2 = os.getcwd()+'/drive/MyDrive/Sub_Data/Audio/Metal/metal.00095.wav'\n",
        "predict_song(song_path2)"
      ],
      "execution_count": 79,
      "outputs": [
        {
          "output_type": "stream",
          "text": [
            "\n",
            "\n",
            "Predicted genre of the song:  metal\n"
          ],
          "name": "stdout"
        },
        {
          "output_type": "display_data",
          "data": {
            "image/png": "[encoded data removed]",
            "text/plain": [
              "<Figure size 576x576 with 1 Axes>"
            ]
          },
          "metadata": {
            "tags": [],
            "needs_background": "light"
          }
        }
      ]
    },
    {
      "cell_type": "code",
      "metadata": {
        "id": "z6D93Kr7aKtR"
      },
      "source": [
        ""
      ],
      "execution_count": null,
      "outputs": []
    }
  ]
}